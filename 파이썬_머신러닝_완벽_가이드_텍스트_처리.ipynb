{
  "nbformat": 4,
  "nbformat_minor": 0,
  "metadata": {
    "colab": {
      "provenance": [],
      "collapsed_sections": [],
      "authorship_tag": "ABX9TyO2R43G9SL6OpwSND80TwNN",
      "include_colab_link": true
    },
    "kernelspec": {
      "name": "python3",
      "display_name": "Python 3"
    },
    "language_info": {
      "name": "python"
    }
  },
  "cells": [
    {
      "cell_type": "markdown",
      "metadata": {
        "id": "view-in-github",
        "colab_type": "text"
      },
      "source": [
        "<a href=\"https://colab.research.google.com/github/dahlia52/ESAA_2022-2/blob/main/%ED%8C%8C%EC%9D%B4%EC%8D%AC_%EB%A8%B8%EC%8B%A0%EB%9F%AC%EB%8B%9D_%EC%99%84%EB%B2%BD_%EA%B0%80%EC%9D%B4%EB%93%9C_%ED%85%8D%EC%8A%A4%ED%8A%B8_%EC%B2%98%EB%A6%AC.ipynb\" target=\"_parent\"><img src=\"https://colab.research.google.com/assets/colab-badge.svg\" alt=\"Open In Colab\"/></a>"
      ]
    },
    {
      "cell_type": "markdown",
      "source": [
        "ch8.6-9(7 제외) pg. 512-516, 529~543"
      ],
      "metadata": {
        "id": "x8lXZSdyBRrb"
      }
    },
    {
      "cell_type": "markdown",
      "source": [
        "## 06 토픽 모델링 (Topic-Modeling) - 20 뉴스 그룹"
      ],
      "metadata": {
        "id": "VXEsivH9vD_J"
      }
    },
    {
      "cell_type": "markdown",
      "source": [
        "- 토픽 모델링: 문서 집합에 숨어 있는 주제를 찾아내는 것\n",
        "\n",
        "- 많은 양의 문서가 있을 때 사람이 이 문서를 다 읽고 핵심 주제를 찾는 것은 매우 많은 시간이 소요되므로 머신러닝 기반의 토픽 모델링 이용\n",
        "\n",
        "- 주제를 효과적으로 표현할 수 있는 중심 단어를 함축적으로 추출\n",
        "\n"
      ],
      "metadata": {
        "id": "ODjfEdgTvItT"
      }
    },
    {
      "cell_type": "code",
      "source": [
        "import warnings\n",
        "warnings.filterwarnings('ignore')"
      ],
      "metadata": {
        "id": "uhcrOAl7Ewtp"
      },
      "execution_count": 20,
      "outputs": []
    },
    {
      "cell_type": "code",
      "execution_count": 21,
      "metadata": {
        "id": "ixuc_FJnBRQ7",
        "colab": {
          "base_uri": "https://localhost:8080/"
        },
        "outputId": "1ec64d6b-f34a-4e20-c6bd-3f788f0c6b3a"
      },
      "outputs": [
        {
          "output_type": "stream",
          "name": "stdout",
          "text": [
            "CountVectorizer Shape: (7862, 1000)\n"
          ]
        }
      ],
      "source": [
        "from sklearn.datasets import fetch_20newsgroups\n",
        "from sklearn.feature_extraction.text import CountVectorizer\n",
        "from sklearn.decomposition import LatentDirichletAllocation\n",
        "\n",
        "# 모토사이클, 야구, 그래픽스, 윈도우즈, 중동, 기독교, 전자공학, 의학 8개 주제를 추출\n",
        "cats = ['rec.motorcycles', 'rec.sport.baseball', 'comp.graphics', 'comp.windows.x', 'talk.politics.mideast', 'soc.religion.christian', 'sci.electronics', 'sci.med']\n",
        "\n",
        "# 위에서 cats 변수로 기재된 카테고리만 추출. fetch_20newsgroups()의 categories에 cats 입력\n",
        "news_df = fetch_20newsgroups(subset='all', remove=('headers', 'footers', 'quotes'), categories=cats, random_state=0)\n",
        "\n",
        "# LDA는 Count 기반의 벡터화만 적용함.\n",
        "count_vect = CountVectorizer(max_df=0.95, max_features=1000, min_df=2, stop_words='english', ngram_range=(1,2))\n",
        "\n",
        "feat_vect = count_vect.fit_transform(news_df.data)\n",
        "print('CountVectorizer Shape:', feat_vect.shape)"
      ]
    },
    {
      "cell_type": "code",
      "source": [
        "# 토픽의 개수는 8개로 지정\n",
        "lda = LatentDirichletAllocation(n_components=8, random_state=0)\n",
        "lda.fit(feat_vect)"
      ],
      "metadata": {
        "colab": {
          "base_uri": "https://localhost:8080/"
        },
        "id": "sAYZpBZXBpbH",
        "outputId": "7fcaa37c-eec0-42d4-9586-85dda2cadce6"
      },
      "execution_count": 22,
      "outputs": [
        {
          "output_type": "execute_result",
          "data": {
            "text/plain": [
              "LatentDirichletAllocation(n_components=8, random_state=0)"
            ]
          },
          "metadata": {},
          "execution_count": 22
        }
      ]
    },
    {
      "cell_type": "code",
      "source": [
        "print(lda.components_.shape) # 8개의 토픽별로 1000개의 word 피처\n",
        "# 개별 토픽별로 각 word 피처가 얼마나 많이 그 토픽에 할당되었는지에 대한 수치\n",
        "# 높은 값일수록 해당 word 피처는 그 토픽의 중심 word가 됨.\n",
        "lda.components_"
      ],
      "metadata": {
        "colab": {
          "base_uri": "https://localhost:8080/"
        },
        "id": "M4d3TyAPB6UG",
        "outputId": "ae79b46c-5763-4c29-c013-8c815cab7e81"
      },
      "execution_count": 23,
      "outputs": [
        {
          "output_type": "stream",
          "name": "stdout",
          "text": [
            "(8, 1000)\n"
          ]
        },
        {
          "output_type": "execute_result",
          "data": {
            "text/plain": [
              "array([[3.60992018e+01, 1.35626798e+02, 2.15751867e+01, ...,\n",
              "        3.02911688e+01, 8.66830093e+01, 6.79285199e+01],\n",
              "       [1.25199920e-01, 1.44401815e+01, 1.25045596e-01, ...,\n",
              "        1.81506995e+02, 1.25097844e-01, 9.39593286e+01],\n",
              "       [3.34762663e+02, 1.25176265e-01, 1.46743299e+02, ...,\n",
              "        1.25105772e-01, 3.63689741e+01, 1.25025218e-01],\n",
              "       ...,\n",
              "       [3.60204965e+01, 2.08640688e+01, 4.29606813e+00, ...,\n",
              "        1.45056650e+01, 8.33854413e+00, 1.55690009e+01],\n",
              "       [1.25128711e-01, 1.25247756e-01, 1.25005143e-01, ...,\n",
              "        9.17278769e+01, 1.25177668e-01, 3.74575887e+01],\n",
              "       [5.49258690e+01, 4.47009532e+00, 9.88524814e+00, ...,\n",
              "        4.87048440e+01, 1.25034678e-01, 1.25074632e-01]])"
            ]
          },
          "metadata": {},
          "execution_count": 23
        }
      ]
    },
    {
      "cell_type": "code",
      "source": [
        "# 각 토픽별로 연관도가 높은 순으로 Word를 나열\n",
        "def display_topics(model, feature_names, no_top_words):\n",
        "  for topic_index, topic in enumerate(model.components_):\n",
        "    print('Topic #', topic_index)\n",
        "    \n",
        "    # components_ array에서 가장 값이 큰 순으로 정렬했을 때, 그 값의 array 인덱스를 반환\n",
        "    topic_word_indexes = topic.argsort()[::-1]\n",
        "    top_indexes = topic_word_indexes[:no_top_words]\n",
        "\n",
        "    # top_indexes 대상인 인덱스별로 feature_names에 해당하는 word feature 추출 후 join으로 concat\n",
        "    feature_concat = ' '.join([feature_names[i] for i in top_indexes])\n",
        "    print(feature_concat)\n",
        "  \n",
        "# CountVectorizer 객체 내의 전체 word의 명칭을 get_features_names()를 통해 추출\n",
        "feature_names = count_vect.get_feature_names()\n",
        "# 토픽별 가장 연관도가 높은 word를 15개만 추출\n",
        "display_topics(lda, feature_names, 15)\n",
        "\n",
        "# 모토사이클, 야구, 그래픽스, 윈도우즈, 중동, 기독교, 전자공학, 의학 8개를 주제로 추출 결과"
      ],
      "metadata": {
        "colab": {
          "base_uri": "https://localhost:8080/"
        },
        "id": "Ajf_L38HCLp9",
        "outputId": "cdda27ed-4d5a-4937-cfda-10e281ab1a45"
      },
      "execution_count": 24,
      "outputs": [
        {
          "output_type": "stream",
          "name": "stdout",
          "text": [
            "Topic # 0\n",
            "year 10 game medical health team 12 20 disease cancer 1993 games years patients good\n",
            "Topic # 1\n",
            "don just like know people said think time ve didn right going say ll way\n",
            "Topic # 2\n",
            "image file jpeg program gif images output format files color entry 00 use bit 03\n",
            "Topic # 3\n",
            "like know don think use does just good time book read information people used post\n",
            "Topic # 4\n",
            "armenian israel armenians jews turkish people israeli jewish government war dos dos turkey arab armenia 000\n",
            "Topic # 5\n",
            "edu com available graphics ftp data pub motif mail widget software mit information version sun\n",
            "Topic # 6\n",
            "god people jesus church believe christ does christian say think christians bible faith sin life\n",
            "Topic # 7\n",
            "use dos thanks windows using window does display help like problem server need know run\n"
          ]
        }
      ]
    },
    {
      "cell_type": "markdown",
      "source": [
        "## 08 문서 유사도"
      ],
      "metadata": {
        "id": "iLu8I7QfGi6d"
      }
    },
    {
      "cell_type": "markdown",
      "source": [
        "### 문서 유사도 측정 방법 - 코사인 유사도"
      ],
      "metadata": {
        "id": "12uC8co0GkpM"
      }
    },
    {
      "cell_type": "markdown",
      "source": [
        "- 코사인 유사도: 벡터와 벡터 간의 유사도를 비교할 때 벡터의 크기보다는 벡토의 상호 방향성이 얼마나 유사한지에 기반함. 즉, 두 벡터 사이의 사잇각을 구하여 얼마나 유사한지 수치로 적용함.\n",
        "\n",
        "![image.png](data:image/png;base64,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)"
      ],
      "metadata": {
        "id": "AcwR6EwrHGfa"
      }
    },
    {
      "cell_type": "markdown",
      "source": [
        "![image.png](data:image/png;base64,iVBORw0KGgoAAAANSUhEUgAAAn4AAACaCAYAAAA3mkXdAAAgAElEQVR4nOydd5wWxf3H3zO7+zzXOOCOowiCFA9REDDGgmJFLIlRYo2NqImKSGw/TWJJlGhERQWxxMQaMTZELDFqgi0a7AUUUEBA6sHRrj5ld+b3x5bb5+EOERty8369Du6esjs7W+Yz3zZCa60xGAwGg8FgMGzzyO+7AQaDwWAwGAyG7wYj/AwGg8FgMBhaCUb4GQwGg8FgMLQSjPAzGAwGg8FgaCXY33cDDAaDwWAwbCEtpWeK77QVhh8QRvgZDAaDwfBDxQg8w1fECD+DwWAwGH6obKogmxGFhmYwws9gMBgMhq2cFkvuanyBp0EI0fQ5AcIoP0MzGOFnMBgMBsMPCM/zAKiqqsK2LMratyedTlNdXU37du1pU9oGISUII/wMG2OEn8FgMBgMWzlKqeh3rTUvvvgiyWSSp6c9ya79+1NUVERpaSkvvfQSl/72Ujp16fo9ttawNWPKuRgMBoPB8AOiqqqKgoICfvzjH7N61Wqe++ezDB26L0OH7oNSHvV1dWw6+M/QmjHCz2AwGAyGrRwhRPRTVFTErrvuyoYNG1iyfClnnnU2Xbp1Y0NdPfWpFCVt2xo3r6FFjKvXYDAYDIatHBETcqWlpQDMmjWL7bpsx75D9wUheO+99+jZsyfty8q+r2YafgAYi5/BYDAYDFs5cYufZVlorXnttdcYOnQoRcXFNDY28s9//pOh++2HVgrP81rOBDa0aozwMxgMBoPhB4RSinXr1vHxxx9zwIEHYEnJihUrUErRr18/li5dyupVq43wMzSLEX4Gg8FgMPzAWL58OUopunfvjut5pFMphBDUbNjAkiVLKCv33b1aayMADTkY4WcwGAwGw9aCZqOE3PyXhBCUlpZy4oknkkgksKSkS5cu7LLLLnzwwQfstNNOWJaVW9C5pf0YTdjqENpMBQwGg8Fg+N7wPA+lFEopLCEQaJAShET5fyFFk6VGax2JOj/nQ0TfB7AsC8hNCAnRaJSnkBqEBmFJMp6L7ThY0tiCWgMmq9dgMBgMhu8RKWUk5KSUaKVQCoQMTHJCoHWTcS4UdE0WPf+dUPA1R9NSbgJLSrKpDI7joAIRaYq/tB6M8DMYDAaD4XvGdV2++OILsplslL2LiJfjE5HgC+P24hY913XRWmPbNjKw3OV/HoKlfTWUFBZSXt4BO+H4YtM4/1oNxtVrMBgMBsP3iNaa2tpaRo4cyfSXXsGSNqAQQgOKRMJBShutfTGnlIrEWlzUhYJPa43neQgh8DyPTCYDgG3bKDQozR6Dd+O55/6FFiAD8SdN0edWgbH4GQwGg8HwPaK1JplM8stf/pLXXn+ThvoGtHKxLM323brwhysvp3efnbDsBJ7n4XleVMvP8zygqc5fuL36+nocx6GmpobVq1fz2GOP8c477yC0RinF0qVLWbVqFZ226+K7lgG5CVexYdvBWPwMBoPBYPge8TwP13UBuO2Ov3HlFVfiuWkcR2BJOPkXx3PduPEUl7RFo3NEXkj877grWCmF1pq6ujqeffZZxv5pLKtXrabQdnj22X8yePcf+ZkjAixphF9rwKTwGAwGg8HwPSKlxLIsLMti1Nm/ZuSpp2BZkkwmSyab5aFHH+f2mybipTKgwdUKLXICAJut1xdaBqWUFBYWctJJJ/HQQ/+grKyM2ro6qlevBq39qi7fgAko7nr+OvUDfQe3/6PjL36F8jM6sGx+3bZsi1hXXXXVVd93IwwGg8FgaK2E2blKKQSCIfvsw/z5n7FgwQKklCjlMfujWezQvQd9d+4HUiBkUyZufDm38G/wBaXruti2jdYay7Lo1LkzJUVFvPLyy/Tp3Ye99hkCgGXJZsu/bC5xcaWU2qhNW7K93Bea/1zcvd3id5v5fGvGuHoNBoPBYPieCWvwKeW7aBcvXsQJJ5zAJ598jOM42Aq6bteVceNv5JDDDo1cvgQJH2FJmPxM3jARJBRjWc+ldkMNI08+mcJkIQ89+ghWwkZK62vV8YvXEQzL0myqvMym0ICnvCgDWQQvRpJNNgnc8HjDfYf7j4vP6Gvy64nbbQUj/AwGg8Fg+J5pKsrsCxjX9Zg7dy7HHXccX3yxBCcQLZ07dWLa00+zY+WOvjCKCjmLHKGVP7RHwlJr0JonHn2MaVOf5G/33Yvl2DiOg+M4W9R2pRSZTAbLsli/fj1Lly6lsrKSwsLCKNP4K/UFkEqnSaUaaahvQACWkJHVsjnhp7XGcRwKCgpy+iJ0d4MRfiFG+BkMBoPBsFWgA+GnUcqPu/vPf6ZzwfkXsWTZF6A8bCSDBg5k8j8eolPX7RBSQlC/D5p3ZSqlIgHkeR5SCNxMllRjioKiQpC+xfDrCL9sNovWmt///vdMnTqVxx9/nB//+MdbJLQ0sKFmA5dccgnvv/ce9XX1uNksBYkk0rJwkgkKCgpIp9MUFhYCfh3DkpISBg4cyKmnnkplZWXO8eRbRFszRvgZDAaDwbBVoNHaz+71PBBC4rqKRx5+lPMvvgA3k0ans0hgxDE/56aJEygrL4vq+7XkWg1dnwBK+3GEQmkEfjavqxXSsrC3yDWr8TzfzTt79mwOP/xw0ukUU6Y8wf777+8LU/hKK4NoIOtmSafTrFu3jnvvuZfbJt5KJpXi1+eczejzzqNDhw6Rixtg7dq13HHnndx7770UFxVx2WWXcdIvTsJJOFFhayP8fExyh8FgMBgMWw0ChIUUAs9TSCno27eSdMZlxptvIiyBtGH+grlsWLeagw4chiWtpvi6IJMVcpd2C3+klP6PJRGWhCAWT34FUeTH4GmyWRehPbxshobGBi757WV8OOsDpOdx/FEj6NmrJ670vyD05idWCA0SgW07FLUpJZVx+dczT1NWWMCEWyeyfY8dKCgoIJlM+i5q26G0uA177rcvK+rWMWPGDN59YwYHDt2Xrt26+WsdG4tfhCnnYjAYDAbDVoFACOlb4mhK2EgmE1x80YUc8/Nj/EQNIJ3JMvmhh5h060Qy6XSTsAlW9Giuzl9Opm3ws+XZtyL6VwiYPn06H330EbZjY0lBJpX62iJLKd9S+dZbb1FXX0ePHt3p0aNHzpJ04Y/S/sokRx89AmlZNNTV8f5770amxub6pLVihJ/BYDAYDFsh8cSNNiUl3Hj99Qw/ZDhu1sOyE6TSHjdcfyOPP/44Wik8142yeL9LampqmPrEVMaMGUNp27b+EnQbNmz5Bn3d62chZ7K8/867SASDBg/GCtYibilKraSgkGxDCuW6VK9ZE2UYm6i2JozwMxgMBoNhKyJMxghLkgCgFRUdyrj++uvZaad+eB5IyyHjelx++eX85z//QQRlW+Ixfd8evpByPY+/P/AAffr04cgjf4YANJoVK1agtEYrHWUqfxWU9uu3rFuzhtmzPsaSFkP33x8tiFY5aa5Fcz6ejXA9LCEZOGiQ34ZA/Bl8TE8YDAaDwbCVESZrhDF5FhI09NyhJ7fddgedu3TF0xLP81i/fj0XXXwRny9YEK3f+227NbXWaDRfLF7MSy+9xEknnUQi4ZdTkVIyf8F8dChcNWz2khvBJz00rlJ8vuBzqlaupG2bNvTasQ8EIi4UxmE7FJq11WuY8thjFCWS/Hj33dl7yBCU5+WsaWwwws9gMBgMhq2KUOxF6CAkT0M2m2WPPfbgqqvHUlBYjGU5WLbNki+WcPFFF7FuzdrvpI06qAf40OSHGDZsGN179CCRcGjXrh3KU6xfvx5hWXieG7hav9r2pbQQQvDaK6/hWBY7VlZSuVPfKO4vR/gFFs5pTz7Jay+/TGlpG666aizt2rbDsi3j7s3DCD+DwWAwGLYyNkrGkKCkxknYSAknHHcMl/3uErJSk9IuqAyvv/RvJo6/Ac/1+GoFVFpGxbKEI5HleaAV7737Lh+8/yGnnnI6QlokiwtoV15B1oPaujqEUFhSk78Y8Oas5+tpTUNDPTM/fIcCS7PPkL0RdiFaWFiWjZQ2IHBdl4aGRu69+16uvuJKKnv1YvKjDzFo793RwgasqMahwcf0hsFgMBgMWzOiSTcJIYL4Pc1Zv/4VS6tWcP+990CDoiiZYIdePZGWDJI8tmzJtJxd5y2JFgq1dCrF/ffex8iRv6RN21KEbYNWtGvXHtd1/SXXtPLr+CmNELkWt/zfN8os1rBs6VI++vBDbEtSUdGBZcuWR3X5PM8jnU7zyisv8+qrr7JsyXKuvPJKjjn2aMrL2wdt1sG2ZbP7ba1Zvkb4GQwGg8HwA0JKieu6WJbFsSNG8Pd77sYDTjltJKeOHIm0BJb1zTn0tNa4QcZwuBrGS9NfwvM8Dj5kGFgST3kgBCVFxTi2TToo56L96tK+lZAmERm6Zx3HiTKR4wWohRB8+tlnrF2zhqKEw5QpU5j2zxdA+svaCSHIZrMsXryYbDbL2Wedw4ifj6Bzxwqy2TQojeVYaDRS+p+Nxz5+nbWEf+gY4WcwGAwGw1ZOvA5d+P+qVau4YMx5qGyWAw88mN//4SoSBQVBqoNC8M0Im/gKGUopamtreejBB7ng/PP9Jd9EU02/kuJiLNuitraOdEMDVlERAlD+QZDJZACorq724wGVIpFINLvfGTNmoLViyJAh/O2+B3CKiv11emNxfbW1tTzzzLNc++freOzRh/nzn67ikIMPQkgL0H52sGqyEBYWFuYcT2uk9R65wWAwGAw/IITwY9o8z2Pt2rVcdNFFzP3kY340eDATbr2NNqXt0AiUVltUQqU5QtdoKJS01kybNo1u23Vltx/9yLfqBWv9SgRt25aiPEVDYwO1tXVNruIgu9ayLKZPn87xxx/PkiVLcrYbL0GTyWSZOXMmrqsYNmwYJaVtgtU6CigoKMBx/PV6y8rKOOWUkzn3vPP4fNFCfvt/l7ByxUpQCh0UtQaYMmUK5513HrW1tTlxi60RY/EzGAwGg2ErJ3Sb2rZNqjHF2KvH8sLzz9Nz++5MmHALXbt29ZdR87IgPRy7eSvaluwXmmL8VqxYwe23384O23Xj6j9eRVZqFH7GsQW8/N//IqRk7dp11NbW0r5zJwDfrSr9bXXp0oVhw4ZFbuPwfb80i8/SZUv5eNYsLEswYOBAv4SL1kjhV3e2goxhy7IQQnLoYYdx043Xs3z5Cp6Z9hRn/eY3gbjTCKBHj+4MHjyIZDKBbdtG+BkMBoPBYNh68RSk01ksobnzjtt5ePLf6da5I7dMnEi/AQPRGhzbwqEIP4326ycuaAgKIPsWO+Up7rn7bnbp35/BgwdHe1BaoTyFZVkM6L8Lcz+ZRV26gbqGOvA8tLQQlsRzXRCCQbsOZOCuA5vWDw6SUTSgPQ8NfLpgAfXra6jcvgc7VvZCWTq/ZYFVUyAENGayZLSFlIp3P3iLM900WvhlZBwLhgzZk7323h10uNxb63V4GuFnMBgMBsNWju8q9bj9jju55k/X0LFjR269dSIHHjwMpXRUskQEFrFvCk1TDcHXXnmFDz/8iNv/cgedOnbCDpIjwrIsQghmvPk2U6dMJZtqIJvxsISD5wm09lCeR21dHVopysrL/fbKpmQLTytfaALPPD0Nx7boW1lJeUVHVHBI4ZFp7VsJw9VN3nj9DdxUigQwoP8ALNsGKWlsTLOhfgOJhEVRcSG2ZaGUphWH+JkYP4PBYDAYtnq04t677+a6P/+ZZEGSa669joOHHQJafOtlSZRWNDQ2cv/993P66b+kvEOHSLABOaVYSopL0EqiPKivaURgAxKlFW+//TaPPvIIl19+OZ/OnZuTsBIvxlxTU8PMD98nk01z6OGHgbTQSESwIFzULuVbGVOpFM8//RSW8igpKOaIn/wMXFBZjw/ef5/p01/i+uuvZ8OGDUGWr8zZTmvDCD+DwWAwGLYiwkSHMJEjm83y7xf+xXXXXovWiquuupojjzoKpI0IlnX7Ktv1PA/XdaN6eOHvIeGqGJ7ropQHGp6aNo3CwkKGDx/uZ+l6KkeshdtKJJO+G1UI6uvrgzIwHuvWrmPOnDmccsopZLNZVq1a5a+moZq+72b9VT4WL17M7E9mUph06FNZidIS1y9dCMpvZ7hv13WZNm0a7741AwvFccceR5++O6OlxcJFi1i+fDkHHLA/sz6exRdffIFA5AjO1ogRfgaDwWAwbCWEAiwUaFprXnvtNcacdx7pVANnnnEGI0eOxHYcpGXlru7xJduNL2/mui6zZ8+mqqoq2ldImEjieR6eUsyfP5+7776bM848k0QigQqEkwyyZsNtKqUoSCZpU1qEbQmWLFmI0i6+DhQcdNBBVFVVsWLlCnr17o0XCM5MJoPSCiH9rOUZM2YglEtl3z703XlnFAKNhGAf8azcF198kauvvppsNsWBBx/ARb+9FA8Qjk06m2XYIcP45JNPcGyHAf0HRHX9vkl3+A8NI/wMBkMrQ/N9unm+370btnbitfps22bu3Llc8n//R/Waao499hiuuOIKLOGv5avJreu3KUJxFgqmzz//nEMPPZQnnnhio20IIfA8j/r6ej6eNYsLLjifWR9/zJtvvsnq1dU4tp0j+MLtr1q1iueef5aGhhqE1Lz231dZvXoFSmUpK2tPjx49eOGFF9hrz73oWFERrUIipZ/cUVdXx4L583lq2pMIKenQoQNOsoBUOkMmnSabzZJOp9mwYQNVVVXcfvvtnHnmmVRXV3PSSSdy2x2TKO/UEU8I0p5HZb++FJeU8MQTUzn8iMODlBeBUq37DhS6Nec0GwyGbRQdVfcP1pKHIEIILw1SoLAR0o8bEniAjArRfiMtyFvfVAoJwo+XQkiEv0e/bcFuw0D1cDCMVj4I2BzLjuGHR3zNWh1cEMrzqK5ezQnHHcsH77/PkH335e8PTqa8Q4cgts32LVciiHwLvh9eH/G/Q4ueEMKv8+e5XDv2am4eP56nn/0n++5/ILZjBaVSfFdvdXU1v/vd75g+fTrZbBbXdUFrdunfn3vvvZfu3bvnxOeNHz+eu+66i/r6+uB69zOCu3Tuwt8ffJD+/fuzevVqTj31VCbccguVffuSzWZJJBKsWbOG2267jQ8++IBPZn9CbU0tUkJhQQE/+tGPaV9WjkZjBQKxqqqKpUuX0tjYyKGHHspRRx3F0KFDsSw/i1dDlNi8dNFiLjj/fO686y90qKjAduwoMaS1FnE2Wb0Gg2EbRaOCNUJDQZVOZ6mvqfYHEqm/NWdP3K0WijWtNVKDJFhyKog10lKAzl0dQcrcdU0hd0A34m/bIudca4FGUVtbw4UXXMiHH37ITn37MmHChEj0QWyOEqt9F99W/sQjjIeznSQfz/qYB//+d9q2bUPbtm1xXQ8pBdK2gm0LSktLGTNmDL/+9a+jwtGJRALLsujcuXP0OfCF3yGHHMKQIUMoKioCiISmZVn07t0bKSVLliyhqKiI3n36MGvWLIqKiujZsyft2rXj5JNP5rjjjou+Gy7nFrqc7ZiVMZlMYts2paWllJaW+u7nYLIUd5VLKXnl5Zfp1asXFRUd+eSTT9hp5344jtOq7yEj/AwGwzaJb+XwLSO+iwtuvuUWHnvoPl544UU6bre9//D/FnweoQtMSskDDzzAqlWrsITElpKkkyCVSvnFeBMJpGORDYL4E4kEnTp1Yo899qBz585RiY5wEGzNg9W2TLjurB/v5ouwm266haeeforuXbsy7vrr6btTP5TWkbjJt+y1RPx927ZZsGABY37zG1avXs3gQbvSu3cvEgk7J0sXIJlMMmjQoI22E7dIhxMV27bZbbfdonaF/4eu5fC16upqLMti0aJFLFu2jEMOOQTb9u/Pvn37RtuP7zN/mbr48cQnV2FR5nzxN3/+fPr168fcOXPIZDLR+ryteQJlhJ/BYNg2EU2WM6UU77zzLpMmTSJTt5b6hgYQwcP/G7b7xa18oZiTUvLkk0/y2Zy5kPU4YOh+HHH0z7ASDk5BMlpAfsGCBYwdO5ZkMsm5557LqFGjaNOmTbRd2Lx4LsMPi/AaFUKQTDjcMmECf/nLnZSXlXPDDdez/4EHgFKIZizC8est/BuIkjVCC+Hq1av517/+xZ+vu57VVSuxbZvtttuOZGEhIgg9CGnuGou/ZgVJJSGhAMwXaWG4AoDruuyxxx7Mnz+f+fPnM3ToUBKJRE44Q/524sfTXDvy2xnff2htPP2MM3hp+nTWrFnDPvvum7PmsHH1GgwGwzaE1mF2ov/3DTfcSE1NLUnhu7x8vuX6Z0pxwgknoLRi510HcNyIn9OtQyf++Kex7DSgP8oWSMKAc0Umk2GXXXbhvPPO49prryWZTPKbaOkpI/q2ZaSUeJ7HE1OeYNy4cSjlkUwmefOtt5g58yM8BdkgGzc/szUunkLRE76fzWapqanhzTffZMWKFUjp+PtyM+y6665RXF/8Vviq19mmPh+2TWtNcXEx5557ru9yjrluw+Xavkxwbi6he9iyLHr17k2vXr2CQtQiKDVDqxV9YISfwWDYVtEaEVhGXn/9DV555RUcx8FLp9BKoZVG2nyrKbaRdcFTVFWvwk46bN+jOz179wYJOnTbaaIB8KijjuL+++/nnbff5pFHHubnPx/B9t22//YaadgqEEIwffp0Lrn0Ut8lKSVVq6q45567yaQzWE4CAnEYCr94TGhc/IX/hytbhGVhAFzPxQKkEOy3/wFY0kLHrInfJv76ul5O3GtIvgv7m0BrjfKCYjCWhZAShZ9o1Zpdva1X8hoMhm0WrcHTgnTGpapqNTfcMJ7DDz0CqSV40FjfEHwQ3+X7DZb1EoioZouU/ooFCs0Lzz6DVC49e/agqKQQKSWWEMigNIdlWdi2TSKRYPtu3XC0x/LPF1BTvQopNeChUN9MIw1bFaGF6q677qK2dr1fNBl/4lKfypBVmlQ6Qzqdjoo6hxbibDYb/YTvhT+ZTAbXdaPEISklllYIpUgmCyktbY9EIgWIb7nAh+M4JBIJkskkyWQSy7Kin7hL+JtACIHjOFiWhVOQwCkoQDo2wpKRm7q1ij4wFj+DwbCNEkQ88dBDD9G7V2+OOOIIXnjhRSzLYsGCBQzaYy8033yMX7hvIQSu56KBtevWMWvWLAqTBRxwwH5oz0PYNiK0OgRjbmgBqV6zhsbGRnr26E5xcbG/zdZdc3abJowH7dmzJ0uWLCGbzVJYWBi9H7ptw3p3oRUv/Du0XkXiLmbpC0WOlJJMJoN2PQTQb+d+9N1pJ5Ait6bQN3xc8f+/SzaK/zM3T4QRfgaDYZtEaM2CefN4/vnnuOuuv7Fo0RcoFAI/008rBUGG37fWBiHQaObMmcPizxfSpqiIAYMGoaRAKIWM9t9Ux23hwoUsXLgQy3HYZ7/96NGrl1+3TTq+abIVWyq2ZZLJJNdddx3QtAZtXOwB0Wvh39C8uIrH1cVLroAvgHSQSGI5jm+c1hrLCKNWgxF+BoNhmyCnCK5SCK0Zf8M4hh18MD16dGdDbR3FpcU0rqln+fLlmzRwxAfN/ALKcZq1ZMTa4cctKebOmQPKo1vXbpR3KPetLEE7XdeNBnStNY888ggLFsynbZs2nHnWWUjHQXkKPyhw40B8ww+fMLHDtu0o6QFyM7njAi++WkZL5U5azIb1lV5UPoYw3u5bsn4btj6M8DMYDD9ooqD1KFMXQPPh+++ycsVKrrn2WpT2KG5TRCJp04AKlpySLeZ1hDFX8e3HxVk4iFrNWQyDlRRc10VIf12QV159FaEFA3bdlY6dO6MAqTVaBcHnwWD+7LPP+oV6yztw883j2XnXAYAAYUGwxohh2ySs2RgSF25hhmq83El+GZeQltyrYbmYIA4BO+G0+li31ooRfgaD4QdNfBAM454aGhq4afx4Ro06h4qKClzPpaysPW1KS0mvL8CyZFjvheaim+IlMeJxVeFrYY2w5tBaBVvUaA01dbUsWrgQCQzZay9/W4AtwBYWUkiqq9fw5NQnGH/TePbaay/Gjh3LgIEDQGs8pbEtp1VnIbYG8rNyI6FG86VHvky0tWTxC1eMia8UY2hdGOFnMGwl5FuTvqwyvxEBeWj89XA9xZOPP4Gb1ey334GgJQnLpn1JkrbFJaxwXdasrkKlGxAFBSjhYCkZWEKCTeUtcwXkiL2WBkyNRgnfLWtZDsrTfPDOB3w6ew6OlPznX/9i/mfzEYkkdqKQopJSFn3xBa+89G/K2hTxtztuY5+h+yHsJBLhr+tLKCaJXMTG17ttkW/dg40LDDd3v3+V+o7R80WroGCzRHk6WO833L+5rloDRvgZDFsJLcXm5L8f/v5Nl0D4oSOEXy9v+bJlPDR5MldccSUlJW1wlcIKXFyWZSEsSc369aQaGyksSIbf3mh7YdyVEIJ3332XRx99lP33358jjzyShoaGKNt244b4/2nhr7n6xZLFeG6GPjvswMjTTydRWISnJUraZF2X3jv2ZvuuXXj+2Se5bdIk1q3fwJFH/xwpnWiTruuSTCaD4zTnfFsjP5bU8zzefvttevXqRadOnVqM39vcyWF8ItNQX0MmlaF9WSekba6l1ogRfgbDVkJLM/2w6Ck0Pciz2SzJZNKIAOKWUokQiskPPkjv3n0Yss8+SNvC0X7xVld5lJWV4XmKefPnsXr1arqXtd/kdsO4q7/+9a88+uijvPvuuxx00EEUFhY2u+STwDeeCAEeGmFL/vnPZ0B57DpoIIf97GegBcKyUQTuZK1AH8nwYftz3DE/539vjmbdunWc/quzInEfxhdG+zHnfZsivIbDkIIFCxYwevRoRo4cyZgxY4Dc5c/ylziLbyck/p5SilWrVjF/3jzu+dud9O7dk8uv+JO5jlopRvi1QHPWl02tEWgwbAnxzNGwcn1YZV8pxaeffspzzz3HvHnzKCkp4ZhjjmHvvffeKBC8NRMNmp5i4cKFPPzIw1x7zbWsrFrpKzAh0EJTV9+AEmDZFqnGFNlMJojz23ibodgKa6SdfPLJfPrpp5BILaMAACAASURBVJx55pkUFxdHlsBmvonQAo1AAQ0NdXw2by6FhQUMPeAAEBJPa2whIq+t9HfIoMGDGXHMMdx399+44/ZJ/Py44ygrr/j2Os6wVRHe90IIevXqxf3338/2228fhRfE6/VBbhxgc6t25LNhwwa6dutGY6oW102D8FBKBgLRjGetCTN65NHczRMfnI3gM3xbhFY9gNraWh544AHuvvtuLMviF7/4Bc888wyPP/44N998M8cff7y5FvNw3Sw333wzqcYUf7nzTupTjSAlQvoJHK7nUb1mDa7nkkqlWxwgoamgLvjnZejQoTzzzDM57t3mS7mEaR2ghGbuvLksXLyQdgUJ9tx7b5SwEFKhtArWSNWgXRASISXdtu+OFrBixXKqq6sp79DxG+0jw9ZJfr0+KSX9+/fPSSCKJ3uEdf5g46SQ+Ofjn9lxxx3xPBfHcbAdgZTalIRspXz/wu/bKRi+xcRnUP5NKEinMwg0iWQCEZRV+N7ZrH4zAbs/JMLrLpPJMG7cOG677TaOPPJIJk2aRIcOHTjjjDM49thjGT9+PPvuuw/du/f4vpu8VaCVr7b+97//MXPmTF5+9VU6lJf7lj4ZFLLFL4F3y8QJXP+nP2AVWriearEYcn7JFiEE7dq1i6wytm23LBy1iG65T+d9hlYelZW96NylC35pFonnuUgZDsp+8oanFQsXLwYNBbZEeW7z2zdsE8SfzkKIaGm1tWvWsnTpEnr36RNZl8Pafq+++ipffPEFQogo3ACILNChgBwyZAg9e/bM3V/wHmjcbJYw69yIv9bHdyb8wrUD6+rqeODBv9PY0MBZZ/6a9u3aoaVAoXEs+1u1YsRvDqUUr732Gi+//DI/+clP2G233aLXpZS89dZbTJnyBKvXbmDdmmrKi21uu+N22lZ0RYjvXkppIJ1J8+mcuTz4wAPsv9/+DD/sMJAiKE3RFAPii1YPpV2U52EFpSCsWEkIYy3a+khnstiWzR0T7+AvE+/gsIOHM+mmiXQsL0ML6FDRiZNOPpkrL/s982bPpHv37YFvd+WJrZVwOSo0CK1Ip1PcNulWzhl1Nl26dkZ5HolkASCilQkynktlnx3RdpINDVm8LOBZKMuPy5N593Xoeg/XE4WNa621hFYK7WX593P/QmiL7t13pKKiY7ADgRQ2Smm0Vmjl39+ZdIb33n4XB4c2BWW0KW77jfaZYetBQ7TqchSJpzTLly3l9f++juu5THl8Ctdccw3C8q85IQR77703AwYMiP4Ox6uwCHj4emlp6UYVAkKLYkFBIemMG98zxkjQuvjOhF94EU6dOpUrrrgC5XqorMfvLr0UpAXfUT2hcJa+bt06Lr74YubNm8fTTz/NCy+8QFlZGbZto5SiW7du7LXXXrz06hs89eRUOrdJkko10vZ7NFE2plL85vzzee+tt5k29UmmPvUUfXfpR34V2lDg+uJPod0slvX9G3cNm0CA5Tj897X/MnHSRPr06c34W26ibVk7/5rVGtB06tSJTDrFs888y7BDj2jVz2kpZVQA+aHJk9FKceSRP/UtG7HlrqDp+ZNIJPCLrngsmPcpu+w+CP8GCp8/uaV0vvIEKSiOKzS4mQxzZ89BALvsPMAvvhzbnh+z1eRW/t8bb/Dp3LlIBIcccihdtuv6dbrH8AMijO195plnOO6443nxxRdYtGhh0/Un/OulsLCQgoKCnBp88XV8gchy2Bxh7GpBgT8pMgaA1sl3pgbC2TMCvHC5mdh6g1rruIfkO2mP67pkMhkaGxs3Wguxe/fubNelK3vvuz/Tpk5BSI0UEq2/M426MRoaGuqRUlJTW+PXDFMKKTYu65FOp7j3vr9x/HHH07ZtO6ApW9Tc7FsnNbU1XPGHK6hvrOesc6+ka49uKL84HRqwpMSybLzQ2tXKz6NSvqmsvr6eyZMn87vLfk9RcXHsXnY2+k4imcD1sgg7wfz5nwJBPwoP/3H4DfRpELv32bx5zJ8/n6KiIg4adjDxGVo8i1MIQXV1NeNvHI+UkvJO5Zw5ehTSbp3W3NZArGSk/7cQIAXDDh1OaZs2PPboY5x1ztn+JD424MyaNYuVK1fmJHzYth1l/juOg+d57LTTTlRUVDRbb9LNujQ2NH7LR2jYmtli4bepwOh4jaH8RaJPOP4EhGVRu34DI089DREIQrGZaioexBp3WbZU/DZOvD1t27ZlwoQJvPjiixx99NGUl5fnxPT4N5FN586d/IDuTF3wkKbF+LqctUJj7dvc4pr5bc2nqLiIWyfeypRHH2O3wYOp3LESKaVftJbcfndd31VwxBFH0L6sDK207xKOte3bItx+tCj4JmafmyK+EHn881+17ZtK1PmybW3OeQk/Fz/3mxLY4WAfDvzhdv/9wgvM+eRj+lZWcvyJx2M5lh//hW8NkJZDQ2ODv12x6fsv/zr8svZ/GfnZhFtsEfsaxIVSGGuXTqW5efx4yss7sO/QoUghSGezJBIJPM8FbDS+FVxpRVFRMaWlbZCpDNXVq/E8F09bvms46O8tIbS6+H/4E9xZs2aRzbrs1KcPHTt1ajaBWErJhpoNXHjhhfzvjTfo0rETEyZOpFdlH7RWiK3IlR9eq/GkgeZoqbZc/v0R/2xrRMa6R2mN7dj03rEP7739Dkor9gxWeZFS+DlAwX0tpYwMKVprMplMZMhIpVJA0xJvIfGJhrQsGoPP+feTH/cHrft8tCa+lsUvHhPX0vvxwc2yLIpLSjjt1FNBaSS+uVoLAXLz5trx5Ivm9tWcqGlu4JNScsABB7D//vvnbC88Fl/8KbKuC2jatCkJbqSWW7mpNnwVWhIbUkh+tPvu7LH7j/14DbTfd4AMBkPXdXFdl/r6BtauW+d/V39/N3RcvG2O0FJ5VuD4IBI+yLakf+NLboWxLpsavOJtiLd/cwhXe4ivrRknPhEC3zWzZs0abrjuzzgILhwzhrLSUrAlnhBYQXym67m8//77eJ7yExo2QVx4h/Fw+fFpW9KH8QHlu76mQrEH0NjYyMyZM/nrX//K888+ixBw/bhxjBo9mrZt20bXWjabRWnN2nVreWPGDO688w4aG9OUCJv/vj6DmR99zI677ELCcoIBcMsIXXXr1q0DpfnfjP9x4w03RtdZfW0da9euRVh+Ukg2m6W+vp5XXnmFx6Y8zow3/sd++w7lmmuuYZddByBtO7q3tyY2d1IX/2xzxDNUW6XYyLt9dZBlkXVdHv7HwwwbNoy2paV+PysRuWgHDhwYfT6ezRv/Pf53vG+jjGEhSDgOaB0uLOj/3hrPQyvla1v8mrtYmmZ2fgxLOGj7lgrfyC0tiVDBxRZsYuPw0vjd0fSQiM98cj4Rbj+0eMQFj8gtaBnGwW0qPV5KgWNbfvFXNx3GZW+yT5oTfhsfxUbfjD4Vfra59oP2S0CoJotOuEGlFK7rIqXEsizefvtt6mpr/WXdhcwZ1EIxuFGjNie+N19vfMmzIl9051tom/t8+Jl4eZPNFWqbakfoxo9b3L7aw+7LOygURtGx5VuHw5dj5Rtsx+E/06ezculSdurTm4MOPAChg3MtILiJcF2XWbNmIaUgkdjYjRntIk8wh3zddTlDS0PcuvVdW/zC/T///PNcccUVAHSo6IDneTz++BSWr1jBXX/9K67rYtsJhBDU1dZw6qmnsmz5cpRWbNe5KwkFNevrOP30X/PYtCfp0bUbWmmEteUW0XQ6zaWXXsrn8+ZTvXYtnvbo3n171q3bwLmjR5MsKsFOJFBKkU6no5itgYMGcfFFF7PHj3anpLgYbQlU4N7fmoiXGmlaj3hjcu/r/N9NWayI2OPEXyXGpaa2lg8/+pCRI0dStXo18+fNY+j+++WMV3HRHRd84b2xKUEdjpnhd5RSQeySf27MaWkdfG2LHxAJjnBw9gcGhZT+gOVbz7JoHP9aD0zLfi6vJsxMdJWLQGJpGTzkFUpnAYnWvoDRGpTSWNIvhOo/REBphfICi47QCK2xpAXa97xoQfDPxq44z8sgLcuvtI/ACnSYXyZCkM1m0I5C+xFXOQ82T/nHoKP9Nd1QkTi1rKaYjtj7QkgsIdBkUZ6HsCSe9gPWbWkFaV8KJQRa+jMzEdXa1MjADRh//grhl5/5y1/uomFDDRKJUn6NMEksrjLmbkEIf9vKL2+hhX920AKhNTr8mA5D4H1x7adBtiz8s9ksmUwmZ8AO2xgXYFH8Z+wYor4LXnecTS9S75+y4Hrww+hzrGJN5y3MpxMoFQg07btT/E1LPyEm5pYKt6DxsIJip76YbrJAhscTt3CjNa7ykJaMSneEjRHB1e9qyGSz3H3fg6SUx9EnnECH7brhCYnQAqE9QOApj7Ub1rBk+SJsR1Je3iG69lsibFdDQwMAqVQqJ9kh7N/m1gONnx/wr9dwybBoEtfM/uJ804O7lJJsNovjOBx99NEcdthh4Y6D86tIJJJoLUgkCqL2lJS0YeoTU1GeF0zisjiWE13DhYVFvltVfrX2xo/XsiwKCwuZNGlSTnvDAVV5LkJubAGWUuI4vohXSqG0BoUv/O1vN5j4q54vrT2U8nBdHTzfLRAE7uiNJ3RCBHdl+FoYJoMfqyqE+NIs6eYsWt+VaPyq3oqWJrIt9nNsc1r7HrBsKk2nLl1ozKR59713czxSLa0THW/Xptb2bWxsZPny5VStqmHlqvUsW76K9mVlsaUAm3fPb2640pbSXL+FtBQ2kGNY+RKvTNP7IvZvMHa2sM2v0rZNztC+IyHdUv80F14BX9Pi53letJ7lkiVLeP3115FSsueee9K5c2eEzlK1ahU9dugZFFB1yWSzKAUqm8WxNCUlJWgh8ZWNxvNcMq5CuR6u20hp22JAo5Rm6dIlLF++ksLCInr06EG79m19E7WUCCCTTrN06VKq16yie9dudOxQQWFBIcLKnT2HcRG+60iRSTdS2q5dIEiDjkNEgbNSCKQQiNDVSOx8BmLCc11WVVexbNkyXNelW7dulJWVUVhYSHzvkfiR/s3kui61G9aitKJt+/a4WrGueh2rVqykrG17OnbsiJNMAAJPe7ieRzqVJpvJ0L59+0CI4LulsxkWL17BTTfdwpsz3qJdUZKa9eto07YdnvaTA4oLCiIR0lBfjwouCMuSqEwGpMApLAQpkcIik8ri4SGDemhCQyKR8BNKvuT6eO+99/jjH/9IIpGIXNCJRCJ6gKVSKYTw61G5rruRyLNtm/r6eioqKpgwYQLl5eWbdh8FD0+09gfQYKzxlKJ6TTUNDQ14nkdpaSllZWVYVlw0C5TSIFQ0UNXU1NDQ0BAtj1Ze3hbfCBcO6Lkiv7a2lvr6elatWkVRURHlZWWUtS/zDXZKRXGsfnan/3UpJW+/9RYfffg+RcVFDD/0UBoaGxFINC4IzxfglmTWxzOpWrmSgsJCevTs2azohtxYSM/zuPbaa3n//fcBotIk6XSaRCIRDSjNDRg5cWvAT3/6U375y19GVofQstnc+Wjpwby5tPQQDgdSy7IoLi6O2hIX3uHkM/xswnH8+1fkLn3WdHx6o8F0S9scFngOJ8PxzMv8uM+wjfnWbKVUMHnZ2H33TZLvLvyyfVRVVXHZZZfheR7pdDoW+iJyBpZUKoVSCsexgxALL/oMgOMkGDVqFAceeOCXti/etk1O/DZngP6KbMm+wvMcnzRt6vvRvRqEPXXu1Inf//73pFIp9t57b9q2bRttd3MtpS2JperqalauXMkvTz8drTWLFi9GA126dGlmoruxh+a7YHP3k39dfDnx5xFEai1PfG8JGznBQj0YjEFNr2/+dfhN9nf8Pg/b8LUsfkopli9fzrhx41i/fj0DBw7EsizGjh1LfX09Ze1KKC4p4YYbxwOCO/5yFy+9/DJ1NXWsXbOaY446kssuvxzL8QfCZUuW8Oc/j2NF1WrWr12DY8F99/6VxnSW8eNvYf78zykqKmLRoi9oW9qW8y8Yw9EjjsK2bF7772vceeedrF27Ftd1WfT55wzZcy8uu+xydh6wi2/jERI36/LOO+/wyCOPsGzZMhoa6nHQPPDgZNpXVOSMpdFFj19jDR2ItuD9bDaL8hRLly5hwi23MG/BAvr27cvy5ct599132X333bn6qquorKzE9TzshEPWddFaMeON//Hc8y+ycsUy3n3zDfr07sU/Hn2EByf/g8cef4JOHTry0r//w7mjRnHZlVeweNkS7vzrnaxeuYplS5dSXb2Gv//9AQYO2BUhQUqLiRNvZfLkh6ipqcV1XRoaGznttFMoLe+A0gLbkvzfhRdw8LBD0QrGnH8+ixYtoiCRIGnbeNk0bdq157RfnckBBx6IUpqrr7qKj2d/TGFRIZm0v9rBr848k8MOPxxL2DQn/8LBrHv37px22mnYth0FIDuOk+MuDC/G/CWwQuuO53lUVFRQUFCwkaU2H8/zQEq058eiSQQzZ87kwYce5O2336Znz5506FDB++9/yAknHM9pp/6CgsJCQGI7STzlYklBTU0djz/+OJMnT6a4uJiSkhJmz/6Eww47hIsuuoiy8g5Y0gosGv5A98ILLzBp0iSKiooYMmQIGzZsYPYnsznh+OM5/rjjSBYU5sw0hRCgQLuKZ556EuWlSaeynHPOORQXtyWTzpLO1ON5WZxEkqLiIlatrkK7Co3gRz/+cYsWv7BPXdcvAHzggQdSWVkZnQPLsqICxM1Z/KKHg22TzWaj3/v06RNtP5wU5T8PwvPgl01pas9XoaXzK4TI2W483jcuduOW4tA6GR533C32ZfFpzbXpy4RIuO/Qihd+Jj9MIW5JiReDjgfuf9uE5zFfeLbUL4WFRQwaNBjHSbBhw3qEEBQUFJBOZ6KM0vCa8IWvaKpVqP21lMM45Hbt2kVt2JRAyk8o2ZxwhW9KLLe0nU2dm/ikIrzGWrpmWpowhXX64gN2eN3HBVr8mmxum/H9KqXYYYcd6NGjR7Pu4dCAE68FGxp3wvvn26KlY2mp35q7ZjZ9TnLFmAg8Zr53aOPP+J7Bpqd19LtoaUKaaxn+ps18m/MsyO+TliaY4XPpawu/MWPG0K9fP8aNG0dxcTGu66KU4q67/sIfr7icEceMCAaCJD/72c/YeZf+XP3Hq5j36WfMnTMH5XnYju+arehQwejRo/nXv6dz47jrKC5weP+dd7j/oYc55JDDuOmmm7Esm8WLv+DMM3/NOeecjW1LEokEt9xyMxdccCEHHngAUlo8NW0aF/7mfBbMm8+jU6fQrXt3tPIHuZ49e3LEEUfw+uuvc+edd9C+sIhsOttUzjJmjfGECOa0TSdU41twlOexctlyzjt7FOeccw7XXTcOJ5kgnU7z2Wefccopp3DET37CU49OYdfdBpNVGmFb4EJpaSmdu3Th07mzWbt2HVWFK7j/7nuZ+9k8Hnv0Mf56113854UXeegfD3HaGadTWtqWwYMGM2f2bJ775z9xbJuqqiqsQRIt/JN+3nmjGTVqFGvWrOWQYcNxaOCWW26iV9+dSWdcbEtSUdYetEbaNlf9aSx33/03Jt54E20ShRw94kjOGj2anpU7+hZPrTl39Gj+cucd3DppIv0HDGD06NHsPWQICLFJ15iUki5dunDiiSdGf+dfkJt64Oc/MOMWwZYIv6OBTCbDQw9O5taJE/npUT9hyhOPUda+AyCoq2vgkosvJSmynP7rX4GdIBus0rK6agW/++1lZDJZbr31Vnr37o3jOHz++QJ+9eszOG/MGO679z6SyQJs2xcSDzzwABMnTuTmm2/moIMOIplMopRi7fp1jD57FCqT5ZSTTkYUJtGW9H3myndFZ9JpXn1pOkJnGTr0IIYdfDjplJ8Y4qksQiqQNo6T4IH77sHLeuy2+4/oUNGRlroj7NdQQAwfPnyj9/LjhOJ9H/9s/PP5qwPkP2ziQj5MbskfCMPf8weq8P34NuKz1LC98fblC6RNiZd4/G5LA++XWWmaczXm91f4uZYGsHgb8vfVnHsmv33xvmmujeF7+XGYzYnJ+OAfF/MtibE2bUq54IILo7aEtOR69Lfvh1CE+wrFRXN9mX+s8bi2cB/xCeLmCIDmrueW9t1cv8c/m/9Mao6wH+PXenxf+db0+AQkfl/lh8Z82bHF77PwO/H7Kf/5Gz8fcRdy/jZD63k8vjMnjCl2DuLHvanz29x78Xs8/lpLn42PEfn7jd8HnudhSRutwzJsGlAo7fleFR2el1h/6lj1C5oEoVIaIUXO/ZJ7fDp4Juvo8/ntze+D+DHF3wuFeDyhMfxc/DkT/27+Myc+cYLc+/RrCb/777+fhQsXcscdd+SsYWlZFmeffQ6phlo+mjkrqH+n6datG9tt15XTR57K/334Hu1KSxAitKIpChIOO/frx/a9e/Po44/w+ZzZ3HzjTdwzeTK9elcC/k3Sp8+O/OEPf2Dkab/gvHPP4fDDD+fpp6ZRkEz65WGE5MQTT+TTT+Zw26RJTHvySX5zwQUgBEpBp06dOPTQQxk2bBiPPPwwsjGF9hRCx819NGPDDU6MHwFHJp3hxONPoGrpMtauWu27LJVHUVERAwYM4B//+AeHDj+Ui0aPYepzz1LYvhQtBU7CYdDAQQwYtBv7Dd2HEUccxhcLFzH7o1ncMuk2REGSn/70pzw19UmGHXQwnTt3xk4mOOHEE7EQvPXmW8z/bB6ObftrkaKiQHGtoaiohGQySbahkZ47VNKxYjuEtNDKQ6L9OD8hqOjSiYsvvZTlC7/ghalP0W+nnei3y864WqO0wrJsOnXqxDEjRjDzow/52z130659eyzH9qMzWxgg4hd6/kMtvME3NRPPf5DEZ/tfZqXRWlOzoYaRp55K1coq/vHww+wyoNK/3T2FlAmemPIk0556mrkfvsrRI35KaafueMLm5ekvccHoczjppFP47W9/h+M4COFnhlZWVnLnHXdwyPDh3H3P3Zw3egxaa15++WV+97vfMXbsWA455JBI9GituXrsWJ7713MsnPMZRxx2BB27dsZDI4UCbSGF4NWXXmH+3Dls370Dt906kc5deiCEjVYCIT0QCheLRQsXM3H8TUglOP2XZ9C+vCI3brCZ/g8f2uFg29xDeVPCr7ntxoVFPqGV9pJLLuHzzz/Hdd1oxR6/vIpHY2Nj9P38beQn84TfDfcZF//xgSfevubataVsygrRnLAMr0/HcUgkElEbM5kMlmXRrl27aDByXZeioqLob4BkMhk98IXwQyDiD/74j5QyWsYrfMCHhXvj91hotYkfRygKkslkdDxnnHEGQ4YMafGe9o/RRqmw73Pd/HGLSqwH/QmzDtxrWvuDcCxMoiW01ixdupSzzjqL5cuXb5bVIzwv8eOMH0vcmpX/Xr7ABKIQlXhf27YdPRfi34UmESWlDAok574fWu0ymQylpaVks9moraElRggRhSEVFhZGmezhMzDcd3i+4/dIY2MjJSUlUVuy2SxC+NbmRCJBY2NjVOcv7ItsNhsJudB9Hz5zXdeNQkK09q2OdXV10f7DbbiuSzYoodTY2EgqlWpWlOZP6OL901zFhvg+wnMTWu7Dvkyn09i2HZ0fgJKSkshTAf4qOVqDkxB4KoPrppGWJpkoRgiJ49hI6T8rE4kEOqsoLCgm1diI63rRWt+24/g1VYM2hue5vr4Orb0gjCa8vsGS/uo88Vj2dDodLcMX3utxUR32fegZy2QyABQUFETPVyDy5mitI89YIpEgLOsTv/8dx2GHHXbg4osvblqBaBP30JcipeTzzz9nwoQJXHTRRZSXl+e4Vn521NF0674DBEkZliWxLIHtOLhhAdroBhLIQJkLBI5tk0mlOPjAg9mhZx8IY8q0wrYtum7fDSEgIS1+fvTRFBUXo4XAQuAphbQcKjp1xkLjpRpBCKSQUaxajprGQ3kZgmdUk+YT/qoACIHylC+YdKDqtd/pjakUa9av45FHH+HYk39BYXGxnx0oJNtv34OCwiJWrVpBOtVAidWeMDXYcWyE8h+grgYnYTNixM8oLGmDB/QfMICXXn6ZouJiLNv2Ey60hxaaVKaRxoY6vHQmOPmhyyi0sAj/QkRG8Y8CgbRsJAolpO/61lCQTHLiL07kySmP84+pj3HCL0+jpKQdYOFqjUTz2uuvMfyw4XSoqEAH5z04jGbJn2mEbqD4DROfsUDzg2z8/8158AvtJ3bcfON4Zrwxg9tum8TO/XcGoZGAtCVKwYqVy0inG9ixcm9KyypQaNasWsVvL7yQ7bp0YtSoc/zYzuChE8bClXXqTDKRZP7sOVhSgCWob2wgncnw3HPPceyxx9K5c+eozSNGjODl/0znhJN/QfsK39ooNUH8nt8v/339vwghGDxwMJ06dQ5WWBFBGpEILM+Ct2a8QdWK5XSs8OvV+QlOLfc/bGwham5AzBc1OQOiJriW8Zf+C1a1ae4chd+3bZs///nPufGBGpD+fRlmK7soIoOxsPzZNBpbhIXem2a1LVk8ojZqHd2z4YREaT8BTG5iohA/Zo0fI4oXTDbwt+G3J0h6CurzIQRKe1gCtCeRloXSHrYlIDi3zV27+cI7LjLigrKl85Tf5nyBFsYGahFY1oQIJnkKhQAsLBQCjQcI4SejCSGigWVT91l0LsI+FwQ+skDY5R1LcHoiq4nWoUU+d6WJ5pBS0q1bNx577LGNkiya28/mTl6+KqFozreEtvRMCl/P78v4ZLdpO4EbnCaLU5jAqJUfu57JZLCDurJucE7DbcQnRbZt54hFXww0TQQcx/G3Zdt4Xm4d0XzhFE6wwn0UFBSQzWaxLItUKpUTpx0/1njJqLjYye+DlsIemuvPuCgKz4cM7xHpJ0KGGebSktG9r7XCjkoneWQzWRJJGyEhk24gk81QkCz0n/ExgwRANpXFEpbf37H2e0oF43Du+Ibw96e0yhkShbDxXA8Vu26ymUw0CbYsKxLv4QQjPEbHcaL3hRDY2I9KqQAAIABJREFUjg1o3KyLDIt3e7mCMezHePJdKBBLS0tzQnO+lvAbPnw4HTp04L777uPVV1/l4IMPZs8992Tw4MFUVFTQp7IfPXtXogBbWr7wEhLLSqA0uEoDFggJwgrKu2gsoZEoJFBZuROWUxD0r38i3OC7ntKUlbVn372HoqWFkhYWAkd6qCDrMmEJ3MY6PxlBWtGJidS0gGShAzmB/kTqr8mMrKOnm0AipaakTQmXXXkF9/ztLi67/PcUFxf5tbeEIJ1Ks7KqCk8BCY2UYEnhfxcQuFgCpOWA5dC+bRG77rYrKc8j4TgIrWhb1j64gPyHrfJASYVd4GALhXD99RaFDF3R8dmVh5tNoTIZrGAwkFIg8LOPJSCDwXmvffehx06VzJw3h09mf8w+e+9Pxt8x1dVVvPr6K1w37nqQYIfrKcdCH/IJ+6y6uppZs2ZFD6i4SyG8IJsbwOJuCc/zaNOmDf3799900Vj8y2jp4iVMfXwKvXboyfDhw7FsC63ibkCPUaPOpl+/vuyz+55IpwQXj6cef5RVS5dw8okX+Wuq0jTDxD/7NGQ9PFdT9cVSGuvrEEWF7NRvZ3r27Mk777zDeeedx7hx4+jWrRsFBQXst8++vPP2O74lRwgQYCmNChRPOpvm9Tf/SyKRYGD/QSQTRf7yhYCU/gzc72vFs09NQwjFPvvsRZcunfGfO82fgLh40FozZ84c1qxZs5GLNS6swmONP8QtIXESCVRgdejatStdunTBSSY2siJBUx+XlJTkPBx11kNLSUZ5OFKCVigb0BkENq6W2JaDJQQWvgsmnmi1SQJLkgotW8IXfx6QtOwo+anFr8cmII1ulgQSqTSuLfDQJLRACIXSAoE/uGrh78EWAksU4LoaYbtYlocgAVib3fxvlGDcVEEfuJkMjpBA6v/ZO+84K6rzjX/PmZlbtrIsVaqggKB0ECwYW2LBghqNmtgQ1NiixhJjxZrYjYlGo8ZoYowaY8FYo4KoWCJSRCkqUpa+sGy7d2bO+f1xZubO3cYSIT8N+/pZuXv33ilnTnnP8z7v85LRDkImcfwMUig8y0IK26gHxKwlRN11s6xYscKcqgFq3BQS2nBBj/e59u3bU1JS0iyKHzorZWVl/3FzfFMLF2XILa4N7685Jzz8e2jxMRn9HZXvMUeIQyz8aw7UaKPV1LHD9/MdzPAUZsKOh0UbHjNEn+LvN7m5CObleEb6trY4MgYgEY3mOY3OOUVa59ot1wjNWqNn04xTH0cjc7+Hnw2fQ25x1MFrEVyTWadEsKFuWo84PFf8PIQbg+A85jO51/FoABBFe5pTYPhGjl+3bt24+eabufLKK5k3bx6LFi3i/vvvJ5VKsf/++zNp0iRGjx5t4GMRb4hcIzTnPEgpKShI06601OyA0Fg6iLFj+GUJ28YJytVE1uB5ZbMu9fUZI+UQK20W7nSEEDlougVwwHHsaDEKSf2+53PEEUcw/tCDyXpZZsyYwdR//hMhLNatr6Ryw8bguzmid5QQShCaCh5UUVEhThDqCf/WKOwS7EqSyQTl5e0jD140c+EaTCZpC/cVQvSnnnIqv/jFRTz1l7+wx6gxOOk0dX6Wt997m947GlKw7ytaI6UX7p7efvttLr30UizLoqCggLq6OrLBjqe55IKwVnK40/Q8j65du/LII49EsgPNnheLl19+maXLvuaXl/+SsvbtAYm0RJ6j2b59e445+miEAlcrqjZVcf/v7yedTHLQwQcHWYiShohExfLlbKyspHOXLmYXjKDPjjsy5dprOfvss3nzzTc5+OCDue666zj00EMpKS7BTtuRhE44JWhleHuu67J69RqSiQS7BoTuuIUoaUXFSt5//wMK0gWcfMop2I5tcJuG/SOw+KTl+z633XYb77zzTpOLRTycEu7YQ26eVjmhaK01xx13HFdedVWjxJzNmeu7rF21jsKiQqzCQoSUrF21FqHrKe/QKUDMNFYrjtXIRAQ6BciduabWTmzRZCkEVRs2ojNZytu1RwuLmrpa1lRuoLS0mHRhoUHnfY/169dSUlKASKTw/CzVNdVAhrLyEiMl9f9V0jFmIfq3ccNGCgokdiJJ1lfU19ZgKZdkcQkylijTGlu2bBnHHHMM69evj1CibDYb9VPId/zCsFTY1+Ic0V/96lccf/zxW++Gt5Eppairq2uEwjbV95tyeptyiiPHLKIXCWTIHTNnjSJhOhxrgGVbkTJAS0h49H7e5jBwQIQwagE0dhRbigTE34tH9f5bFm973/PxlEE1Q6dOY1Qr8p5PeOch5Ew+QtnQcWyKl7m5+U0IEchuBQguYfuHzzyY9YXRgiCccwMUt2EfCa8xfj3SaLkR1foOnTxLNJpr4uHjlq79Gzl+QgiOOOIIhg8fzssvv8xzzz3HV199xZo1a3j66ad549XXuOP2Ozh8wpFYjgwjVyDySaLhgwtuG6WVgZalTSqVJvhKEGIxHdj3fDzXw7FtwyTRpgSOCJzEcJH1VU5eQDa49rBz2FGmafOTdtxzVr7CsswgVUrxzN//zn333UsikeaY445l1KjR9Om7E2vWrmP//fbPh/3zQiIGhYuuKfhdKdUkUhHuFmpr6lizZl2wGzWMw6iTx7z+MIagddiZjXqcKZNnPmLbNp7ncdBBB3HXbbfwr1de46vFi+gxcGcUPq+/8Ro/POqYSAakNRY6fj/4wQ/Yc889o/ZruENurmPGkYHwp7S0NM9JacoyGZdXXnmVosICdtttEEKY54/2G50fIRC2RGrFh+/NZHXFSkYPH0av3r1iu7b89qxYthyUok/fvghLGoFIX3HY+PFks1luuOEGVqxYweWXX87jjz/OzTfcyK6DBgWTbWCWxMB1xqGr3rSJDh3KGbjroGh3H5435Pc89fTTrF27hiMPO5S99t47eI6bL3UT3usdd9wR8X0abiwaTvCNEIPgJJ7rGv5QMF5bw7kMj/HRxx/zo6OO4ucXXsCZF5yPqwUnnXAyjszy1DN/J1WUihxZNnO8Js8R6PYobSY7N5OlsrKSzp0754V6W1qEM5kMP/3pWSxf9BV/e+IJdtixJ9OnTePc0ydz4UXnc/5FF6HRfDJ7NscdNYHzzz2L8y++BF/BOWedxZo1S3j8ycfp0LFXq3L6mkJoQoujMvHPN+dwRPdH/r1+9NFH/Ozc8zj95OM4afK5ZN0sZ55xJu3SCW669TbatU/Sqp1cYN27d+f+++8Hcny1hqXBGt5HOG/GEWKlFH379m2UTfxtMyklH374IVdddVUkqxKOoRDxCjejRjDcjmghYbvYtk19fT3ZbJZkMklxcTFSSlMfPquxAy3QkBcqBGh8RGyNDBdyJ53Cchov2c2hkr5nwvnhuA65Y76fRePnoXYh1y9eA1gpFfEQw5+QI3jsscey//77b/NnEFq4XnieR7Y+w69+9SsWLVoUXbvjOCRsG5SONiSpVMqES7Uy3GopG817odJBGL72fZ/6+voIrIm3TXzuDB1gx3FwSASau7lrNb6Nh9Je1K4h0JT1PVKFBZgwtBu9H74OQ/Uhn9PWDsozJwj5ltlsFmzQMj/RJgRMTj311EiFoSn7Ro5fuKPr1asXZ599NpMnTyaTyTBjxgz++vjjvPzcVK654kqGDBnCTv375U5qW1HB+fj0ZpAQU5oslUoFCQZW5KQIYbgPPopUKolj2yQsG2k8G6S0c2i5NgPB1N9sBhELFppEIoHveUE4LrZrCwScw7BDPExsBoXHlGuv4cEH7uf444/j+htvprCoGAJEsj6TjV5blnFQ8/dmYd1FCyFyoTYRrH+NnSONwJBR81LIG94TRitLWcEOSBrHWGvFpk1VFBQWB+fMkWZ79OjBvvseyIt//ztTX3iBnw68gNkff0xtVTUjR4wIsjRbB+uHgyKZTJJKpfLuoTUIUWhxaL816JLWsHjRYpyERd+deiMtow8Z38mFE6AdOoJoKtetp2rDBgbtsgtFJcUIy8KKTZjhAH3+H89SmC6I5HkcO4ElbSxtkokOOOAA7r//fh566CFmvvcePznxRJ79x3P02rG32YwEO0/jeAtWrqxg06ZNDOrXh+LiYpTnoUR+eGz9+vX86U9/orCwkMmTJ5NKJtFCoDbjXoTft207ks5ozQ62EXoQpxDonFBya00DWc+jduNGElojHUnNpnrWrV5PeZEFvjJUhOD6TA3i1vcRExkT0XhXSvG3J55gyrXX8vwLU9ll4C7R9bfkqEopqaupYVNVlUkCEhLt+1Rt3Ejl2rUICb5WZDJ1rFu7hswmQ3J3Ejbr161hzcrlaOWB1SILInfdWlNdXc1f/vIX1q1bhwjmoXioJpvN5hbxYJHu3bs3o0aNokePHo3uRwgR1e0WQlBTW8tnn81nxddLsaXEkprFi7+gNGnhZd3os621ZDLJqFGjouNvyVhueO/5obJvp/m+z9tvv81pp53GkUcemZcZ3pCvFvK0QoehIZUldM7CzVw2mzVlApHRe4IQNTJFAZQyvPJQEgdLNlnTviEHMhfVElECWIjgg0BaOnIsQ6cjk8nkJafENybxhI/QUSorK2s14r81zbZtlqz8innz5nHDjTfSqWNH41SFJei0xgqcp3Ded30fz88lQ1RXV+clYIWfDYsNhMkjYQQkm81GDnic/wimDS0sdJCXFq4pJjdAYUTPjdNoSQvLtqjLZJB2bkMUT3oMI2Fh//F9HwPQhnIsNpZt/BwfhafcaG4LwRkhRJ4241YN9QoheOqppyguLubwww+PvNrCwkL2339/vrfPPtzW/SbuuutO3pvxDjsP6J8nj5PJZKnP1Oc5QkJKNApfq2gwNFxkdMBR8zwPx7IM4teCmHB9fZb27cuM+HIziILrumQy9TkuQDhwtEIGBOjqmlqUDiUlQAjJa6+9yu9//3v23WdvbrjxRoqLS9DhwAshXAJUTfkR2hnedBgC9FU48MOBmwtdNWh1Avq6cSQbkMXD56KUIZoqrXAzmeh9BEyZMoWLL/kFZWVleQK+SilOmTiJF599kZf++QonTDyFV6e+zEH7HkRJUWlQJUUBrVsstkYooCmHsaWJRgSIcmlpKaUlxcH1WkA+eghQU1tLQTod8C2MI9ixY0csx0YIK9phhbvM1atX887bb9Nv553Zc9zeuK7Lzb++hY0V6zn9rDPYqX8/OnbsyC9+8QsmTJjAZZdeysxpM7jlVzdz25134qRTEeIdR2fBoJmJZDLqd/Ed/NSpU1mwYCGnn3YyY8aOBcuKWKLNhfjDNopnxP0nbZ43OGNIrdkPte6YUgiUAO1rdCaD57tgWaRkCgsjTk3AgBABoi/ZsgUl7P6e8qnZVM2dd9xJbU0NixYuZJeBu7SIrjW4e1SwQAgML9mSFuXl7aPwiuPYOJYgGUvCEVphSUPPVEpjxea5zVnHjh2pra3l8ccfZ+7cuWitOemkk9hnn32iLL3w2mfOnMk999yD1poLL7yQU045hZKSkpxTi8iL7IULdlFBESDQQptxrJTRg9QKQesRt625yMfv69vq/Hmex+LFi5kwYQLJZDJHrWkGRY5LzcTRJcghpOF8YupJh5s8IC9uE+tAwXoRxsS2rK3Cfh9eK3m/N3UPLYIk5IdK/7+e3QcffMCYMWPo169fDoUDooUzds0CQSoWvVFK0a5du7zIU0P9woaWFwFp8Pe8tTf/f8HfRM7lCH5vODdsru2b8lta+s5mj8eWOH5B9EsLQx7WwPKly1i9ooJDDzkEadso5UcIUyKZ5JTTJvLYY49RV18D+AhtBeFR3yQkSFAofOUZTThlGsUUkbaQKIT2EVqhhUYBWlgYNRKJ8jU1dRmEtIIFxHxGaVNeSykfLQRr12wA14OkydAz4EVu0GWyWUCbzF5pE5aQ05ZtsmgQFBQUI2QSX6uAYyiZ+tI/kVpxxPgjKCooRgkTqg0zf1auXkl9fS11NQopFILAmcUgUVqCIyWW0ghsNI4JAwpJVH4sNihNKTFlSqtZoK3AeQwdX2EyJ5UyiEVBMont2Piuh3BsPM9lQ9U6pMwX7tTaZEgNGjqYnQb1Z85nc7jjtttYuGAxZ550RrTQNycf0pw15C5sqcU77uYWbw1ooSkoLGD5mpUs+3o5XXv2RQmFUQzSKN8HDQsXLODdd9/h1NMmRmXolIZkuhDtgZY+IkhACXdpU1+cyvrVq7n8wosoLW/Pex9+wF2330Va2yQKUlx/801ReKRfv3789re/5ZADf8Anc+awoaqK8lQCK3CaQ8Zfhw4dSKfS2MJG6KDUoZRYto3nuixetIhbfv1rOnRoz+mTJmE7CUCaTUUr2m5rTspGszFY1MTmw8zhNZhrFfjaI+NlcKRNUSqBXWDhe/UAgcSNRGrTNq1FzIKT4GtM4heaP/zhIRYtXky7tEPlmgqDJQphNofRxq6J4wFKChJSYEmDp7pao5SPV1sPIkj6kCaRxHOzhpaBRFkWQlhI3Xx0oSkrLCw0m2YMfWT+3Ln0678zV13xS8o7d8EJqgaF93vIIYdwwAEHcNLJJ3HT9dfh1lRz8eW/MBm6EVpkJumIUkMg/hvctgzbTrDFiN+31UH7ptZwjgo34V8v+ZJ0wqFnzx4IQ7OKnkc8ZBiaCDh6OuBwZbMZbMskNYaJR6bMXfhMg5dxfw8wKg3BG8GzCkf8ljp+TWEdLc0NDe+rIb0g/u+27A869kIE/yo0Gc9j5ocfcOzRP4x0ZA03Ms6vM18QwlQD08o4gH4gzZINMpSF1liWRGCQwvCrosG4aKoN8p2rhnG8cG7K+YE6tlluuIaFbdnsWinyjkpI9Ytv/huCP5tbL/8jSMY4YIDWzHjrLdauXWt2mEFtXCnMAJCOjZ206dWnJ+CD9hFKmLCDZSFsC195uQYKr11rPNfFFoByEcoLeFEy4u6ZWrZm4vWFQBM6fto4QkLhOAKZSFBYXIolHVBeQNwPd2gKtDRl1YQ2xOwAYvfRZLWPJQWWVniuwPPNOaSArPZZW7kO7WtsLc35A8QCbXaLr77yEnV1VbRv3w7bEYCHiFBDgQKkViQQ2FYaIZMILXLJADqWGak1fgAhCw2+ELgYORgZQElaKaQwqf2FJUUo5VNfVxt0ZIGUGq1ciELMsfCyEDipBIcffTgbajbx6EN/ZMig3ejYuTNSWliWkz/YWznmw+9804miVcewJIOHDqamuo6FC74CRdAfTPtYQpJ1XZ568kl2HbSrcQQ9ny6duuAkk9TWZ5C+DNrT1O/1fZfly5Zy372/48Dv7ctxxx+Pkg5IB+1riooKGTlyZN712bZNSWkpBSVF9Oy7I8XtSvJ2phqzOem2ww50LO/A0mUrqKt3wbJRWuG5LvX19Vw35To2VFZy95130bfvTmhhmU2DCMP0/3FztrLR4z8i//ctMLOF03hSIX0LS2lcXY+Pi0KhYrWgm9oRt2jBIi2FZt7cOfz2t/fiJJJ4dbW4tVXgG1RRBc5QS5fvCY2jfZAuQoGSFlKA5SqUAFtYKEuazH1tZFE04AmJpyQok3jWaqeYAPkSgoWLPsdGMXLwbnTqUB5+KK/PO47Dnnvuya67DUJlMrz0j2fZsG6NoTQgA91ZHUTLBVk/i1I+WTcbPAeBLQyPSQm1xc9xa9nWmhO2toUOj++b6Mznc+eyY88eJBzLRHtEuNTmOz+5hVvgewrP95n57ns8+sgfmfXvj1iy5CumTp3Kww8/zMpVK02ded8P6DYWUpgMayNGZhIhw7N8s7aSwYan4U/TqFbcsYmvC03pH/43nltDN0gLwer16/jy6yXs2GdHc61SBI5QUFaVcIzH2o/cZmfVqlVMnfoCU1+cSnVtNdOmvcU/nn6at998E983VbU0TVcEau73hu0rYz8ieJYy9vmm2rPxMRsfPzoukiDFNWqbht+JP7um7D9y/IyTZurTLl78Bbf96haqKiuNLl3Qff2sy9NPPcUO3boxdo+xeJ6P63ls2FjJ7NlzKChIsWzZctavW082kyWbNXxB1/VYtXIVmzZtot7zWLD4C7xsNiLS42nc+noWfP4ZrueRdbMsXLggGJgC5Rukr662js8XLERpzbz586mp2hDwkzR+UNJr/vz51NfXU1Ob4fMFi3CzXsSr0L5G+orP5s4jW1ePl8ny+bxP0a4ffEZz4Pe/j698nvnHM1SsWon2ffAVyvWYMW0aM2e8y5hRu7N4yTLmzv2UTVXV1NTU4nsenu+hPJ+vlnxFvZelqqaa5cuW4bvZ3OTT8F+lqKysZP36DTi2w5KvllBfVxtxD3I7Sc2YsWNZvX4Dc+bOM4NDa+Z/Oh/HSZJKpRuFPk1nMJmbPXv0RFg2Rx19FNKxv3UTdHMmBUw6fRJl7cu49757WblqJaG+kgaqa2v5wwMP0LVbN4YNH27EOIGhQ4ey25DB/OvNN6gM+rHwNUJpqio3cvmll9GpfQfuuPMuiktLcRyHQQMHMWLECM792fkcMWFChJ6GSOr06dOp2ljFKaecSsJJNNjNmYmgtKSYAw88kC+/+pKZM983n9GwvrKSa665htf/9TrXXXc9P/jBD6Kw/HfRVCBdYNu22ZwFY0zKgH6hG6MurTGzMTKoXKa+nvvvu489xu1FKlWAkIJN1dUgzAavNcLOdihNoTVIEY2pODIWIWsmbBC/mi2+/vh9zP5kNlIKRowYCUFbxZ92OAYty6KkpAQBVFaup7q6erPHVyrn5BkdU3KLYZtFFq9I4XkeM96Zwd5774WQjTP8mzKhTazokw//TU1VFX169uai83/GM3//O+PGjaO8rD1/efQxAx5EGbxt1pQ13KBpNCjFgvnz2bnvTpSXl7f+YIGyRU1NDW+88QYDdxnIXx77M5dccgm1NTWMGjWK+++/ny+/+DIKz/6v25Zx/MLJAzOZFhYVMWTYMEqLi7n4wosYPXo0ffr0oaKigo8++oh16yq55bbbKCltR8bN8uijj/LMMy8wf96npFIFLF70BRMnTmL48BH84rKrWFe9nuuuv47PFn7GyorVFBa3467f3sd7H87hqB/+kIMPGc+0N97g/j88yGeffw6WoGLdas4571x2HzuWiZNOZ6edd+IPf3iAV15+mVkfzyKRSjLzow85ffIkxuw9llNPO5358z/jT396jPff/4DaujqSluKSS3/Jiy+9xvEn/oQxY/fgnbff5oEH7ufLRYupra2jVtdwyc8vZujIEZx82qkMHzuaY489lhWLvuT+e+/jxJN+zPHHHscOXXdg2ltvsXLlSq668krcbJaTfnICZ5x1Dv0GDODIo47m+ONP5M233uKRP/6R6dOmk/E8vli6hONPPJ69996b43/8Y8buMTYiECul+Hrp19xx153MfO9dvlj8FVJKbrjhRma8/Q4TjjyKIycclUeYPvGEE3n5+ee55fY7KO/UjbIO5dxzz+845NDDKSgobDLd2xIWXTp14vsHHMCK5cvo26+fIaHK70aYx0IwePBgrr/pJq695mpOOfVULrrkYnbeaSfmz/uUV199ld12242jjjoKYclIkb1dWRm33nY7E089lZ9f8nMuufjnJBIJli5dyt133UWHDh148MEH6dFrR/MdASXFxdz1m99w2c9/zoIlX3LSyScHvB3BX//6V1599VVuv/129hk3zghyWoGANRorcHQsy+biiy/m03lzuOzyy3hl2lvYts3H//43dbV1PPLHRxg3blyjnfh3zQyVQOTkeHQQNpMN0LFmwrDNHdPQJkD5Hi8+/xwbN1Ry4y13cfBHh7Bq/Sqqq2tMm1lBRGAzprxc5ilAImmcbRU5SDFOVhSWMzQJJxD8/k+WjWXLl/Pll19SVlbG3uP2xrEdfCmCsEr+/SqlqKmpwfd9OnXqTElJSewzsZMH/cuyYsfA9B9btq7m7fZiDUNjAFVVVdTU1NB7xx1zH9RhvInG8VNM0ytPUbVhI3vvPY4/P/JHaqo2ccwxP6S0pJQ1K1dRnDLVWgjP+R2YV/+/TET/I4rYvPXq63xv73GNamE3Z+aJabQQLFy0kKFDh1JUWMSiBQs46pij2Xe//cjU1AVZ2d/eDPOtba13/IIYlRBBSEZIxu09joO+/wN26rczc+fO5aMPP+Tfs2ZRUlLCvvvvx7h9vke7shJ838V2bA4dP5499/oeQoFtSzy/HhAkEylS6TR2wuacc89BCIHve6DB91zcjEePHt1BaAbttisX/fwibMdBBIygMAumZ8+eSCH5/oEHMnTIEJO5SU6suaiogGQySc+ePTn88MM44ogjcV0PWxo+gO979OjRE6GhR/duHHHEEVjCUOktYZIElNL07tULISQFhUVcfuWV7LX3OD6cM4vFX37J2rXrGL377uy3334Ul5Rg2RZPP/c8r7z8Cl07d2H8YYehfEXnLp3ZY489GDt2LFoIkolEIGAr6NWrp2nyGNJWXFzMyJHDGTZ0KJawSSYT1NfWUlJaxICdd8k5B1Li+R7DR4zg788+x9NPP81jjz1Kabt2HHP0Meyz7z4G0GiwixVgEEuhSSWTHHzwwSTTqfja8602gemXSmuOPGoC/Qb054033uDxx/5MJpthn+99jxNOPIGhQ4cBkMnUU1hUhKcN1WDIkCH87amn+PtTT3HmWWdRU1PN/vsfwKQzJrPvfvsZ1MRkIBDyUPsP6M8DDz/MC1Nf4JFHHmHZsmWUlpYyYsQIHnzwQXp174G0jPaW67omgSO81qC/de7ShSeeepJ//OMZVq+rxHVdTj75FA4bP56CVBonqNoSSjF8m8nwzZlxWsxrISWWENiWRV1dLWH9S6FiApetcJ3MHGEctbraav748IP89Kdn063bDiRTaeykQ3VNTatRFSFM2MgKHDgIeLDonOSIEFHJJpkj7oAG18slaLW2TUJbsGABVVVVdN+pLx07dTZOQdguDZ71kq+X8Omn80mn0+y5156UtmuHpxVGuj5+Q0QPDuJPAAAgAElEQVTN6AfcVhMSzw87tZmxhpyrxYsXU1hYSLv25WaTHMl5Nd9mSiuwBHvsvRfJVIq3Z8zgqB8eQ7fu3fA8l3mzZnPaqachtchRJ9qseQs2iCHVZP2atVQsWcrQM86MkNnWmAr4gf369yedTPHvDz7Erc/w4xNPxLZtFi5Zgm3bdOrc2czX28G42CLET4fOX/D70GFDEULgacVuQ4cwYNAgEolcOrtjOSAU0rbQAjp26kR5xy44wgYUWrsIKfBdQ3qVFvTr148wpVoj8DwfxzL/aktSWl7Gbh07mAlMgkDje37wu2Hg9tmxD3369DEp88kESml8ZTLvfE/RqVMnDjjgABM7xyR8CMDzDOkTrenRbQe69+wBUkaTvFYKKyipU+e5SMfBtiT77rcv4w46wIS6tZkArCARQgE9++zE6Wf0xUZjSwmWRd++fdht0K5owMUkjOD5ONKOQpNxrcP27dtz3HHHYUkblIVABgkjHppcCRswHEulNX0HDOCyy38JnmfqbGqNsEyZm1DsMq8zWBZrV69k4cKFXHjRRWjA16Zs1XfBdOAcuZ7HroN3Y5dddjF8UxlzooWInLBMNovjJPCVi51w2Gmnnbj40kv52UUXoENSPOa7VgjABBuf8HjtO5Rz0sknG4HwWJsKYVgYoRRMSEQOUxdEGN4UgsLCQk788YkgHbPztGx8z8Ox7CAZSiOt/KLd3yWTUiIFsfqZxoLHEczuWxb4yomswosvTGXnvjuy3377YuptJvE8xcqVq/CyWaxkQX5UthkLhebjoueCnHZWnvMUlXsMyz9uXtOwufuYPm06UkoGDhxI+/btm/2s7/vc+7t72bChktG77sakM8/E9zxINN0nLGk11gPVRCWq8hVAt2+L1zYFmDt3LruP3t2g0lIGCYMtI35aCFOLPZlgw6aNbKyt5pDDD0ML+Gz+Z1Rt2Mig3QYjNGRdF2cLBbS3V9OYcmlfLF6MVJruO+wQqEy00vkLuJkFhUVIrZn+1jQOOegQunfvjlKKJ596kvHjx5NOpQN1ku/GevdN7JvV6g2qLITVFlLpVBSSsB0ncKyM5IEMqNBOkE1jptCgYHDCiurbmhqkVlB3D0RCIoPvKa1JJBxUwO2JSsAlLHQ4cIP6txqM+LMhJJriyUphJ3P0z8iUIco7iUSQcWwZ2FcIQ+QGwoxhIQQoTdpJmfuypQECZOARaBBaBouacSqTlmOg6iBpACkoSBeYNhQCWwdluuyAlqrzCaBeoDGYdBIo39ScBRDC7PJNqcIgky/ITpJCRncZOrMicEQs28J1XRYvXECHDh0o79ARhMT3XF588UVGjx1LWXk5GmFq0n5HLJxIZaCbaAVtoERIvlYIIbGSJtlFa2WkOIJdnmWbfmMn7EBdPRS61lFfDk0EYTOCtibQw4pneymlsJBYYV+C3DEChEkIkFaCIPiJTBgdR7OpsIJ+zhbtcL9dpk1ik5QI4aA1+ErjKyhIpbEsM741YbZzC4iKymUpKmXoJhUVK3nyySe5+cYp2MkUWghKS9K4WrGmYhXZmjrSibRZlIP/mnR2NEjLVFAw4wQ810MAjmNh6swCwRxlEqaM1p8pv2ih/RAFbF3AVylFfX097749DVsKdtl1ECKY30TAIfQCwfWs6/LgHx7g0T/9iYH9BnD7XXfTuUdPhCPR0jJTT+yUWmtUUPHZbGDM9WsRIFNhNv93Z3hvM4vCvMJEDPxshs/mzeHMM880ihEioNMHSXLNmVImc9eyLD5fsIDSsjJ26tcfKU1FoSEjhpNMJ/l66dd07r5DDjFusyZNBTV4tTKJVB/MfI+999kLA5i2HrGWmLlFoKmtreWjWR9z+mkTEUJQsayCWR99zMknnkRtdS31XpaysvZ5tJr/RQRwixy/eMxdBvFwGXjHIcLVuCMLLMIFueERZaOXcUBDiPBtc8y8fW3DTW74xTBDMH4Wq+GLhpchYp9tZnEVoum6n+F1Nzxpww/kLrSl0zf6jhAiQp7AFH7IN7tVJaKUUlhBeMxX8MrLL/PTMyczoH8//vLEkxSVtidTV81b06dx7rnnI+1kJIj9XQEFwoGakInwDSDe4g0bqvmGaxFYCyYeK/hvc9fT1PcBbNl4+DXq1t9FX6+hSYWvIZEsQiPwtemDrvBBKywdKgU0zFXLt1CmyPcVoUbXE088wR577knf/gMNh00oOpa3w9Oa2qpNKM8P0zGCzPtmnDJhMoPDaF4k9SBFJLCONou/4RYKtBKAwrYkBakCpHQwWbWbX9DD6g/Lli1j4bx5dO7YgYGDB1OTySCwkEojtEW9l2H5qgoefOhBXnz+OU495Sdc9LOf07FLV7RtQSTErsM9rrmdIBsQKYLqRsaR9JXC1Z6h0vwPLmj/sUmJ1ibbecWKZXiZenr07IW0W4/KWdLMr1rCzPfeo3fvHSkoKEQrzVdfL+H4449nScUyVq5ZRYeunbfhzfxvWC4hS+N7LnPnzWbS5MkgWp+YJDDcQKk1CsHq1avZuKmKnXfpj9KwZvUa2pWW0bt3H6bPmM7OuwxAt9PR+f9XKRHfCPFrs++Ohchh2JFXVFSwccMGEhFvDJ555hn69u3LgAED2jL+2myrmRBGxLyhpEE6lUZKI5WhRUsuX3gchdJGA9R3PWbPns0HH77L3Xfdje/5geq9MELclkXGd8kqL0C4wo1pC8e3LHwVOIaWwA94dlEhemHQQCsQjg9DSEKaBJBwgWgN3hdmgc+bNy/gOvrce++9vPzqq9iWQ311LUJbLK1Yxqw5s9mx7448+uifGDp4CLgqkoFp8RxaRYoAucQZc/2eF3+vzUJTSrF48WLKO3TI23C3xuIokeu6HHrooVFhg+HDh/P+++9TW1vLXnvtFZWQbLPW2fLly/E8j/79+hkppaCy0pZGQdasWcPAgQPp0qULUgjalZWRSCV5441/0bFLZzp36dy6AfwdtzbHbzuxkDfp+z5KK0aPGkWvXr0YMWIE1dXV/Pnxv/Heu9O4/rrrI8X/Nmuzb2IhKieEwHHsqBxRmAQRVi5p5dGCUD24ngsC/vjIQ4wffwjt25cHNBGwLIHjJAFJRplSTVob7m04mceF0fPkjKQwFW8wIWU7YcdoFbnwvdG1tHKhfRFU8NiCxSLciM2c+R5KKSZMOJLTf/pT0oWF+J4RHbekzaaaambN+YR/PPcsN9xwAyf86EdMOPyoiK3SUrKPbVkUFKRMjWUMrSCdTpKUEtux2xyPPDOYsC1tFixYwH4N6tDGK1W01Oaho3f22WdHtVaFEJx44olUV1dTVFSUE82PHaOlShj/i4hTaywcb0LA/Pnz6T9gAKlUyuxXgjBZS0LFDd9TSjFs2DB23XXX6Ln06tWL62++EaU15e3LTURBK2Ss1GdT46QpEebvkrU5ftuZScuIbO+6665cedVVvPzPF7n66qvp0q0nl1xyCX369AH+N+HtNvv/MREk1GSz2eB3M3Fm3WyOVN+qLXawECCZM2cO69au5/sH/gArKJ8WHresrBylNCvXraPezRikThPwjHOb+fzF3JSRzHpelFDl+T7ZrEdNbU3w+TABQAUaf5EMIVnXNQkAonWLQHiOObPn4Hs+Q4cOY8jgwWAFiVtaoH2Nq312HbIr7TuUc8akiXw2bx4dSsv53v774yuFtJqbws01eK5v2j2IYQshyWa98MG0os3/9y1MdAHIelkWLlzIgfvu1wj4CeV0cg6JaOQIhmXdUqlU3vFTqRQFBQWRLmt4vPjrEAUOf48nim2PFqLVlpTMmjWL3UeNRFqWoYUE7RZm9sf51fHvxwGM8HVUei/4XscuXcxQUARJejmOffy5NNS+/S4m2oXW5vhtJ5a3OwEs2+aoo47i0EMOpjbjUlTanqQjgpJE4SIRJI7Qtka02X9uSikyGS+iGihlyp7lT9Sbi68IQOK6Ct9X3H773fTrNxClJMuWLSeRSCKlxHWzVFVVAQJXK9Zv3EhPkRPLbUowJnIAbWmS0qQMiP6miqRZXAKesWUBgRi1yaJCWBJPbTlRf/Xq1Xy9dCnpgjS7jxkTlfyK7lgIbMtG+4Lx48ez33778eJzz3Prrbey+9g9SBYVtOgUaA1eIFYfvuH7PlaQqLC9OhQt2cqKlSQSDt27d897X2tNNpuNHICGxP+GiV0NS2hBjrMWHgNyjkv4Ou78hYmT27PZts2mqioWL17MCT86zrAwpKlgFDqG8TaLO2tAhMyHzyDe9mDkm5QIEsuEzgvBh056iM7Ho2bf9YjY9t2rtlMztWnNHjddUEiqUKKFDLJH25y8Ntt6ptFI2yaZdkimUpG8je95JFIJZKC1aT6sc5mpMQ9IBBnRGoFtOfxz6j/5cOZHrFm1nk/nfU5tbQ2e75FMpkDDl19+iWMn0MpjVUUFDAk3M40tP+Srg4Uilygmhak7rgNeka9MJRgz8Yeh7CBvULRUHSQX1tbBd+bOm8vSr7+mV/cd6LLDDpFsT+7TylSqDK6xZ4/eOJbD4gULWL9uHd2KC1scsK7vRRWN4g6vQTpauNTtzDShGgMs/nwB3bv1JJlKh+lAgOkn9913Hy+++CKe7xt1Cc8j4ThYto1lJ8i4WVSwuQFIOAnS6RRKaerq61BKUVhYiJSSTCZDOp2OHItQugvAsS0mT57M2LF7xnYqYd/67zkcLYVRYdsjkVKaTeKqVSspKixkh+7dCTLrjFqIUmzcuJFf/vKXLF++HJSmsLCIrJulpqaGZDJBYWFhnmxOiNTatm10cwPHDymjylu2ZUd6nVobvmYqmSabyTBwQD8mTjqNwtJSPA1WC/liW8taQ8loKszd1PuhtTl+24lFO1OCxRiBsBO5RU8rkLaRpYl/77u9sWmz/0cLQ2i+0LhaGcVJKUhYNik7gfB8tBb4QmJpEcgumJrc8V4YhdfQVFVV8twzf+f2m3/FHvuMA9vC87IYeUzDW5s+7R1OPuVkZDZLZlMNIraES4gm6XjITkpBIm1jKgvbSAS29NHCaFnm1AxstJC4njISSVqCL4Mq4j7mLppbBYLKIFh4wHvvvYfyXXYbOozS9h0w8kwBEic0Ch+QaGVqdW5YvxF8jVdXh8pmDW8xbGttKsqY8W1+bMdB2BYyRI2ESZ9RQUnKbb1gfZstvpgqTFsIV/P+2+/x/YMPCuo0W3mfr6qqYsaMGWBZaOUh3CxdOnbkoEPHo2UCbUm08hFobMvGsWwSto2nNZlsJkINAcrKyqivr2flSqObunLlysjB8t06Bg7YibFjxoKwok0JbFuHPd4mzTl9m3Mottq1EGb6K959ZwaDdhmItGx0gLiHZy8oKGDZsmVMnz4dBwvf9bFsCzths/e4PUklbCzHRkiD1IXX7fs+ntYoz2t079lsLesrK1mzZi2ff74AtHFAHSQfdGrHQd8fx85DR+IJI9H23xhCzXEY46/jKOTmhP7bHL/t1LZ3/kib/fcs3J0r5Ufohu3YKOUS8Um1IMKlYg5NfAGSWvHEX5+gc+dOHHjwD7ATCXzAsnQUjhUIunXrRjqVJrupmmw2G4nvtjRFSykpLCoErQIEKODzqLA0nPlPSoltWRFvTqtYVZLNNYTSgZ6gsblz5yAE7LnXnk2G9HTgmAkBdXV1zJnzCU7CpkOnjhQUF0XtEt/URd/FbPCUCpwGgXEmtRGRlzKf77i9WVN8sJqaaiorK+nZs2fQgPlo6llnncWsWbOY+tJLOJbETiZIFaaZNGkSuw0ZjpZG/FuYA0bbl1D6GXLzbXj++vp61q1bx9NPP80dd9zB+vXrEQgWLliI73vYwoq+vc2drRiHreF15gTTRcTZ3dKs5y2/HkUmk+Hjj2dx5hlnmDCr1oRVCKWUJBIJrr/+eo499ljWrFyFdEBITUGBwznn/tSUvLTMhq4hH7OpBI3w/rPZLHV19Xz44Uf87rf38dprr6OBmrpNfPnFAnYeMhSBkW8yO6hti5DEry1OHRBCNBl6bopqELc2PGc7toadvs0JbLNtZVLKIKsXQh1EOxC9bpzYazg6nudFHB7P86hcu5YZ099k0hmTsJI2Wmhsy4RNHcfBCkTeCwsLcBwH3zOhIHPE5q8rdlojy0L+oheGikLgz7Is0ul0zjkMKv+En2nOtAIv4ChWVlYya9YsSkuLGTJ4cKPdutYa5StTsUgrXnvtFT5f8Cmen+GYH/2Q8vL2xpkNv9dEgrSvDCoZCo1rnUsqyX2pzUJO2NIlX1NaWkp5hw4AubbF9NeysjJuvfVWdh04EM/1QNosXb6SCy64gKVLFqOVh/Z9lO+bfos2HNCgPGZTTkYymaRr166cc845PPPMMwwePJhkMsm8eZ+yZvVKtA7rRwv0Nq6fqbWOxlxdXR1Llizh9ddfZ/bs2RHHLZ7gsq2zwqWUfL3kazzPo3fv3iHzPM8Z1VozaNAgfve735FIO3i4+MJj9do1XP6Ly/hs/tyIXpLTBcxJ7zS17glh6ooXFxez777f46GH/sCUKddiJWxc5TJ79sdYQiO0Iiwb+98wz/PIZrNRolzF8hXM+WQ269euM5tKX5l/g/uM329Da3P8tkMLO3vY+RtOSm3WZlvLogomlgzKMBLNk5tD4EIidjhp//WxP7PnmN3p3qMbCh9hCYjJ2Zlwh6CgoICCggKSqSTVm6oD1Kvpa2vq39ASyQTSktGCY6rzmKxeGSA75ivCfK7FMWQWbilthJAsWrSQVatXssMOnenXf+dYdnHoTBIQzaFiRQV33nk7QihGjhzCCT/5MQRlMFWYVtyE2baF4zjYjoNWxml1bNuglC1c6fZgDR1tKSWzZ8/OSX1I0WjhFELQo0cPfnPXXZSXdyCT9RGWzbxP53HLr26krroGz/XwQ56fCCo/NZhr43Nu+OP7PgMHDuTWW28lnSqkqqqKyg2VaHyU9lvcUGwti6Prn376KUuXLqVnz55Mnz6dyy67jLVr10bt8N9YL3zfZ+HChfTu3Zt0kCXdsCxmiHaNGzeOX996G+nCYqRlwrvz53/GtVdfS9XGjY2+19Ca+5vWkE4XcOaZkzlt8iRqMi5rVq9FIrACUfdtPZjiSJ/jONTU1DBt2jSWLl1KbU0NN1x/PY89+ijZTAbf80yYPHDOm7M2x6/N2qzNtqmZEoumHrfhUYuI/9eShROebdu8+847vPj8cxx91NE4SQfXd2kIgISyLKlUklQqheu6rK9cb+rZtsLiAufNTZq+8lG+igFsIiiJ2JozGK1BpRTT356ObUkG7TaQdu3aRdffEBXauHEj1157Df/+90d07dqZq665kq7du6Il+JtZcxzbMShrLEyXSiWjWqRtmz1jWivcbJb58+ez6267RTXfm2oerTW7j96dKddeRyKRQguLrOfy3HP/4J6774SgvwIGZaXlZxQ6L7ZtI6Vk9KhRXH75L1lRsYqFCz9HWub6ws9uSws3aYsXL0ZrzdixY+nbty8TJ06koqKCe++9FzDjBPIzkreVTZs2jREjhjf5MLTWkbi6ZVkcfexxXHjxZbgeCGEjpc0rL7/GVVdeTU1NzWadodDiTqBxtiySyQTnXXAe/QcM5KMPZpGtyRpeaJQute0sPi8Y7c+Z9O7dm1GjRjJq1Cguuugi/vDAA7zxr3+FjI7NcvzaHL82a7M22yYWOm4GKcMkWfg+vtZ4aLwgszwOZ4R1ckP0Yf369Tz88MOcedZZzJn3Kb+55x4WLlyElJYpO0Yu5FNbW8v777/PNddcwxdffoGQFq+//gavv/oqvusGsU7CosCNLJ1MgxC4gWMnCVEZiVDgo1G+h48C4ZsDCY2dEIGgbJhaEQvXKhX91NXXs3r1Sp77x3P86eFH8FwXSzhUrt9ATU0NmzZtoq6ujtraWpYuXcrf/vYUE448kmf/8SwH7Lcfzz73PCNH7h4Q/hsvNw2DTqEemZvxMDnCGmHJoG759o355fPZoGLFcjzfpWfvXua9JmqUSymjuuc//smJnHfe+UEfFNTVZ/jD/ffz0tQXUK4b8fzi/SCuAQe5cG8o9BxqRx59zDH07NmTTz/9LKgL3USq+5bcK0ENYqXxlKK2thrPM9zXUN0BzLVZlsW7777LFVdcwcaNGwNKhsWYMWN48803qK2txbIkvudtdR27+FjRSrFhfSVe1qVf/wHRtcY96RC1DSMDyUSS0ydO4qSTTsb3gxro0uGxxx7l3t/dQ6a+NgrF5+67mTYLHKccE0XQsbwDP/7JyaxcU0nlhqpYClrTDpbWhteso2dvEsU85Zv3w36hzH017CtRW2iF67lIy8LXikcfe5Q///nRaOPcvXt3unfvxoy3p4dnNrSXFkK9bckdbdZmbbbNTGuNTFikUgkspbGkxvV9PEujhDRZrNpUVNPmNxRm4vvqq68477zzmDdvHrZtU9alC39/YSoLlyzlnnvuoVOnTuYcmEXj6quv4qWXXqK6uprS0iJsili6vIJfXHYZ13s+hx1xBCCaKo4NCHRGYSeSyGQKECSEyQYUlo2lJFlLkE7YpIscZDrIj5cuiZTASTiAgxYqyOzNcceklNTW1nLDDdfz2fzPWLF8OcLz2bnPAObMXsDFl1yGZVnYtk0ymSSTybBp0yZqamoYPmwYU669lrFjx5JOp6PFyIppE4aZ+jpPWkLjuR6e66K1BKnxtU9GeTh2AvFfy0f89puFZvHCz+myQ2eS6QQhfyDePnFqjJIKR2suvOBcPv73+7z55ptgJ6muq+PWX99Et86dGDl2D/BNmyMJaj9beShMc1pwnbp24bobb6Jbt26AEyB+Pt9kudYaMp7LF198waU/P58rf3kFQ0eMxnYSQR662TZorRk2bBjLly+P0DStFMmEjedmcWwjg247FlsrPSgeYo6jcssWf0VZcTu6dOlKxvNJJpMInY/GhW1oWRba9yktSHPtVVfy5eJFzHx/Jr4l0L7Lb+68g5KCNJPPOAstbbLaJ5WwsZt5Brlnk7s/x4fDDz+cZDJJsrAQhM4bgw3N812ENmN1+fIKPvx4Flnlk04lcKSgrqYOadkkrAS+r/C0i7Rk5IAPGzaMdu3aIYRCYzak0knw/R8cCH4WLI2rFLawkAkbK2GbCaAVqGab49dmbdZm29S00ijfN2T5INFASmkcEJHLXo2SeoPddo8ePXjggQfwAnQhDC2lUinKyspyxw84WhdccAHnnHNOXvUD3/cRQKdOnfC0b+oF03RdYEsGzlDIzQqPT0AGFxILI/OhtMlEjibZqNZw44VEKUUqleJnP7sgcgSFEFiBYLOKaQOGyI+UklQqRTqdzqv2kBcKjp+kYdibHIJih6K0QXvYyiQubC4c9L9sce1GAcyZM4chQ4flIdAttY0QgpKSEn7zm99wxBFHsGjRIhLpBJ8vXMgll17KY39+nC7duxuEVcpWhUXjUiOHHHIIkKvpHKJA3+R5eZ7P7XfcwbQ33mT+hAmMGDkm6r9x9Gvw4MEMGjQoR3uQgrlz53LggQeSSCQMZ3cbCEvHaRZKKd588y1GjxqFkBLHkmaMCCu42iZCv8G7RUXF/P73v+eoo49m/uefYdkWdXV1XHfd9QwYMIh99tufpC0b3HXrrq9r166ceuqprUpskcF9aAG1tbV8MmsW7330ETOmvUE6aULRBxzwfXYZMAjbsrEcia981q5dy2uvvcaGDRvYa6+9uOH6a+jUqTPCtvF8xQknnIiFj6c0trSoqa6hoqKCCRMmmMpcAfe3JZHpNsevzdqszbaZaW000qygGoZZvCRSCFw3g+/7OEEYxKiOaDNhBhNXeXl5hDyEoYu4HhfkFszOnTtHu2Uw+mxeqOAvLbQ0uIbdBOJnwmxG8FgH2bDG2RNBXVtltPI8n0zGA2H0/Mw1CbRPKOdM3IsNFzEpJeUdyhuV5IrLZITvQy58FdZ+DUnsDfW6mm/34ByESBMIYTKr/Uxmm2dkftstzpuqq61j5coKftjvuFy7bIYnFT6bbt26cdNNN3HWWWexbv1ako7NnHmfcumll/Lb399LqqgAIRLRd1o6Xsj3i+tLhu/9J2HVCEnDjJ233nyT5559lnQygVtT14idJgR55w43TvPmzmPZsmWcd/75hgIhpSlt5mydUG9DqZKQtvHFF18w/rDxpq210UYM8L4W79myLTp06MCdd93JaRMnsmzpEmwhqK2r52fnn8+Df3yYXYcOJplMNwq9t2Rbns0ccJl9RZ8+fbj8l5ezat16Jhx+CF98Np9TT/sx1910I46TRAiJ76tAtFoxefJkzj77bJ588klWfP0FjzzyCJ279URo8D0jOSUtiVaaF55/nq5duzJu3DiTSa602Yi2cfzarM3a7L9toRSLhUB5Pq7n4WnfOFi+CpIpZJApG6P6xXb+IekdcoujZVl5pZXiXJ8QNZOWhRAySnAQMkQv8gWW41yvmpoastksWTeLVgrPc9FKk/FdE0r1fIQv0L6gpjaDrzRaQX19Fs9XaF9FQtFxuYiobFSA8OngHhtec/ideEgwvLeQB7YlpaK0NgsAIig5FSCAYfu2GYCgYsUKHCeRk3HZTIJP/DlJKTnwwAOZMmUKdjJJxvXx0Lz40j/5zd13UV9fm8sC3wyCGEd1Q/kjIOJrbWmZMKU0vm+eeXV1Dffccw/V1TX4GZdMXb3JVM/jiuZLnFiWRU1NDQ89/BATJ06kb9++BjEPrm9bbB7CjVBFRQVCCLp07ZqHkrdkYRlCSxp5p5EjR3L7bbdTUFhExvWxLJslX3/NLy67jFUVK0Aro/OpVDRXtXj8cG6JjdGW+0nAs7WkmY8QJByHDesrSSYc9tprDxK2Cc8qoSNlACEEffr04YwzzsC2bT7+8ENee+lFRFC32LIcLCuBVvDVV1/x0ksvccUVV1DWvgxfK3Rsnmju2qxrrrnmms09jDZrszZrsy01pZSZjG1BUTrF2N3H0Kl7N3wsEpbNmOFDGRpeH4cAACAASURBVDJkCJbt4CuwpEHMjBRG/gIcl8OI/x4umI3+DtEiIDHInSVkRMiO6PIRKqLZsGkjfbp2Z/Ree1GQTFPvZxHaZ8/dx9Cr944oLchmsmTqM4wYPoKd+++Cj6a6ZhM79ejJnnvtg5VIBjTCxvwwgrBZ/PeQS9bwXuP301q5pZxItcAXoLQPboYDx+1H15498SRkauvYudeO7D52d+xkwjje26mZhV4z7a03KSsrY8iwodi2s9k2b+r9gQMHUrFmDbM+noWQ4LlZPl/wGZ06d2L4sOEBmtO0blzcGsq8xJ2NLXXWoyQBX/Psc8/x6fz5eMqndt16xowYyZ7j9kVYMuKEho5iiC66rstf/vIX+vfrx6Hjx5uxZFnowBEzFIit13/ijuRrr71GaWExo8eMwQqki6SIVfRpqi20oTCImGpA79696NS1K2/+603cbBZbCNasXcWiRQs59NDDcJxE1E5xx7qptg4/szmHL36JQshos6mB+Qs+597f3EWvbjtw9rnnUlbeHmlLs0FDoGOoouM4PPPMM3i1mxi0yy7s/b198VXgSEpBXU01Dz7wABNPP52+O+2ElJapeyRl5AQ324f19o75t1mbtdlWt3AXDeALj4SQ+K6Hdhw8JAkhwc0AAizj+DmOhdQBOTk2XzU3RTWc1Bry4OKho6Y+H15naFlcEi54UiK0wJMKSytsBEYb1ThVtiVBK3wNntBIoUloIyGhLLPwNLUc5mfd5l6ZKf+bIXA6yNo1ZdwkntC4fpaEUlhK4qJxLUgKG6mM6LS0nTyR4u3Jwufuui6/vukGJhw1gQG7DMSynaCftBxODP8N+7hSig01NUw6fSKvvfwyjhRo7VParh133Xk3hx1+hKE4WFZQFrNpx6KlvtrS+42OheH0aaVYvXIVV1xxBWedezZXT7mWD994nTMnTmTKLbcjHTvgsxoHMbwfKSVvvfUWdXV1HHDA/iYE6fvm+gNE3SCEWyHcG2TYKqXwfA/f9bjh+hv48fEn0H/AALQlgqo5ViChQpMJWlqpaBwpNH4wB2V9n1t+fSu/ueMO8DwQRhT9+BNO4Fe/voWCwiI838cOROAJNorNX+7mOaDBBcW+I/C14v6HH+LS885l37334LG//o2i0lJTFxgBCpSvDB3D95kzZw4HHHAAju8y5dqrOf3Mn6Klg9KGJvPCc8+x4469GDx0KEJKNlZtpKRdqeEq65ZRv+1z1LdZm7XZNrcItVAWSkuUsBFKYCuNBLS0wbIRAhKONHO5FI3WxKbQsKYms4bvh69b2vlG6I6UONrGD1BChKnNKYWNljYKsGzzvkIF5bnAEQKpBUpaaEuYy2/OUcVMuOZHRD9bI7vWpKwEyIEAG0FS2Ajp4AoBQuIowwlCSrSwtnsRZ601GzduJOMpdujeCyFtaIUuW3wjEkcH25UUc/PNNzN69GiE5aCUpKaqjquvvIKPP/rAZM5qH6V0npMXWlOo9ub6fHPXp7WOOLV//uMjjBk2nIED+mM5AiU1lVWVKLKY+tIgtOkbYVj5iy++wPd9dt99d+pqa6muruaTTz4hm8kgpcRz3a1HFwj08ERQ5WTtmrXUbqiiZ6+eYIcIfpAFFuRUNWUmeUxAIGMkhcC2LJKJJOeeex7H/ugn+CJB1gPbsXnmqSd4+IH78N36oAKQxsffrL5oq5+FNs6c8f80WTfLB+/PxPddho8YSVFJKRobtIWlNCJAFMMqKTNnzjSlIRNpBg0bjcLQWzw3w8z33qNn714M3G0wSkNdXT0LFywCH8NFbqJ/xa0tuaPN2qzNtpmFyRZxmYZwNx2GlL4NQYcwNBwiYPHQWpyUL2UOQZRBtmaYdbk5Dta2ZtU1PH6YoZxXlS5AVLfjCC9gnrXv+3z55Zek02kKCgqAzQvfht+FXJJR6KwpNDv26s2UKddx/I9+RJXr4fk+S5Z8zZRrr+Xue+6h1459TOpPa1Gj/8Aix08p5s6dw/zP5nPHnXfg2Am6dO0GGjZs3EB9XR1FTjJ2Y+a7S5YsYfLkyUgpqaqqIpvNINAcfPDBDB8+3GjgbaMxq7Vm9uzZlJSUUFBUFLlgYZLTlpqUxqFtV1LM9ddfw4plXzN9+ptkMnWIlMPtd91FYbt2nHbaRNBgafMct8Zg1cTqfGuoqqpizqxPSCUTDB8+nPAkYSIWiCjsvHr1ap544gl83+ewww9jyNChUcLb1KlTmTJlCsNHDEcGMlBr1qzh6KOPZsSIEVEyUEt9uc3xa7M2a7OtbiE5HHLOX/xv4ftbgmRsawsX8IamlMrVFY5ZWFUEaPL+/r9NxBzseOYkNK8ht71YGOqdPXs2e+yxR5Q5viXPLnz2IffLzWawLZtRI0dy9913c/bZZ1NTXY0lJB999BEXXnghD/3xEYqLS5DS2mrPIE5piIsAZzN1/PXxx/jhcT+kpF07tJQUJArQCtasXksmk6EwSkfKOcNr/q+9Mw+zo6rz/uecqntvb+l0tu50dzpbZ99YOiGQRYKCOAiCI5AXBeaVwXHU0aAjDigBfSRhU0QYEBgR52WZV3kHRxGEILJkT8gC2ZrsW2enO733vVV1zvtHLffeTifpziJpOR+fPDe5fW9VnaqS+vZv+f4OHqSqqiqj09bvvLrooov8Rqzg/w+nyMYvq84WYPXq1Uy/8MIoChgeW0in6l0z6vFC1+feRUU8+OBPuHbmtezYvp02p41kYyN3/eguhg+vZPq0GaBtfxTbqSAQdMr/rZLt27ezfcs2+heXMHrs2OA4g5UrjacVntIkk0nmzJnD0qVLufTSS7l7zhzseAwrZpNMJmlNtvGpSy6O/psjhKCoqIgJGTO/M0tcOsIIP4PBcMrpzH+ozxSBdDyO9oA+04+//fGdSSL7o0YIgeM41NTURJ55nW2g6Oi8AiTsOCqo67riiivYum0r9953HyrZiuM4rHh3BVs2b2bc+AnYdnbU+1QQ+VYGx7Ns6RKSyTYmTzmfINtIr569QWtc18FxnKwyg1BAnn/++UyePDnjfPj2RuH204LjFB14GEFViqamJpqamhg1cmSWqOzqfZv5eRlaTUvFoMEV/PznP+fmm7/Kvn27Qadoa23i6V//ksmTp5CIxcE6VdH5oF5ZClKuw7vLl5NsbmHg+FGUlJT4DT924E4gwHVctm3fwUMPPcS8efOYNWsWt9xyC7379A4ihxCLx7nui9fxxS99yV9nsNbwF5nwl9TjRa6N8DMYDAbDx46dO3fS0NBASUnJyW8syA5KIYnHYjiuyz/87y+zes37vPaH3+O5Ljfd9GXGjh1LmNKzT4MJMvgCtq6ujl8++QTf+MbX6VHYI2hesOjXtxjX9WhtbaW1rS0QCBnL6EAwZP47bDyQp3JcW1CPKKVkx44deJ5HcUlJhrP7yWzbf/ErNxUIxeTJk7nnvgf42j/eRCqZYvDQCm65ZRaJnARKi47KjE8Ipfx1ef74DhYsWIh2XZobm3jyiSewcwoQVgzLkiinjffeX8Pyd1dwwQUX8PLLLzN06FBisRiu5yGkCPziw8iuCkpm0hHRMAPRKXPpU7A+g8FgMBjOaPy6t/R81I0fbGTkiJGnNgqq/akJwrbYvWc3O3bsJJly+OL11zPr298hFo9HHn2nrk5OR2LATxsqfvfii4wcMZJzq6qwLJtYPIaUgtzchG95Iiy8pIPWfqRNax1YgGSWYig8z8XzPDxPBVYp0p/a4Xu5nJKjj9KSSrFk4QLOP/88Yon4cX31jnlGdLq+Tinf8Ng3n7bxlGLrlm0o5dG/uITZs3/I2HET/NpFcerqF6UlUVrjeoq6usOsW7eGnj178LmrrqKoV2/y8vLIz88jNyeHRE4uAwcNprx8ACtWrGTevHk0NjT410MGXdSBkbUbeA4q5XuhZk6FOV5TR4iJ+BkMBoPhb55odKCvbnhv9WouvvhigKzmoxMVgo7n4WmFiNt8eLiOH9wxm3eXLOWKyy/njjt/RM+i3ifkx9c5VBAFgppdO3nnzb8we/Zd5CQKfGGHB1LRv6wfSgr21OynqbYRhMTRmhgarVwsyx9lppTLG2+8wahRo6ioGOQLQx16C4pTGjLyZ99Aqq2Fmh3bmPGJT6AEiJO0ismsedSeQGs/lPfHl17iJw/MRUnF92bP5rIrrkYg/ek+p6TH3kdp7YturanZsZMDB/bTr18BN978j/QtLgOyywscT1FTU8MP77yL22+/nZUr3uWRh39OQY9CUOmO37hl09TUxIIFC5gyZQp5eXlRc1lnvCLBRPwMBoPB8DEg0+w7lUxSV1dHv+LiTkdJjoUOIjMEHd6v/PFlFi9YSJ+iXtx00z/Sp0+fv1p95aKFC8lJ5FBWXkYq5USemuGUipzcHJqbm2lpbUVrv1O9fTNAS0sLDz74IG+++eZfreu+sbGRlpYWSstK/XaMk9xvuhPfQgrf1PjggQM89dQvaWlpYPr0qVx22WczhNKpE32ZaK3ZsGEDTY1N9OrVm6KioqzjS38OiotLuP6GLxGLxXjzzb+wavUqlPKy7l2ArVu3ctddd7Fz584j7H5MxM9gMBgMBrK7X2tqaojFYpSVlvpRlHj8iOkNXUVJf/Tgm2+8wf1z5pIQkh/+YDYXf/KTfjdsJ6xiTpZDhw7x2GOPEbNtvn/b7YigjlDaFinXofqDD/A8j4KcHNpaWwGN8lUWlmXhui5SShKJBF/+sl+TaNsWSp3GDvzARqZ6wwaKiorILyhAa4UQJx/xAwgzxs1NTdx1xx0sXbKAMeNG8Nhjj9K3b9/TNn5OCIGnfLunhQsXolFMPm8SsXg8yJS3O58aLEsyYfwE+vfvz4H9e5n32jymT7/wCNPw4uJirrvuOnr06HFC960RfgaDwWDodoSeZx0Jkg6nt0S2IbBmzRrGjh1LLB4nrJHriqhJi4p0HZqnFOs3bODfbr2V/btr+NdZ3+aGG29EWpY/Q/UY4qL91I7MTs3MaE/7qI7/mq73+tWvfsV5553HzJkzycvNx9WatmQSIQVtqSQ1e/awdeMGnMNNNDbUR5E1z3OjYRhh48nMmTMDixeVtc+OzlP7tbVfy7HPoX9tli9fTlVVFbZl4aqTE8mhpU3oj9dY38T9c+/m/z3/XwysrODRf3+E4pJ+R3Qqn2q0hqbGJhYvWYJtWUybPh048v4E0Ch/hrnnBlFaxfr164M1pG2YlFIUFxcza9YskskklmW167Y+/nkzws9gMBgM3Y72wu94EalQXHmuy6pVq/j85z9/QpMxwm2FYksIgdKKw/X1fP9732Pbxs188dqZzPrOd4jn54GEmDj+Q7kjYdUZQeo3X3hs3rSJtWvXcs+cuQwoH4CQVjCOzU9De0qxZ+8eLMsmqRT19Q1p4/KgQVR5flq4ubmZwsJCYrEYSnmAOK44yrQUgWPb44Tnz/871H1Yy+ZNm5j5v2aiAcuyT6q1NlOIOl6Shx95kP/81VNUlJbx0E9/xoQJZ2NZMToernjqEEKwb98+dmzfzoDyckaMGgVaRZ6FmZG68PzW1NRQW1uLbdtUDh3qC3/SvwC0trYihCA3N5dEIoHW/lzfrty/psbPYDAYDN0SpVQ0CeO46bpA3NXV1VFfX8/gIUN8C5bg4dvVWj8pJZblGzE3NzXzg9tuZ9Hb85l09rnMnTOXHoWFaAuQnau/6lB8Zhgyd7T2cHuO4/D0009z9dVXU1pWGogmHQk7/186mPRgIW1JY1MjiPR+tfbNg9966y2efPJJ3njjjajppTPWM101Wc78zK5du0jk5NK/tNQfK8jJVdxlTld54YXf8Ni/P0RuwubBB3/KhRdehBQxNOKI8XidIx09PhYq+My6detobW6mcuhQBg4chBDHSC1r+NOfXsV1XeyYzYUzLvLHMQZTgg4dOsRLf/gDjzz8MHv37onuwa6eeyP8DAaDwXDG0n4iRVqgCaS00MrFS7YSzmg4ms2I/6wVbN22mfIB/SnokY/vqdexsDrasYSfdV03ev31r3/N888/z5DKSn767w9TVNwXLH/GrOiklozEita4SqGVF8z3VUHTSDq9G0UvPQ+hBAveXkDtoTouufjTaCSeBi0BqSGwKJEIEnaC/MJCmnSS/Q0HEMrBUi5IiQusWLmSIYMGcf6kSSxcuBAEyKD2r6PJNVprPKXw+4Y1SdfxPQ2VBk/5az/K+j3PC44LVry7grPOqUJrCylttOcd/YtHJThXgS5zHMW8eW9x23dvI2bHufkbX+eiyy4DGQNPIo829LcDdHhdPA/luWjtopWHpzWZd07WvSokrSmHxfPfIYHmgqrzyIn3QAkbpB/F8zwP5Sm0p1DKZX31ev7rN/+F4zjMmD6DT170qWhAius4zH/7TWZMn4qbbGbt++9Hti6ZQtL4+BkMBoPhb4JMceZ7tAm2b9vGe6tWYcfsQO+JLL2QbdHiR3WWLl3KeedNwpLSf6+TFhjt6/DCpoAXX3yR+++/n+LiYn720M8YP2E8YcFc5haPV+/mT3DwhWhbays7d2zHcVJBWtA38M2s7Qu3VV9fz3PPPsvMa6/FtmO+j6CUwfnwlZfWGtdVJBIJehT2RFo2NXv3gNCIQNAIKenbtw+DBg1mwfwFXPiJT0RzeTua/Zp5LsLJEtKyWPP+++zfvz9IgR87wgmQSiXZtWsXEyachZRWWoh3seEi9O0LZ+MuWbyUO++cTVuyjev/4Ub+ZdYssKQvcr1s+56O/p55XXzBrxFC0tTYSMPhw0EK/OhCSylNY2MDy5YtJW7HqJpYhUBGYi36biDgG+oOc9/cuezYuo1Ro0bxo7t/TCwngcaPHrYl2xg2bDh2zKZ6QzWjR4/Ouh+6FK3u0pk1GAwGg+EjIIy2eZ6H67o4KYcf/ehHPP74E/7PVWBgfJRIkZSC2rpaDh48yIiRIzNSfJ2f/5ppnKu1ZsGCBdxxxx2kUinuvPNOpk2bFn2+q76ASimcVAq05v/8+j/57GWfZdfOnaA0KBA6+IzjRK979uzh9ttu55133mHPnj0kUylisVhk6ut5Ho7jBsLPYc2aNWzdsg3H0ezfd5C62jq8YFtaK0aMHEldXS3btm1jzJgxwXmTWT6H7Y85isIqzcFDh/jOd77De6tX4wXeckcjFIwH9h+goaGBYcOGYVkWlmVhB7OTu4KnNI6ncFyX6ur13DLrm2xYv5bP/N2lfPfWW8nPL/BTo7YkJzfe6WuSXiM0NDRwy6xbuHP2bFKOg24XKM66R1IpFs1fyJZNmykrL6OktBRhWyB8I+zwHLS0trJ69Wq+fOM/8MofXmLc6DH84he/oHL4MKxEHGFZIAQ9evRg/FkTWP3eexT2LKR8QHm0z64KP9PcYTAYDIYznrDTVSmFZVksXDSf1+bN45zxY0i2tZFbUJgOEnWgtbTW7N2zh2SyjeJ+/fz6NhlUkh1Hm2Wm08IU5e7du7n11lvZv38/X/nKV7jhhhuiAv32FiGdiSaG1B+u59lnn6OosJCy0lKkkKiggQTti6n6+nrmzJnD66+/zr7dNWitufvuu/nLW28x5565lJWVkUylsKRfg/jqq6/yzDPPsXTpMj6srUd5imXLVvBPX/kqP/zx3QwbMdoXd1rz+uuvM27cOH+ebAcp9kwxp4Poop/y9XjmmWdYsmQx77zzDp/+zGeO2ZwS/mzZsmVUVFT41iSdOFftr0uUIlcaTytqDx7iq//0T2zZ8gEXfWIqjzzyMEVFvbJqLY93LTLvNSklAv+6L1iwgJf++EceevAnfkOF9AOT4YQQz/NYuHAhixYtYu36jcx/520OHz5Mqq2Z++67l/HnnEub4/p1eYGNzuaNm1i2dCk98vOZPXs21994I/1KiqPGnHBUG1qSSrXx8iuvcMVVV0YWQZDdJGK6eg0Gg8HQ7clsQJBSsnv3br5/++0oz2Prlq3s2LGDUWPGBWO5jv7gW7lyFRMnTowelCJj+8cjFBlSSmpra5k7dy7r16/nqquuYvbs2VEDRKZA6qolidaaZ595jnXvv8/nP3c5ebl5vhjSfrNDKLJycnK47LLLuOSSSyjIzSMVRPqkZdG7d++sNbmuS1lZGddcczU33HADKcfDcx0sPGI29OvXD/CPN9XqsHTpMr49axYNjY3U1R9m0KDBxOPxo5+nYL3V1dU8/fSvSCRyWLt2La7rkjhKJ3CmiF65ahWXfvrTWds/kbYOpTW1dYf5/h3f5733V3H2hHH8/OGfUVCQh6cVtrC6PGYuSmNrTUNDPU888QSe5zJo8OCgqSi9yXBNvXr1YsiQIVRWjuDav/97tJcC7fh1m5aNq/x6S89zsaTFsKGVfOub32RI5VAKe/ZEBqLTsmyEFqig41oLwd59+2hoamTK1KkcPHiARCKPHj16ZJ27zmCEn8FgMBi6DVprHn30UXLz8rjic5/jxRd+w7vLlzNy9Fh/1qo4ej/ohg3ruebaL0RiqitYloXjOLiuy/33388LL7zA+PHjmTNnDj179ow+F0b72k9bOB6e5/Hyyy/z0588gG1ZTJw4EbSOavWkIKq5s22bGTNm+PvTYURI4wGO6wS2NR5W3I/4jRkzhnHjxqM1KC2J2QKtPFAOrlZY0kJpTX19PZZtkZOby9atWykbMMD/TiB6268lTAOnUinuv/9+Ro4cRXFRH9atX8+2LVsYNXYMfjysY0F3+PBhPjx0iBEjRnQpVdkRSSfFvffdywu//S1DBw/kJz99gOHDKklp5ddHEnTaBmvoSp1bS0sL9913HwsXLqBf376Ul5UhhF8j6qu/tB3L6NGjGTNmDLYV8xtdtOuPzBMCJS00ErTyu5a1jl49rXGUS8yOIYN72B+gly5b3X/gAL1790YDq997j6lTpndYf3k8jPAzGAwGwxlNZg3TG2+8wWuvvcbjT/wHjS3NvPrKn1jy1mKuu+5GdNw3UlbqSJPcQx8ewnFdhlYOR2vpp9JE561DwoL8559/ll/+8kkGDx7EQw89xMCBA4PIj8gSe+naq8yokP8airmwVrCmpobnnnuOxx9/nKaGOizLYuyEsWjb9idPCD/laHF0Lz0BWIBl+5+JBXVyR7Xfs2zAwg7WnnIcevXqzZSp0/jjK69y8SWfoqS4BPSRqevwvIaC8Pe/+x+2bd7M00//mt/97iXumTuH6o3VjBg1zBdcwkJIKxI0WvtCdvu2LRT0yKd33z4ISwYS8Xhpcf/V81QwaUTgeR5PPf4Lnn3ql5T17cMjD/yMSZOmgBDELOmfcBWc97AhIqgGzWyQSIt2idZ+tHT9+moeeOABXnrpRUDTp18lpeUDQAuk0IFNEFETTGivorUOOs1tRHDdrOhGOPKiSCDWgSSThNpSMHTwUAryC/ndi3/gyiuvorCwMPqcEX4Gg8Fg+Jsh00Zly5YtXHPNNVRNrKJm3176l5WyYsVKGurqKCjuhdYCCxkJL8uyUEqxadMmikuKyc/3bVy6gj/Bwq/fmj37TlzXJS8vj5UrV7Jy5SqclItGIUS63iqRSAQRMf/78XiMeDwB+NG9xsZ6Dh48SHV1NatWrWLXrl3YtoVWHoMGDqS0vDzo9O18/VbXU6Tpb9iWhSVz+MIXriaZTAbnKZhBDEc0aqQnbyiWL1/ON77+DSqHDuWss85CSMm8efO44vLLIBB0WiukSNdAKuXy1ptvMmPGjCha5tcMdsGIWEpc1+XVV1/lnnvuQSuX4r792LlzF0/+4gmUFCB9MRaPx8nJyUmvXPgj0mzbjmr6AJJJh+bmZmpra3n33XdZtmwZhw4dwhIQs20qhwwlnkjQ/mwfbXpMh7HOrlyooPNXa03vXr35t3+7Ddd1KSws7LJ/X4gRfgaDwWA4Y8mMyLiuy8033+z712no17cf51ZV8d/PPMeWTZuY0Hcilh0Lojvp0WdKKRYtWsTkyZNPeDzXrl27uO2222hpaUIIQXV1Nd/73vcQwgINKScZCT8hRDRVQans+kDHcYCwFlFn1QY6jovUmoEVFZT2758lhLqazusqmRG83NzcrAkckD06Lnw/jFjed999USfx2LFj6Nu3L6tWrvKNiGUsbbWTsa/GxkZ27NjB56686oTXJ6XknXfe4Vvf+hbJZBKtFBuqP+Bfb70VjaTVSeEFwimcQZxuVFForaL6xba2tuDe8NPXYcTUcRw8zyMRt9Apj0nnViEQKAlK+BG503dV0jiOE03oCI/5RDF2LgaDwWDoFsRiMaSUxGIxLCGIx2JcMHUKdizG+nXr/DRhOPkhI9Xb2trK/v37qaysBLKndXS2seOxxx5j3bp1WY0JsVgMy5LE4nHi8Xg0ySMej2d0w6Y7T23bjlKBlmVFUUHP87IEVsXACnLz8hFBDZ3neadV9EF6Ekl4jJlpy/ActCfz82HkrKSkhBEjRrJ5yxZ27NgRBKwC8a50ZES9d89eHMdhaDCWLFz78fC3FTZcNPDjH/+Y+vp6EBLbjvs1dEiSKQdPEVwjKzrP4TbC6+K6/mzcRCIRXEN5xC8HsVjMr620LEaNGo2nvK77S58EQghycnKia3Sys4VNxM9gMBgMZzRCiOjh6zcygHIU0oZzqqooKCpkxcoVXOtej4xbkQ0H+IJmz549xGIxSkpKohRwV4WUECLogPUC8SKCcjGJFEF9WruOET9KRmD+K8jLyws887Sf1tXZUTXP87DwmDZtmh8J1KF58kmewE6u71jWK+FnOvp8ZlQ2FrOYOnUKC95+gy2bNzNkWKWfKldBsaNSSAkrV61k3Lhx/jq72AjjT20RtLW1kUwmycvLQwtfyFlKIJHEcsFRCiF9k+oOVpXV5Jtejz8RJpVKYds2tm37k0u0S0VZKQOHDCKVSpGTE4Pgup7OkN/RUsgd/azT29Qn20pjMBgMBsNpJFNYQPDAc8GVmoN1H3LVpX9HTGv+73//ltKKgYCIavsE8PzzzyOl5Jprr422E6ZYj2UythL+jgAADYBJREFUHOJ5HqlUyhdmVto/DWTUCOB5biTkMo/T81QU5ZIy/K6f5s0MGyWTST9S6KUoyM8nFk8gbRuts61sThedkQIdTe4ICSOCSksWLVzENV+4kqv//kp+9vDDCDuGFjYSX/gp5XLHD27nyiuv5IILpuApHUUMj+956L96nofneRw8eAilPKyYL5SFAqEFHuBqhfI8LOkLRaV0EF0V2LYVeTKG2LYdifT6+oaoLlBrTTLZTE5OjH79SrDtGJb0u285zcIve+1H/mJxIpiIn8FgMBi6BVkPOtsDBUWFPZl20UX856/+g23bNlFSXo6wY6Q8B6E1Kplk4+pVfOmmmzoUTp2JNIV1VZndxWHNnr8NgFhWCjm9/TCadOSDO9x32DziRypF5Nnnj5nrYO1nIOFaJILygQMo6tebDWvX4ba0QY7EjgeeKq5HXW0tzY0tjBw1BqWJRF8n9xS9SikpLS1JGy2HAlkIVHDe02YyEI7t8wOP2anr9tHL0tL+Wd3Z/t898OUr6emAx+9EPtMwNX4Gg8FgOKNJj1cTWSJKCoFt2Yw/awJtyTaWLl2KHUxF0IEH3v79+1FaUz5gwBERpc6aLLevQcsUfccb+xYGhY5G2HwS1v0JIbNsRjLXfTo58hwf+edon4fMc6kpLe3PuVUTWbt2HZs/2EgiHvNtdjwPaduse38N/fv3p2dRz6jhpatjx8J9AVEtYjTJQ4SCWWdJssxrEX4+3G/mdJZM38LMe0RKO9rQ6U7xdsSxrkdXMMLPYDAYDN0OpdNzeauqqsjLy2fJkiV4roPnuvjVWoJNmzeRX5BPQY8eRzwwOys22s9DzXzN7IYNCQVDe2GZ+X4YccqMNLUXe92JcK3SgkQ8zrRp02lubmHzxk1o5WFbFtKy0EqzbNkyqqqC7litskbddWV/YdMGpMfqhZHT9gK/I5Effj/8WeafcFuZ1zhznd0ZI/wMBoPB0O0I03gIQUVFBSOGD2fN+2vZW7MXKSSWtNDAoiWLmX7RjKzvdvXhHUaHIJ0iDK1Mwu11tVw+U2CEwiIUGh110HYbtB+Hm3LBVOLxHF6b9zpIHUVpmxsb2blzJ2PHjkVp7Y8ma5dm7QxHi3y5rhtFEI8noNuLw8z3MwVl5ucyO4O7K0b4GQwGg6HbIUinWfPz8pkydQq1tbUc2LcXof3oT0tLC/WNDZQPrAi6bo+fwuyITCNorTVLly6lpaWlw0hR+20e7f32kUIhBA0NDV1OeZ4JZKfCFWhNWWkZlZUj2VC9gbraWpT2BdPefXtxXZfSsrKo1q4rQvxoaWfXddm+ffsRUdnOHHNHqfwQ31/RN3X2m3usrG13x+ifEX4Gg8Fg6HaEdXChsfPUqVMBye9/93uEkEgh2LtvL5a0KOlfcnL7CvYjpWTXrl187WtfY/ny5QBZtWFdIRQMqZRDdXU1v/nNb/jud79LU1PTae3ePe0IgZBQVFTEpKpJbNu2nXXr1vizZ6Vk8eLFTJs2zU+xCr9R4kTPYSZr1qzhyiuvZNmyZdi23WkBeOThp4Vgc3Mz69atY+6cuTz11FOB6fPpNdL+a9CN7y6DwWAwfDwRWNLGljYxKUnYFmPGjKN3cQmrV6/ESTWjVYrFixcyYcIEcuJ5nEwlfpiSdRyHQYMG8cwzzzB58uSonixM04YCJvO98P1wAkT4x9+uJOW4JBJ5FBX0YP+ObeC5WfvtbmgVdCVbgokXTqZFpdi4bgNCQWNjI2s2rGfiBZOx7HR9XWbktFP7COrvXNeNUrsjRw3n/p/cw4SzxqGUCxo8xzdndl0361q1/5P5M620bzSNpqWtlYK8fNoam0jW1yEJm0dkUF2qQHe/tLwRfgaDwWDohgQCA18glZWVM278BKo/qGZPzW5SySSrVq5kwoQJgSA7BXsMxMmYMWPIzc0FyGrUgHQKNzMyFEYlgehVa781JT+/gKFDBzOgvBxbSnS7mrLuhhD+VZFScu7EKrQQ/OmV10Bp9u7dy4cffsjQysqoM/ZkulQzu25zchJc+ulPk5NI+MJaaMgYoXesyF/WdBTtf08g6NunL0OGDKG0pD85CX/0nEAH91J3M3FJY3z8DAaDwdCt8R/8OUycOJHXX/kj27ZuQ1gxhIIhg4aiFFji5OIcQggaGxupqalh1KhR2LYdjQFrbGzk7bffprm5OTKHDoVELBaLUo9Dhgxh/PjxWSPY/Dq3tFfgyY7j+sgJppcoz6N///4MHDiYnTt30djQRHV1NaNGjYrm4J4KlFLU1x8m2dZC3759iMdieMoX1Y7rsujtt9m1axeJRCIy7QZfeCcSCdra2ojH40ydOpV+/fqh0Ugd+P9JgdQCx3GwgqG8YYlBdxbnRvgZDAaDoVsTpk6rqqrwtOad+QtwXU1x734kErkIaaG7aLvWvkbs4MGDrFy5kvfee4+mpibOP//86LMFBQVMnTo1Og7Lskgmk2lT46Bmr6CgIJgO4VuYRDEoIbKEZPdGBzNJNL179abq3Cpe/O0LrF69msWLF/OpT33q5Lbe7rps2LCBrVu3sn7Nai655GLOrpqItCQKsOIxxowdy+DBg4/4ruM4ADiOQyKRoKCgAIjsmaPZKgCu52JJEEEK+CR/h/jIMcLPYDAYDN0ay7JwXZdBgwZRWlbOG3/+C5urN/P1f/kmlrTxCMekdY1Mq5Vly5YxceJENm7cyN69e6Ofh8KuuLj4iDnAHaUYw397nocVRKC0FiTbkrS1Jbtc73ZmoYOInz+BRHmaGRd9kt+/8D88+ugvyC/MZ+TIkaesa7m+vp61a9dy+eWXM//NP3Nw/wEk4GrtewYKQZ9+fenbp0/k2dfRrGZ/jFt66oqU0k/kRhM7IJVKobRGShGlqbsrRvgZDAaDoVsTPszLy8sZN3488998Ey+lGD58JGh8EeDPTuv0NsO6vbCR4OyzzyYvL4/Vq1czY8aMLGsPx3FYunRpFEUCfwxZKEgTiQSpVIoBAwZQUVERRfz8HYBWfl1Zbm5u9+7oBcI4mVIeQkjOOmsCPQoL+fPrf+Yzn72UigEVCHlqRJMQgkmTJnHo0CE2btzEP3/1nwH/FwHH80BKdm7fQVNDA0CWqA6vQZiOLysrIzc3Fyvz/GvQgf9gykml3zapXoPBYDAYPlqEECQSCaZ9YiqLlixg9DljKSruBVKjlIMtbboa9Qsf7pZlUVFRwfz587Esi2HDhmXV4nmeRyqVwnXdKMqXSqWIxWKRmbBSilQqFXkCiiAyBr71jCUsrKAjtlv7xGl/PTGpUMof3zZkxBDqlxzg5utuQKhAgAfLOlERJaQkr6CA/IICnnriSYaPHM2AwUPwtEQ5LrZt47oeB/fv5+DBg1FdYfvIXvjas2dPcnNz08bggAz+7ghNIlGA0P49pFH4BX/+fJju1uVhhJ/BYDAYujWZAm369Gnce++9XPp3n0FIgUKfUMNEZrrWsiw8z+Ott97i+uuvJxF0jtq2HTWWzJgxo8Pt6Chd2M6YWSu09rsFBOApRVsq1eE2ug9hfVz4P02vXr0YO24suzZuZsDAgdEMZcSJdcX6W/Vr7bSA+rrDzJ8/n1nfvgWlQSiFlFZ0Xs8///yoyzqzuSOT0EQ67LQG/GhfKEoF2LEYUXdHdODdTPEFdPeYssFgMBg+5oRRG4CysnLOPfcchg8fnuUT11XC74SpwQMHDnDgwAEqKyvZvHkztbW1kZALhWX7iR3ha2YtYPpYRCQ0tABhSZSAZEa6uLsTrnv69OmMHjeWwSOG+2L8ZGr8tI6iokopdu3eheu6TJhwFps2bWL37t3ROQ+FuWVZkehrPyov897JHM3XfrKKlDJqWuHUlCh+ZJiIn8FgMBi6Pf4DWlNSXMzMmTMZOmRo8EA/8WaJTB++ZDKJ67o0NDTQ2NjIkCFDsiKJmbNhQ0HY/t/he1orlOe/5yqX2g9rWbN2LYcO17L6vdWcO3EShYWFXZ4pfCbieR4TJ06kpb6RWDyGRzoC2pWay0w0GoFfR/nhhx+Sm5vLtm3b2LdvH9OmTYvEXHsPv6PN5s0kU7Arpdi6dSubN28mriX79u6lX2kJdiJ+Qsd9piB0dxsKaDAYDAZDBpmmyVo7HK4/TK+i3th2kJ47yZRcWMO3YsUKWltbOeeccygqKsoSD10TlxrPSaERtDkeGzdvYe+unXhOG0W9elFWXsGgQYOiiFV3IhTAoSky+KnUZFsbubl5YEuU1thSYulgbV1p9tC+8PO0wnE9mhsbeO3lP9GzqIhJk8+jsLAwivCdSKQ3lESu63Lo0CG2bNlCTU0NuVaM0tJShowYTs/eRVjSQobq6RQ1q/y1MMLPYDAYDN2asPMWQOkUtmWjNUhpIUTgvHsShCKmfeQujPhFFiCdFWlaozwHV2kQFlpaoFwsEaYe7YwmkO4lKjKFXyjIIwRo6Qu/+IkKpwzh52kNShETFp5SuJ4bXZfQvqWrZB5v5gQW4SoQ4OJbxViWEX4Gg8FgMHwkZD/Gwr+nJ2OcrPDr7GOy88Ivna482pa7m+ALyWxmOR7pHomuC7/OcKLnsNPXO72jE9rPR4URfgaDwWAwGAwfE0xXr8FgMBgMBsPHBCP8DAaDwWAwGD4m/H8Zn2V9HchtFgAAAABJRU5ErkJggg==)"
      ],
      "metadata": {
        "id": "ls9uoUIlHh91"
      }
    },
    {
      "cell_type": "markdown",
      "source": [
        "문서의 유사도 비교에 코사인 유사도를 많이 사용하는 이유\n",
        "\n",
        "- 문서를 피처 벡터화 변환하면 차원이 매우 많은 희소 행렬이 되기 쉬움. 이러한 희소 행렬 기반에서 문서와 문서 벡터 간의 크기에 기반한 유사도 지표는 정확도가 떨어지기 쉬움.\n",
        "\n",
        "- 문서가 매우 긴 경우 단어의 빈도수가 더 많을 것이기 때문에 빈도수에만 기반해서는 비교가 어려움."
      ],
      "metadata": {
        "id": "g7fLQlWYHt4u"
      }
    },
    {
      "cell_type": "code",
      "source": [
        "import numpy as np\n",
        "\n",
        "def cos_similarity(v1, v2):\n",
        "  dot_product = np.dot(v1, v2)\n",
        "  l2_norm = (np.sqrt(sum(np.square(v1))) * np.sqrt(sum(np.square(v2))))\n",
        "  similarity = dot_product/l2_norm\n",
        "  return similarity"
      ],
      "metadata": {
        "id": "Li-ZqIHbEskt"
      },
      "execution_count": 25,
      "outputs": []
    },
    {
      "cell_type": "code",
      "source": [
        "# doc_list로 정의된 3개의 간단한 문서의 유사도를 비교하기 위해 TF-IDF로 벡터화된 행렬로 변환\n",
        "from sklearn.feature_extraction.text import TfidfVectorizer\n",
        "doc_list =  ['if you take the blue pill, the story ends',\n",
        "             'if you take the red pill, you stay in Wonderland',\n",
        "             'if you take the red pill, I show you how deep the rabbit hole goes']\n",
        "tfidf_vect_simple = TfidfVectorizer()\n",
        "feature_vect_simple = tfidf_vect_simple.fit_transform(doc_list)\n",
        "print(feature_vect_simple.shape)"
      ],
      "metadata": {
        "colab": {
          "base_uri": "https://localhost:8080/"
        },
        "id": "0Jd7FoclIbUi",
        "outputId": "4f5ad4e7-8ec0-4b53-c90f-080a4c1a4c5b"
      },
      "execution_count": 26,
      "outputs": [
        {
          "output_type": "stream",
          "name": "stdout",
          "text": [
            "(3, 18)\n"
          ]
        }
      ]
    },
    {
      "cell_type": "code",
      "source": [
        "# TfidfVectorizer로 transform()한 결과는 희소 행렬이므로 밀집 행렬로 변환\n",
        "feature_vect_dense = feature_vect_simple.todense()\n",
        "# 첫 번째 문장과 두 번째 문장, 세번째 문장의 피처 벡터 추출\n",
        "vect1 = np.array(feature_vect_dense[0]).reshape(-1,)\n",
        "vect2 = np.array(feature_vect_dense[1]).reshape(-1,)\n",
        "vect3 = np.array(feature_vect_dense[2]).reshape(-1,)\n",
        "\n",
        "# 첫 번째 문장과 두 번째 문장의 피처 벡터로 2개의 문장의 코사인 유사도 추출\n",
        "similarity_simple = cos_similarity(vect1, vect2)\n",
        "print('문장 1, 문장 2 Cosine 유사도: {0:.3f}'.format(similarity_simple))\n",
        "\n",
        "similarity_simple = cos_similarity(vect1, vect3)\n",
        "print('문장 1, 문장 3 Cosine 유사도: {0:.3f}'.format(similarity_simple))\n",
        "\n",
        "similarity_simple = cos_similarity(vect2, vect3)\n",
        "print('문장 2, 문장 3 Cosine 유사도: {0:.3f}'.format(similarity_simple))"
      ],
      "metadata": {
        "colab": {
          "base_uri": "https://localhost:8080/"
        },
        "id": "fpy0TvcnI8uo",
        "outputId": "492ca736-1c8c-4f10-bedd-120d15669513"
      },
      "execution_count": 33,
      "outputs": [
        {
          "output_type": "stream",
          "name": "stdout",
          "text": [
            "문장 1, 문장 2 Cosine 유사도: 0.402\n",
            "문장 1, 문장 3 Cosine 유사도: 0.404\n",
            "문장 2, 문장 3 Cosine 유사도: 0.456\n"
          ]
        }
      ]
    },
    {
      "cell_type": "markdown",
      "source": [
        "- 사이킷런은 코사인 유사도 측정을 위해 sklearn.metrics.pairwise.cosine_similarity API를 제공함.\n",
        "\n",
        "- consine_similarity(비교 기준이 되는 문서의 피처 행렬, 비교되는 문서의 피처 행렬)\n",
        "\n",
        "- 희소 행렬, 밀집 형태 모두 가능하며, 행렬 또는 배열 모두 가능함. 따라서, 변환 작업 필요X"
      ],
      "metadata": {
        "id": "tvzREjbXKdfo"
      }
    },
    {
      "cell_type": "code",
      "source": [
        "from sklearn.metrics.pairwise import cosine_similarity\n",
        "similarity_simple_pair = cosine_similarity(feature_vect_simple[0], feature_vect_simple)\n",
        "print(similarity_simple_pair)\n",
        "# 첫 번째 유사도 값: 첫 번쨰 문서 자신에 대한 유사도 측정\n",
        "# 두 번쨰 유사도 값: 첫 번째 문서와 두 번쨰 문서의 유사도\n",
        "# 세 번쨰 유사도 값: 첫 번째 문서와 세 번쨰 문서의 유사도"
      ],
      "metadata": {
        "colab": {
          "base_uri": "https://localhost:8080/"
        },
        "id": "Z4exgHEhKJk2",
        "outputId": "f90abe86-2758-4ff4-a0d9-39a762c810ef"
      },
      "execution_count": 37,
      "outputs": [
        {
          "output_type": "stream",
          "name": "stdout",
          "text": [
            "[[1.         0.40207758 0.40425045]]\n"
          ]
        }
      ]
    },
    {
      "cell_type": "code",
      "source": [
        "# 첫 번쨰 문서 자신에 대한 유사도 측정을 제외하고 싶다면,\n",
        "from sklearn.metrics.pairwise import cosine_similarity\n",
        "similarity_simple_pair = cosine_similarity(feature_vect_simple[0], feature_vect_simple[1:])\n",
        "print(similarity_simple_pair)"
      ],
      "metadata": {
        "colab": {
          "base_uri": "https://localhost:8080/"
        },
        "id": "8wkbLNlRLZ3f",
        "outputId": "1701b314-c901-4afe-e325-1d3a9f145e9f"
      },
      "execution_count": 38,
      "outputs": [
        {
          "output_type": "stream",
          "name": "stdout",
          "text": [
            "[[0.40207758 0.40425045]]\n"
          ]
        }
      ]
    },
    {
      "cell_type": "code",
      "source": [
        "# 모든 개별 문서에 쌍으로 코사인 유사도 측정하기\n",
        "similarity_simple_pair = cosine_similarity(feature_vect_simple, feature_vect_simple)\n",
        "print(similarity_simple_pair)\n",
        "print('shape:',similarity_simple_pair.shape)"
      ],
      "metadata": {
        "colab": {
          "base_uri": "https://localhost:8080/"
        },
        "id": "u-_bn73eL0iV",
        "outputId": "242c1466-ba8e-4b11-e229-ba0e91c399e4"
      },
      "execution_count": 39,
      "outputs": [
        {
          "output_type": "stream",
          "name": "stdout",
          "text": [
            "[[1.         0.40207758 0.40425045]\n",
            " [0.40207758 1.         0.45647296]\n",
            " [0.40425045 0.45647296 1.        ]]\n",
            "shape: (3, 3)\n"
          ]
        }
      ]
    },
    {
      "cell_type": "markdown",
      "source": [
        "### Opinion Review 데이터 세트를 이용한 문서 유사도 측정"
      ],
      "metadata": {
        "id": "itBfKBSYMI_a"
      }
    },
    {
      "cell_type": "code",
      "source": [
        "from google.colab import drive\n",
        "drive.mount('/content/drive')"
      ],
      "metadata": {
        "colab": {
          "base_uri": "https://localhost:8080/"
        },
        "id": "wyE17hVJOiJO",
        "outputId": "b8bc506b-7380-4fe3-f5bc-bd28838a6cbd"
      },
      "execution_count": 40,
      "outputs": [
        {
          "output_type": "stream",
          "name": "stdout",
          "text": [
            "Mounted at /content/drive\n"
          ]
        }
      ]
    },
    {
      "cell_type": "code",
      "source": [
        "import pandas as pd\n",
        "import glob, os\n",
        "from sklearn.feature_extraction.text import TfidfVectorizer\n",
        "from sklearn.cluster import KMeans\n",
        "\n",
        "path = r'/content/drive/MyDrive/Data/파이썬 머신러닝 완벽가이드/OpinosisDataset1.0/topics'\n",
        "\n",
        "# path로 지정한 디렉토리 밑에 있는 모든 .data 파일의 파일명을 리스트로 취합\n",
        "all_files = glob.glob(os.path.join(path, \"*.data\"))\n",
        "filename_list = []\n",
        "opinion_text=[]\n",
        "\n",
        "# 개별 파일의 파일명은 filname_list로 취합\n",
        "# 개별 파일의 파일 내용은 DataFrame 로딩 후 다시 string으로 변환해 opinion_text list로 취합\n",
        "for file_ in all_files:\n",
        "  # 개별 파일을 읽어 DataFrame으로 생성\n",
        "  df = pd.read_table(file_, index_col=None, header=0, encoding='latin1')\n",
        "  # 절대 경로로 주어진 파일명을 가공\n",
        "  # 맨 마지막 .data 확장자도 제거\n",
        "  filename_ = file_.split('/')[-1]\n",
        "  filename = filename_.split('.')[0]\n",
        "  # 파일명 list와 파일 내용 list에 파일명과 파일 내용을 추가\n",
        "  filename_list.append(filename)\n",
        "  opinion_text.append(df.to_string())\n",
        "\n",
        "# 파일명 list와 파일 내용 list 객체를 DataFrame으로 생성\n",
        "document_df = pd.DataFrame({'filename':filename_list, 'opinion_text':opinion_text})\n",
        "document_df.head()"
      ],
      "metadata": {
        "colab": {
          "base_uri": "https://localhost:8080/",
          "height": 206
        },
        "id": "DgAgc2yxMGgf",
        "outputId": "bcd4e67c-7879-4aac-b79b-889254a54b64"
      },
      "execution_count": 46,
      "outputs": [
        {
          "output_type": "execute_result",
          "data": {
            "text/plain": [
              "                         filename  \\\n",
              "0      battery-life_amazon_kindle   \n",
              "1      battery-life_ipod_nano_8gb   \n",
              "2   accuracy_garmin_nuvi_255W_gps   \n",
              "3  bathroom_bestwestern_hotel_sfo   \n",
              "4      voice_garmin_nuvi_255W_gps   \n",
              "\n",
              "                                        opinion_text  \n",
              "0                                                ...  \n",
              "1                                                ...  \n",
              "2                                                ...  \n",
              "3                                                ...  \n",
              "4                                                ...  "
            ],
            "text/html": [
              "\n",
              "  <div id=\"df-30fea92e-dc90-4a42-95fd-629e88659e5d\">\n",
              "    <div class=\"colab-df-container\">\n",
              "      <div>\n",
              "<style scoped>\n",
              "    .dataframe tbody tr th:only-of-type {\n",
              "        vertical-align: middle;\n",
              "    }\n",
              "\n",
              "    .dataframe tbody tr th {\n",
              "        vertical-align: top;\n",
              "    }\n",
              "\n",
              "    .dataframe thead th {\n",
              "        text-align: right;\n",
              "    }\n",
              "</style>\n",
              "<table border=\"1\" class=\"dataframe\">\n",
              "  <thead>\n",
              "    <tr style=\"text-align: right;\">\n",
              "      <th></th>\n",
              "      <th>filename</th>\n",
              "      <th>opinion_text</th>\n",
              "    </tr>\n",
              "  </thead>\n",
              "  <tbody>\n",
              "    <tr>\n",
              "      <th>0</th>\n",
              "      <td>battery-life_amazon_kindle</td>\n",
              "      <td>...</td>\n",
              "    </tr>\n",
              "    <tr>\n",
              "      <th>1</th>\n",
              "      <td>battery-life_ipod_nano_8gb</td>\n",
              "      <td>...</td>\n",
              "    </tr>\n",
              "    <tr>\n",
              "      <th>2</th>\n",
              "      <td>accuracy_garmin_nuvi_255W_gps</td>\n",
              "      <td>...</td>\n",
              "    </tr>\n",
              "    <tr>\n",
              "      <th>3</th>\n",
              "      <td>bathroom_bestwestern_hotel_sfo</td>\n",
              "      <td>...</td>\n",
              "    </tr>\n",
              "    <tr>\n",
              "      <th>4</th>\n",
              "      <td>voice_garmin_nuvi_255W_gps</td>\n",
              "      <td>...</td>\n",
              "    </tr>\n",
              "  </tbody>\n",
              "</table>\n",
              "</div>\n",
              "      <button class=\"colab-df-convert\" onclick=\"convertToInteractive('df-30fea92e-dc90-4a42-95fd-629e88659e5d')\"\n",
              "              title=\"Convert this dataframe to an interactive table.\"\n",
              "              style=\"display:none;\">\n",
              "        \n",
              "  <svg xmlns=\"http://www.w3.org/2000/svg\" height=\"24px\"viewBox=\"0 0 24 24\"\n",
              "       width=\"24px\">\n",
              "    <path d=\"M0 0h24v24H0V0z\" fill=\"none\"/>\n",
              "    <path d=\"M18.56 5.44l.94 2.06.94-2.06 2.06-.94-2.06-.94-.94-2.06-.94 2.06-2.06.94zm-11 1L8.5 8.5l.94-2.06 2.06-.94-2.06-.94L8.5 2.5l-.94 2.06-2.06.94zm10 10l.94 2.06.94-2.06 2.06-.94-2.06-.94-.94-2.06-.94 2.06-2.06.94z\"/><path d=\"M17.41 7.96l-1.37-1.37c-.4-.4-.92-.59-1.43-.59-.52 0-1.04.2-1.43.59L10.3 9.45l-7.72 7.72c-.78.78-.78 2.05 0 2.83L4 21.41c.39.39.9.59 1.41.59.51 0 1.02-.2 1.41-.59l7.78-7.78 2.81-2.81c.8-.78.8-2.07 0-2.86zM5.41 20L4 18.59l7.72-7.72 1.47 1.35L5.41 20z\"/>\n",
              "  </svg>\n",
              "      </button>\n",
              "      \n",
              "  <style>\n",
              "    .colab-df-container {\n",
              "      display:flex;\n",
              "      flex-wrap:wrap;\n",
              "      gap: 12px;\n",
              "    }\n",
              "\n",
              "    .colab-df-convert {\n",
              "      background-color: #E8F0FE;\n",
              "      border: none;\n",
              "      border-radius: 50%;\n",
              "      cursor: pointer;\n",
              "      display: none;\n",
              "      fill: #1967D2;\n",
              "      height: 32px;\n",
              "      padding: 0 0 0 0;\n",
              "      width: 32px;\n",
              "    }\n",
              "\n",
              "    .colab-df-convert:hover {\n",
              "      background-color: #E2EBFA;\n",
              "      box-shadow: 0px 1px 2px rgba(60, 64, 67, 0.3), 0px 1px 3px 1px rgba(60, 64, 67, 0.15);\n",
              "      fill: #174EA6;\n",
              "    }\n",
              "\n",
              "    [theme=dark] .colab-df-convert {\n",
              "      background-color: #3B4455;\n",
              "      fill: #D2E3FC;\n",
              "    }\n",
              "\n",
              "    [theme=dark] .colab-df-convert:hover {\n",
              "      background-color: #434B5C;\n",
              "      box-shadow: 0px 1px 3px 1px rgba(0, 0, 0, 0.15);\n",
              "      filter: drop-shadow(0px 1px 2px rgba(0, 0, 0, 0.3));\n",
              "      fill: #FFFFFF;\n",
              "    }\n",
              "  </style>\n",
              "\n",
              "      <script>\n",
              "        const buttonEl =\n",
              "          document.querySelector('#df-30fea92e-dc90-4a42-95fd-629e88659e5d button.colab-df-convert');\n",
              "        buttonEl.style.display =\n",
              "          google.colab.kernel.accessAllowed ? 'block' : 'none';\n",
              "\n",
              "        async function convertToInteractive(key) {\n",
              "          const element = document.querySelector('#df-30fea92e-dc90-4a42-95fd-629e88659e5d');\n",
              "          const dataTable =\n",
              "            await google.colab.kernel.invokeFunction('convertToInteractive',\n",
              "                                                     [key], {});\n",
              "          if (!dataTable) return;\n",
              "\n",
              "          const docLinkHtml = 'Like what you see? Visit the ' +\n",
              "            '<a target=\"_blank\" href=https://colab.research.google.com/notebooks/data_table.ipynb>data table notebook</a>'\n",
              "            + ' to learn more about interactive tables.';\n",
              "          element.innerHTML = '';\n",
              "          dataTable['output_type'] = 'display_data';\n",
              "          await google.colab.output.renderOutput(dataTable, element);\n",
              "          const docLink = document.createElement('div');\n",
              "          docLink.innerHTML = docLinkHtml;\n",
              "          element.appendChild(docLink);\n",
              "        }\n",
              "      </script>\n",
              "    </div>\n",
              "  </div>\n",
              "  "
            ]
          },
          "metadata": {},
          "execution_count": 46
        }
      ]
    },
    {
      "cell_type": "code",
      "source": [
        "import nltk\n",
        "nltk.download('punkt')\n",
        "nltk.download('wordnet')\n",
        "nltk.download('omw-1.4')"
      ],
      "metadata": {
        "colab": {
          "base_uri": "https://localhost:8080/"
        },
        "id": "TBWhw95MVagn",
        "outputId": "ba08a8c4-5c3e-4743-bb0b-fe85b388c8f4"
      },
      "execution_count": 53,
      "outputs": [
        {
          "output_type": "stream",
          "name": "stderr",
          "text": [
            "[nltk_data] Downloading package punkt to /root/nltk_data...\n",
            "[nltk_data]   Package punkt is already up-to-date!\n",
            "[nltk_data] Downloading package wordnet to /root/nltk_data...\n",
            "[nltk_data] Downloading package omw-1.4 to /root/nltk_data...\n"
          ]
        },
        {
          "output_type": "execute_result",
          "data": {
            "text/plain": [
              "True"
            ]
          },
          "metadata": {},
          "execution_count": 53
        }
      ]
    },
    {
      "cell_type": "code",
      "source": [
        "from nltk.stem import WordNetLemmatizer\n",
        "import nltk\n",
        "import string\n",
        "\n",
        "# 단어 원형 추출 함수\n",
        "lemmar = WordNetLemmatizer()\n",
        "\n",
        "# 토큰화한 각 단어들의 원형을 리스트로 반환\n",
        "def LemTokens(tokens):\n",
        "  return [lemmar.lemmatize(token) for token in tokens]\n",
        "\n",
        "# 특수 문자 사전 생성: {33: None ...}\n",
        "# ord('문자열') : 문자열의 아스키 코드 반환\n",
        "# string.puncutaion : 문자열의 모든 구두점이 들어있음\n",
        "# dict(key, value) 형태로 모든 구두점의 각 아스키 코드를 key값으로 넣음\n",
        "remove_punct_dict = dict((ord(punct), None) for punct in string.punctuation)\n",
        "\n",
        "# 특수 문자 제거 및 단어 원형 추출\n",
        "def LemNormalize(text):\n",
        "  # 텍스트 소문자 변경 후 특수 문자 제거\n",
        "  text_new = text.lower().translate(remove_punct_dict)\n",
        "  # 단어 토큰화\n",
        "  word_tokens = nltk.word_tokenize(text_new)\n",
        "  # 단어 원형 추출\n",
        "  return LemTokens(word_tokens)"
      ],
      "metadata": {
        "id": "EZW9U44WTRXy"
      },
      "execution_count": 48,
      "outputs": []
    },
    {
      "cell_type": "code",
      "source": [
        "from sklearn.feature_extraction.text import TfidfVectorizer\n",
        "tfidf_vect = TfidfVectorizer(tokenizer=LemNormalize, stop_words='english', ngram_range=(1,2), \n",
        "                             min_df=0.05, max_df=0.85) # 빈도수 0.05 이하, 0.85 이상 단어 제거\n",
        "# opinion_text 칼럼 값으로 피처 벡터화 수행\n",
        "feature_vect = tfidf_vect.fit_transform(document_df['opinion_text'])"
      ],
      "metadata": {
        "id": "MCUWSgDxQcVx"
      },
      "execution_count": 54,
      "outputs": []
    },
    {
      "cell_type": "code",
      "source": [
        "from sklearn.cluster import KMeans\n",
        "# 3개 집합으로 군집화 수행\n",
        "km_cluster = KMeans(n_clusters=3, max_iter=10000, random_state=0)\n",
        "km_cluster.fit(feature_vect)\n",
        "cluster_label = km_cluster.labels_\n",
        "cluster_centers = km_cluster.cluster_centers_\n",
        "\n",
        "# 소속 군집을 cluster_label 칼럼으로 할당\n",
        "document_df['cluster_label'] = cluster_label"
      ],
      "metadata": {
        "id": "quz7JK1UVSRM"
      },
      "execution_count": 58,
      "outputs": []
    },
    {
      "cell_type": "code",
      "source": [
        "document_df.head()"
      ],
      "metadata": {
        "colab": {
          "base_uri": "https://localhost:8080/",
          "height": 206
        },
        "id": "qDgvNYbWV0jG",
        "outputId": "00acc617-6000-47f5-c747-0caec11fcf76"
      },
      "execution_count": 59,
      "outputs": [
        {
          "output_type": "execute_result",
          "data": {
            "text/plain": [
              "                         filename  \\\n",
              "0      battery-life_amazon_kindle   \n",
              "1      battery-life_ipod_nano_8gb   \n",
              "2   accuracy_garmin_nuvi_255W_gps   \n",
              "3  bathroom_bestwestern_hotel_sfo   \n",
              "4      voice_garmin_nuvi_255W_gps   \n",
              "\n",
              "                                        opinion_text  cluster_label  \n",
              "0                                                ...              1  \n",
              "1                                                ...              1  \n",
              "2                                                ...              1  \n",
              "3                                                ...              2  \n",
              "4                                                ...              1  "
            ],
            "text/html": [
              "\n",
              "  <div id=\"df-29c96b26-818f-4e8c-98fe-c7b0940d5070\">\n",
              "    <div class=\"colab-df-container\">\n",
              "      <div>\n",
              "<style scoped>\n",
              "    .dataframe tbody tr th:only-of-type {\n",
              "        vertical-align: middle;\n",
              "    }\n",
              "\n",
              "    .dataframe tbody tr th {\n",
              "        vertical-align: top;\n",
              "    }\n",
              "\n",
              "    .dataframe thead th {\n",
              "        text-align: right;\n",
              "    }\n",
              "</style>\n",
              "<table border=\"1\" class=\"dataframe\">\n",
              "  <thead>\n",
              "    <tr style=\"text-align: right;\">\n",
              "      <th></th>\n",
              "      <th>filename</th>\n",
              "      <th>opinion_text</th>\n",
              "      <th>cluster_label</th>\n",
              "    </tr>\n",
              "  </thead>\n",
              "  <tbody>\n",
              "    <tr>\n",
              "      <th>0</th>\n",
              "      <td>battery-life_amazon_kindle</td>\n",
              "      <td>...</td>\n",
              "      <td>1</td>\n",
              "    </tr>\n",
              "    <tr>\n",
              "      <th>1</th>\n",
              "      <td>battery-life_ipod_nano_8gb</td>\n",
              "      <td>...</td>\n",
              "      <td>1</td>\n",
              "    </tr>\n",
              "    <tr>\n",
              "      <th>2</th>\n",
              "      <td>accuracy_garmin_nuvi_255W_gps</td>\n",
              "      <td>...</td>\n",
              "      <td>1</td>\n",
              "    </tr>\n",
              "    <tr>\n",
              "      <th>3</th>\n",
              "      <td>bathroom_bestwestern_hotel_sfo</td>\n",
              "      <td>...</td>\n",
              "      <td>2</td>\n",
              "    </tr>\n",
              "    <tr>\n",
              "      <th>4</th>\n",
              "      <td>voice_garmin_nuvi_255W_gps</td>\n",
              "      <td>...</td>\n",
              "      <td>1</td>\n",
              "    </tr>\n",
              "  </tbody>\n",
              "</table>\n",
              "</div>\n",
              "      <button class=\"colab-df-convert\" onclick=\"convertToInteractive('df-29c96b26-818f-4e8c-98fe-c7b0940d5070')\"\n",
              "              title=\"Convert this dataframe to an interactive table.\"\n",
              "              style=\"display:none;\">\n",
              "        \n",
              "  <svg xmlns=\"http://www.w3.org/2000/svg\" height=\"24px\"viewBox=\"0 0 24 24\"\n",
              "       width=\"24px\">\n",
              "    <path d=\"M0 0h24v24H0V0z\" fill=\"none\"/>\n",
              "    <path d=\"M18.56 5.44l.94 2.06.94-2.06 2.06-.94-2.06-.94-.94-2.06-.94 2.06-2.06.94zm-11 1L8.5 8.5l.94-2.06 2.06-.94-2.06-.94L8.5 2.5l-.94 2.06-2.06.94zm10 10l.94 2.06.94-2.06 2.06-.94-2.06-.94-.94-2.06-.94 2.06-2.06.94z\"/><path d=\"M17.41 7.96l-1.37-1.37c-.4-.4-.92-.59-1.43-.59-.52 0-1.04.2-1.43.59L10.3 9.45l-7.72 7.72c-.78.78-.78 2.05 0 2.83L4 21.41c.39.39.9.59 1.41.59.51 0 1.02-.2 1.41-.59l7.78-7.78 2.81-2.81c.8-.78.8-2.07 0-2.86zM5.41 20L4 18.59l7.72-7.72 1.47 1.35L5.41 20z\"/>\n",
              "  </svg>\n",
              "      </button>\n",
              "      \n",
              "  <style>\n",
              "    .colab-df-container {\n",
              "      display:flex;\n",
              "      flex-wrap:wrap;\n",
              "      gap: 12px;\n",
              "    }\n",
              "\n",
              "    .colab-df-convert {\n",
              "      background-color: #E8F0FE;\n",
              "      border: none;\n",
              "      border-radius: 50%;\n",
              "      cursor: pointer;\n",
              "      display: none;\n",
              "      fill: #1967D2;\n",
              "      height: 32px;\n",
              "      padding: 0 0 0 0;\n",
              "      width: 32px;\n",
              "    }\n",
              "\n",
              "    .colab-df-convert:hover {\n",
              "      background-color: #E2EBFA;\n",
              "      box-shadow: 0px 1px 2px rgba(60, 64, 67, 0.3), 0px 1px 3px 1px rgba(60, 64, 67, 0.15);\n",
              "      fill: #174EA6;\n",
              "    }\n",
              "\n",
              "    [theme=dark] .colab-df-convert {\n",
              "      background-color: #3B4455;\n",
              "      fill: #D2E3FC;\n",
              "    }\n",
              "\n",
              "    [theme=dark] .colab-df-convert:hover {\n",
              "      background-color: #434B5C;\n",
              "      box-shadow: 0px 1px 3px 1px rgba(0, 0, 0, 0.15);\n",
              "      filter: drop-shadow(0px 1px 2px rgba(0, 0, 0, 0.3));\n",
              "      fill: #FFFFFF;\n",
              "    }\n",
              "  </style>\n",
              "\n",
              "      <script>\n",
              "        const buttonEl =\n",
              "          document.querySelector('#df-29c96b26-818f-4e8c-98fe-c7b0940d5070 button.colab-df-convert');\n",
              "        buttonEl.style.display =\n",
              "          google.colab.kernel.accessAllowed ? 'block' : 'none';\n",
              "\n",
              "        async function convertToInteractive(key) {\n",
              "          const element = document.querySelector('#df-29c96b26-818f-4e8c-98fe-c7b0940d5070');\n",
              "          const dataTable =\n",
              "            await google.colab.kernel.invokeFunction('convertToInteractive',\n",
              "                                                     [key], {});\n",
              "          if (!dataTable) return;\n",
              "\n",
              "          const docLinkHtml = 'Like what you see? Visit the ' +\n",
              "            '<a target=\"_blank\" href=https://colab.research.google.com/notebooks/data_table.ipynb>data table notebook</a>'\n",
              "            + ' to learn more about interactive tables.';\n",
              "          element.innerHTML = '';\n",
              "          dataTable['output_type'] = 'display_data';\n",
              "          await google.colab.output.renderOutput(dataTable, element);\n",
              "          const docLink = document.createElement('div');\n",
              "          docLink.innerHTML = docLinkHtml;\n",
              "          element.appendChild(docLink);\n",
              "        }\n",
              "      </script>\n",
              "    </div>\n",
              "  </div>\n",
              "  "
            ]
          },
          "metadata": {},
          "execution_count": 59
        }
      ]
    },
    {
      "cell_type": "markdown",
      "source": [
        "- 위 문서는 전자제품, 호텔, 자동차를 주제로 군집화됨. \n",
        "\n",
        "- 군집화된 문서를 이용해 다른 문서 간의 유사도를 구함"
      ],
      "metadata": {
        "id": "sA4u9JjZWw3s"
      }
    },
    {
      "cell_type": "code",
      "source": [
        "from sklearn.metrics.pairwise import cosine_similarity\n",
        "# cluster_label=1인 데이터는 호텔로 군집화된 데이터. DataFrame에서 해당 인덱스를 추출\n",
        "hotel_indexes = document_df[document_df['cluster_label']==1].index\n",
        "print('호텔로 군집화된 문서들의 DataFrame Index:', hotel_indexes)\n",
        "\n",
        "# 호텔로 군집화된 데이터 중 첫 번째 문서를 추출해 파일명 표시\n",
        "comparison_docname = document_df.iloc[hotel_indexes[0]]['filename']\n",
        "print(\"##### 비교 기준 문서명 \", comparison_docname, \" 와 타 문서 유사도 #####\")\n",
        "\n",
        "'''document_df에서 추출한 Index 객체를 feature_vect로 입력해 호텔 군집화된 feature_vect 추출\n",
        "이를 이용해 호텔로 군집화된 문서 중 첫 번째 문서와 다른 문서 간의 코사인 유사도 측정'''\n",
        "similarity_pair = cosine_similarity(feature_vect[hotel_indexes[0]], feature_vect[hotel_indexes])\n",
        "print(similarity_pair)"
      ],
      "metadata": {
        "colab": {
          "base_uri": "https://localhost:8080/"
        },
        "id": "OsjBJOO1Wp0D",
        "outputId": "e2145ab7-a244-4982-8939-872831c3de23"
      },
      "execution_count": 60,
      "outputs": [
        {
          "output_type": "stream",
          "name": "stdout",
          "text": [
            "호텔로 군집화된 문서들의 DataFrame Index: Int64Index([ 0,  1,  2,  4,  5,  8, 11, 12, 15, 18, 19, 20, 21, 28, 33, 34, 35,\n",
            "            36, 37, 38, 40, 43, 46, 49, 50],\n",
            "           dtype='int64')\n",
            "##### 비교 기준 문서명  battery-life_amazon_kindle  와 타 문서 유사도 #####\n",
            "[[1.         0.79742523 0.03004155 0.01718587 0.03975485 0.03251715\n",
            "  0.18926406 0.0197642  0.12323469 0.02271738 0.096442   0.88509976\n",
            "  0.10569832 0.14028442 0.07455773 0.0505384  0.29855545 0.03924845\n",
            "  0.20713047 0.1083282  0.02470874 0.05926201 0.21594904 0.01240808\n",
            "  0.02086573]]\n"
          ]
        }
      ]
    },
    {
      "cell_type": "code",
      "source": [
        "import seaborn as sns\n",
        "import numpy as np\n",
        "import matplotlib.pyplot as plt\n",
        "\n",
        "# 첫 번째 문서와 타 문서간 유사도가 큰 순으로 정렬한 인덱스를 추출하되 자기 자신은 제외\n",
        "sorted_index = similarity_pair.argsort()[:,::-1]\n",
        "sorted_index = sorted_index[:,1:]\n",
        "\n",
        "# 유사도가 큰 순으로 hotel_indexes를 추출해 재정렬\n",
        "hotel_sorted_indexes = hotel_indexes[sorted_index.reshape(-1)]\n",
        "\n",
        "# 유사도가 큰 순으로 유사도 값을 재정렬하되 자기 자신은 제외\n",
        "hotel_1_sim_value = np.sort(similarity_pair.reshape(-1))[::-1]\n",
        "hotel_1_sim_value = hotel_1_sim_value[1:]\n",
        "\n",
        "# 유사도가 큰 순으로 정렬된 인덱스와 유사도 값을 이용해 파일명과 유사도 값을 막대 그래프로 시각화\n",
        "hotel_1_sim_df = pd.DataFrame()\n",
        "hotel_1_sim_df['filename'] = document_df.iloc[hotel_sorted_indexes]['filename']\n",
        "hotel_1_sim_df['similarity'] = hotel_1_sim_value\n",
        "\n",
        "sns.barplot(x='similarity', y='filename', data=hotel_1_sim_df)\n",
        "plt.title(comparison_docname)"
      ],
      "metadata": {
        "colab": {
          "base_uri": "https://localhost:8080/",
          "height": 313
        },
        "id": "M5kteWjIX7u5",
        "outputId": "37caf07e-548b-43d3-fc93-9d135a7ebd80"
      },
      "execution_count": 65,
      "outputs": [
        {
          "output_type": "execute_result",
          "data": {
            "text/plain": [
              "Text(0.5, 1.0, 'battery-life_amazon_kindle')"
            ]
          },
          "metadata": {},
          "execution_count": 65
        },
        {
          "output_type": "display_data",
          "data": {
            "text/plain": [
              "<Figure size 432x288 with 1 Axes>"
            ],
            "image/png": "[encoded data removed]"
          },
          "metadata": {
            "needs_background": "light"
          }
        }
      ]
    },
    {
      "cell_type": "code",
      "source": [
        "hotel_1_sim_df.head()"
      ],
      "metadata": {
        "colab": {
          "base_uri": "https://localhost:8080/",
          "height": 206
        },
        "id": "ydnQFaHGdB-d",
        "outputId": "01ed1076-621c-44c5-c922-70b58a333136"
      },
      "execution_count": 69,
      "outputs": [
        {
          "output_type": "execute_result",
          "data": {
            "text/plain": [
              "                       filename  similarity\n",
              "20  battery-life_netbook_1005ha    0.885100\n",
              "1    battery-life_ipod_nano_8gb    0.797425\n",
              "35   performance_netbook_1005ha    0.298555\n",
              "46     size_asus_netbook_1005ha    0.215949\n",
              "37        screen_netbook_1005ha    0.207130"
            ],
            "text/html": [
              "\n",
              "  <div id=\"df-48d8d9be-7a85-4818-a081-7f142ca67764\">\n",
              "    <div class=\"colab-df-container\">\n",
              "      <div>\n",
              "<style scoped>\n",
              "    .dataframe tbody tr th:only-of-type {\n",
              "        vertical-align: middle;\n",
              "    }\n",
              "\n",
              "    .dataframe tbody tr th {\n",
              "        vertical-align: top;\n",
              "    }\n",
              "\n",
              "    .dataframe thead th {\n",
              "        text-align: right;\n",
              "    }\n",
              "</style>\n",
              "<table border=\"1\" class=\"dataframe\">\n",
              "  <thead>\n",
              "    <tr style=\"text-align: right;\">\n",
              "      <th></th>\n",
              "      <th>filename</th>\n",
              "      <th>similarity</th>\n",
              "    </tr>\n",
              "  </thead>\n",
              "  <tbody>\n",
              "    <tr>\n",
              "      <th>20</th>\n",
              "      <td>battery-life_netbook_1005ha</td>\n",
              "      <td>0.885100</td>\n",
              "    </tr>\n",
              "    <tr>\n",
              "      <th>1</th>\n",
              "      <td>battery-life_ipod_nano_8gb</td>\n",
              "      <td>0.797425</td>\n",
              "    </tr>\n",
              "    <tr>\n",
              "      <th>35</th>\n",
              "      <td>performance_netbook_1005ha</td>\n",
              "      <td>0.298555</td>\n",
              "    </tr>\n",
              "    <tr>\n",
              "      <th>46</th>\n",
              "      <td>size_asus_netbook_1005ha</td>\n",
              "      <td>0.215949</td>\n",
              "    </tr>\n",
              "    <tr>\n",
              "      <th>37</th>\n",
              "      <td>screen_netbook_1005ha</td>\n",
              "      <td>0.207130</td>\n",
              "    </tr>\n",
              "  </tbody>\n",
              "</table>\n",
              "</div>\n",
              "      <button class=\"colab-df-convert\" onclick=\"convertToInteractive('df-48d8d9be-7a85-4818-a081-7f142ca67764')\"\n",
              "              title=\"Convert this dataframe to an interactive table.\"\n",
              "              style=\"display:none;\">\n",
              "        \n",
              "  <svg xmlns=\"http://www.w3.org/2000/svg\" height=\"24px\"viewBox=\"0 0 24 24\"\n",
              "       width=\"24px\">\n",
              "    <path d=\"M0 0h24v24H0V0z\" fill=\"none\"/>\n",
              "    <path d=\"M18.56 5.44l.94 2.06.94-2.06 2.06-.94-2.06-.94-.94-2.06-.94 2.06-2.06.94zm-11 1L8.5 8.5l.94-2.06 2.06-.94-2.06-.94L8.5 2.5l-.94 2.06-2.06.94zm10 10l.94 2.06.94-2.06 2.06-.94-2.06-.94-.94-2.06-.94 2.06-2.06.94z\"/><path d=\"M17.41 7.96l-1.37-1.37c-.4-.4-.92-.59-1.43-.59-.52 0-1.04.2-1.43.59L10.3 9.45l-7.72 7.72c-.78.78-.78 2.05 0 2.83L4 21.41c.39.39.9.59 1.41.59.51 0 1.02-.2 1.41-.59l7.78-7.78 2.81-2.81c.8-.78.8-2.07 0-2.86zM5.41 20L4 18.59l7.72-7.72 1.47 1.35L5.41 20z\"/>\n",
              "  </svg>\n",
              "      </button>\n",
              "      \n",
              "  <style>\n",
              "    .colab-df-container {\n",
              "      display:flex;\n",
              "      flex-wrap:wrap;\n",
              "      gap: 12px;\n",
              "    }\n",
              "\n",
              "    .colab-df-convert {\n",
              "      background-color: #E8F0FE;\n",
              "      border: none;\n",
              "      border-radius: 50%;\n",
              "      cursor: pointer;\n",
              "      display: none;\n",
              "      fill: #1967D2;\n",
              "      height: 32px;\n",
              "      padding: 0 0 0 0;\n",
              "      width: 32px;\n",
              "    }\n",
              "\n",
              "    .colab-df-convert:hover {\n",
              "      background-color: #E2EBFA;\n",
              "      box-shadow: 0px 1px 2px rgba(60, 64, 67, 0.3), 0px 1px 3px 1px rgba(60, 64, 67, 0.15);\n",
              "      fill: #174EA6;\n",
              "    }\n",
              "\n",
              "    [theme=dark] .colab-df-convert {\n",
              "      background-color: #3B4455;\n",
              "      fill: #D2E3FC;\n",
              "    }\n",
              "\n",
              "    [theme=dark] .colab-df-convert:hover {\n",
              "      background-color: #434B5C;\n",
              "      box-shadow: 0px 1px 3px 1px rgba(0, 0, 0, 0.15);\n",
              "      filter: drop-shadow(0px 1px 2px rgba(0, 0, 0, 0.3));\n",
              "      fill: #FFFFFF;\n",
              "    }\n",
              "  </style>\n",
              "\n",
              "      <script>\n",
              "        const buttonEl =\n",
              "          document.querySelector('#df-48d8d9be-7a85-4818-a081-7f142ca67764 button.colab-df-convert');\n",
              "        buttonEl.style.display =\n",
              "          google.colab.kernel.accessAllowed ? 'block' : 'none';\n",
              "\n",
              "        async function convertToInteractive(key) {\n",
              "          const element = document.querySelector('#df-48d8d9be-7a85-4818-a081-7f142ca67764');\n",
              "          const dataTable =\n",
              "            await google.colab.kernel.invokeFunction('convertToInteractive',\n",
              "                                                     [key], {});\n",
              "          if (!dataTable) return;\n",
              "\n",
              "          const docLinkHtml = 'Like what you see? Visit the ' +\n",
              "            '<a target=\"_blank\" href=https://colab.research.google.com/notebooks/data_table.ipynb>data table notebook</a>'\n",
              "            + ' to learn more about interactive tables.';\n",
              "          element.innerHTML = '';\n",
              "          dataTable['output_type'] = 'display_data';\n",
              "          await google.colab.output.renderOutput(dataTable, element);\n",
              "          const docLink = document.createElement('div');\n",
              "          docLink.innerHTML = docLinkHtml;\n",
              "          element.appendChild(docLink);\n",
              "        }\n",
              "      </script>\n",
              "    </div>\n",
              "  </div>\n",
              "  "
            ]
          },
          "metadata": {},
          "execution_count": 69
        }
      ]
    },
    {
      "cell_type": "markdown",
      "source": [
        "## 09 한글 텍스트 처리 - 네이버 영화 평점 감성 분석"
      ],
      "metadata": {
        "id": "WnjtuhGJdQwA"
      }
    },
    {
      "cell_type": "markdown",
      "source": [
        "### 한글 NLP 처리의 어려움\n",
        "\n",
        "- 원인: 띄어쓰기, 조사에 따라 의미가 달라짐.\n",
        "\n",
        "### KoNLPy\n",
        "\n",
        "- 대표적인 한글 형태소 패키지\n",
        "\n",
        "- 형태소 분석: 말뭉치를 형태소 어근 단위로 쪼개고 각 형태소에 품사 태깅(POS tagging)을 부착하는 작업\n",
        "\n",
        "\n"
      ],
      "metadata": {
        "id": "Nnm_k3Q_dapH"
      }
    },
    {
      "cell_type": "code",
      "source": [
        "pip install konlpy"
      ],
      "metadata": {
        "colab": {
          "base_uri": "https://localhost:8080/"
        },
        "id": "4ONakyZjcVIk",
        "outputId": "6f85d404-5e46-413f-badc-0fca46f8c958"
      },
      "execution_count": 70,
      "outputs": [
        {
          "output_type": "stream",
          "name": "stdout",
          "text": [
            "Looking in indexes: https://pypi.org/simple, https://us-python.pkg.dev/colab-wheels/public/simple/\n",
            "Collecting konlpy\n",
            "  Downloading konlpy-0.6.0-py2.py3-none-any.whl (19.4 MB)\n",
            "\u001b[K     |████████████████████████████████| 19.4 MB 1.5 MB/s \n",
            "\u001b[?25hRequirement already satisfied: numpy>=1.6 in /usr/local/lib/python3.7/dist-packages (from konlpy) (1.21.6)\n",
            "Requirement already satisfied: lxml>=4.1.0 in /usr/local/lib/python3.7/dist-packages (from konlpy) (4.9.1)\n",
            "Collecting JPype1>=0.7.0\n",
            "  Downloading JPype1-1.4.1-cp37-cp37m-manylinux_2_12_x86_64.manylinux2010_x86_64.whl (465 kB)\n",
            "\u001b[K     |████████████████████████████████| 465 kB 41.7 MB/s \n",
            "\u001b[?25hRequirement already satisfied: packaging in /usr/local/lib/python3.7/dist-packages (from JPype1>=0.7.0->konlpy) (21.3)\n",
            "Requirement already satisfied: typing-extensions in /usr/local/lib/python3.7/dist-packages (from JPype1>=0.7.0->konlpy) (4.1.1)\n",
            "Requirement already satisfied: pyparsing!=3.0.5,>=2.0.2 in /usr/local/lib/python3.7/dist-packages (from packaging->JPype1>=0.7.0->konlpy) (3.0.9)\n",
            "Installing collected packages: JPype1, konlpy\n",
            "Successfully installed JPype1-1.4.1 konlpy-0.6.0\n"
          ]
        }
      ]
    },
    {
      "cell_type": "code",
      "source": [
        "import pandas as pd\n",
        "\n",
        "train_df = pd.read_csv('/content/drive/MyDrive/Data/파이썬 머신러닝 완벽가이드/ratings_train.txt', sep='\\t')\n",
        "train_df.head(3)\n",
        "# label: 1 - 긍정, 0 - 부정"
      ],
      "metadata": {
        "colab": {
          "base_uri": "https://localhost:8080/",
          "height": 143
        },
        "id": "al68FEAUe03_",
        "outputId": "6b069dd1-b1a6-4742-ef4f-eb0e7c280318"
      },
      "execution_count": 73,
      "outputs": [
        {
          "output_type": "execute_result",
          "data": {
            "text/plain": [
              "         id                           document  label\n",
              "0   9976970                아 더빙.. 진짜 짜증나네요 목소리      0\n",
              "1   3819312  흠...포스터보고 초딩영화줄....오버연기조차 가볍지 않구나      1\n",
              "2  10265843                  너무재밓었다그래서보는것을추천한다      0"
            ],
            "text/html": [
              "\n",
              "  <div id=\"df-ad353f6c-3315-4b4d-91af-aeaa00af9bd4\">\n",
              "    <div class=\"colab-df-container\">\n",
              "      <div>\n",
              "<style scoped>\n",
              "    .dataframe tbody tr th:only-of-type {\n",
              "        vertical-align: middle;\n",
              "    }\n",
              "\n",
              "    .dataframe tbody tr th {\n",
              "        vertical-align: top;\n",
              "    }\n",
              "\n",
              "    .dataframe thead th {\n",
              "        text-align: right;\n",
              "    }\n",
              "</style>\n",
              "<table border=\"1\" class=\"dataframe\">\n",
              "  <thead>\n",
              "    <tr style=\"text-align: right;\">\n",
              "      <th></th>\n",
              "      <th>id</th>\n",
              "      <th>document</th>\n",
              "      <th>label</th>\n",
              "    </tr>\n",
              "  </thead>\n",
              "  <tbody>\n",
              "    <tr>\n",
              "      <th>0</th>\n",
              "      <td>9976970</td>\n",
              "      <td>아 더빙.. 진짜 짜증나네요 목소리</td>\n",
              "      <td>0</td>\n",
              "    </tr>\n",
              "    <tr>\n",
              "      <th>1</th>\n",
              "      <td>3819312</td>\n",
              "      <td>흠...포스터보고 초딩영화줄....오버연기조차 가볍지 않구나</td>\n",
              "      <td>1</td>\n",
              "    </tr>\n",
              "    <tr>\n",
              "      <th>2</th>\n",
              "      <td>10265843</td>\n",
              "      <td>너무재밓었다그래서보는것을추천한다</td>\n",
              "      <td>0</td>\n",
              "    </tr>\n",
              "  </tbody>\n",
              "</table>\n",
              "</div>\n",
              "      <button class=\"colab-df-convert\" onclick=\"convertToInteractive('df-ad353f6c-3315-4b4d-91af-aeaa00af9bd4')\"\n",
              "              title=\"Convert this dataframe to an interactive table.\"\n",
              "              style=\"display:none;\">\n",
              "        \n",
              "  <svg xmlns=\"http://www.w3.org/2000/svg\" height=\"24px\"viewBox=\"0 0 24 24\"\n",
              "       width=\"24px\">\n",
              "    <path d=\"M0 0h24v24H0V0z\" fill=\"none\"/>\n",
              "    <path d=\"M18.56 5.44l.94 2.06.94-2.06 2.06-.94-2.06-.94-.94-2.06-.94 2.06-2.06.94zm-11 1L8.5 8.5l.94-2.06 2.06-.94-2.06-.94L8.5 2.5l-.94 2.06-2.06.94zm10 10l.94 2.06.94-2.06 2.06-.94-2.06-.94-.94-2.06-.94 2.06-2.06.94z\"/><path d=\"M17.41 7.96l-1.37-1.37c-.4-.4-.92-.59-1.43-.59-.52 0-1.04.2-1.43.59L10.3 9.45l-7.72 7.72c-.78.78-.78 2.05 0 2.83L4 21.41c.39.39.9.59 1.41.59.51 0 1.02-.2 1.41-.59l7.78-7.78 2.81-2.81c.8-.78.8-2.07 0-2.86zM5.41 20L4 18.59l7.72-7.72 1.47 1.35L5.41 20z\"/>\n",
              "  </svg>\n",
              "      </button>\n",
              "      \n",
              "  <style>\n",
              "    .colab-df-container {\n",
              "      display:flex;\n",
              "      flex-wrap:wrap;\n",
              "      gap: 12px;\n",
              "    }\n",
              "\n",
              "    .colab-df-convert {\n",
              "      background-color: #E8F0FE;\n",
              "      border: none;\n",
              "      border-radius: 50%;\n",
              "      cursor: pointer;\n",
              "      display: none;\n",
              "      fill: #1967D2;\n",
              "      height: 32px;\n",
              "      padding: 0 0 0 0;\n",
              "      width: 32px;\n",
              "    }\n",
              "\n",
              "    .colab-df-convert:hover {\n",
              "      background-color: #E2EBFA;\n",
              "      box-shadow: 0px 1px 2px rgba(60, 64, 67, 0.3), 0px 1px 3px 1px rgba(60, 64, 67, 0.15);\n",
              "      fill: #174EA6;\n",
              "    }\n",
              "\n",
              "    [theme=dark] .colab-df-convert {\n",
              "      background-color: #3B4455;\n",
              "      fill: #D2E3FC;\n",
              "    }\n",
              "\n",
              "    [theme=dark] .colab-df-convert:hover {\n",
              "      background-color: #434B5C;\n",
              "      box-shadow: 0px 1px 3px 1px rgba(0, 0, 0, 0.15);\n",
              "      filter: drop-shadow(0px 1px 2px rgba(0, 0, 0, 0.3));\n",
              "      fill: #FFFFFF;\n",
              "    }\n",
              "  </style>\n",
              "\n",
              "      <script>\n",
              "        const buttonEl =\n",
              "          document.querySelector('#df-ad353f6c-3315-4b4d-91af-aeaa00af9bd4 button.colab-df-convert');\n",
              "        buttonEl.style.display =\n",
              "          google.colab.kernel.accessAllowed ? 'block' : 'none';\n",
              "\n",
              "        async function convertToInteractive(key) {\n",
              "          const element = document.querySelector('#df-ad353f6c-3315-4b4d-91af-aeaa00af9bd4');\n",
              "          const dataTable =\n",
              "            await google.colab.kernel.invokeFunction('convertToInteractive',\n",
              "                                                     [key], {});\n",
              "          if (!dataTable) return;\n",
              "\n",
              "          const docLinkHtml = 'Like what you see? Visit the ' +\n",
              "            '<a target=\"_blank\" href=https://colab.research.google.com/notebooks/data_table.ipynb>data table notebook</a>'\n",
              "            + ' to learn more about interactive tables.';\n",
              "          element.innerHTML = '';\n",
              "          dataTable['output_type'] = 'display_data';\n",
              "          await google.colab.output.renderOutput(dataTable, element);\n",
              "          const docLink = document.createElement('div');\n",
              "          docLink.innerHTML = docLinkHtml;\n",
              "          element.appendChild(docLink);\n",
              "        }\n",
              "      </script>\n",
              "    </div>\n",
              "  </div>\n",
              "  "
            ]
          },
          "metadata": {},
          "execution_count": 73
        }
      ]
    },
    {
      "cell_type": "code",
      "source": [
        "train_df['label'].value_counts() # 균등한 분포"
      ],
      "metadata": {
        "colab": {
          "base_uri": "https://localhost:8080/"
        },
        "id": "DB1eLsugg-JM",
        "outputId": "a7ce7172-f728-45b5-b3fc-c0d25b734696"
      },
      "execution_count": 74,
      "outputs": [
        {
          "output_type": "execute_result",
          "data": {
            "text/plain": [
              "0    75173\n",
              "1    74827\n",
              "Name: label, dtype: int64"
            ]
          },
          "metadata": {},
          "execution_count": 74
        }
      ]
    },
    {
      "cell_type": "code",
      "source": [
        "import re\n",
        "train_df = train_df.fillna(' ') # NA는 공백으로 처리\n",
        "# 정규 표현식을 이용해 숫자를 공백으로 변경(정규 표현식으로 \\d는 숫자를 의미)\n",
        "train_df['document'] = train_df['document'].apply(lambda x: re.sub(r\"\\d+\",\" \",x))\n",
        "\n",
        "# 테세트 데이터 세트를 로딩하고 동일하게 Null 및 숫자를 공백으로 변환\n",
        "test_df = pd.read_csv('/content/drive/MyDrive/Data/파이썬 머신러닝 완벽가이드/ratings_test.txt', sep='\\t')\n",
        "test_df = test_df.fillna(' ')\n",
        "test_df['document'] = test_df['document'].apply(lambda x: re.sub(r\"\\d+\", \" \", x))\n",
        "\n",
        "# id 칼럼 삭제 수행\n",
        "train_df.drop('id', axis=1, inplace=True)\n",
        "test_df.drop('id', axis=1, inplace=True)"
      ],
      "metadata": {
        "id": "TQLXLuDehMQT"
      },
      "execution_count": 75,
      "outputs": []
    },
    {
      "cell_type": "code",
      "source": [
        "# 각 문장을 한글 형태소 분석을 통해 형태소 단어로 토큰화 후 TF-IDF 방식으로 단어를 벡터화\n",
        "# 한글 형태소 엔진은 SNS 분석에 적합한 Twitter 클래스 이용\n",
        "\n",
        "from konlpy.tag import Twitter\n",
        "twitter = Twitter()\n",
        "def tw_tokenizer(text):\n",
        "  # 입력 인자로 들어온 텍스트를 형태소 단어로 토큰화해 리스트 형태로 반환\n",
        "  tokens_ko = twitter.morphs(text) # 문장을 형태소 단위로 토큰화해 list 객체로 반환\n",
        "  return tokens_ko"
      ],
      "metadata": {
        "id": "LcI--Oj2h479"
      },
      "execution_count": 77,
      "outputs": []
    },
    {
      "cell_type": "code",
      "source": [
        "from sklearn.feature_extraction.text import TfidfVectorizer\n",
        "from sklearn.linear_model import LogisticRegression\n",
        "from sklearn.model_selection import GridSearchCV\n",
        "\n",
        "# Twitter 객체의 morphs() 객체를 이용한 tokenizer를 사용. ngram_range는 (1,2)\n",
        "tfidf_vect = TfidfVectorizer(tokenizer=tw_tokenizer, ngram_range=(1,2), min_df=3, max_df=0.9)\n",
        "tfidf_vect.fit(train_df['document'])\n",
        "tfidf_matrix_train = tfidf_vect.transform(train_df['document'])"
      ],
      "metadata": {
        "id": "SkKG7EnkiVW9"
      },
      "execution_count": 78,
      "outputs": []
    },
    {
      "cell_type": "code",
      "source": [
        "# 로지스틱 회귀를 이용해 감성 분석 분류 수행\n",
        "lg_clf = LogisticRegression(random_state=0)\n",
        "\n",
        "# 파라미터 C 최적화를 위해 GridSearchCV를 이용\n",
        "params = {'C':[1,3.5,4.5,5.5,10]}\n",
        "grid_cv = GridSearchCV(lg_clf, param_grid = params, cv=3, scoring='accuracy', verbose=1)\n",
        "grid_cv.fit(tfidf_matrix_train, train_df['label'])\n",
        "print(grid_cv.best_params_, round(grid_cv.best_score_),4)"
      ],
      "metadata": {
        "colab": {
          "base_uri": "https://localhost:8080/"
        },
        "id": "ZeRzTdINjWjX",
        "outputId": "4ee34edb-587b-4150-c237-1c93d6de8ea6"
      },
      "execution_count": 82,
      "outputs": [
        {
          "output_type": "stream",
          "name": "stdout",
          "text": [
            "Fitting 3 folds for each of 5 candidates, totalling 15 fits\n",
            "{'C': 3.5} 1 4\n"
          ]
        }
      ]
    },
    {
      "cell_type": "code",
      "source": [
        "# 테스트 세트를 이용해 예측할 때는 학습할 때 적용한 TfidfVectorizer를 그대로 사용해야 학습 시 설정된 TfidfVectorizer의 피처 개수와 변환할 피처 개수가 같아짐.\n",
        "\n",
        "from sklearn.metrics import accuracy_score\n",
        "# 학습 데이터를 적용한 TfidfVectorizer를 이용해 테스트 데이터를 TF-IDF 값으로 피처 변환함\n",
        "tfidf_matrix_test = tfidf_vect.transform(test_df['document'])\n",
        "\n",
        "# classifier는 GridSearchCV에서 최적 파라미터로 학습된 classifier를 그대로 이용\n",
        "best_estimator = grid_cv.best_estimator_\n",
        "preds = best_estimator.predict(tfidf_matrix_test)\n",
        "print('Logistic Regression 정확도:', accuracy_score(test_df['label'],preds))"
      ],
      "metadata": {
        "colab": {
          "base_uri": "https://localhost:8080/"
        },
        "id": "IHafVLlOjvRt",
        "outputId": "7e2e858b-ce24-4f9d-d92e-2820c841384d"
      },
      "execution_count": 83,
      "outputs": [
        {
          "output_type": "stream",
          "name": "stdout",
          "text": [
            "Logistic Regression 정확도: 0.86186\n"
          ]
        }
      ]
    }
  ]
}