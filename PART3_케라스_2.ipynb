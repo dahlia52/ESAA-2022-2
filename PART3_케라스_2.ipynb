{
  "nbformat": 4,
  "nbformat_minor": 0,
  "metadata": {
    "colab": {
      "provenance": [],
      "authorship_tag": "ABX9TyN0K+0sxtqkSIp6K+sHz6vo",
      "include_colab_link": true
    },
    "kernelspec": {
      "name": "python3",
      "display_name": "Python 3"
    },
    "language_info": {
      "name": "python"
    }
  },
  "cells": [
    {
      "cell_type": "markdown",
      "metadata": {
        "id": "view-in-github",
        "colab_type": "text"
      },
      "source": [
        "<a href=\"https://colab.research.google.com/github/dahlia52/ESAA_2022-2/blob/main/PART3_%EC%BC%80%EB%9D%BC%EC%8A%A4_2.ipynb\" target=\"_parent\"><img src=\"https://colab.research.google.com/assets/colab-badge.svg\" alt=\"Open In Colab\"/></a>"
      ]
    },
    {
      "cell_type": "markdown",
      "source": [
        "파이썬 딥러닝 텐서플로 ch3. 6 ~ 7 pg. 105 ~ 115"
      ],
      "metadata": {
        "id": "AfjsIB_zsJyz"
      }
    },
    {
      "cell_type": "markdown",
      "source": [
        "## 06 모델 저장 및 불러오기"
      ],
      "metadata": {
        "id": "b0MwyJrXdOeT"
      }
    },
    {
      "cell_type": "code",
      "source": [
        "import tensorflow as tf\n",
        "mnist = tf.keras.datasets.mnist\n",
        "\n",
        "(x_train, y_train), (x_test, y_test) = mnist.load_data()\n",
        "\n",
        "# 데이터 정규화\n",
        "x_train = x_train / x_train.max()\n",
        "x_test = x_test / x_test.max()"
      ],
      "metadata": {
        "id": "Jp8rbSu1fAUO"
      },
      "execution_count": 3,
      "outputs": []
    },
    {
      "cell_type": "code",
      "execution_count": 1,
      "metadata": {
        "id": "CL1nRB7UsJgd",
        "colab": {
          "base_uri": "https://localhost:8080/"
        },
        "outputId": "9ad4d71f-8b8d-4ddb-f4ad-d26a5c03cd62"
      },
      "outputs": [
        {
          "output_type": "stream",
          "name": "stdout",
          "text": [
            "Model: \"sequential\"\n",
            "_________________________________________________________________\n",
            " Layer (type)                Output Shape              Param #   \n",
            "=================================================================\n",
            " flatten (Flatten)           (None, 784)               0         \n",
            "                                                                 \n",
            " dense (Dense)               (None, 64)                50240     \n",
            "                                                                 \n",
            " batch_normalization (BatchN  (None, 64)               256       \n",
            " ormalization)                                                   \n",
            "                                                                 \n",
            " leaky_re_lu (LeakyReLU)     (None, 64)                0         \n",
            "                                                                 \n",
            " dense_1 (Dense)             (None, 32)                2080      \n",
            "                                                                 \n",
            " batch_normalization_1 (Batc  (None, 32)               128       \n",
            " hNormalization)                                                 \n",
            "                                                                 \n",
            " leaky_re_lu_1 (LeakyReLU)   (None, 32)                0         \n",
            "                                                                 \n",
            " dense_2 (Dense)             (None, 10)                330       \n",
            "                                                                 \n",
            "=================================================================\n",
            "Total params: 53,034\n",
            "Trainable params: 52,842\n",
            "Non-trainable params: 192\n",
            "_________________________________________________________________\n"
          ]
        }
      ],
      "source": [
        "model = tf.keras.Sequential([\n",
        "    tf.keras.layers.Flatten(input_shape=(28,28)),\n",
        "    tf.keras.layers.Dense(64),\n",
        "    tf.keras.layers.BatchNormalization(),\n",
        "    tf.keras.layers.LeakyReLU(alpha=0.2),\n",
        "\n",
        "    tf.keras.layers.Dense(32),\n",
        "    tf.keras.layers.BatchNormalization(),\n",
        "    tf.keras.layers.LeakyReLU(alpha=0.2),\n",
        "\n",
        "    tf.keras.layers.Dense(10, activation='softmax')\n",
        "])\n",
        "model.summary()"
      ]
    },
    {
      "cell_type": "code",
      "source": [
        "model.compile(optimizer='adam', loss='sparse_categorical_crossentropy', metrics=['accuracy'])\n",
        "\n",
        "model.fit(x_train, y_train, validation_data=(x_test, y_test), epochs=10)"
      ],
      "metadata": {
        "colab": {
          "base_uri": "https://localhost:8080/"
        },
        "id": "GmPzWvQUezmB",
        "outputId": "a4dd9b5d-c720-4066-858f-d2ee1ea39b3a"
      },
      "execution_count": 4,
      "outputs": [
        {
          "output_type": "stream",
          "name": "stdout",
          "text": [
            "Epoch 1/10\n",
            "1875/1875 [==============================] - 4s 2ms/step - loss: 0.3140 - accuracy: 0.9120 - val_loss: 0.1348 - val_accuracy: 0.9601\n",
            "Epoch 2/10\n",
            "1875/1875 [==============================] - 4s 2ms/step - loss: 0.1509 - accuracy: 0.9543 - val_loss: 0.1104 - val_accuracy: 0.9671\n",
            "Epoch 3/10\n",
            "1875/1875 [==============================] - 4s 2ms/step - loss: 0.1199 - accuracy: 0.9631 - val_loss: 0.0923 - val_accuracy: 0.9712\n",
            "Epoch 4/10\n",
            "1875/1875 [==============================] - 4s 2ms/step - loss: 0.1039 - accuracy: 0.9679 - val_loss: 0.0947 - val_accuracy: 0.9699\n",
            "Epoch 5/10\n",
            "1875/1875 [==============================] - 4s 2ms/step - loss: 0.0899 - accuracy: 0.9720 - val_loss: 0.0902 - val_accuracy: 0.9719\n",
            "Epoch 6/10\n",
            "1875/1875 [==============================] - 4s 2ms/step - loss: 0.0816 - accuracy: 0.9742 - val_loss: 0.0847 - val_accuracy: 0.9762\n",
            "Epoch 7/10\n",
            "1875/1875 [==============================] - 4s 2ms/step - loss: 0.0782 - accuracy: 0.9749 - val_loss: 0.0822 - val_accuracy: 0.9767\n",
            "Epoch 8/10\n",
            "1875/1875 [==============================] - 4s 2ms/step - loss: 0.0711 - accuracy: 0.9775 - val_loss: 0.0812 - val_accuracy: 0.9755\n",
            "Epoch 9/10\n",
            "1875/1875 [==============================] - 4s 2ms/step - loss: 0.0654 - accuracy: 0.9785 - val_loss: 0.0850 - val_accuracy: 0.9738\n",
            "Epoch 10/10\n",
            "1875/1875 [==============================] - 4s 2ms/step - loss: 0.0605 - accuracy: 0.9804 - val_loss: 0.0859 - val_accuracy: 0.9729\n"
          ]
        },
        {
          "output_type": "execute_result",
          "data": {
            "text/plain": [
              "<keras.callbacks.History at 0x7fb24d3eb910>"
            ]
          },
          "metadata": {},
          "execution_count": 4
        }
      ]
    },
    {
      "cell_type": "markdown",
      "source": [
        "###[6-1] 모델을 파일로 저장"
      ],
      "metadata": {
        "id": "1tBpPJIefbLz"
      }
    },
    {
      "cell_type": "markdown",
      "source": [
        "- 모델이 저장되는 형식: HDF5, SavedModel"
      ],
      "metadata": {
        "id": "Xkw41dbwf6iM"
      }
    },
    {
      "cell_type": "code",
      "source": [
        "# 모델을 h5 포맷으로 저장\n",
        "model.save('h5-model.h5')"
      ],
      "metadata": {
        "id": "CtWJ8hGifZEI"
      },
      "execution_count": 5,
      "outputs": []
    },
    {
      "cell_type": "markdown",
      "source": [
        "###[6-2] 저장된 모델 복원"
      ],
      "metadata": {
        "id": "1quJuPl2gMv0"
      }
    },
    {
      "cell_type": "code",
      "source": [
        "# 모델 복원\n",
        "h5_model = tf.keras.models.load_model('h5-model.h5')\n",
        "h5_model.summary()"
      ],
      "metadata": {
        "colab": {
          "base_uri": "https://localhost:8080/"
        },
        "id": "ptCca0uZgB-B",
        "outputId": "233fd544-603e-49c2-bea1-d749c464ca9f"
      },
      "execution_count": 6,
      "outputs": [
        {
          "output_type": "stream",
          "name": "stdout",
          "text": [
            "Model: \"sequential\"\n",
            "_________________________________________________________________\n",
            " Layer (type)                Output Shape              Param #   \n",
            "=================================================================\n",
            " flatten (Flatten)           (None, 784)               0         \n",
            "                                                                 \n",
            " dense (Dense)               (None, 64)                50240     \n",
            "                                                                 \n",
            " batch_normalization (BatchN  (None, 64)               256       \n",
            " ormalization)                                                   \n",
            "                                                                 \n",
            " leaky_re_lu (LeakyReLU)     (None, 64)                0         \n",
            "                                                                 \n",
            " dense_1 (Dense)             (None, 32)                2080      \n",
            "                                                                 \n",
            " batch_normalization_1 (Batc  (None, 32)               128       \n",
            " hNormalization)                                                 \n",
            "                                                                 \n",
            " leaky_re_lu_1 (LeakyReLU)   (None, 32)                0         \n",
            "                                                                 \n",
            " dense_2 (Dense)             (None, 10)                330       \n",
            "                                                                 \n",
            "=================================================================\n",
            "Total params: 53,034\n",
            "Trainable params: 52,842\n",
            "Non-trainable params: 192\n",
            "_________________________________________________________________\n"
          ]
        }
      ]
    },
    {
      "cell_type": "code",
      "source": [
        "# 모델 검증\n",
        "loss, acc = h5_model.evaluate(x_test, y_test, verbose=0)\n",
        "print(f'h5 model] loss:{loss:.5f}, acc: {acc:.5f}')"
      ],
      "metadata": {
        "colab": {
          "base_uri": "https://localhost:8080/"
        },
        "id": "l8t7s_-WgV-_",
        "outputId": "72a8d042-3962-4222-ab85-671c3d912d32"
      },
      "execution_count": 8,
      "outputs": [
        {
          "output_type": "stream",
          "name": "stdout",
          "text": [
            "h5 model] loss:0.08592, acc: 0.97290\n"
          ]
        }
      ]
    },
    {
      "cell_type": "code",
      "source": [
        "# 모델을 SavedModel 포맷으로 저장 (.h5 확장자 생략 시 적용)\n",
        "model.save('saved-model')"
      ],
      "metadata": {
        "id": "92Q1amTbgqiP"
      },
      "execution_count": 9,
      "outputs": []
    },
    {
      "cell_type": "code",
      "source": [
        "# 모델 복원\n",
        "saved_model = tf.keras.models.load_model('saved-model')\n",
        "saved_model.summary()"
      ],
      "metadata": {
        "colab": {
          "base_uri": "https://localhost:8080/"
        },
        "id": "nV5QXRdIg8Zx",
        "outputId": "0ff2655f-2687-42e0-f22a-4d2ebc8264da"
      },
      "execution_count": 10,
      "outputs": [
        {
          "output_type": "stream",
          "name": "stdout",
          "text": [
            "Model: \"sequential\"\n",
            "_________________________________________________________________\n",
            " Layer (type)                Output Shape              Param #   \n",
            "=================================================================\n",
            " flatten (Flatten)           (None, 784)               0         \n",
            "                                                                 \n",
            " dense (Dense)               (None, 64)                50240     \n",
            "                                                                 \n",
            " batch_normalization (BatchN  (None, 64)               256       \n",
            " ormalization)                                                   \n",
            "                                                                 \n",
            " leaky_re_lu (LeakyReLU)     (None, 64)                0         \n",
            "                                                                 \n",
            " dense_1 (Dense)             (None, 32)                2080      \n",
            "                                                                 \n",
            " batch_normalization_1 (Batc  (None, 32)               128       \n",
            " hNormalization)                                                 \n",
            "                                                                 \n",
            " leaky_re_lu_1 (LeakyReLU)   (None, 32)                0         \n",
            "                                                                 \n",
            " dense_2 (Dense)             (None, 10)                330       \n",
            "                                                                 \n",
            "=================================================================\n",
            "Total params: 53,034\n",
            "Trainable params: 52,842\n",
            "Non-trainable params: 192\n",
            "_________________________________________________________________\n"
          ]
        }
      ]
    },
    {
      "cell_type": "code",
      "source": [
        "# 모델 검증(HDF5 포맷)\n",
        "loss, auc = h5_model.evaluate(x_test, y_test, verbose=0)\n",
        "print(f'h5_model] loss: {loss:.5f}, acc: {acc:.5f}')\n",
        "\n",
        "# 모델 검증(SavedModel 포맷)\n",
        "loss, auc = saved_model.evaluate(x_test, y_test, verbose=0)\n",
        "print(f'saved_model] loss: {loss:.5f}, acc: {acc:.5f}')"
      ],
      "metadata": {
        "colab": {
          "base_uri": "https://localhost:8080/"
        },
        "id": "fvx-MBnJhECg",
        "outputId": "adef4c88-5aac-4d27-a4c6-f64dc25fd8d5"
      },
      "execution_count": 12,
      "outputs": [
        {
          "output_type": "stream",
          "name": "stdout",
          "text": [
            "h5_model] loss: 0.08592, acc: 0.97290\n",
            "saved_model] loss: 0.08592, acc: 0.97290\n"
          ]
        }
      ]
    },
    {
      "cell_type": "markdown",
      "source": [
        "## 07 복잡한 모델 생성"
      ],
      "metadata": {
        "id": "Rl0400UpiivH"
      }
    },
    {
      "cell_type": "markdown",
      "source": [
        "###[7-1] 함수형 API(Functional API)"
      ],
      "metadata": {
        "id": "QMPimO5jikHM"
      }
    },
    {
      "cell_type": "markdown",
      "source": [
        "![image.png](data:image/png;base64,iVBORw0KGgoAAAANSUhEUgAAAS8AAAEPCAYAAAATckLuAAAgAElEQVR4nOy9ebhdV3Xg+Vt773Pvm/UGjdZoTbbl2XhkCiGGGDMFSBEzNklN3Z3urqrur7+eqtJ8qUpXpSrQVJEvSaVI6EDATMFAgMLBgAOeMDYYbHmSJVkeNQ9PT++9e8/ea/Uf+9z37pNkyxZg6cnnp+8NOvfc+/YZ9jprrb0GMTOjpqamZp7hTvUAampqak6GWnjV1NTMS2rhVVNTMy+phVdNTc28pBZeNTU185JaeNXU1MxLauFVU1MzL6mFV01NzbykFl41NTXzklp41dTUzEtq4VVTUzMvqYVXTU3NvKQWXjU1NfOSWnjV1NTMS2rhVVNTMy8Jp3oApwcGlgDBuuS5yNF7HbWhpqbmpDh6JnWXFRQU1IE/3p6z1MILAIVo4IwSAIeI4RSERD6tHvVCXbmxpubnwynIURPJBMyUIAoGiHIi8VQLLwAcUQwzx5SCOYMEQQypNLGSuU+Hmpqak6ejT4kZVPaOQzAfEE2Ewp/QzpG6DDQoWThNTSd2jx+h1EBCKyMyVd89z6fC1tTUvHiEiEdxQH+jwdiCXorKX1PIsa6bbmrNi6ylGtAGJqYT0wbqPAGPwxFFgADOA5Es7mpqak6K7F7OWEGDCJYoGp4k4B247n2eg1p4dSOCeY9YQM0RAfCYOYyAJvAEauFVU/PzIMw6jxOp8jFT+bs0Gt517fsc1MKLfHoE8GqIpuzncgFVh5CY1c2E/NiohVdNzcnjmBU9eS5lH73gEApneG0jPlAtOR6XWnhB5SzsPhmGVyVVtng2FssZIVeftJqak8dQIu3jvuIBT8KZkgVbLbxeMIHs+1IRMJsjsDqnM53C8dXUzHc6ykLWuYSE4KuZ9mJWD2vhdRTZHe8w8WBGR1QJ+RmQjcg6MaGm5uSw6t+Ms4bsqDHAoUJl78gJZ1ktvGDGq9XRqBTJUXNAPsGG0e3pem5V9tTSfRQAgtmsty7j5yw/d7+m5CdiJ3ims9/c98/+v/OUPPr3TOrac/Z8WdeHCYBFzKpnsCvyCMyO46etsiDk6BGFY8bTPY6ZcVnngI4dtZmSFW0HGCIJI2TNW1K1TyBQ5vvgmPX7Y8Nojj5nc7fPHd2x4+74WN3c141qnEeHEBx99KczqZpNnftCur4yiiDiIbnnlVC18HoOxDonVOncGGlG2S1P3cBOSGe8AjhUEzff+h2Wjo5x2aWXoRpxzuNEcGq0nKACQY0pMwZcgapigDdFHJSq9DQKYjsCjuiMwjmS5r8XzDDncCqgCYgEXxBjCx8aGIaKYAhRFZM8ukJA2i3uvvMHLFm0hHUbz0N93t+jOHWY87RJeGeQSn505x2MLlzIxo3nUpriMCKKhAITIaVEUQltJ9UDRxxSJggBSyWCB++xlMDSTIBkFMXE8Bopg8PFSNASnBCd8uA9t6PiOf+SKwmuc7azwOuIaueylzSiBFNMFRPBiSdqwnxANeGdx0TxAq18InFOKMxAFTPDO080A+fAIKWSwlWmlQtoVJzLXqJM2WWOnb5kC6Zzn3Y7ZPIm35l69vy6V23/vCjmg6zPQmvmSWbG5IFxJiYOI5bwThEr8dXEF1WIigDNABpbCIngDW+KV6E/eGK7jZjhHLiUcJWA8S5P2KCKJ5HiFB/9D3/E7mefIojDVcOImgWhF6MhgCbaU5Ns2/IQN33xszz71DactrBUsm/Xbg4fPIiq0VbFzJFiJKU2d951B9see4xUljTMEbSkcJBSwrSNT4JFpeEETRGISGrjxaBsU3iPSELbUzgxnHOVsE7gDGdG8IYkQzD+3b/9A3Y++wyC8ZN77+Guu+5ERGfOc8d/U4jgRPNnpzaSSrwIQsJLQizhRAgY3guWFNolEhNNcQQTvCpOwZkSXHZriySc5mvV3ww4jRSdayDHZn14Tv9J3blDO7jurOGuW/dEzIfZWPOikJnvDgje8443vxnVEp8iLgQ0JVQUp4a4QNM7JEYc0CMOCUI7lniqlaF2onABXJU0K0ayRDShMCFaogdFzGiVbfbu3oWp4b2j3S5xRQMvHklKk0g7KcTETZ//LHff/vc8vn0LxdveTiMIe/fu5Y8//nHWrl7Fh/7hP0WcoWLZoasOi5F2u41zLo9PBI2JIkCMkUZwWFsJ0bJAEo+RMBKF85AiFiO9RaBMCfEOc5DEslBAkKSYlaRUcnD/bjTlc5OtzpS1qK7pl03thKEEc5WibpDaFECZIiF4SJo1wqTgBO8dsR1x3giAiAAlhuS0mZQwE7yXPM52m+BANWLqEB8qMzLSsQ5mfzvzqYXXGUeDvKSQhU9S5e6772DJ2CgXbdrEj370QwYXLOCJJ5/hwQcewBqBiy+8kGsuu5QQmtxz190Mjy3kyWee4dEHH8QENp1zLldceSV9/f088cSTHJqYZOP5m3AmKIHyyBHuu/du1q1Zw32b7+fIwX18/9bv8IbrrmNk0VJKNWIqaXifTUYRAnDJZRdx9ool/Nevfg1LCUlGcI6z165myeKFKBEoKBzQNpzPwYwhGMEL997zQ0YGBnh657P88IEHEGdcfuGlXHnFlUSEBzdvpmegl6d37uSRBx8iaT6Wy668nMINsHvnbvbu38f5F1yAUdBuJ6w9xf1338XKjZt4aPNm9u3axW3fv5U3XDdIMKGogpdnHc6z7uWp8cPcs/ln3Lf5AbTVYnhwgCtfcTkbz93Itq1b2LdvP5de+goaIVBqDoHe9ezTTIwfZOM5mzh84CD3/vgennhiB16EjeecywUXXERzwRAH9u7mZ/fdx/q1q7j3pz+hr2+Ya37ldYSid87Vf7kILqiF1xlKR+9SVCP33HkX6zes45ILNvHdb32LPQcOsmzlSs5Zt4EDkxPc9KXPM2jK+ddcwa0338y+w+OsXr+OjRs2Mt1qc/O3vsWO7dv5wAc/wOOPPcYj27ex8dxz8T7gRBhvTfL1r/wNv/OBD9BfBJIqfX19eF+QNGEqNEL2pUGBSMSKBhdecAlHxg9x5x13knwgimdweJR33/Aems4RioJWSiQVGg2Hli2ss6ygyq3f+x7PPrGdlWevY/3atUxNt/jyl75EYYlXXnk1f3fz37J3/15WrV7L+o3nYTFxy3e+zeOPb+OD/80HeWLrVn62+QE2bdpEkkjwgcnpSb7+1S/xjvf/IxrB0RMCfY0GjUpzEpQcuhyq85zjlSwlbvnOLWx+4Ke85lXXMNA/yFOPb+fzn/sM777hvSQzvnDjp1mzeiWLFi3GY2iKfOsbX2Xt+rWsXHkWN33pSxwY389lV1xOKpVb//5Wtmx5mA+874Ps2b2Lv/jzP+OSiy9kcHiUK6/ZQHCCRytf7MuPWnid4UiViRFMsDKSyhYDfU3+u9/9Hyh8QLxAnOa223/AJa+8Ao1tJsYP8f4PvJfB3n5UhHPWr+M/fexjvPHXfxWzRCzbiEUsgTlBVNGyTV9Pk1ddcxXf+Ma3uOLyK1iwYBA1yc56NYRQrSw2EIxIBBcokyChhygec57mwCANjaSUyOWJQFOOBsrOa0EMyqlp+voH+O9/97/FFT14EwTjjlt/wGtecQVSJo4cPMgN/9u7GV24FFPYtHE9/+9HP8qeX30dWk5nk8sS5gTTEklKarfpH+jl0gs3cfOXb+Tqq65kcGgICYJqR1DMdcyoKbt3P8s73/EOLjr/HDC44pILOXBgN3fe/n1ueO8HWLBgmB/98C6uv/7NBOd5+LHH2LFjO29/61t5aPODbNv+GP/yX/1L+nr6MDPO27iBj3zkD7nmyqsJznHo0AHWr1nHm9/5DorQILmC+FzLmi8DXp4i+4zH5nyJ5IUbHwTvC15xxeW4ZkDEoxhnr17DxIFDmClqxuVXXkVv7xAu9CCuyVnLl7NyzUq2PrIVi5HCh5x54Dqrelk4hVBgzpGsE67hula+lOyRyTUEFE/n2WlmJDNSyovoMSaSlhiKExBTtApW8UChOQcuFAVXXnENjUY/yYTkHKtXrOLA4cM0fIGmyCsuv4KxsTGiGl4cS85axoqzzmLLI49SSL79E53oDIdzjqTZd6Wm1TEcL3iya4WMnIv3gfe+l/Xr1vHsM8+yffsO7r7nbrZtfYzxgwcpegreeN11/Pgn9zJ++BCRyPe+913Wr13LkoWjbL7/PhYuHGPHjh08tvUxHn30UcYPjTM4OMK9995LWU4xOjrCNb/2OgiBFIqcqKYvJ0NxLrXmdcZh1UpgJbxM8yQ0aGsiNBqEoodIgSkULtcsU8uxUJ7AorExkinJDMThQoOR0cXs3rebRWOLUYugiguGmlKqYU5IliPiNDRyrBz+qGV7AyJuZmk/BxiEwqOpTQiedko0fMCLp9T8njIlerKnGq/gVPEo4hy+CCR1VaxWgbmAqKNUwzvHyNAQqkISh4pHQoPRhQvZv3c3i1auwkvltxIHAuIEESFpQpyvRukrUeUqISozY8+RSoah7Nixg69/4+uMjx+mvxlYMjrK8MgoZYw4HBvXreMb7ciuZ3fRKAq2b93G+973PkKjwc5nn+HhLVt4duduStUc8uE9UxOHkfPOQ1Qomr00mv04FyhjBF+A715fzIWbZoN7zmxq4XXGEato5QoRnMuOcrxjOrbAOZJ4XI8w3c6TwEkBvoEK7Nl/kKKnhxTJ1TXEsXP3btZtuIZ2bBOnI+I6U0ZxZhxpTZGcoJq1MhXH8eONst8oR33lEAKqcIdApF0qj23dwkB/gyVnrc6HEDyqOYZJrBODR9YcfQNBMOeYKksoAtr0mA8ggX0HDqMu4EIvZVmSysTExCRnr1xFECVOTZPXGAEck9NTtFotqEaYBYEABUieLnkV1qp35BXYrdu28clPfpK3XH89V7/qVfQ1GnhnfOaTf8lTz+7Ei2d4aITzzzuf799+O+cfPJ9Fy5ax4ZwNJFXOWrKU5SvX8sEPfZCYoGg2KNttekLAUpstjz6KRsOFHkpzSOGJ5WxcWSdA2TGrc5/p1GZjxWzOYn7adpIYOjUk4ikb2YvFZpbLOytiqkpeyHeEokkS0DJiyRA8akp02emMwP0/+ymH9+7HxRJJiSef2M7uXbvYsHYdg0ML2Lt3N1MTk2hKuJR45KEHOXTgMCbZvGonI2oCM4JlLVByzDqBHPzqq+3BeRAHSTAzDh8+yP/3l/+Fr37tbyFF1CJeDTUw80SXBePM5NRO+m6g0WwQy0SZDFUlojzws59xeP8BUrsFknh657Nsf+Jx1q5bT39fP7v37GTy8AHQFpZabN+2lYOHxgHFUiQ5T4oRrCSa5RCKOI1L07jUQtM0KZY8vv0xhoYHufKqKykKD2Ls3rmLLdu3EwViSpg4Lrr4Eh55cDP/9Zvf4Jqrr6anrw8ELrjkYrZs3cKhg4dxIqgZ+/bt55Of/CRPPPk0yQSCJ6kiLhATOO+rIuXzS1x1G9w/D7Xm1UV+oFfez65Q5W7BJTQoXtphvWC6yySWQF7Ud+AcIoJz2WHuvdAMniBCsizAkncIggSHT22+cuOnuWDThYyXLb793W9z/nkbWLF8Gc4b4+MHufHGT3HRRZfwzNM72bLlIZp9vZQJEKEneO6+7QcsfOswC4YWkLRqbeI97aQEcuR4IdA2R8sKpvFEPM2+Xi655BJGFy7EuVDFoilqOR6rRWDKO1JRoNngzSuA4tEyB4KKgAVHMMdA0eCrN36Kcy+8lJZFbvn2t1m/YT1L1yynMT7AoekjfP7Tn+Giiy7iwIF9PPzQw7ieHhoChSiNhueuH3yXt4+9E8HYvv0x/u4bX8lpV+IQTTiffWXtiQnu+MH3OGv5Cg7s3899P/4x41OT9Dd6MBFwxtq1axjsb/LMk09w3sb1OesgwYbzLmLJj37CJz7xF7z6Va+k4Qu+f8ftpJRYfNZKHtu6hYjH4REVghhODEkR7/SktBBf/XtpSZS/oNIG/sMf/vCHfyGfNI/p5C22kjF+pKTEYRJyLtmcp1rHB3J6fh3v2etMcUXg7JUrGRsZw/f0snLVGoaHR0hqOSWl0WB0dJTlK1fyve9+l1e/9jUsWbyMO370Q3bt3strX/1afv26NxEaDRaMjrHpvAvY8uhWfvqz+xldOMqvXfvrLFx2Fueeex59AwMsW7qUdlTOWr4M12hSaqThHZasCujMAayaFETwjQYr1qxiZHiYogics+l81q3dgLMchGri8JIFhPMFq1adzejYQsQLq9asZuHoImJM2f/jhCWLFrJi2TJuv+0HXHrpK1i5eg133H03u3bv4ZJXXMHb3/FOfGjSNzDEBZsuYNuOx3ng/s0MDQ3xq2+4lhUrV3H2unUMDg6y7KwVlFFZvmoVPQMD9A8O4YqCWAl9xOGcZ93GDaxfv5H7HniAzQ9spozKtb/+Bi675DJGhoZZfvZafCjwGI888jArV6zkmle9GnMe8QWhp5dzzjmH6bLNT3/6Mx7f8QQXXnAR1735evoG+xEfGFwwzIbzzgOX4/cMQGTGani+++D4970j4V7i+7R7PuWQHqm8iX2FZ6DXZ+XANOcvuOdeSq1r2JNPagkcnko8ufcIkwTUNaHqHjSrzzRO3SBPCsWRE5+LQohTJY1GIMaEhgKnYE4Ry4pmTCX/5vf/Na+++kpe/4ZrKULWlBwe52UmFUWc0C6zbtfbbNJul0goSGXKkeOFYNGYbE0ycehILpypJYLgvafdVhq9vfT19tDb00OJ4UOgbE0TiiYxJgpfUIgQk2KVS2cmgVsVc0IQydskIEY2fU1peqGcnuKj/+4Pufj883nTW9+c/XF4XJV57opAmXLajRloK9JsNsAJ7bJNMxRZSKS8cCEGDR8oLVWdbwznimqFNlWarSOmRJAsEPJaQF5YmKryF3dse4xPffIT3PCe3+Kiiy4nmiOJUlgOCTE1nDhiWeKcxwdPTIkkgvM+nw8ziqKgLMvK53WydOdFvlSkqi9Ex60RcJQEIgv7GiwZbdCLQYp4CzkB9jmozcaKjtszi7K5p2U2Z3++VfLKfi7nHe224hq9tEm40ABJlLSx5LIWBERzLF21mubIMOp7aBtYMMQXtNplLtULEI1Q9KECk+2I9w1UHBI8Tqo8Q4FHH97K3918c07n8bmaglqO13LB85a3v5Xzzj0PcaBJ8Y0eQHBNn31Zlvd3UhBV8T4gakjwpCrvERxejFaK+NCAZEyVOaZs8cpV9A6PYI0GWplbyecw15QiXhyCJ2pJT38/ZWk5RcdBW3KiuUl2hEsjMDkV8UXI+cKqRE04FXwoZkxIxDNtSigKLEa885RkjfHgwQPc+Pkv8iuvu5ZN511MOynmPKaedk4KwgdHqyxpNnsoKz9ZEiVJzjcI3mNqpJQQ3ynbdLKcihRunfHIPN/Ij26Ndvx9as1rRqWdmEo8vnecFk1KF0ClqjY0/8TWLKFKJAZwWdtwBlrifcDMUAzvhBSNydYU4j39jV6kSuVJSRGRyoTuFG3RHFqAR0RQreJHzVDNTRTK6WkmJw5n0yYlEMV5I7ah0WwQeps0mz0kEcQ5bGatzONTpyRMqj5fZhKiZ/+eZs3HGeI8yXLuoBcgKa3DExQ9gaLoIangRMDnmlHeqEw/8GSt0iwLL6l8n2ZaCdxs5lKV1VFNYNlhnpUrzcLVuTnnLHiQpEQEDR5tK5NHDjLY30PTF0QRkgacE5JVHRMkJ4oH70kpETXhi4BWueCmCWdCUQRi0hcUnzqjMT9fK56XkNk6EsfXvPrMcCnmPZ9H86qFF9VqYoKJMrFjz2FaNGi7KhCzWimDzkL0aY5mQdX9THWuOMYXEqo1ydmVn+rYHDmi1U7+Ru+cN6+GuVSZ3wAJE82fL1VSdRXIqi5vUwSX3As2CfL4U1c1AsvaiIKvQiBmgwhe2slbEHGWiASSZL3eWyJUJZXUCkr3woIb5lZFe36ycM/mpXPutBNeDsUs+zLBETRX/1jYV2ThlQxnJxZetdlI930/V5lV1Tm3vKKn7UpjxogzlV/DzM0etdMHvFPAxapgS6p9YUbcadfvL4pQFdnL7uOZ6uNzPkpmKy6YQ7rqNUkldHPQ5wsTNZ1VYHmOIXcfpXTtcPTn/vKe3p2lIEWsczW062dCtFrlPcqV3U0nU/WFCq/u2mJandeOQOvmVJbPEQwzrapzWHVvvjhq4dXBkSO2AcgF4bIZkG+pbMwA6aV+fr8YhKKTclNtMaogbDoCoprQv/C7tkRSju/uzFMDSH72dzwyI5aqLa67Kmi3QD3xWfaaY7/wx4vCO6quWZfhL0cJuhPUvDtJDKedu8bnLux0Su4Igs95oVUhSGegcvyxiEJ++9GVsI5Pp3RPWZZ4Pyvyun8HEEvHnIuXCquOxTvDVKoKIv5FpQfUwqtDqqyNyvTw1ilS11lxhNO3/PNcOs/7XLHUsKQzOlfn9ZT8cd6R6Rgy8MK1ktD9GanjR5ytmQlV9dSjan1WmUtkw05ntI8XZqJXgil1jM/jleqWKtxYq7SpYx8+Mc2+74XKMTnqpx33NZ3JJXCpk0dpVXACmAqzZZGzgNI0V4nsvm6dM3MiOo6gjrBS1Zyzmea+91ROfu2EgGu+6qG75vgLpBZeHTw0DAZ7Aj3iq2jxUKUR5zOqhFPn9Tre7Oh6zQRKhaeOJALKaH9Bj1MCuTLD0W/PR+Wq598v/vGbU2vy7dUtvLLOcbyz2HHQvxi6PUFHv1cq4ekq4RXxHL91SkckvBi/0gsj1wiNBDq1QrMe1jkvjkQ4ZlzdImZmPLNrJSfETJhU5cl94+w9NM3ZixcwOtisxHg1MsshVKfqfp5VsATB4ZPQ14Aw2+XmhNTCqyIIuMKzZuEgUOkiKXFqYmGOxWlH6MyaFp1VNwzUCwen4W8f2U+/b/O2y1ewyCsNU8wKoqvsM00UdrSL6Jd/jJ3mHtXIj7PHzxNDd6IpWOUmdtMdJ/lLptsS8ked63xe5MTjmXsCT/AHPePe89Ceks1HlHN7CtYu8Nmv5vM9XZTVAsmpshvnIDgpkCpmzXkBLU54vLXwqjjeU9d+rgDAXzCV8HJdbo9Ok4nOQ1mA8ekWvsiveXKdeUxnn+0CXnTm6V8zT3gRt2KyWdO/9B5BKKwKXwE61TAwcgjIaYJ0//ICnqX1Hfw8nC5Ly91IR0rB3BZYAjirIr1tpstXjthmpihhjteCl0TlqDklHO+2FTrXXugk7Hen8s5HTh+xW/MLoePVEMtpPO40erLW1Pwiqe/sMwyPJ0rlZ1GrqoHW1Jx51MLrDKSzvJ7XcepL/HLjaHfRqV9u+uVQ39k1NTXzklp41dTUzEtq4VVTUzMvqUMl5gEGtAOEZHhVTJTkchXMYLmbjpghDsoq4DGYEazM9aBcjqEXs5lo/NMwCqTmF4Wz2fywY6qDHJ3QNH9vhFrzmgckoBSqhGfFFEqU0hnJOl2cc7HAtivwGulBQSNJHVPic+0kVXzSnMxcc4aiILGSTQHRqrN3oKrwFwAPPr2win+nMbXmNQ8QcvKMq0oJC7kDtqqBOKI5jMB0TJgqJkbpHKXrIVWNVZ0mCkszOXY1L0e6hJU7Jkds3lELr3lA5yHpbDYA1SePFzjcMqyZq4vG4Gk6JRE4bILHo0mRdqRZKJILCeeejaf2kGpqfm5q4TUfMHCWMF9VHI0OZ0LZijywYxcHQ2Dh2AjeF4gJ00WDxyfBjkxxeO8e1g4EhleNgTkSilalf2oBVjOfqYXXvEEp8bRxFA4aCRqFR3o8P330GeSZEpEG7QgTCt+5fxybPsRijnDe0hXgAhojeE+y2ZqqNTXzlVp4zSvmFGzGnDC6cATdcYADJqToUFHa1uRI6RmkoOgbYGjBIFEMaRRodPj6qtecAdQP3/mAQLVclEudCGi1aLSgr2Dl4jHMHEdck5Y0aIcmLQSSsWLRCM1GpzigQy2XFa7XG2vmO7Xwmg94MC8EhZ4IPaY4iQQpGfKwdrifHnOUkuO8DChimwVNWDka6KnCfXIZOiWkErH528ytpgZq4TVvSFSlew1cArGI02n6zFgz3MuC/gIjV0kNmmhSsna44KzBgkZK+M5KpTeE1rxfJq+pcb/Mxk81v1hUqi8ABZcSPiVGm45l/Y4+SpJzFJoYtmlWjRYsCEKhijcjYPjTu/3Ry5bZJmlHN9Cx426tqYXXvEEclAGmA8TgKqeXVFUHYcVYgwU6TSmCY4oRX7J6UT9F1RW6SIlCI8kFYugj+drrdTph5D6Una+5inGnp3utLnfj6sfwfEBxZdaePMwWrMchVhKcsma0hxW9Qq+WFBhLlw7R2/A5LqyDCJ1koprTi06LkM5XfYVOTOjuBz23e92JW5DXvESkrD356KDwMx2EJOXWZUETI43A+sX9bNs6zYCPLB8epCGCpE57jk7B+04LrhfYX6rmJSA3hHvuvoyzPShrZgn51u62qSuZr1Lf26cL2ulwp9VNDlE8BQ0MQ5LSG2D9okHu2XaAwYZn+XAvDQdF5xlUxXY5qv9rPRFOG0RQ15l5nQZ33dR62PEIpoY4zUm+kJ0rudVyLehPE8QcYrnXcsd964BSApAQZxTAon7PygWeBf0FY30eH0HR3C5NBcQRXG7RoadTW7eXOclANSvGwQQxDy7NKVuk1FPyaIJDwSwLLxdQm+k/c4qHVtPBiSAWcqyWZYeuQyprIswYFU1nrFs8yKLRXhrk+l3OOWJHixZANQsvX1/f04VIpRwblAmcBxcFH2xmGua+53VwcTcBp5CompI6IjB5pEVUmenMXHM64NAZ3atj5HcukM48lReP9lN4YfpIm+kYOSKA684Hspl31GtXp56sSQtJhAKlYUZ/X4OGDzkV4rg+sBqAQKw6L3tHS6GdlP2HjzDZNpLUcv50IRGq79mJlb87ogMTJVT3eOkdQRyTprm2l3NoyrpaZ1FGsqfsVB1KzVHEqseTeGWscPT2Nkgua9dS61rPSaBTk0xyjRQRRxJH9IHo6gze0wHFU+bqXJi2cRIxEY26AnYAACAASURBVCJFDjsVSJKf4QnNIso8OEGjkIrGjJblURyxdgGfRrQRCgTRFtOS07wKgYQQqodMbmVX003orKJjiqgjiVAitBFSbVcc4yTVF30LPdeS7Yv7nFi9RxCC5QTrHOyQKCUglp32IgVpRlQJhECpVJqWoeSFR6v0r+cfnTzPHid/LN3v6g7UmcvLaanbUXohJD/jb1YlL7SgORa5+lczS1BxeFEMxbucf6Li8NTWNhzrJG3jeWGTtbNPJzr66E/taLUvbJI2Krduroca5kz2gjgbymUgBIwIpkCk6NrXRMHAU6BEEtmBbyHXPZfkK2MlH3mkfEHjO5nqStL1rpLuM/Hy8vUIgqkRvOGxXGXegbfZ85DwuNqInEPI0Y6zDl+xbkdwzdGESgc6Xu+V2cknJAKCzBEc3cymgCSkEiCz7z768+bSLbjkmB2PFpZzdZpOz4UskrIfTACJ3cLHE2eCJqWqU8FzjjEvIpR5BfR59rNK84MstLrvss7D8uWkb81iiHVMoK6O57Wi9bzUTq0ZOhrV8aKcpXpdq/VYoNs0O8b48V1bs4CYDUDxgKu+A8SuKW9HfV5nm88tzV4AnQvanS/x3HR0n9g10m7NUgg45ARa0OzInl/0ZP1e8TMG0GwWh6tEXzkTKF3P3JrnpxZeM3QEV57ycxMyss6QZgSLcnyda1boeDrhDFlAKGVXBLXMiMO5EdXH07mefxIfPc1d18+OJnO0EDPAXETUZgzY2b+ciEjl9s9auDuhsZJekNZkMz+NNPM3Z71rnbP68tS+al4stfCqsKrWKKYEkSqNxogpcWB8nIHBQULRV+lJfo6OZGaICFalD5oZSMRwMw5+rQJMXeVzcqIzYdWGRy0Ho5opInnVV82eZzLPhhKLGU4cZsbBgwfoHxigCAUew0QwM0y6jDRTSCVHDh0kttv4lIVd0Qj09A8Qmg2iVKEYeJACTQnnfdUnUqpxdcxKqbSqfAzYscI8fxeEQOwee/WLWb4CnVFKNW5VxXuPqiK1HVXTRS28KiKJZnCkMmcciHNYLNn5zLN89ktf4nd++3cYGWninKetiSDkVCpVVFyeWB6c5QmoVmKmVQXTPKEVwUvEqRA1UYRAW4XCObRqJuucI2aJCKpIKCApcpwGoVkogTihLNvEMnHjjX/N2972G6xYvpyoCecLioZjaipSNBrgqppgRyb5wmc+w/atj+FS1dSjKFi/cSNvfNtbGB4bxZwnOiFaGx8gpphLUOMIhQM11AxipUc5hzmPmFarmkKp+WGQXO4zGczhnJIsC2hTUMmabSMEYqvEe18JcZkRXM7JrEysqaEWXjM0RNB2iZNEcA5rTxGcoywneXrHdloTh2FkFE1GX/DEqAgJw1N40Kh4HGaKmlI4I6YW4huIg2SGl5wzGgqBqDiLBDyxjDiXK3mI8zjNpl6z2aQsy2M0L6FKJSHh8FirZMfj2/n+rd/nju/fxpvecC2qJUcOT3D3T37C+rM3sHz1agBiO+aQvnbJ5OFx3vueG7jiiquYnjjC1q1b+cbN3+L3P/x/83/8n/87S5etwEgk75hKiR7nsqaoCYmVMaqGC0LhAjEmJEWSaj6H5JZtahDEY6p4L5RtJQSPWSJZTl1qmkPbmlfZhLwdurSt2qCsmUstvCrMEoUXWoeP8MSuXUxOHGL5siXQauE0EQqHaKRQZf/+3ezbvRdfFCxduphGs5+m97QnJ5mYmqK/p4cnn3mSw1NHGB1bxOKlS3FOcCpMHpli25M7OLh3DwsWLGDF2nX09PThRFGFqSOHePrJZ0mpZOGiRYyMjuBdIJocYzYVLuAMJqam+MFtt/P49m309fYiIohzPP3UU3zh85/jne96NytXr0GT4pwHTdnUNcGFJu2YoK+Xcy65hMWrV/PlL/8NX/7i3/CP//E/wff04nBMHjnCI089g3OOZYsXMzQ0hInhU2JyYgrX08ezzz7LoUPj9PX1cdayZTR7mzSDpzU9zWOPbGP/vgOMDQ2zbv06Go1eTI1oidbkNE/v3cuR8QkWjoyyYGwMC01CIxBjnDEha2q6qYVXhcc4sH8vf/4nf8r2LQ8xONjP6OAQV111FcEMlxRvym23fY+//crXaPQ1aE+3GBtbyIc++NucddYSfnLfPXzzm99k06ZNfOeWmwkSaCd493tu4LWv/1WmJye46Ytf4MH772dseAEH9u5mzbmbePd7fouRBSPsfOZJ/upTn+bQwUN470mqvOs338lll1+Fc825bnypAhhSpK+vjxtuuIH29BQf/8gf4sma5Mo1q/mf//m/YNHSs2bMs6IIaKngAyaeZJ5U9NK2RHSB3sFh3vyWt/IHH/4wTz/xNOvO2cjDD23mc5+/kSNT09mvpfD+972Hiy6+mGd27eKzn/lrLrvoYr75jW8w2WoxNTXJm697E7/5D95Na+IwX/7yl7nnnntYtmQJ+3fvZs3atfzW+9/PyMgCxg8c5Atf+hKbH3qIoaJB68gkr7vuTfzqW99OWZY0mw1iTLXwqjmGWniRDZJyaoovfvZGmo0Gv/f7f8DY6BDbtjzGF278PDG1cZQ8/MCP+d53b+F977mBiy64gKnpab757Zv5m899jg/9o3/IxOQ4DzzwM1atXsH/82/+kEZfH9/5zi383be+xYUXXsiTT+3g2See4sP/8vfo6euh3Wrxp//5T3nkoQc495xNfOK//GfOP+98rrv+TRTe88DPHuBrN91Eb7Pg3IuvmQlY6JQMNlMKH/AeekLAmeGcELyjVSYGB0fYeM4wSCBZLo0TYw53VPOIOKIpEUjiSDHR39NgbGwxA32D7Nr5DCNDA3zqr/6C17zqV3jdtb9GLCP33XcfX/niTQwPDRIagUcffphyOvG7/+yfs2TxQh7d/BB/8am/ZN36s2mXJT/96U/48O/9Hn2D/UwdnuRP/uSPueeHP+TaN/4aX/vKTZTtaX7/X/1f9Pb0s+vpp/nUZ2+E3ia//sY3kWILs6MDg2cd/rVIe/lSR6OSJ8HhvXt55KGHeNu73sWS1WtwA8NsOP9SLrr0FQQH0pri3ju/z/p167noslcgjYKB4WGufcN1PLVrF5sfeggjMLp4Mde//V30LT2LYnSMq1//eqSnwb69O4ntKdqpjfU00GaTMDTKb773/Zy9ZiMPPvgw5hq86c1vo69vkP7+QS674jLO3XQuP/nxT5GjNI9c0dzNxHOJSJWeGolaYuJQV9B2npZ1nOJ5RVIQzBIiCe+zX6rAKLzQnm7hRejv62Xnrt38+N676e9p8trX/Qqh0UNP/wBXXv1Kli4/i/vu/TE+RfoHBrjune9m2dqNNAeHuODySxlbsphtO7Yx0ZqipUYKDVJo0BwZ4f3/5J+y4cILeXbvbh7Z/hjXX389gyNjNPr7WbZhA5e/8mpu++7NkFo4y0eaw1Q6RZJztFwdbf7ypta8KiYnJnAiLF64kLYZPS7gm8J552/izttuJcbEY488RmNwhM/c+FlSKrPPyHkOju/j6WeeZmhkiJ6BPsZGFpAEYiwZHhxksK+XstVm0/mbePypJ/nDf/9vWbNmPWetWM4lF5zPorEx7rzrTg4fOsSXbvoCqBDEYWLs3rWT6dKOG3Bq2X019wlkCcRwDU87pbxi53ImIxrBB2LKq6CQzWWPouZxRBrNgunDh5mYmmTh6AiPb32IqcOH+epNX6adDBcaiAl79u5CLIIKff19rFq3Mi9fuEAjwNDQAlqtFlddfgX794zzHz/2MVauWs3ylcu48PwLWLXiLH70o7vYv2cvt9xyC83eOxBzqMD+vXt44sknmToyTv/wGMmykK7VrJpuauFV0U6R4B2YEcxIZQvnPWaQYswhBk5YuXolGzauzyZYUpw4zjl3PWctW8GjWx7BG4TgSGYU4kgpkqvVCoNDg/zG297KNVe/hseffpotW7Zw+63f4Td+422k2GJ4wQIuPP98ynbeP2pk4znnMTQ69pzjVnKqT062BlOf46NSBPFYMiSAqGFiSEp4IHYknuVekIXkVUFLiYnxQ0xMjLNo0SK2bHmI4dFRNqxdhzablGXCi2Pd2lUsXTKGBFBVVAQngiZFJS8meIXBngHe+pbrueaaq3nq6ae4f/Nmbr/1Vt72luvxocFg7wAbzl7LwIJhJCktwG3YwGtf+1qKopcUNVeD9fWtWjOX+o6oGFqwgFiWTEyM09vfjw8Bb8Yzj++gUTRJzrP87DWERoOrr7gid5/2Qtku2b/3AKNjIzzyyEM4yVl7ZkpwPkeqC0QxfvrT+xkeHWH1yrWsWr2aq6+6iq9+8XN89aavcN0br+XBBx9k03kX0t8/QKwCX/fs3YsvGogcW0dTNMek54h1IVUJvoIHc+zdu4vvfe/vueSCTZx7zkZ88JSmMzmI+TOgkwcgqrSmp/nurbeyctUqVpy9hmWPb2XXgYNcfNkrcH29VWGexN5duxnoa3Lk4D68k9zUVgwvOScypoQ5z90/vIslK1awauUaVi1fzquvvprPf/GLfO/b3+WG97+HRrPB2rPXcfaGsxEXiO3E4SOH88Okp4cojhAatJLVZmLNHGqfV8XwyAhrNqzny1++iT179qCaeOD+B/j7225nKimht5fXvO71/Oz++7njRz8CgyNTLW7+u2/z6c/8Na1WifMNkiWiJrzzxJSD6KvePzzx1DN8+tOfY8/+/agak0eOcOTQYZYvWcb5F12ICdz4xRsZHx/HRHn4oYf52Mf+I088vqMKk5CZfw7BWf4No4qgFyR4kuSwivEDh7jtjtvYu2cvRZFtTGc5qBVykOuB8QPs3buH3Tt3sm3rFv78E5/gjjvv5F3vfBcDQ0NccfUr2bd/H1/75teJ09O0yxb3/fgn/Kc//ROefGYnkYJk2Zdm3pG0xMRwDkw8D2/bzqf/6lMc2LcfBQ6MjzM+Ps7Q6DArlq9m3foN3PS1r7J7z15SMvbs28uf/tmfccddd+NcE8QRY6xyGjrJTrX9WFNrXjP09Pbz5re/gz//y7/kjz76EcbGRrEycfGlF/PA5gfwRS/rzjmPq1/5Gr74N1/h9tvupN1uceTIOO9+93vp6x+gKAqGRkZR8WhUnPeohwVjY+ADl15xOQ8/uoU/+uhHGB4e4dChw/QU8KEP/TaDo4t51z+4gRs/+1k++vGP0+jpYd++fVx26SvYeO65ZBGYy9vEmFcVzYFqJIgnkTBJNIYGCL7AgFWr1/C//ov/hbHhoZlUGwkBrepARISvf+ObfPuWWwCYnpxk0dKl/LP/6X9k1eqziQajy5Zxw3vez1e+9jUeevRRfCjYs3svr7/29aw6+2z2PLuTgeERwOENvOSI+P6BUXr6+rnmqqu48cbP8u8/8h9YvGQx4+OHaCflg+97P/jAtW+6nk//1V/x0Y//MaNDCzh44CDLVq7k6le/mpLK9NXKZzezzlqLrxqQVKo5yfWgSjwTyfH4viO0y07tqjMfBxQWUYVDE+M88dQTTB6aZNWK5SxeuIjDExP0jwwRigJU2blzF8888xTNZoMVy1cyMjKCmhHLNocnJhhbtLha2YOkkUMHDrBgcIBQBKampnjq8SfYf2A/zZ4e1m9Yz9BAH+0qCn18fJxtj+8gxpKzli5jyZJlFEWBokgVqBrLEl94JGnOXfSOqIZo5MC+PQwPjyCNXmKChhcsRpxTXBFopyoHU5UD+/bSmp4ipRLnhL6eHhaMLAKM0AiYgZUJ54VDB8fZvmMHpUVWLFvOkqWLQQ2PsH//QfoXLqSQXH+i4Rz79+/DiTG6YIiy3eKRRx/l0KHD9Pb1sGH9evoGBxHvSUkpWyXbt21jcuIQw8PDrFxzNuaauCIHqQJVBsKZSg4FaTLNgiasHBug6XPV206FkxL/glLkO7XQ9sfAtx7Zz927lPedN8xly4qqOlsuJF5QItFDmL/ntRZe5FAJlxJ4R9Scp1f4gE8pO84RolOiQoFAynmJpUYK36ic40JMSs5/9tmc8w6zhGrKhR4RJCU0Kb5wBAmUpiRVcA5PTsx2kv1YanlBgKR8+9vfYmryCJjDVynMSY2iGZBQ8NrXvZa+3l4Qn1tpuZD/jhe8RUKVk5nMISFkwWcKliiCIJpDKKLmfgalGiIue9TUclsu54mW05UariBqToXy4nNepoRcX8LAXC5uqSkiYgTvSVHxVY5mEsEkEC2nVWlq403wPhfDNCkozXCqeO9QPZPL+tbC62SozUYqT4qvvCqhgahiKeWKEElwRQAUlRxvVBQ+l1aWBq1qxREghCJXgnCOMipiENtGs9kkqhK8oSr4hqBRaVukdIJzBeI87bLEe4eZkFKbRk9BOd0mhKqJRow4cziBVHVOaU+36R0aogg+F5qRbDKKOUII2ReliTYJU8E1CtopC5hmKBBzoAm1XP/CeU87Kb6nB20ncA4nWetrp4iIz4LaQAk4DylplUxtWBJ8IyeqlwoEhyi0FBJGcAFnCXOBlBw4RzTDN3qJsZzpimRq4MAHT7vVoiiKOsq+Zg6hU3gqWe412ykFp4C9jEqQzJQgtEThA0kclgQVy8FU3uOdw1XVIRIJ5wJYLgdTFJ52u0RcdqBT5LK9RdNTJsUVecKLy++XIDgKvPeUmhBTispUU0v40EOKIKEJAm9805sBowEkrcoWStX4WhylahYmSfKqnRgpJYIzfOHwUcFBiiWFONQJbU04heA6GpaAE5wUtMqI8w5RJVU/xRW58I3lelzOUx2TR8wRiag3SEYpeZnCuQJESaK5zI8XyuRwEjBnRNO8aqSg4nGVZmYiBIGkRmjkc2BnqvZlDnOKaq4uUhp4yzXsOzMwzPj8Xj5z8kTkBhxesEieeIBoqipqvrzIR1yZKAapW6PWRK77MCs4zOLMy2WZE4hz3RZDdLYIoKsqA87edrnsc8pBZJX6a3TPzRkzSYxogMsFpVt5iDPMjMd3aq4GtBqgCzmhOaWISKrSaVwOrpXqY1xX+cXOU4vczGNmQKmTmDS3oqrqbDuSjs4kAobOqvRVFxdvVfnFCAE385kzd1klxDrKlUPpNHE3szO8HE61guqqVeOjM6ESiNPqgr385uVzETol4RxGUjqyjCBCnClg93xVQ0+0rXv7S7HtZMZ4nG3yEhyznGA/OXa/NGe/uTPaAZQlTsBbI/dtJPvTtKq52nYeVPBHf86csZzE8cnMCJ5/v5PadqLx/KK3ncwYT36bkPApYRazxq+GdDqaC7Vz5znIp6WjJXgIVlUU1ZgL7iHz6DY4uTHO31t/9n8dc995qYyLVl4BdR0tMOcGqgli4ElVZuTpfHwvbDzz9/p1fho4JaAUrtPyrOZEZOFVmQuS0+JwGIGEfxm1nzoTSDimaVTXTylSbksLs0ncvZbNjoIWrr6+pwcqIIIXpTDDdbLt5ywECrW/ay6hc468GOoi3gXGhgcZUbDq5HVXIO4k9L7Qbd3bX4ptJzPGn2sbzDxOX+pjdl0+MgOmEDbvnKDHCysXDtIvmoWXgHqwavE9iy+PpJM75pfq+E7VNf1lHsvxtiUBSVWrFlFC6Na+Or90GqLVdAgKpOTwLi/5e6Cvt/Ljn+LB1ZyAGY824EBaxv1bd9HfdKxfPsSC4OkhdwgqqdwnauASiYC+jFaTT2eMvBTSmW+djlBSC6znJZuNMzexkhfwO37CVCuqpzHdrWoFIZgwGRq4kE1Eb4ZLEQc0Z5ZKsz/TOckrMzWnnITgKiHVEVW14nBi5vq8zHIApFTS387QuJozhDmLkWaVX8th1SPHM9v73NTnuD2J1ePJOMPjD+YNXsBVYSliVQeSWm04IccswnrN/pHu1qt5kghgR/kKnmsbmMyaNPJ82zrL9D/PNqjapXPUeI637cUey/Mf3wmP+Rd8fN3bOuSOh0Lyz9Xb2hOdo/QgBIrq6jp1p/Xxnapr+lLfs87SbKVc3zEg5Ziu57UROZcwI+M7pqPMzo1Oo9JZJ+PsrHn+bV3bpXt5+Je07aTG+PNsm93+khwz1bbOROtslmoN0RQnvrqEHm8lTXKgp4mQfDYjg0InkKJTXPG0Ob6X9PqdXvesSw4s1TESL5Iw0+pdZpWwOibuNORory6dCWF09K283OIIKVd6dxjReUrJ6SaNlIA22bsfjtHgak4RnYoZMvdhUmtaz0+o7995QnfrIGZlWacKvSC5CxABoT2rPZMfRiJUvs0A4sB8LbxOFwRqMfXiqZWs+UIou/4jQKhSfjIGlFiVJedp022qdPYQVALRC4XUsqtmflOL+3mCikercjRgSNLKhzXLbJV7qb4LRbUtxFRVx8gv17H1NfOdWvOaB0QgVm0zskCK4CJEI6RKZCk0IjgpscpsVBOEhNNKcIlgpRKDo1E7h2vmObXmNU9IdMxAIVWXLa/ix+rVlBvKaplLRgNtE6J4Yqo8ZKkF8nIsdlRzJlJrXvOEo5qe/f/svWe0Xcd15/nbVXVueAEv4AF4yEQgEgGCRGCmJFtWsmQlty1Lsmdst6X29Iy9ptf08ozdvdr60N1eXm5ZTpIsS1bOgVakRIliBgQCIEGAGSRBgCCR48v3nqra86HOfYkgAYkUiQfcPxaJh3rnnlunzjm7dvxvwBCNomqJRojGUAvgTIZqYESg5JK21mJKkCcBJiTOrabe1cRUR1N4TQFYUlUPJJeXFYNHGA6Bk0M1bLWMZkKfKDmWmi3RrxA85LWAq3kWdGSUCsOToidkE01MZTSF1xSAEMhCI3ZoiK4QXggPHTzB8f5ItbsLWqoMqsNFZfezI4ShYfpPD7JkTguzOrvIxBREr+b5jCtNNDHF0BReUwVSZMYXMEDFWWZ1dbJj7x6O9cGgyxE1xBrcu+cUxg/SbZUbZ81L9MxG0JA46KVpODYxxdEUXlMCltw1Yo2Ci5ESEaMws6PCtNYqB+plBrRChRxcC14DbSans6tEa6ko0i5sT5GU1tpEE1MZTcthikDHsUVA6rNogGolY96cHjIrOPWocURjMBooKyyY0UbFFrtUJHXats3b3sTUR/MpniLI8DCaQS9FVa9QNjC3p50W6pQlEMRQ9wGnOd0thnnTK1QAE4vPF92CmmRHTUx1NIXXFIGgyGgpdhrBJFfY9GkZs1otLVonKFiNlPDM767SVTW4GArhVZBAa1N4NTH10RReUxDBAGIwRGxQ2gTmd1ZpiSNkQMkKLZKzYFYLrYBTXzCHFNliTcnVxAWApvCaEkjNbSdnxmtQSiZSUVjYU6bT5JRiTjnU6K5m9LZllAEbDeDGyNFtk2a4iamPpvCaKhjXcVtpdMYK2BgoCcyeVmFmW0YljFClzsKeNtozQ0kKNSs1dUSQRm12E01MaTSF11SBnumfAprjYk6bFZbN7abMCBVy5k6vIlEIQcFBMJY6ifbZNu3GJi4AuImpjwnNtgznF8ZrXJN/kzQpJQNm97TRVRqgvWSZPq1MZlI6RRA7WsytBfOqNvet8xIT3kU902ATDbhAygGKscHwlIp8mwLs/IHBgQsTOLiiBaJLRqCk/K3OEizrUHqmVekqCTZGvJrRtlqQqHVskXLRxPkBBWJMFPY2gjGKRsWopM7CE7j3m5tOA0XTWdAYsQLROnyMqR9Ns3j3vECD7nkihGAmEtqXgDW97bS1lckUYqPl+bidKAJ1bLO04jyBQpHBByYqJkBFG52FFEIcJ6+agms8HIBIRASigPfK8cEhRvKiu8wk+pQzabIvNjZ+/JUY+0Xm+HKPnW2Ov8xrjqUS/fXI0IlBJEbMJJnXoI6eqtd3Id6/hhacBWixYFuqOAO2qTy8KJyF1DPOQIwGDwwM1RisG2o2A5hQxKujruJzGxs/euaxxv9fythLm+PLPfbLvL4XvWY1eFP0ZFTIKCiji2NSZn1R35iOmlrX9wqNvfLPbMSRiCSpZLRbwRiwschraZJ2nxGuaJaNEUExBBEUi7cOT6Mx2lTax36ROU71vbsYFwMSQQ25JDbVEAJizPijxsFMGj3Pr+8VG/tF5viLj4lE1EREPTUFL5CpoAYkNrWvF4ITIlYUVQhEPJZchRwhdf9rLt75i1TpqEi6TRpRFQwKUfFWUOOSw7+J8xZeAzGCjRlqDIiglnGVECmApkjT6zUODiIUwssUO7S3tlg4T1Pz+kXGzjbHl2FMwdoUpVICouCcQX0gasSoIDFDDOmgCWeK44zJ8/T6fq75TMH7N27MFpTeYm3RfQBMGH+MxdN0109G2pIjkxQsSekThbxv4nyEEnxIQiwzGLWEeo5FKVmLilDP64i4cf4dRh0BzVSJ8wep+KvQmIuQipA8ANDQr5uYDKeTev+NR1PSn79QSZqyiYJGRRtdhDQSY0QkFTCqKsn8B0NECudv896eHxgTSh6jARcNRs98TEOVaDpyEpxGi4gfGxm3cPnzj7/okOJ15ycEQz2mokdFiSEgGjFiEAEnlmAt6tPjHrAoYVz8avKVndmsOl+v/0KCFGaixER9lJhuA+NzXQpCoyYKjHpyJ6uqcP6+tC8NBtVI0IC1qdYvatJQjArWZgRNxTQHDjzLkQOHuGLDelRT8EIkR0QIqiCCUQMENDmXEAURQVWJKGoEHzyZc0gs/BsaR8+Rjh+bXRKWEUEIMWJs8bjq5KsQYow4IsF7fvC97/L4Yw+hIzmLVyznzW9+M509s4j1AGSp8YYVVGwyIzUSR4a4d8smTp04jlcFW6atfRorl69gXu9MjDPUsERtRMXGJupVsVhEhBglrYUoaF5ckMFHg3UG7yPOCoaAxoAxlhACio76WUfPr0kQJ65FQ4wRawRVQRotlArzKq3WhaFDjqaKSPovChhV0jaTrrOpcU3EhXHnfy44jLGUsgzVmJzdLpBZxQIx5BhSAtwze57irtt+jBARB2obLcPGKgNVAioQQo6RlHIiUXFpEGMFY116uQGCYo3BR4+xBjV21BRQoxA8ohErghVFVIkhcbu2GQAAIABJREFUFubfGAwpiVFDnS9//jMcePoJXn/d9bz2tTewf88TfO2LX2Tw5HE0H+bU0QPU6/2EMIJqwKtiRKgNDXDzt77GUw/dT//RAxw+sI/tW3/GR//x77jzx98n9PdhxaRkVxGsKZjvjeCMAwziBLUR5yIaPZkqEgOoYgXqXrFWUHIExRkDGnGSzlm0M8KIYGLEkXKcgobCRhJi1EJ4j4+aXmh8sJairx2Q0iSKZC8MgfG+sCYSLsoYumpMETmJmCwDX6ekStCIcY4YI7FWw4Q6JQdSH4GSYrMM6p7MJc3BatolnRhiEdVTlBACzjhasoyRkTqZWKR4mSuZZWh4hGqphA+BqAYxYDRiQnohRQ0xr2MzC0YmRQYTPElQ7nv2ALseeoS/+LP/TG/vTEQiy5Yt428/8hFOnzpF7dhxPvyRv+dt73onb3zDm8A6vPcQTDJOrOOtb/l1Vq1bR06Z/qEhntu3j8/9yydQEV7zhreRWUsMHomBrKE1WQVrCHmgnFliXqfiBK3VaauUqOV1PIaKKWE0EkNO5ix5HnGZJQq4oCARj5JJiTwEolVsUY0Z1SMRsiwjBJj46l5or/LkqP7YP8/wmya4SIWXiKRaTusIuUdRBvr72Ln9fh7e/RRWhHVXrKEU6thQp1U8eTQ8vXsvO3Y+wMkTJ2htb2PtmjUsXbIYdRl9p07x5BNP0tndxb333kvfkZPM7JnB69/8RmbNmEnd19myeQtPPPwopwb6mNk7g6uuvo65SxcjQejrO8l927dx5OBBogiLFy3istWrae3owGBSnaI0HmMHBKIGYjS86U1voWtmL3lUrDg6p/dQqbbR3z/AtO4uLlmyiM62aRCU3NewWZZMWlIta3SO6DJiECqt7axYvZo3vO2t3PK9b3PZlRuY2TuH+nA/m7fey3P7D4KBufPnc8XaK+ns6OT0sWM8tH0bixYu5P4H7mf/vn10z+jlmuuuZ+GiS7AYDhx8jjvuuIOjx06SVUqsWHkZ111/DaWSxeXKzoe389jjjzHQP0zPjG7WrVtH79y52FJGfXiErFTBK4xlnDe9Pxc7Lniz8Uz7c4zJX6IxYlTRPPJvN32L73z73+jpbmfW3F5uu+3H3HnnbeBT2eyz+/bw2U99gr6TJ1i2dCnic7702c+y84H7yTRw8uhh/uXjH+WLX/wCosriBXN5/JGH+daXv8hg/0l2bt/KLd//Hgvmz+W1112HCfDJT3yM00cO4WuDfONLX+CRXTuYM6eX3p4e7rrzdm79ya0E79EJeVoNAWYxxrFg8VJe+8Y3E4wh2gxjDEeOHKNvaIiOjmn09s7mgx/4IOvWr0/89mLQIhqZixKKhOSIEIwDVyKPhiuuuBJjLc/tf5r6UB/f+c632b5lM7N6u5k3u5dtmzfxb1/7Ck4iAydP8NlPfYyvfeWL9A/0sXT5cg4deo5Pf/ITDJ48ztDQSb74+U9jjGHDVRtZfuly7rnzNjbffRda92z52SZu+ubXcALLlyzi6MEDfPqfP87hZ/eD95ScgxBwxXUn4e24CB7fJl4EF7zm1Sh/Gu8xSk7iosYvCk/t3s22rVv593/w71l1xTrKNuPkddfx3z/0X+h1GfV6zg9/eDNLly3nd9/3PqwRjLmGTb0zufk7N7Fq6SKIdYb6+3jXW9/KlRs2Yo1h/bVX8+f/z5/xK699Lbvuf4BLLl3Ma970epwxrFy9kqiBo0cOs++ZPRw+dIj/+z/9KZ2dnWg0XHH55fz1h/+W9WvXsmjZpXidXOGWHOXGCkSDsRni6zzy+ON86rOfYfXla+np7UUFWtrakCioFZQIUVFTrEkMIBbFEVBiUMrO0d3ZSXtrG8cPHeYxI+zaeT//7b/+N6Z1tZP7yMpVy/nYRz/GroceoKu9hZHhYTZctZHXvf6NqC1z3Q2v5X/99V/xxFO7mTVrFkPDdV7/pjcxo2cmecjp7mxn397dHDl0gO/92038znvfx5UbNxIVrrl6I9/86pe549Zb+Z33vpespR0f7bh7OF5oXUh+ryZ+HlyUW1cQUGvRoBhRnnxsN62tHay8bC3WlhnxyrSuGWy49rVgSpzsP83efc+weNEi9j2zn737n2Xf3mdo7+xg6HQ/xw8fwaiweMkiLr10GQLUgqdr+nTau6bR19fPmsvXsvupp7jpB9/jyf17GfE5v/Vbv8mKJUu5+/Y7mTWjm9PHjrP/6b3sf2Yfff19dLS3s/PBhwhnfD+LVzkq1jjqI4PcdcedfPLTn2Hjhg389nveg1iLMxmZsYgTrJUUgjcGseAwGONQTfxRYkpUSpaY51hjUYU8Bh59+FE6W1s5eewITz3xJPuffgY/PELntA5+ds/dhDzQ1tbO6suuJGZVcilRae9i5px5DPT10z19BqVyK1//5k3cd9999J08xapVK3nrW9/G0cMHqQ0O0tZW5Zm9e9m7dy+HDx5m0ZJFPPHE4wwMDxOjRwkE/JkWoomLFBe85nVGiIHosWIgBvr6TtM7Zw7llgr1EAnW4FSZOWsWz+19ksGBEU6fOs3XvvYVbKlKiIGSCGjAYUGFEKBcbiOrVKjHmKiXfaRkMkSVDVdvxHZVueWeu7j97+9k4Yxefu2GG1l5+WUcP3qY3YcPs3fP06CKuIxaUOohMjA0gnUWHyYav6oRNCcTYWign+9//zvcceed/N7738+1V11LNFAqZdR9wKhNiaw25YRJVDT3SAjJJBWgiGrmwVJyhoGjJxgY7Gd6z3QefuhRdj36CB/5x39ExBI0ohjqtRrr1m9Ac6Ukhmp7Cx4Ba/FRyEoZufd0trfzBx/8I2695x5u+u638UNDXLF6FW9/+zsY6uvj1KljfPwTHwcpgYITB1qjo7s7OfExKfo4bgkaPPxNcXbx4qIUXhIChIBYwSh0t7WzZ/dj1IZGsOVqilYb6Dt9Eq0HOloqdLS18oEP/EfmLLm0SCH0SL1G2VmMFR5/Yg9eBO+FcrWKkmNdoTIF5eihQyxftpLFq1aSD+fs3rWTb3/1JgaG+5nRPYO1l13Ou975dsqVKrkK0TnUgymXqNUDYopQekEnCOAQgvf89Ec/4LEHd/Gf//RPWLxiBT5XylmZWi3He8/evU8yc+ZMOqZ3pfkUXFFqQIq6SBHBZZDnATHCtu1bkRBYtGgxTz75DK2dXXzwj/6IWBzrgbLL8MFzaP8+RD0aA9iMXA1ChkGoWMPpvn7aKq389tvfTfyN3+DYkcP8+Obv8U//9He87oYbmDF9Fv/jrz6MqiJZhgkhccwZR7SGQECNQw2YUH8VnpgmzkeMmo0XUxWjANalmnRjDEsuWUTfyZM8s+8pYvA4hcG+fu7bsoXMCtVyiUXz57B16z2Jntc5rFj2PvMMX/36NxgayclVicbgjSGEkLKQ8oBRZah/gC996cs8/vhjWGOotlZYf/mVXLZyJQcOHmbD+o3sfnI3Q8PDWGOxWcZA/yDfuOlbHDlyDDeJljvFGxVVz4ljh/nhD37AW9/yJpYsXkRUJcRAHjzGGPbu3cuHP/IRtmzZUmTgAz4iPsdoKBhFlOg9mnu8z9m3dx83//BmbrzxNfT2zmXlytU8/dReTpw6jXMWVyozODDEl7/1TZ47cISoihWlZAQJiWI6qgeNGGN4eNcDfONb36QeAohj/vwFXHPN9Rw9eoJp06aDMTywYwflchljHJKV2bRpE3dv2UxORK3Dy8Xl21JGU+CaeAG4ogJ7Qo29HV2wqe8SO3NRq0kcZia96Jdevoa1ay7nC//yKd785t/AlDIe2LkDm6cS9fZpXbzx136dT3zqUwzHL7B67ZUcPfQcm+/ZzDXXX4+tVBDnEHFgLGoMTgVjylgcpZYWli1Zyjc+9yVe86uvYc7sWRzYvYdHH97Jb//hB1i0bCnbdu3k81/+OlddsxFnSmzefi9RDe3t7URJvqpGMqsl/SAGnti9m1OnT7N795M899xBgklF2l6EtWuvoGv6dK66eiNz583DOUPQgkVEBOccXmHLz37G/meepRYNR48c5eGHHuZ1N9zI697yVuo4ll62kiUrl/PZz3yG6667hkq1hZ9t3c6p06f5zXe8m0PPPsOgWmoiVEMNJx4jARVlMA8sXbWUm27+Md/++tdYvfxShoeGuO+++1h3xTqWrbqMd7793dz0jW9w9NAh5s2fx5N79nL31u388X/4Y9AyhFT5YML4+6rIBZP91OC/SWkgjfRbqwaigrtwKgleTti//NBffkgkokrhWxD6hnLymPgdBYNM4T+N1IKxPzo6rghRUqLm8qVLyIxj6/Zt7H7ySa6+5hquv/G1TJ81k5nz5tHVPYNLl61i776nuG/bzxgeGeENb3gjG66+BluqEI2jtaOTefMWgtjRRMu6sSxfvYZVl6+hra2FR3btYvumn6Eaeds738HSNVdibcalK1bQP9DHjh07eGrPHpatWMHb3/F2pk1rR0mMTpYxZic0YguNrGdGD+0dHZQqFZwxuFKGK2XM6u2lp7eXVZetYcas2VgRBIMpBKEnlYNZI+R+BPV1emf18pa3vZWN11yPVNuIYsnKGStXrGBosJ8Hd97P7sceZ/Gly3j3u3+Tclsb4kq0tXewdNlyyuUSohFRxWVlZi9YyOw5c1my9FL27H6UB+7dzP7n9rFs+Qre9BvvwFYqzFu8hBk9M3js8cd46P7tVKotvO3dv8WS5SvBOJy1qFdEzLj7aibd16n7B4RoIk4jZae0tZQSDbSmaDjWjG5cZxdh6fkYjoYnjw/z3KBy+YwKs9sthjhKA26JSDSp68cUhQSNavDECB7LSDA8c2yQQQ8XUyJgjB5TyRgZGQEixpWIMeCMEMQQfcA5Syl41HuicVhjwVhCBMWmPdNZ8pBYmcSYdF5J5UQx1MgM4JPgEWOImqHRUMqEvDaMWANFHZ+4EvWg9J/uJ/ihYqYNPq90Tg3KrLmz0RjwMZI5SwxKwJAjiFiMManEpsjVF0Al/VyOELSG4lNpk2TEYPFWiJqEu1WP1VDQ7oa0BYjgVQiuBBgy6miROxqScocxllo+QslmRX5txIcRVC3iHEiZKEKIAUugbBONT2Yyggra6HwkQoyezFx42ocCOY5olSx4OsqB+dPbqFjINCKaalPPXfGKQOCEd/zo8RNsPRx5/8pO1s3OsHhyHIlnJEe8LbiUpyZexGE/vnbsl0kA1xh/KWMvbT4BS24t1D3WlgmiqWjaZtQ0ZaLbUonheiBGwZoqIlBDICrGOHwIqIJ6xViLDx5rUlQuqqKiuKxKLeQYJ3gLRE35V0SIFpNV8CFgrU21hz4wXKtx849u5umnHmW8AawKwQfmzpnDH/zhH+KyDCuWPKZUCB8Ul5UIgBdBJOmaMQRUBEyGBM+QVVxuyUqWGA1RwTuhjiR2Ck1Z+BoNMdTBuLEd3CUhE2IgIGRi8LkiFqw1jPhApVylVqtjXVEcnrWgEWpq0EIDNMahkpH7EZw6PJJqHUVR8YSoWGch5i/pPp+/z6wdZZVojKU62OL9szl4m/wEF48+cVa8aLQxv0hWShBsFEQdQkCsxeKIPqYM+0yQABkOrCVoQegnBtGYNC9rKRtLngeIkbIxSN2Dpt4Axlg0BjLjUr+AesCIIwiIdeS+YA/QJJh8CBjnKGF5/ZveTMbrCpPRFMmqAkEIJmJKFfIiCz+KwRpHUJ/qIgP4WDjqURygRXmUGIOJgTyzhFgwXYhJVNImFUQbocj5UtRlOASvEcQSPEQniDE458jzSHTpxdSomCylaojNCGKSGVSPYA1tJiOPyXQtRfBErGY0UlFT+72AcYlYMWggXsDPo4wKsrHuTmKKzORA4swxSlN6jWFMeBUbRGOfiBiimHGbxpmYrV5ojEnj59NYY3zcWDRkYjBiMGTEqMXLDJmxOHFJ0xHIR5niQjqLyYihjlWo12NyikdNrcg1RTNViwpuyTACISjWlgghIhYgItJIGE0ZTGIV1YAQmNEzHRvz0aupJbsPK4Yanty4wneRdJmgilpDqNWx1uLc2M4fgxLJUVMig3RcDIi6tCQORIoEXmsRUXIfcCKoV3IBay2595isnNh2RfAx9Rd01uJ9AGPQCBiLdYYQIdaFijg0KCEkEzfTRvTUIqSAgkFQF0HTRoFRFFMI4HO8pz/32ORzvpJjIKqJ8kcTk8gEba1x3SrNCu1xGBNeUVPvxvQjEVITjgn3+Uwr90Krea7HngdjUlDRTBgb+ztoPf1NWhsaDUEFSjGmrPWkFKHBY4PBp62z+ACMFvcEBUsqMpZkdkqDc07rYzMoPmYxqPd4M9aES1UIheM9I0vkTxTcZKIgodikDaoem6faxShFxFJTVKuR4JkV1HcA4sE3flMQHWaalojC5xSjJm0s+NF10mIZY5H0GrTwrymEPNEGmYapLWlhQzhDiqkoGiYRYeor8Tz8Ms55bmMGcOoxGimJTdH+CTJOSPVcU9c/9cvAqPAKRb6ESHphLFqQB18ksKAo2kjd5vmMUQI4P17ih3GvffEJAVykZmxyj49q+Tr+qJSqgVL2Hjt6zLgvR0lMmmPf1IiTWhKx81jrgbGZmiJ3LcRIJkk7lEY3AoWk6k1kRx1fvF4oX2PQ8TxSE301CknDFJ0oYF5gLBqDt3oW53PaObOLqeWXNu5uwCbqrmRPjz4OjiLU3MQ4jDGpiiFag3oIGpGolC6ixVIKn+i4Xe9Ml+/Gv3s6uXPJmEgQkg/pTHXDY+cNZJp0KF8Y6xPFSCqXbiR4jPeMKEkjShhrgVanRPQBY0JBKZxOaRqzGzfnyYaMFP81hFUcPffk65MJxzPZzHmhsca1nyXfVGIhFC8iSAxYLYIpdiyHTXF4O2YxNhqoNDGBBtoQY1Ltq6USxuWoXjydeiVY5IzmSYKSrLOQjdfpzaS/x1BRyM6aFG6SP8cKib91/HmSGMkKL6Q5w3ckzTiMzkcx1OuJdbW1VEZiIhDECpZIGPcdpTB2TWdyx7iG66BRK/WCeF7rqXHznzSiUqzJqAF8huMFFUXdxfHsJf3aYNUimlFygsSISiH8rYwqsBeZPD8rCuFlEmc2UHYwszPDmIvKaDwrL+d49vRzxdleeziXRu7VF/7VeBkgMBCUzfcfpK0kXLt6NtNsRnW82+08wLnEypSLi+imUQViVTEozgoSdVS1bRA4NTWuiXCm8KJYmxawDJQvLrk1NdDwYBtGJUCDo1CVREPt4dkhpS14MNBmIiXqgCW3yeBwFImPMWtG3c87jKnBYsdMc8cLZ5tdzJjgm20uzNTCme6XSsp+b/y+4ZpvJAjIC3yuifMbzXv2fFxELvkmmmjiQkJTeDXRRBNTEk3h1UQTTUxJNIVXE000MSXRFF5NNNHElERTeDXRRBNTEhdlA44LAY08/9Eqw9HixYKhYPSosWOf/48mphSK+za5EGRCpeqZKrWAUUL8InP/QsgbawqvqYZU0Z16CCXiVqxGslCjEgyKUqrXaA05GTXUZtRtKo4zMRa1jUztp/ZihAI+5eIHa1NSMuk22uhRDVhsqvcyARscJkKGJDaUkGM1JzNJeA2qwTlD+VW7oJeOpvCaapBUy6hYokRGPFRFMQgmKxqLiFIqGAlGohBMIgJ0qqPaWTO7fqohUR0lcstx5VMxYlQRTcX7PoZEbmKhZEBDnoozYqKr0KiAB1eZ8iVYTeE1RTCq5jdIsjQxgXiBmhVisPSJEsVSF8OAZFhjqUVBglKNBdMFEXUlpKl5TT0U9uIoQ0hhBibW3YyAxZtEnJkrhKiUUNQIuSuRB4e1lpLGgixTp3QDjqbwmiLIs9SrccxbofTXcp4+cAKtVOmaMY0hhBEMw9V2DikcG1L6T56mTWB5bwcoBLH4oGROmtGaqQQRyFKRV0E7iaBoqBFclREPJ4ZyKKd+BCMKuTFEcoYjHDeWMpba4AjTM6Va9iSjc+oWMjeF1xRAQ1x5EoFhumkBl2X0jQzzyJ6jhGkzGc5K1MVydMDzo12nYGiQ8nAfr7usN2lqQF0DQWyT224KQwqeNxTUZqnJsTEcGxrmwUeP0dM7g3JrlVN1QY3j8LAnHI4MHj6NGTrF69cuoJwHxIC4pvBq4peIMdqcBslOaq1WNoZZvTPY+uwQz56uk5dbML7OiJSonc7IPCyttDF7RmeDwRmjEzntm5jCSP1dMJKei+6udmpPHmXTQweILW3EmFrXbd9zklKMVOMQVy/uRssZ+BGMmdqOz+bmOwWQHrHkXtXRHkKp73dnewvd07sQW2VADVEygskYFLAmY3p3G5VSQQplBePsKJV0E1MPk7nODKSmHUClbJjRM408K3NCWumnRA3DMBUGSm2UKq30TG9HjCk0rqn9+k/t2V8kSJ6JIlqEEAqF2cRIq7Es7mmnRKAUk0ammtIn2iWwqKdMGRCR1Nw0Kpn3k1jsm5gqSLFCKZwHBhScGspGKQMLZrZRKVlqklGTjKiRYDJihOnTKsysZlhSg+mp3kquKbymBOIEVlZFkGgoa6BqlXk9bXRmdVrUp07bMdBGnTmtkYVdFaoN5y6k7kU6ubVIE+c/JmYXewR1FrCpcYcGKjHS21qiqzWjHgPBJP+YSMDFnEWdZWY4JfU4n/q4EK7hZYIy+QGZ/NtXD6k7q4lj/0xZikI5Kt2thrkdrZR1BBEhQynHOot62unKBOtTN++cxnXEpuyaktAJP3kh9ccEbIhksU6HM1wyo40qdTIiThQbA614lvSUaZFhSj41RjZmar/+TYf9KMYaWUzs75M6XkdePUlvMBiTdtIJiInrvJzBvK4qTx4Z5KRzZHmNLuNZ3NOaGmkYQAIWh7EGQkY00pRfUwrJUzl+Ex1toGJM4dJMDVsWT68y66kTnDJt1KRKNdZY1C5MbzWpkUuMGCON5nqvOMbawDTY+6ERjBpvE0xuSTMZTeEFTBRcMNklOl7heTXidJqmAaSZNpIUGzTPJYX53SWmVQz7QqDVema3l+hsMViTOn0nV3+OUQdYGk28m5hKSA/BhE6hBsCOPqMCzGuFpV1VHjoFJynRIcOsnt1GxQg+lLAGRCIaI/pqaF9RSV2Rx4cfxvxvjd+cbWZN4QWM9Wd5PiyKoqO/fVX65mkSroaQwuIGIgGrOYIhQ+iuOi7pLrP3cI1W9cztbqfqBAke65LJmHomJrFno45rdtvEhQIDVK2wsLeV3af7aQvQXTXM7GrFqSIasc6gOWAD2Sv+NBcCq1GmNunrG128cs6OpvACXrz9u+I4Q1v6VxIB0BxjHSJJ/4sSEeMxKNYa2qNh9dxOHjnwLG0xsGBGb4pHFR20So1z2UiyP5tO+wsTgsMxd1qJXhc5ng8xv6OFjlaL0Yi1Y12nkmbzKjzbDWtxXCes8ZjwvL4ImsJrFGkpIs/3AyRrvOEhGO3B/opBbEC8g2AQYwhF/2xrDBqTgMoC9LZY5lShq1Klp9VitSgniqAm6W6NoiA9q0ehiakKq0p3xTG3M6M2MsD8mT20GnAFHUmI6e7HaOAVNxsjYhspPYLGxJDR6BFuiQUPBpzNzmkKrwIhRMAmpeQMfEgTkxVeWYg4XPH9AcEjiGREDM6S6G4stERhaU8bXdOqZAJ5SI+EM0LAJJFXPK+xyYlz4UIjJSfM7qly6sQp5kxzWCgyBUGdRQrn/yuve1tEUqK0Cs8LQJiYPBtnbdQOiKrqix9ycSBXJUQYyWNKKxBGmRcavQ4dScl+pW+4JVl7YMjNuHSHAhlgQnLMH6lFSplQzhIFToZgCkHV0CqbN/zChQCZKsMiHMmVg4cHWTW3nVYJCOALr1LDxR/Ok01MgmKBlrLBxEBmAHXwIqVsTc2LYkcKwmA95/ipQXIPwVi0oAuR0c7rKcM9vsJ8Mun7x1rIph1LCYXjINOIiUnYemMZIJJcnhGnBlPobVDsvNIwf5u44KCKDXVy6xh2LWRZlSMnhqloDcEwgkPFkGnK049yPjwHkZJG2iuOarllIuvvi6ApvAqog5gbakEZFoOqI4TxQsoXucyvSryxSJFQZDRhwxbjaVaGHBvBRiUK1I1Jfq1ocVhMEATFmzhKBdwUYBciIlYsGi213BAM1EIdVPAoXgx1MZQ0aeT6qouA5Jeth0i1bPAilEzR3/0sr9mrPfPzBrHwEXocCuQpjjfuCEsgEs04e/Il49zOoyg5EYuSxcSKGhGCteSjjs6AaCALgqolYKijSKMGzhQsUDYU83+pgYfJn32pxuj48/085zqXebzYdf4i8/551u2XuS5n+F0UhDLBGDwm3WotoT4SxFC3WXp2goxm6J/bd71ceP79MlEwVsmtTc9mtIk19ix7a1N4FTA2FS+LgKpFn0fSlnQfE8fIABNe6IbLOYydm+YTiLgiIoM2oqEKweCAKIqShFoQIWokiiAiOJUUapT0/RINamLisx/9/he7FuHMedjZ6PGKomYs5J4qEhr5ZIlTHUDieBZQGM2zFhA1hRiGZNyOD+HbF5jPmcj0/OjvtHGISlEpwSiPWaDgfCec4frGR23OdP9+nsDN2Hxe+Hzp+6OMDZloC03bjstDH+9xnZxnkI87SojBYNEUnIkRX2xWEiKFuzzliYbGtU9meEvnG8uAPJOQ+3mf98ZYo14lPQ3JHWPGsqYlURCcjeS1KbwKJHZlJaovbnSCKervUzV/Cai/jN9a51wEmAU0KpPvpS3moqNvqUUl+cdsbDD8huTjKixFJQmRhJdSHOKZ8MBLQa8PKbogKWSPHaVeHw16NKJeFOuaaA50wvkaqxLOMM+GaHl+tGxiOEVNY15SnE8IKFaUTAwxjhdcjdqF9HK9+Ks4Viz24sedWzxvVECYlIInCiaGQtx4wBGKvLwkhi1KHDePVHif1iSg2FRShkJMntG88G3ZIn/dkhKdtRgdEyiCECmcDlCcT8/hOs4Nsfi2WMzYjc7dFItoTMEdkC79BdEUXgXGbXrnNP6akuBkAAAgAElEQVTy4VySBEeNvzO+JIwbH68YPi+JWceOe+lGwZjvTxgnuIqfJ6/bWNBj7HVuBB/SgRPN2BcTq2Ov0YtrQKOF7EQshqgBZ5NmWq8HnBv/+Yk8Z2cXSv6sxwXOrX70hZ+vhrhv/Cy4Ub3J4YvsQ8EU44GILSKK4z///A03re/4jXPsfqZaDosZFVwvLxq3/IXOe67vW1N4vcrIRp3wMFaxOB7KZEFxJvw8Bk3y6Z0bGnuyjp79TI+MYCkVr0IyNybGMxuid5I5OMHySdtsciIbdDTHeswcGkPjfOd6DZ6MpEOEEBEs1cwS9Pn6xPOE7hnOl8bCGcYm3j/5OV4vAcYpdBQJMmeYmRb/MpMMZsNEc3r8zEucPcln8pUa8lelbPvc0RRerzIigjkH0/FchU3pHBoqnPtOmpNc/+YFtIhG1UEkUCKguMLcGO9N8zReayEbnV+eWnSNayPZ0BkUKcTNC1MUJYRifs9fn/QtRWZbjNRqI/jgKZUr2KxU9DmEODqfFKA5+zo3ruhcI7Vni06n81nG6pWTFtswrrMJR46fX2OtA/IiYmbsU+Pvy5kqSc7k+zyTN/R8QVN4vcqI1hKjoqpoBDGSXmqjxBgRZ5AoREKis1FAI7kqDkuMAWNtYRKltldK+qwRQyyazGpMNZD1PMdlJQTF+4AIOJcYVkERMXjvyTJHjJEYA9amsPqIz9EizUJEsVLkjKnF43GSmqtp9IgqxjgC6Vp89IgIJoBYQRtmpCi2+E5rLCJKVMHHnJKzRY/cmD6rSYD66CmVHHm9jhhALFaEqKCqiEjyqcSA0ci2zZvYtXM7fUPD9HTN4Nrrr+PSFZcRNTXt9QopNJ+oYvKQdE2JYK3Fq8e6DA1FQbGQ+iSqItYimu5flMJv4wyh7nHWQFCMSSqVNUIeI+oDxrgkpYwpTOqAaMRFhxbfrc5AVNSQ/HMWfIgYsYh6QvH9UZUYPMYJQZNPTzSimq7DQBHnCCl3MaY1MsaQ+4CziVtVSM8g1hBCQG0R6wnJ7D7fcP7N6CJDvR5Ra4kRbJaidJoZ1DlclqGaBJDa9NISI55IxVqMRGyRBSEGgnpqvoaPHjWRgE9OWYkE8QQCruKImoN6KpnBSYSQQ6gjIQfNKUmE6In1Gp/82Ee5955NSIyUM4uzkcwV8cTgcSEn00BmI97XMBbUCCpKEI+Kx8c64grz2AaMr2FUIXrEBzSvk2lgsO8Y/+lP/iN7n95DZg0xesBTErAhx+FRX8OJMpLn5CFw/ORxBocHCTEQNGCMSRuBDwz39/PlL32Jb3zra7hShbVrr6DmPR/92Ef56U9vRWMgao7xOWUDMdSp+RGyUqqxMyagmvTGkI+AeoSIGJt44EtulKUjlWpZgrGEAJnLiEHJrBKCR9VTqw1hY06lLCA5RE8+NMDf/I//zoMP7MAhydtU1KTGkBPDEMQcMZr8g8bgrJDYKT1Bc1TrZJkU7veYNq5Qx0mgJGBC0mMJdU4dO8Zf/tf/wrFDB9HoqVYyHIKNOU4DJasYrSMmRfuS3ng+6l1NzetVR2ZBQsBa8LUapkge9D5QLjliSEmlEgIxBsQIZWxq325SCkSe13DWEr0nquAkI8/rZFkFTNqVM7HkeR2iYFWScKiPJK1LI6o5MaTuQsakYyUGRoaHQOsQ006PsRAUW1BJWwCjhADOGULIEZ9e8uBBjcFYlzo1hwgxUM4yBoZHsBlkYsBIyput5Sl0Hz0aIyLpRdaYE6JHFcqlCiEGqrbMrsce4dOf+RS///73s+bKKxGEEBJtkLWGu++4nfu3buVP/+RPWHTppXgTeW2uPPrQw3z6c5+jvbWNa6++FjWKI0KeU84c1OtY49CgRPHpBRaDaCDPPYhFrMV5QVUQkwSGBpCoiBGsdRgtrtcavM8xGog+koccYy3WWuoxUK8NEus1TKylVmY+rZGv56gYrHHkvobNymjwaS6hjjM23XvjAKXqLMMhUpK0UeQ1DxqpuBIxH6alWmao7zQD/acQDRhV/EgtRaVDICJkWZaKo8VQy2vYUqkIUJx/AqwpvF5FWMBJ4NjRI9yzeRP7nztAW7WFq6+9lqWLLyHkGUaVQwcOsHnT3Zw8dZJpnZ1cd+11zJ0/H8lzHn74YarVKidOnGDb/fcRgrJ29eXccON1UB+GCAP9/Wz52Rb27N9HZ2s7a9au4bKVK7DOIRp5cMcOduzcydHjx+ju6mT9+o1cfvlqHtixkwN7n+QBa5gxo4clS5czNDTM1nu3sfvxhzHWcMVlK1l9xZWU2jo5dvQojz64i8suXcqmu+9hz969zF10CVddcx1z5s2n5MoM1Qa4/ac/Zu+epzk9PMiCuXN4zfXXMr2jk+33bmHg2BG2b7mH9uk9dHd2cOLoEe7dspkD+59hWuc0rly3kaXLVhG1RqXkmN07g0o1OfejkqiNY+D48WPcc8/dvPPX38LiS5cxFBTrytiSsHr9el63bx8HDx8ihhoobLt/Ozt27CDGyLz5C7n+uuvomDaNqJEHduygrX0aR44c5v4dO4gK1268iivXXUlLS5V6vc4ze/axbfs2jh0/xuw5c7nqynXMv2QBUSODg0Nsu3c7j+9+lJHhEeYvmM/VV1/LnNmzeXjXDo4cOMD9W7Yws6ebeYuXcOTYEe7dspWDzz5LZ1cna9atZ9GKpZhYp+/QER557FHWLl3BHXfexqHnDjB74QJe9/pfYVpHFxXrOHH8KLfddTsHnz1IZg0rli/j+uuvZ7D/NHfddRtDJ05w76a7eN2vvYW2zmns2b2Hrds203/6FLNnz+Pa19xAZ2cnpVKJ4XqNzFXOy4JY+6EPfehDr/YkXm003MJ1r5waqpHjaMh1U+S8QEPPePkiMAbl4NNP8tnPfJIwMsKKS5eQGbj1hzcT8pxliy9h96OP8rlPf5IZnd1csnAhp48c5c7bf8rc6T309vTwja9/nTt+/BMGBvtZ0DuHzFhu+/FPkBhYuWQZfSdP8ImPfYy+Eye54vI11PMa99x1F7XaCAsXLuSeTfdw8w++z5JFi1i1ciUaPD/+0Q/p7OjAauShB3YwvWc6S5Yuo6W1ja9+/avseXoPK5Yuo2taO9s2b+LgcwdYsXwVzz6zj4//3T9w/NghnIFFCy7h0YcfZNu27ay/cj0aIl//ypd5bv8+Llu1kkWXLOTwgef4yS03s+rSSzl96gT33X8fK1auYuGiJRw++Cxf+NyniSFn1Ypl5HmdW275KcZZFixcSHd3J1dtWE9X9wxEUpRSxGCN4Zk9T7Nr1w7e8+/eTVZtx5sMjCOPClFZvmwZixcsoJSV+O73v8cdt97KyqVLmd7ZzaMPPcjO+x9g+ZJFtFaqfPZfP8WWzZsZGhpi/qxeSkb46S0/pL21woJZvTy660G+8LnP0NPZwYplyzhy6CC33/5jZs+cRWt7O1/56lfZu+cp1qxezdz583jumWe44/bbWL1mNYP9/ezcfh/z5sxhwaKF9A+c5vOf/zzGCMuXLiGv17n19lsplSosXrCAJx95lE9//F84cegQLZUSC2f38tADu9i1YwdXbbiK48dP8K+f/GfaK1XWXLaCnq4OdjywgwcfuJ8r16zl0IFnefDhh1i2cjkLFy5k273b+O53bmLR3HnMXzCPowcP8pNbf8iixUuZ1tVJtA4zWtr/cj33jXdOAFMY3ZGWzNJWtcnE1Zgoq18kU7Wpeb0KEEnO3hg999x+O1Xr+N//t9+npb2NOtA5fTY33/xdNqxdx03f+AaXrVzF29//+2TOIT7nW1/+Ij/4t2+zYtUy1I8gRvh373kvc3rn4KNn5uxeNt19J298/a+yecs9uIrjDz74Qart7VhXZumqh/jYR/+OlatXs2nTJq698Qbe8Ku/inMZeYxUW1rYsmULf/RHf8j8hYtYv/4qli9Zxt33bmHvE0/yf/2ff8KsWbPIrLJi6VK++KUv8tQjD4NE8rzGitVr+ZVffT3WGtauX8/f/9M/sPepx5k/ZyHPHjjA//EfPsD0nulkmeXyy5bzkb/9Wx5+7BGuv/o6vv2db7Px6g1M727nppu+wty5c/i9978XK4IxlvaO6dx5xx1ctno1nTNmYVtKhGgwIkhOco5H5fTpU2SlMtWuHsQ5RF3ieg9K2TmG6yOUW9vYt3cvd955D7/7vvdwxfqr8KpcdeON/MOH/xf3btvO29/yFmQkp2JL/M5730/39B6Cero7O7l3y2Y2XrmWm2/5ARuuuYpff/u7sM5xdf1Gvv7Nr/K9H97CO97+Dh7euZP/98//nDmzegmqXLXhKj7ykQ/zyGOPs3H9embMmcOGjRu5dNmlfOxf/pme6T28932/Q2ullSiRrtt6uOe227j+iisQ9YwMDbHhhmu5+qqrEclYuX4jf/N3f8v+A89yur+PcqXMe3/393DOoaHGJQvn8j//519R+833sH7jNfzotju45tobKDvLT3/4XX7jXe9g3VXrcSYjXOP513/9V35yyy384R//MUYjcl4Ubz8fTeH1KqJe9+x+4gne/c53UWnvSAFtk7Hxhtew9sr1HD90gBPHjrLxfb9DvVIi1iCzjnXXXMPmH99K/9AQooaVl19O9+xZ1EzEYFm2bDm3/OhHnBrqZ9eDD3DDa15H27RWYlZmJArLV6/hb/7mr6mUHH/xF39GzUdO9fdx6uRx+k738fhjD3Pk6AlqIzleLNE6EOG++7fT3tHO8OAAu584CWJQDTiX8dgTD7J02UpctZXrX/triCuj1jBv4WJmzZrF0IlT9K5bz5//f39G7j1Hjh7m+MmTHDtwgGNHTnD02AlULEHBYqgPD/P444/ylje/hX3PPItGj0GY3TuLE6dPcvTQYab1zCSqJcS0S7siShe9T0GMzBENBB9QNWj0OLGMjIxQKZeJfoQHdj5AW0c7K1auBuvwCC2dXVy5cQP337uFt73hDagzrF69ho6ZM8itRYKyePkStt73M/Y9u5+jR4/x+x/4FdSWiSVHkMg73/t+4tAg1ZYWPvyRv2d4eJD9Bw8wODjM/uf2c+jYUQZP90M0xCL6lw/V+Nldm/jN9/wWB/YfQEMky4T2apXBY8fZ99STGDV0zuhizboNxKwKRuieP5/Zc+Zz7ORJrr1mA1esu5JTpwepDZ5msO8Ejzy4k+GBAfqHT9JenlnEH5N5WR/uQwjs37eP3CsuZsydPZdN27Zx8thpWrunEaNP0dHzDOffjC4CqCrGGIIPRIWW9kqqY7OOPKQIYltbG3uGBshKJdra2shCqm90orS0VHCljMPHjhJFqFbLIIagKT3ClTJsljE8UmdwaIgZM6aTlTJGosdIhiHSVqlijPDU00/xnW9/h/7T/VRKZWbPn01nVycDJ08XPjkQDcToOXTwIEeOHuKzX/x0Cu+LQQUG+waYX5uL05R1lJUzogVQRnwd40r4EMjzGvfdv5Of3vYTYlQ6OjqY3dvDtM42Yp6nbDInhJiKx/tO9vHTW37ClpZKygdTUGupVkr4vI4r0gEa6Zxi0tqqE9o7pjHYP0B9YIi2aZ2MFOsKEeMsMR8hRE/fqVO0Vsq0tlXx1MkkQ2Oks6ODw0cPIzZF+dra21PqCA6rAs5hxJLnOa5cIitlmEzweQqkZGoxrS3k3rN1673cfddd1EKgo7WNOfPmM71jOnmeYyxYUWIMDAwPM1Sr8dNbb2Pz1q04sThJUVdXLTFcqxMkEICW1hZyDUg0RXQygIb/v703j/Lkqu48P/e9F/HLzMqqyqysvVQqqbQLS6V9AySEAAPyGLobw0g0zEDjYzPT2GdmPHP6zLjPbN3jbo+bbrvbu8fGgJBsLSCQMIuEBKhU2lVaUKm01L4vqiUrl1/Ee/fOHy9+mVmLVIAFqkp+33Ok+uX7RUbGexFx312/l5HhA9z7rfv50YtrKCSxeP58+vp66OntIRoTLhATZfjgQbZs28E9996DeU+MQo8rqTXRP3MmKdYEEVJX8+piKkQEXM5HGh0Zx4lQNZGyFBNVVdHX20s7VgyPHmRQEkE8SRJ1bDM6Ns7g0FATafIgjsIFJFnOJcJRFi3KVouD+w9RjY3jQ4lzCRFjtD3G/j17+c+f/0Oue9e13HD9DQzOGcRMeeqJp9iybgPOlLYaiuJDwdw5Q5xxxnI+8+lP5fo6a4rC1Qi+YPVzz5K8w7mc7+XF4YsC7xwaPD96/nm+9nd38LFPfIxfetv5lGVJqpXNGzYhRcjaUZUIBBRjaO58/sWnP83ZZ5xBCDmPK6UcwQyuZKQ9xvaNW5m3YD6ur58o4JwnxcTchQsRVZ5+9HGufc+7s+Dq5L7Fmvvv/y4xRfr7+6na4xw6sJ+egdlgCa/KoeH9zB4YRBvC91QnnCuoNNIqPBCoEgQfqKqYNyRVSnE5xSFWjLXbrF79LLfdeiuf/tSnOP/88+mdMYO63ebPd+2kKBy5uQqAMKt/Jn2tkn/+8Zu4/PJrqLXGIQQvpDpSuhYrn3y8yUMDJ01aiCnJKTNaBXffeQevbt7Ov/hvP8XihfNxTti3Zyfff+iHGIoEwBQF+mcOsPysM/kf/5d/Rf/M2QSfO2un2nDBU2uec9IT0FtPN8/r54qpTT5TSvS0ejh1+Rn88JFVjLbHME14gWdWP82f/skfMzgwwJy5c3l69TNISqQ0DlXNU08+yemnL6d/5izqlIjJQIRUJVQ6edRGKEsuvPASVq5cSUwRcYlA4qU1a/jjP/wvrH1xDTEmbnz/BxkcnIOIcmj/QVY+/BCpzmkZoRCiKtESl195JS+98go79+4hmqEIe/ft4/a77mTz1i0AiPOoKl5yomNVx5y4KrB581ZOWbaYSy+4iP5WH05h88aNvLT2ZcSyeaoI6qGvt5/TTl3G9x94MHOum4cIP3pxLXfceSfDB4d58YW1/MHv/R5rnn0OkYRaZNxqooeBgQGuvvIqvnXvPezZuRNPymRHdZvNm9fzzW98nflzh7js4hXs27uXLVs240wpRBkfO8SzzzzHlVddgfoW5gPmfU5ZEd8IUSWEwOCCBcxfOJeHH34EjTEngCbj29/6Dl+962usWbOGs88+ixUXX0zvjBmYKus2buTFtS9Sx4iK4MWjKK7wXHnVNTzy+BPUdRvvcp+CH73wAnd97euM1jUmnlD0oMmaYnfNSa14xsfH2LBlM+98+9s59ZSlOOdx3vHcM8+xf/deOo0/pcmDmztvPpUKTz/1HOYclRoxJb797X/gu/fdhysK2qnmREyTgK7w+rniSMZt7z3XXnstL697hTv//g62bt7MM0+t5tbb/o75ixYxZ2iID974qzzw0Ep+8OADbN2wgfu+9Q+sWvUY733/+wCPeU9CEBdwoUCjIj6QLOciXXn1NWzcsoVbb7uV9Rs28MRjj/H3t3+FBYsXs/yMs4mmrFz1MJu3bGH1s2v48lduY/uO3ahzVGb0z5rNw489zuatW7nwsosYmjeXv/nSLbzw4ou8smEdX/rbL7FxwyZmD84hiVBFw4VAjBGKHE2qMBLC3EWL2LxtGz9as4YNW7ay6pFHuevrd+cXJyVUlRmzBln16GOMHBrluhtu4Ecvvcwdt9/Jy+vX8/Rzz3LLl28l1UbZ08fcoSEuW7GCwYHZueBbJOdYhYA64V3X38DCRYv5sz/+U1au/CGvvPIKDz30Q77413/Dtddex4oLV7B02XIuvuQibrn1Vp59/lleXLuGW778ZdrtNhdffgXJWe6N6CRzvqliUhCdo1ajd2Y/V7/9nXzzm/fwwAPfY9OWDdz/3W/zwPfu57zzzmbZ8tN59ZX1PPvc82zcsJGVq1Zx1x23U9URy/E0emfPZOXjj7J1524+8MEbWb9uI3fc9VVeenkdjz/xJLfdfgeRRNHTS9JczF4LmdLHCc5nSg8NwuL5i3j8iSfYtHUbmzZt4e677+XBVY8RevtpxwQu4H3B008+QVGWXPPOd3H73V/ne99/iHXr1vPAAz/gW/fdx9DgEJYUV3TKtE48dDnsmWR0OjSW2LDnIKO0MHqAXG/XocSp32RKHAFE2+zcvpMHH3yQTVs2U/gW77r2HVy44kJ88GDKK+vW8cD99zO8bx8DQ0O8/e3v4KJzz2dY4MXVqwkz+jntnHMoTPC+4MCB13j22We46tJL6e1psWv7Nh588AHWbVhP/4wZXLjiIq65+ipCKHhh7Voe/MEDjB0aY2DWbC669BLOXn4mTzz5ONdcfQ2HRkZY9cgjnHnmGZx77rmMjo3w/Qd/wJoX11LHmhUXruDqa65h1sAAO3fu5smnnub97//lrAlapl558sknmbdgPguGBnly1SpWr36GVEcWLlnC1W+/mpGRUYYPHuCKK67i1fWv8vJLL3HZ29/B0MxBtu/cyoPff5AtGzbQ29vD1Ve9g/MvvIi+vhm5BEkr1HmiOMY14kMgmVKaUJowPnKQxx5eyaPPrGZ8bITZg0O88+qrueTiS3IZTB2p6orHHn2U1aufYjzWLFu2nBuuv5758+ahCR56ZBXzFi7kjNPPRn1OhB0ePsDLa57n8osvpvSeZ194gZWPPMrOnbtYOm8u11xzNee+7W20Y+KRh1fx3DNPU1WJuQvmce1172J8fIzxkRFWrFjBzj27eeLxJzj//HM4ffmZ7Nixg+9973vs2L6Nnv6ZXLJiBRddeimhaLF7+y6ef/553vOeG6ChlTFNrH7ycZYtXYoPnh+sWsXatS9TFoFzzjyLiy+7lGeeeYYLzjuPRUuX8sral3hl/Tquuuwq5i+Yx+PPPsPDjz7M8L4DDA3O44O//D4WLzqFWiQzDJs0XBZvDgKdxnuZ9cKRqyfm9pUsmFPSS66+8MfhsO8KL9464QVNHpkYsV1R1YngHUUZwHusNgi5nE5jDXVCg6coCnpUGCkdZZXyy+s9hRqRTDKXNFE4N8HlFas61xyK4LwnlC1Ms+kR65pkCa+OVqsk1pHgPSJCFMs+DzOC98RUg0GdEq7JqXIhd4RRNTAlFAXtFPPfJ0f/zEEwh6SaOkVUlaIoQHINpQ+QzFH4QJUqcIEgHtEaRanbOSu9CC0QQc1lR3dsI2VoOj/7zBrhHClGCic5Xygl6hSJphTO433Izn8nFKEgpUiKMVcgiKMoc/Z7TErwBbUmCl9gOOoUcb7ItYbapsc7rE5E50lqVDHRWwS8RaQoiCmnGsSqnY27IHhfYs6wOkEQLDVrGxXnstFf1bEpC5Nce+gc4gKaQFOip8wF21GbOkwj1zMCdaozHZIlgmsBim8qMIpWwXiMBHGZKDIEKo20NeKTEVzINaaAFAVVihjkZsdvEt4s4dV12L/FUIRaodU7g7JlqKXGr2JYoSABM8MHjw/ZNEoeYoJKc1E1JiQ1vAom0rzIShTBS5FZmYJH/CSb1rhCEUpSrJGyoNRWLgrHQRlIDf2cAOKNZIZ5jw8lZkoRLZ/PcvEIzmFojqKiEDwxJrz3hFYPVVVn/06rRUGZrzkl8A7Mk4JHkzKugit6CSKM1uPMcAVYpOwviDFSJaVo9RBTIqoj9PQQYwVREJ9TJlQhhAI1zevS6oHxMVpFT8Mq0whal9cwmadslaj3CJnrXSQgXqhMEVcQEZzm2kmRLMydCzifG7JYykGJMjhUK0JoEVWpgbIQitBLFSPSKohVwjlBioIk4L0wrokiTNZIhuBRawiJnNBOMfcocLnAe7xZWzVQNXzpiXXCxFMUvRRe0Dqvr3eOOimulWnDncuF/E6yIAyhwHyBBMNrNmadg3ZdIcEf5e44UdAVXsdAfsUPp+37mbU7cwEzpV3VeO8RdbkAOHiS5vB/bUYhgk9CCo6kRl0rYYanbqdMr1x0mBSkYZbI5pNK9qtEMgtE1jhymkMVlVarpGpHzAlOoF1FaGoDs1HiMoOCGBRC3QYnAQ0psyqYxzuImiluVJtKOOcQ70gppwEgWbBWpg07RMK8y9pV8FTtiCsKkgOtE9FH+ooeUqrBeVIyQigxn68b5yDkSJv5Fi3vSXUihKx9JRxJFXXZ0R7Knrwh5NgGhBypSyb4MjBeJZy08CEL4To1jJ4xkXeNHMH1GFGzX0801zqqWK7hxGVKrhBQ5xBnOc2EzJphLqApC612u6IsAqkhjXR4kgdJRhUBXF7zxvyWUObyJzU05U1CNWt1RRlIKSFFKz+rClVMIEWux0wNUZhljgnnc+1iXeX0kWSAN1LMk3beUdcRCSGzUKQ39+mf5Id7A23OOh3dXz9Noyu8OmgoWjBDzKDhZM+JApkzycQw9+bnvDjxULrGHDJIudmHC0VW2ZsbGBGSs9xkocwULeIDSDb/1GcTrsOe5S1gAkk1U6dAFiJY9voGoZ0aXhiXX3bfk5nTjSYqRROST0qtAj5z6rucVJUFlClC0Zi41hSTJJDQUKhKptjOy4u5/DeceGrVTCNTZA57D0jhQXzmAfMBJ4KRmuYohhSS75cIFoUkSu0UESOJkVy+fldkrUHNEd2UNrudnLjcfTcniRaZwK/uFCH7TKjoyhIsUxcZhkbDgmvobwR8yPesoRVykk3lWpo2dTiSc0hR4kSIZngE3+ohWqbLTs0aZ/PZoTZJ+W1C/rlZb3WC+M688nhqcgTzJmKYy4ELQ1DLEUcxy0KKLKzEcmQ4OSE11NJSeMSyliYua+yZaM2/qZv35Lmy5i6NW0LE8GY5q98Uwhu36Ov6vMgPT4wwUie27BllWHxDg9v5NrOZ/vy7C3fxRnAKJMFaHrU6J6yKgLlGmzFqfDZXG9LCLk4MTL5V4E0J1mZ+b4uFc3ootElrCYC8PrlmV/NqYD7TWkUiznInRIH8MtDhSgqNTtIVYycCPKlJYVDUGbiAWqKwyZYR2mxDJ2am0i8uJgSPCYHcMkS9JzW5bZay1vVG960rvBpIk/CHKWJGCLk9mDSKaXblpsOaYnXx1sKheFUqgygFSRSnhmR9C8gMBdbUS7YmJzYAAB5dSURBVHZxokIhxSaSXYBrzPLjvGld4UXT8CkqvcExt7+XShxmTeRtggKn093GeDNpcbr46eHUIdGhLc/uGNg3PM5A6RkoC3qdUovHZGqDky5OLEw2Cimll1bw2f9ZgwvH32y6wgsQjOASXhzzBnpJDYeQb76DzD2UmBRhXbz1MIAIVYDdeyvWbd3NmUP9XHDWPPo8RMkadZgIMXZxwsImYju50HzCV9/N8zoONDd1dpope5tRbwnfNKZIzmGSe+OdmDX2v3iIyWXaa3KU81CljETLVJI5KItHacUaCaG765yI0E6n7EZ6xdwIJQesQ7fp7E+CTui1ICGd/BaLeAmgPi9s1wo5IRCAiMvCC6GSomkiZjkSKWS/JWmiKLmLEw06Kbw66FDmH0dL6AovADwUnf53eXvOlC5M9mGHvKBOmsXtLLZMaW53rDGYuBs/9RjNDf4xxjq//48Ze925nADzmzqWsuBSVSJCTYERmv6EESEnkkICV5y8c55W97Spf9KpAqvJO8Tl75tWccfTlLvCq0FuXzr1Z4eT1LhKmsRDB+Bz5nVznEz877C9Y8LF8vMYmzp+rOt5s8d+lnM57vxk0s3rnIDGiZckTlDtTbn2BpGmP9xJML+jxo5xjSfvPZUJfaAjN6WTDEuuDgGXa2F5Y9qbrvBq0HkhDrvBLjRdRPNI6HxznB2hi58Vsv9REkhjFxq56iFYYqaN4yloAz3i8UDHg+kQuk77EwMTAkmO+vB6H4+JrvBq4DiWlO+ItKmfunhrYeAbv6PlEp5aclvUYIo0FZkxCN6M/IjX3SyvaYiu8OriJILQYYntaMSusfVrESpXUjdlXL5hGk1S5tZdb9BCq4uTE90NqYuTEAEoyGGVbBZGhKrJwnMYvhlPItSuQLt687RDV3h1ccJBOZLyMQEdlg+om++t+SnHqQyHUhIpAK9T3Pfdp3xaontbuzjBkegwQNV1lTm5kjVdc3LvZWcJFEqJBHKTEY1VZpKwlGlW3uJZdPHmo3tPuzjBMRloL4rMC4YZMRpj5ojSQ6WCiGEaiapUSdBWDyoOsSqnUxwWsO9iOqDrsO/ixEcjd2LKXi51UEdoJ8OKEkSIKqgG6tDDocITzWFVpFDHrLJblTod0RVeXZz4mOQNBickzQ1AHvnRJtLsBcwb6GXPmDHqSnbEwIv7lPaBg4zt38+ZQ71csHSIrpEx/dAVXl2cFFDIVMgAzuhpOeibxSObD+A37ab2vRxMjvF9iV2v7cG1R1g2K3DZ/LmkiYTVLqYTuvezixMOwtRd1YHPDXSdc3T6gRfAsoWzCEXJa9rDaHK4YIwk2CMzqIvA4lmBoZbHaeoajNMQXc2rixMOh1czNC3qm4EgmYwbYF5fwcI+4bV2QTRQlBQ8tRp9Dk6bO4MZot2HfJqiq3l1cdJiRstx2kBBSU3E05aS2qBHK+a2HAtn96JmqOs+5tMR3bvaxUmLlsDpg730S414R/QtfFJmUbNsTg99rYDRJe2erugKry5OWgSUU2YHls7qASBZIHgYkFHOXthPj2va1Hel17REV3h1cdKi0Io+qzhjfovSIkKiV2sWzShYOLPMnZ5FMoFkF9MOXeHVxUkMoXTC0sEZzG8p/TrODB1l+dwZ9IkhOJxIt+fANEVXeHVxEkOIUZjbH1g2WDJTx5jXgtPm9eJyy2xIICl2q4OmIbrCq4uTF+JJKD0OTh3sYZaNsXCWZ05PiQ8eRFBtaIa7XVOmHbopMFMwtQplKjoek+7mfWIh4pHCERROnRVY2OdZPjSLMjhUIUnuAmUimHTv34kOD81N0ilE+6/vr+wKrwYxJdTlJhwpU6UTHLmFXKcpS3fzPqGgDpLmhg6DpePcQcepc1qIy+3/ctMUl7tr6Y/Re8C69/jnCQOs45A0w6xpOGsViAcvIK8vosTMuhsSmbFgPCkH24kaQB0exaFd2/oERQ3gPPkRNsbHK3qKEo5KSk00jc+6OIEwacwrYkZP8MzqKwipyW1xAv71hVdX84IJbWusNvYcGGU8eUwczimFJTqcnSrhx2q5B5NtnX4eYz/vloJv6fymjCXASYIUMQznS/aPjYE/Or4opNxBaGLO1ozLlPlNCr0TYX7T8Z76KapSktyVHkmIGgO9Jb19JeIDLimIe8MNpyu8GlgAaqEyR+UcJgVCom4q6ZpmNcf4xeOMNQ/TP2rsyHO/0Zi9CWOvN5djjf2853fEmEVFXIlzQh0TIgF3zOSIcPLOeRrd08mvpNlAPGI1wYw2RaNICCqecBxVuSu8Okid4l8BExIGPuSxlMcFm9xFpi6snUBjnfF/zNjP+hrfxDEl4b1DkyGhyJvMsZJSj/Viv4XX/RONdcanwT0VnfzBnIGBV4+5NgSPSuZrK3+M5Lyu8KLp2eghVIaTiMdjBEw7em9HdE25Dz/NjnayjJ1o1/N6Y5YfYEuKqeJEEAOxw99eAcx5UAMUE0eQpu+Q5uPN5bt7lMP+RJvzTzt2Al6PqDTvVn6/nBpOwYkhmhB37G6qHXSFF3nxAiAowYwKyyqtZeXWZe9KvgeT8mzidzuwI8758xo73vW82WM/zTX+LOYnnaJFo6M250qgY9j3qrn7kBfBVFFTVI3SeQyHJkWmvCgnwvym6z21iU+5gUog4szwlm9jgeJSanpzdoXX8ZHgsGV2gIJD8RiNIdnFCYYf554YTdRdDTNFHHgc3hl4RZKS9/4K3y0m+pmjnvjUURus0b4aeSVZQz5eDn1XeDXI+SZNnldnDLCOFONo32QXby1+/J5AilPANy+DGslqvPNNUh94hG4V5FuFQJIalSbyjwdJx01R6govsmia7A5YYpTQjLnGaOwsVOe4kx2TIvnNQsdzoQiKNW1gM36WK3akX+RYxlEiaqI9Nkqsqpx0LIIAfX19+FAiZj/RVR69kR17rp1RO+LfqVd8+G9MGlsdbcSO+lvTCYLiJiLE5hqdSxxvlKAKXeEFHPlgJaAGKzvL2VjmeVGng+DyzX8Jybsc5J9ESanKOZ4SiJb/9TSRIRwkzULdGc6EKlUEHxBKFPD1OM8/9hDnXXgJzJ6PqdFCUUt4X6IKMUbKMhDrmuAyYWDUSFEUqCpmhoogqmhds/rZZzn33LPo75+VfZDOEzUH2pNAMMO8kFJqgi0RxCMYIkJSIdaRW7/w1+zcvIEyCFGEIgSWnnYm1737BpbMX4APJZWEbLZoyk59ixS+YDzWFKGkUiOI4FLEnKOtRiiKrLWpQkqUpaeKCY9RiCPFhIaQHy3JJivk8ydLmIH4giQ5YJCSUniPJzbCK1E3gQaxk187PHzjtGar67Snm4JjRU6POE8XhyEnpYoJDsldlye+Kd/KC3vTMJnt0emp4zCDlGp6S48LEEUxLzkHxxk+KaQIooRS8OZIFmn1FHhziCacGSFW3HvnrRx6bQcaE4hiMVICqarAEiEIsV3TCkUWMORdtK4qzAwR8Jp9jbEa4zv33M3ebVsoqSgBSYqoEhyUYjhneFNG9r3GN756O5s3vIpoxGNonSjNcKbs2rqZj3z4Rn7rs7/O5379M/xX7/8A+3bv5E//8D+xYd06sIRaRMRAlETEGZjWFMGjZmAJpzXeEsGUwgvJFK3G8ab0hMDYoTEK5zCM2mq0cNSmqECtiRiM2hJtEpFE2SqIdWoCCQnnHd4J0ugW+X7ZG77IJxOOjiFOirLOswAcl0Syq3n9AiLCMcVw6T2pjlhKHDx0kB3bd9HjYcn8RfTOmElfWTAyMkqlib4ZfZTisMqIdc2hffvonzmLvTu3Ug0f5NDevQwuqziwfwRHRL3x6sbtmCXmzp3P/KG5aDTa7Tajo2PMmzcXTQpBsKqiPniI4IX9u3YSxw8xvHcXaXQJLkS2797Blq3bCb5g4aJFLFp0CmaJ1D7E1+/5GgMz+znr9DOJdUVvb0mqI6QaA2YNzGPW0CLUOwYWL2P5L13IbV++hbu/+nf8zu/8K1yrYLyqGTt0gB27duFR5gwOMXvuPEoxoiZGhw8y2NvHpu0b2TO8j77+AZYuOYXCCgof8HGcl370Igf2H2DW4BwWLF7ErIE5FCKgMD48zPbtW6nHxpg7OMTgnCGK3l5Sx2QyJSUhNBHU1Hndp4Pa/yaiK7x+gTH1XfAYPiXEe15a8yJ/9TdfQKSgsJr+Vh83ffxmzj33HF554XnWb9nGB2+8ESce3yoYGz7ALV/4M9713hv5wbe+zs5du7j11lu4ec4inn7icTh0gL37XuPVLdvBFJzjox/5KFdceQUvb1rHD3+4ik/+809AGSAJKSZuv+3LXHHxRfzgoZW8+uIL3D5ykN7ekmoscvvddzKrfwDD2HdgmJtuvpmLL72UgVmz+J9/+7dYtHAhEttZKxpr4xyUAuIctQhatEg+kFQoegM3XH89f/T7/56d27YytHgJO7du40tf+iIjwwcJwWMC/+yffIRLL76Eat9+7rr1Fk49ZTHffOC7qBrj4zUfeP8H+PAHf4UiOG6/5Yus37iBObPnsnPPbhYMzeMzv/kb9PbPZmT4IHfcdiuvrH2JwdmzObB/P9fdcD3vft/7KXp6qIKhSXDmQRyGR0lM1JVPX+fXT4yu8PoFhk2Eo3PxeTJl3XNr+MM/+o988hOf4sorr8Br5Gu338lf/Jc/4X//N/8He/btZfeO7QSXk0fqWmmPjLN78xYGZ87gs5/97/h/d2/lc//yt5h16jLuv/cevn//N/nEzZ/kU5/9HCEY37r3m/z9rbdwyoKFjLy2l13bN1OUggZHhVJVbXZv34Ze+DY+86n/hoMH93LTzTezeOlSfvdf/2s+9OEPc/U17yCJ8sMfPMzX776bZUtPo39wFhdcuAIRTzIwzZqcmIIlkhkmniiBtgWcOITE4Px5zF8wh7XPP8sFrT7++D9+nvfe8F5ueN8NlKXnoZUruf0rX2H+3LkURcHDqx5mx2mn8z/9D7/D0qXLeHHNGj7/H/6As5acQglsWv8qn/vt32begsXs37+f//znf87Kx1Zy7Tuv5/bbb6Oymv/t//xdevt62bFrN3/0+c/TN7Ofq6+7DosOcR4JDlOaRB2f5yDxrX1gTjB0fV6/oMhpuDnOmv1OhnOORx9+iGWLl3DFFZfhnUeKgvfc+AFmz5/Ncz96HnFCctk3I8GTxMB71HJ9le/tpZ0c7WSkqBiweNES3nXDDbR6ekgJbnjPDSxevIDnVj9J6Vw26VQhGV6EovA5GugCuEA7gRS9KAHFMzLaZmx8HOdaXHnlVfzKr/4qvTNnID6Q8MSkJBGSOHAlhkPE5UAAjigeECKGafZT9ffPYPvO7ax+5klmz+7nXe94Oz2FR5Jx9SVXcs5ZZ/LC6tWUQH//TD70ax9l6elnQAiccdY5nHH6cjZu3ERbYVyV4dExItA3axY333QT5553DiPjB3n5pTXc+IH3M3tgFoixcOECbnz/L/Pgfd/l4MH9FAKalGR6WCqI4BDrvq5T0dW8fkGhU5IAJ1ICU2L95vVcfMGl9DpHclmIFDN6OOX05axd/xKnLj4FL1BZJFhAcUgp1JrAF9QpUIcWMZQQPAYsO/VUemfOpE4QygIfPMtOX8bGDRuZO28uzpTSOSo1UpUgGRVKTSJ5EBdoRyP0zeDDH7uZr995J8+9sJYzzzqbM89cztsuuJienhZVjIgD9QFw+OAYr2tmFAFVUFWcGIUYteXEVC9CXSdGx8aZMziHjevXMXzgEN/45jeok9EqCmId2bFjB2ZwuUH/wCDzFpyCSoERseDoHxhkeHyMSy67nEefeYq/+sIXOWv5ct525tmcc845DA70s2XzJvZu2cLD9z3AU72riEnxRcHunTvYt+81Rg4dYubQPEgppwpYjr8poJJyGkrXbJxAV3h10UCpU0KcJ5KI3pFIOfrnikzwl3IEzoi0fKBKkaKvF/ZWBEk450jiqF3IxaJqeCynWQShjg4nnkoVkkeKnBfm1IgxImWgCJ6RsYgzxUwQNVTBBY+pcclll3H22eewaf16Xn75Je64/XZOWXgK//SjH6Fv5kxInk7tbzTDe0+7Vsw7yqLANGGppsRjkkXD7tf2smPbdt728bexfccuZs2cybxFi3EmROcoRFh0ylKWLJpHkpjP4wsigpgjJdAmLUNE+PXf+A02bt7E+k2befaFF7j7nru56aMfY+aMfsreGSyYP5/+/hmoE6Iaixcv4uqrrmLu7EGIFd7l65QpuWNiXW/9kegKry5QUbwpraJgYGiIDVu2oKr4ogdxxtjYGDu37uDyi1bgvGN0eBhLFWVoUY+N0T50iNGDwxAjuJyt7kQoPKAVe3ZsI41VFH0zSGZUKbFx5w7OWLwI71scGBkmOEc7JcQ72u0Rxg7ux6WEWC7tMTP2vLaXV19Zz8WXXMwll1zEil86n+3bNvN7//bfcdmlF7H0tNP46je+weWXX8U5550PCFEF76AyJSXNoXgnSF2hriDVFU8/9TRDCxaydNky5iycx6adO7nyiitp9faCD5gmRkdH6Snhtb176XiezBKGEoqsu8ZU8chTq5g7fyFLzziVJcuWcdmVV/Lg9+7ja/d9h5tu+hjFQD9nrDiPU087nagCzpCRCmvX+J4WMQQ0QfZ26UTqwHTJMXwz0TWimZr3dDS0Kf9NRx19ckOPmrVDxXjve9/H2pfX8vAjj3BobIQD+4d54L772LF9O5dfeimL5gyxbf161r7wHGlsjNd27uQf7r2b9qHh7JFSJdZt9u7YjtWRYImtmzfz4He+w8iB/dTtioe+/xCbN23mkssuZf7ihYyNj/PQwytJ1Rh7d27nwe/ex+YNG+gLApbAJXbv3sX4yAh/f9uXeO7pJ4hjo2A19aFhnEsMzuynGh1h1aqH2L17Z04kVaWF4iSLAueE4df2snf7Vvbu2c6rr7zIF7/wt6x65GE+8mu/hoaSK668mj2v7eU799/HaNWm3R7lmeee5//5v/8NGzZtBQmIKUoNKIUoziKiFSKJTa++yq1f+SI7t+1A1JCxioP7DrBg1hBLBuaw4uzz+Pbd97Bv6y5a0Xhty27+w+//Ad958Pu4okSTElVxU2h9HNl8nB5P3uv3ipj6PXDcCXc1L/LD0alx78DEmhX2pMNWMReSnuyYnIHLbcLEoRSccda53PzxT3DX1+7i29+6Nxcz14mbfu0jzBwcYFlZct4FF/DXf/k3hLIkFCUrzj+fxWedjzooPCw/83TuvvduTlm2BET4pRUX88orL/LAyh8QXGDs0Cgf+uCvcOqiUzBVfuV9N/KVv/0i37n7bqIY555zHudesoJYlvgZvZx77jl88xtf45Mf/yQ3Xn8Dd33lVr73zXsYrRL7Rsa58UMfY/6yMxBx/K+/+38xb84czMA5h5mAJrwzevv6+PItf0tPq4UJjI+Ps2zZ6fz3v/lZli5bShLPwNz5fOrTn+HO2/6Oxx95hFZRcOjQCNdddy1Llyxl/8hB+gf6EV8jVIgTVJX+mbOYNWuAX77+3Wz///6K//R7v8+82QOMj42jpvzmv/wcva1ePvSr/4RbbvkSf/Dv/j2Dc2YyNjLG4uVncvUN76Z2nhS1qTQAhzRFzDolMnzy6xuHa5B21E+5LM8flXB/JLoc9g0iMDKWWL/nIKO0iK7VNDGZuk8EoJ7MeAbeeoKRI//28cdywdPkviUkvEUMRSwbRds2bWTr5i2EsofTl53O3PnzqC17kEXhmWefYXjffpYtOZXFS5awdc9uFp+ymBAKRkcOMvzaPuYvXMBf/tmfUATPzf/1Tby45gWq8ZozzzyL+YuWYD4bRpKUta++zN6tWxicM8Dys85mx8EDzOyfSf/MfmK7Zu+e3QzNGWJmaLFx2xY2rVtHlYyFpy9j6amnUZYFTnNtXKYanpxzbUpysHvbdsZH9xMsl//0zx5kztBc1Jeoucw84Q0x2LtzJ1s3b2H4wD6Wn302S5YsIVl+sbbv3sXc+fPwweXSsVoZOXgIUWPOzFmMjx5iw4ZN7N21g76ekvPOexthYDah1YMmY3RkmI0b1rF/2w4WL17EKcvPwPXPoIoJF0pUs7l8NEHPT3aff7KxqeM/yzF3hLjKMWRHZG5fyYKBHkoxvBnev7Gg7gqvBgoMjyU2NsKrlpBrzhoDKy+SI0wxuE5WGBCnCC/f8CnhQExxDrTdhtCiJmBmFGXBuEas6YMoBiIBtM5pCC4QU6IsHbGu8ZLLY/7iL/+ClhN+4zOfIQEVBhF8mUtikkCrCMSqqbT0noTl82miCJ5U1RSSNV6HEMQRNSFi2YTzYGq5lEekIe6exDhCm0ApZBNPjMILVV2j6rBQoD438ujoNs4SUiuhDMSYco2kE6KBeCGq4r1AakgQEwQRJCt6gIJGxHuEvOVFgVy8DkEcVteIRkIRMBIOh4mR1ChcmLaRxXrK55zFFvGWGOxrsXCwlx7Ja+e9B3l99atrNjY4suofm0ze9DChvk8fHJ7wmCQzxXo8dTJwZX7BABFPHSNiUHhHbPKxxAngUWvKaktHXSeCc6So+OC44rKLaZUFqgkN+VFV36xk4XECY7HGBcl/G8W7zDdvGDEmnPOkZAQPolnohCLgpdGqrJPsAV5Ch+VmAoYRRMHlelVTRaPhncMhqOR8L2eAKeZAVHGFJ8YIJmiC6BMJpTRP4R0ScyS003AwmSO4/BkcoVVSp4Q5QSNI4anrXJReq+KCUFBiJLz4XJSeFB8Cqmlacosd+QZ1dCtBKaAJUkScNVXsb7AGXc2LvKA12WzcsGeUcXxjNlpjNk4nodXB4dWNnaRVIbM6+FBAnfBUeCeQDCsc1pQQWdSchxRAVWirUgSPqTakpkaQnF7hzVDncp6Vd5jkJgtmWQgm5zDL5wuaWRbwgnMBp5bvQxP1y5FHsjDE0w4eZ4JzkukErc4v/VReSRGcpgmSu5LMYuEkezrbKjjx4CQzOQSHVqkxrj1qCoVrWhkIMUa8y2sRfNbMvPcN6YZiSZp3LoEa6vILqKZIyE0lzTlaInSkX1vBN9qf9566rnFHtXCbLsh5eBAboVXjMOb0FSwa6KVHEi5VEAJI8YZn+YWHkenNo3PUQO3yLji5K0wHF/2RsGNyUpl4TIxKs5alJjm729MI81wgLOLAZUYFxONCNvecTLL9m00eJ4DzLudgqRGcZM5fM5zmzr6GYRLAC2aKWTY9aTQjEWmCJwI+0/koAmKZ8QHoEEoiHGY8mghewFuOHosLua7AIPjMKWUkIoKL2RQ0PMmRG9aaQy1OcE05E0wCZi77Zhpzz3BoVr+y1t7IsYhl8kO1ib6S2picStZiO7xdMWX+9un3zE1F1vM7LgxPJLr8fER1lD5wPI99V3g10EQub3GS/TWdtkEy9RU/MiZ5MiMdxbQ7NXnCEGoMkZ58iDbfTBzUrMkRy5EmfLSp4WOa4rQV33AWKq7DlDlFwmRDtujwGk4IIXTKcVM4nkxS83lqCOVoj2QEnBQoQi3anG9S2E3OIbsKUsdZoFOGDXABSCR11AQOc0o11zw1vOO1M/9IcsfQ3p3DLDOr4Zrfk6Ovf/rhGGuh2b+l0qQnueK4RnNXeDUIHkJSRBMmbby1kM5j3CQjTqYLTiO8znSS5JepbjSCjt/0SAZWbY4tjlQTZKoolMmDLWtNpLzrmuhkzZ7QCISsTUkjBl6Pf8+p4a0RgscirmvG1AT1UzYhz5SDp85mqo+luc4jTzYRwj822VTnKGnWQC1veIJknrCJv5MtxnysUujJHwj6x0A0QgQxj3hBU67YkDcQ5l3hRaO8JsXFRA8x92aUCrHsPJSmH5aRgNe3wU8uHJ+hwIDQtH9zNpko2TFvVCYVsnCkEGyeuTRVeHW+0saB3iHglqzpdBKCMYef8jIfZT41X7iJKznqTxw+JuT2aK93nE35IGQBKx0tewqPrhmTvdHkdc5xOFQcDs3R3Kb7ekcIRsl+On/ctM3pho4zflJtD95oSYfl1/DSUbdfX3h1HfYAJKgj0RzDCWqXewY5saZ70KT1EidSWk9mGOEI9sqjZjRVSTCOycZinVDskd/LFG0pB96OgYYz4TBlpGF2VZA3YNG0KbmaJoIdx5R3mibOZ0ekqksnK5KsBeITEovJ65fDjzMfG8HmJ+dHI9OOjHI6prhtao5GbriX3dbTxR1xfGTv6OFz9pYL5nuC4FPMyxZ4Q4d9V3gB+SWKgKN6g7yS6YzjCa9jqehG4+M6xvcd2SOAHlPW22E+jclkB3ndvzf12M7x9mPsIzLlfB2RPcXjNeW8Ha+ZvO5xnWM6emHnzx9L9GQ2iMmzd3S4qfNgwjj+BUezCE0YpdHBfaOVHxtd4dVFF12clPjF0VW76KKLaYWu8Oqiiy5OSnSFVxdddHFS4v8H/qevtUuCJ6sAAAAASUVORK5CYII=)"
      ],
      "metadata": {
        "id": "27cWB4JHitBN"
      }
    },
    {
      "cell_type": "markdown",
      "source": [
        "- Functional API는 함수의 입력 매개변수를 여러 개 갖는 다중 입력, 함수의 return 값을 여러 개 갖는 다중 출력, 같은 레벨에 여러 개의 층을 배치하여 입력과 출력을 공유하는 구조도 가능함.\n",
        "\n",
        "- Sequential API는 단방향의 Sequential 모델만 구현할 수 있어 데이터의 흐름이 특정 레이어를 건너뛰거나 병합 및 분리하는 등의 구조의 모델은 구현할 수 없음.\n"
      ],
      "metadata": {
        "id": "nI51MsjIixFF"
      }
    },
    {
      "cell_type": "code",
      "source": [
        "import tensorflow as tf\n",
        "mnist = tf.keras.datasets.mnist\n",
        "\n",
        "(x_train, y_train), (x_test, y_test) = mnist.load_data()\n",
        "\n",
        "# 데이터 정규화\n",
        "x_train = x_train / x_train.max()\n",
        "x_test = x_test / x_test.max()"
      ],
      "metadata": {
        "id": "Tiyak2GPiPh2"
      },
      "execution_count": 13,
      "outputs": []
    },
    {
      "cell_type": "markdown",
      "source": [
        "- Input 레이어에 데이터의 입력 shape를 정의함.\n",
        "\n",
        "- 레이어마다 반환되는 출력 값을 변수에 저장한 뒤 다음 레이어의 입력으로 연결함."
      ],
      "metadata": {
        "id": "WqcEMZGrk18P"
      }
    },
    {
      "cell_type": "code",
      "source": [
        "# 모델의 레이어를 체인 구조로 연결 Input 레이어 정의\n",
        "input_layer = tf.keras.Input(shape=(28,28), name=\"InputLayer\")\n",
        "# 모델의 레이어를 체인 구조로 연결\n",
        "x1 = tf.keras.layers.Flatten(name=\"Flatten\")(input_layer)\n",
        "x2 = tf.keras.layers.Dense(256, activation='relu', name='Dense1')(x1)\n",
        "x3 = tf.keras.layers.Dense(64, activation='relu', name=\"Dense2\")(x2)\n",
        "x4 = tf.keras.layers.Dense(10, activation='softmax', name='OutputLayer')(x3)"
      ],
      "metadata": {
        "id": "nPNIac_yjucp"
      },
      "execution_count": 14,
      "outputs": []
    },
    {
      "cell_type": "code",
      "source": [
        "# 모델 생성\n",
        "func_model = tf.keras.Model(inputs=input_layer, outputs=x4, name=\"FunctionalModel\")\n",
        "# 모델 요약\n",
        "func_model.summary()"
      ],
      "metadata": {
        "colab": {
          "base_uri": "https://localhost:8080/"
        },
        "id": "czsOoZhI1d8-",
        "outputId": "fe8e6643-b5ea-4fb6-fc5c-e733a6481532"
      },
      "execution_count": 16,
      "outputs": [
        {
          "output_type": "stream",
          "name": "stdout",
          "text": [
            "Model: \"FunctionalModel\"\n",
            "_________________________________________________________________\n",
            " Layer (type)                Output Shape              Param #   \n",
            "=================================================================\n",
            " InputLayer (InputLayer)     [(None, 28, 28)]          0         \n",
            "                                                                 \n",
            " Flatten (Flatten)           (None, 784)               0         \n",
            "                                                                 \n",
            " Dense1 (Dense)              (None, 256)               200960    \n",
            "                                                                 \n",
            " Dense2 (Dense)              (None, 64)                16448     \n",
            "                                                                 \n",
            " OutputLayer (Dense)         (None, 10)                650       \n",
            "                                                                 \n",
            "=================================================================\n",
            "Total params: 218,058\n",
            "Trainable params: 218,058\n",
            "Non-trainable params: 0\n",
            "_________________________________________________________________\n"
          ]
        }
      ]
    },
    {
      "cell_type": "code",
      "source": [
        "from tensorflow.keras.utils import plot_model\n",
        "# 구조도 시각화\n",
        "plot_model(func_model, show_shapes=True, show_layer_names=True, to_file='model.png')\n",
        "# show_shapes=True: 데이터의 입출력 shape를 출력\n",
        "# show_layer_names=True: 레이어의 이름 출력\n",
        "# to_file: 이미지 파일로 저장"
      ],
      "metadata": {
        "colab": {
          "base_uri": "https://localhost:8080/",
          "height": 533
        },
        "id": "4mp4PZIu1wG3",
        "outputId": "3fd662ae-f28c-4f2c-dde8-544ca39c8da4"
      },
      "execution_count": 17,
      "outputs": [
        {
          "output_type": "execute_result",
          "data": {
            "image/png": "[encoded data removed]",
            "text/plain": [
              "<IPython.core.display.Image object>"
            ]
          },
          "metadata": {},
          "execution_count": 17
        }
      ]
    },
    {
      "cell_type": "code",
      "source": [
        "# 컴파일\n",
        "func_model.compile(optimizer='adam', loss='sparse_categorical_crossentropy', metrics=['accuracy'])\n",
        "# 훈련\n",
        "func_model.fit(x_train, y_train, epochs=3)\n",
        "# 검증\n",
        "loss, auc = func_model.evaluate(x_test, y_test, verbose=0)"
      ],
      "metadata": {
        "colab": {
          "base_uri": "https://localhost:8080/"
        },
        "id": "4WTt0C1A3lbL",
        "outputId": "be268b94-cd91-44ec-e4f0-939458487ec5"
      },
      "execution_count": 20,
      "outputs": [
        {
          "output_type": "stream",
          "name": "stdout",
          "text": [
            "Epoch 1/3\n",
            "1875/1875 [==============================] - 5s 2ms/step - loss: 0.2170 - accuracy: 0.9359\n",
            "Epoch 2/3\n",
            "1875/1875 [==============================] - 4s 2ms/step - loss: 0.0880 - accuracy: 0.9729\n",
            "Epoch 3/3\n",
            "1875/1875 [==============================] - 5s 2ms/step - loss: 0.0612 - accuracy: 0.9808\n"
          ]
        }
      ]
    },
    {
      "cell_type": "markdown",
      "source": [
        "###[7-2] 모델 서브클래싱 (Model Subclassing)"
      ],
      "metadata": {
        "id": "qbHRqmzR38Np"
      }
    },
    {
      "cell_type": "markdown",
      "source": [
        "![image.png](data:image/png;base64,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)"
      ],
      "metadata": {
        "id": "Xuq4_K474Foa"
      }
    },
    {
      "cell_type": "code",
      "source": [
        "class MyModel(tf.keras.Model):\n",
        "  def __init__(self):\n",
        "    super(MyModel, self).__init__()\n",
        "    # 초기값 설정\n",
        "    self.flatten = tf.keras.layers.Flatten()\n",
        "    self.dense1 = tf.keras.layers.Dense(256, activation='relu')\n",
        "    self.dense2 = tf.keras.layers.Dense(64, activation='relu')\n",
        "    self.dense3 = tf.keras.layers.Dense(10, activation='softmax')\n",
        "\n",
        "  # call함수 overriding\n",
        "  # 훈련용 함수 정의\n",
        "  # x는 input\n",
        "  def call(self, x):\n",
        "    x = self.flatten(x)\n",
        "    x = self.dense1(x)\n",
        "    x = self.dense2(x)\n",
        "    x = self.dense3(x)\n",
        "    return x"
      ],
      "metadata": {
        "id": "qWfhmuB836kt"
      },
      "execution_count": 22,
      "outputs": []
    },
    {
      "cell_type": "markdown",
      "source": [
        "call() \n",
        "\n",
        "- fit() 메소드가 호출되어 훈련하는 경우 호출되는 함수\n",
        "\n",
        "- 모델의 입력부터 출력까지의 흐름, 즉 순전파를 정의하고 함수형 API와 같은 방식으로 모든 레이어를 체인처럼 연결함.\n",
        "\n"
      ],
      "metadata": {
        "id": "4hiWuAiz6CYr"
      }
    },
    {
      "cell_type": "code",
      "source": [
        "# 모델 생성\n",
        "mymodel = MyModel()\n",
        "\n",
        "# 모델의 이름 설정\n",
        "mymodel._name = 'subclass_model'\n",
        "\n",
        "# 모델 input 정의\n",
        "mymodel(tf.keras.layers.Input(shape=(28,28)))\n",
        "\n",
        "# 모델 요약\n",
        "mymodel.summary()"
      ],
      "metadata": {
        "colab": {
          "base_uri": "https://localhost:8080/"
        },
        "id": "TPTGxLku4Vlm",
        "outputId": "55271bfc-e254-4bd7-be13-ce2f75b31d22"
      },
      "execution_count": 23,
      "outputs": [
        {
          "output_type": "stream",
          "name": "stdout",
          "text": [
            "Model: \"subclass_model\"\n",
            "_________________________________________________________________\n",
            " Layer (type)                Output Shape              Param #   \n",
            "=================================================================\n",
            " flatten_1 (Flatten)         multiple                  0         \n",
            "                                                                 \n",
            " dense_3 (Dense)             multiple                  200960    \n",
            "                                                                 \n",
            " dense_4 (Dense)             multiple                  16448     \n",
            "                                                                 \n",
            " dense_5 (Dense)             multiple                  650       \n",
            "                                                                 \n",
            "=================================================================\n",
            "Total params: 218,058\n",
            "Trainable params: 218,058\n",
            "Non-trainable params: 0\n",
            "_________________________________________________________________\n"
          ]
        }
      ]
    },
    {
      "cell_type": "code",
      "source": [
        "# 컴파일\n",
        "mymodel.compile(optimizer='adam', loss='sparse_categorical_crossentropy', metrics=['accuracy'])\n",
        "# 훈련\n",
        "mymodel.fit(x_train, y_train, epochs=3)\n",
        "# 검증\n",
        "loss, acc = mymodel.evaluate(x_test, y_test, verbose=0)\n",
        "print(f\"Subclassing Model] loss: {loss:.5f}, acc:{acc:.5f}\")"
      ],
      "metadata": {
        "colab": {
          "base_uri": "https://localhost:8080/"
        },
        "id": "L5poHX_q9ZpC",
        "outputId": "27ab21b2-2aeb-469b-ae87-1c6ff60069ca"
      },
      "execution_count": 24,
      "outputs": [
        {
          "output_type": "stream",
          "name": "stdout",
          "text": [
            "Epoch 1/3\n",
            "1875/1875 [==============================] - 5s 2ms/step - loss: 0.2162 - accuracy: 0.9351\n",
            "Epoch 2/3\n",
            "1875/1875 [==============================] - 4s 2ms/step - loss: 0.0910 - accuracy: 0.9719\n",
            "Epoch 3/3\n",
            "1875/1875 [==============================] - 4s 2ms/step - loss: 0.0620 - accuracy: 0.9804\n",
            "Subclassing Model] loss: 0.07738, acc:0.97450\n"
          ]
        }
      ]
    },
    {
      "cell_type": "markdown",
      "source": [
        "###[7-3] 서브클래싱 모델 파라미터를 활용한 생성"
      ],
      "metadata": {
        "id": "MjPoAyda9-eU"
      }
    },
    {
      "cell_type": "markdown",
      "source": [
        "- Model Subclassing으로 생성하면 생성자 파라미터로 모델 내부 레이어의 하이퍼파라미터를 지정할 수 있음."
      ],
      "metadata": {
        "id": "KqVDx8mP-CeL"
      }
    },
    {
      "cell_type": "code",
      "source": [
        "class MyModel(tf.keras.Model):\n",
        "  # 생성자 파라미터 추가\n",
        "  def __init__(self, units, num_classes):\n",
        "    super(MyModel, self).__init__()\n",
        "    # 초기값 설정\n",
        "    self.flatten = tf.keras.layers.Flatten()\n",
        "    self.dense1 = tf.keras.layers.Dense(units, activation='relu')\n",
        "    self.dense2 = tf.keras.layers.Dense(units/4, activation='relu')\n",
        "    self.dense3 = tf.keras.layers.Dense(num_classes, activation='softmax')\n",
        "\n",
        "  # class overiding\n",
        "  # 훈련용 함수 정의\n",
        "  # x는 input\n",
        "  def call(self, x):\n",
        "    x = self.flatten(x)\n",
        "    x = self.dense1(x)\n",
        "    x = self.dense2(x)\n",
        "    x = self.dense3(x)\n",
        "    return x"
      ],
      "metadata": {
        "id": "O83FNm9495Gt"
      },
      "execution_count": 25,
      "outputs": []
    },
    {
      "cell_type": "code",
      "source": [
        "# 모델의 생성자 파라미터로 기준이 되는 unit 개수를 입력받아 Dense 레이어의 유닛 개수를 계산하여 설정\n",
        "# 모델 생성\n",
        "mymodel = MyModel(256, 10)\n",
        "# 모델 input 정의\n",
        "mymodel(tf.keras.layers.Input(shape=(28,28)))\n",
        "# 모델 요약\n",
        "mymodel.summary()"
      ],
      "metadata": {
        "colab": {
          "base_uri": "https://localhost:8080/"
        },
        "id": "J6P7NyKc-qRS",
        "outputId": "42e5fdb8-f5c5-4acd-d274-695c375c124e"
      },
      "execution_count": 27,
      "outputs": [
        {
          "output_type": "stream",
          "name": "stdout",
          "text": [
            "Model: \"my_model_2\"\n",
            "_________________________________________________________________\n",
            " Layer (type)                Output Shape              Param #   \n",
            "=================================================================\n",
            " flatten_3 (Flatten)         multiple                  0         \n",
            "                                                                 \n",
            " dense_9 (Dense)             multiple                  200960    \n",
            "                                                                 \n",
            " dense_10 (Dense)            multiple                  16448     \n",
            "                                                                 \n",
            " dense_11 (Dense)            multiple                  650       \n",
            "                                                                 \n",
            "=================================================================\n",
            "Total params: 218,058\n",
            "Trainable params: 218,058\n",
            "Non-trainable params: 0\n",
            "_________________________________________________________________\n"
          ]
        }
      ]
    },
    {
      "cell_type": "code",
      "source": [
        "# 컴파일\n",
        "mymodel.compile(optimizer='adam', loss='sparse_categorical_crossentropy', metrics=['accuracy'])\n",
        "# 훈련\n",
        "mymodel.fit(x_train, y_train, epochs=3)\n",
        "# 검증\n",
        "loss, auc = mymodel.evaluate(x_test, y_test, verbose=0)\n",
        "print(f'Subclassing Model w.parameters] loss: {loss:.5f}, acc: {acc:.5f}')"
      ],
      "metadata": {
        "colab": {
          "base_uri": "https://localhost:8080/"
        },
        "id": "M6iHStzE-5Xc",
        "outputId": "7d20fa2f-9128-45d7-9875-aaf4bd0258cb"
      },
      "execution_count": 28,
      "outputs": [
        {
          "output_type": "stream",
          "name": "stdout",
          "text": [
            "Epoch 1/3\n",
            "1875/1875 [==============================] - 5s 2ms/step - loss: 0.2150 - accuracy: 0.9359\n",
            "Epoch 2/3\n",
            "1875/1875 [==============================] - 4s 2ms/step - loss: 0.0855 - accuracy: 0.9740\n",
            "Epoch 3/3\n",
            "1875/1875 [==============================] - 4s 2ms/step - loss: 0.0590 - accuracy: 0.9814\n",
            "Subclassing Model w.parameters] loss: 0.07800, acc: 0.97450\n"
          ]
        }
      ]
    }
  ]
}