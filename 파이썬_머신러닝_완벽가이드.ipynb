{
  "nbformat": 4,
  "nbformat_minor": 0,
  "metadata": {
    "colab": {
      "provenance": [],
      "collapsed_sections": []
    },
    "kernelspec": {
      "name": "python3",
      "display_name": "Python 3"
    },
    "language_info": {
      "name": "python"
    }
  },
  "cells": [
    {
      "cell_type": "markdown",
      "source": [
        "파이썬 머신러닝 완벽 가이드 ch8. 7, 10 pg. 516 ~ 528, 544 ~ 561"
      ],
      "metadata": {
        "id": "45Dw5WW6hkIE"
      }
    },
    {
      "cell_type": "markdown",
      "source": [
        "## 07 문서 군집화 소개와 실습 (Opinion Review 데이터 세트)"
      ],
      "metadata": {
        "id": "7YLpXdkpU4Qm"
      }
    },
    {
      "cell_type": "markdown",
      "source": [
        "### 문서 군집화 \n",
        "\n",
        "- 비슷한 텍스트 구성의 문서를 군집화(Clustering)하는 것\n",
        "\n",
        "- 비지도학습"
      ],
      "metadata": {
        "id": "NFQ20kO4U9Gi"
      }
    },
    {
      "cell_type": "markdown",
      "source": [
        "### Opinion Review 데이터 세트를 이용한 문서 군집화 수행하기"
      ],
      "metadata": {
        "id": "nMAr9N8TY5Xd"
      }
    },
    {
      "cell_type": "code",
      "execution_count": 1,
      "metadata": {
        "id": "_AQTRqLBhjzM"
      },
      "outputs": [],
      "source": [
        "import warnings\n",
        "warnings.filterwarnings('ignore')"
      ]
    },
    {
      "cell_type": "code",
      "source": [
        "from google.colab import drive\n",
        "drive.mount('/content/drive')"
      ],
      "metadata": {
        "id": "Qcgw3F4GZTnc",
        "colab": {
          "base_uri": "https://localhost:8080/"
        },
        "outputId": "9a9b4aee-7f0d-4849-86a4-d7dd75f6bfa8"
      },
      "execution_count": 2,
      "outputs": [
        {
          "output_type": "stream",
          "name": "stdout",
          "text": [
            "Mounted at /content/drive\n"
          ]
        }
      ]
    },
    {
      "cell_type": "code",
      "source": [
        "import pandas as pd\n",
        "import glob, os\n",
        "path = r'/content/drive/MyDrive/ESAAdata/OpinosisDataset1.0/topics'\n",
        "# path로 지정한 디렉토리 밑에 있는 모든 .data 파일의 파일명을 리스트로 취합\n",
        "all_files = glob.glob(os.path.join(path,\"*.data\"))\n",
        "filename_list = []\n",
        "opinion_text=[]\n",
        "# 개별 파일의 파일명은 filename_list로 취합,\n",
        "# 개별 파일의 파일 내용은 DataFrame 로딩 후 다시 string으로 변환해 opinion_text list로 취합\n",
        "for file_ in all_files:\n",
        "  # 개별 파일을 읽어서 DataFrame으로 생성\n",
        "  df = pd.read_table(file_, index_col=None, header=0, encoding='latin1')\n",
        "  # 절대 경로로 주어진 파일명을 가공.\n",
        "  # .data 확장자도 제거\n",
        "  filename_ = file_.split('/')[-1]\n",
        "  filename = filename_.split('.')[0]\n",
        "  # 파일명 list와 파일 내용 list에 파일명과 파일 내용을 추가\n",
        "  filename_list.append(filename)\n",
        "  opinion_text.append(df.to_string())\n",
        "\n",
        "# 파일명 list와 파일 내용 list 객체를 DataFrame으로 생성\n",
        "document_df = pd.DataFrame({'filename':filename_list, 'opinion_text':opinion_text})\n",
        "document_df.head()"
      ],
      "metadata": {
        "id": "chcN4NyqZT7x"
      },
      "execution_count": null,
      "outputs": []
    },
    {
      "cell_type": "code",
      "source": [
        "import nltk\n",
        "nltk.download('punkt')\n",
        "nltk.download('wordnet')\n",
        "nltk.download('omw-1.4')"
      ],
      "metadata": {
        "id": "xJENPwt3mE9d",
        "colab": {
          "base_uri": "https://localhost:8080/"
        },
        "outputId": "8ace5bc3-cbf8-4b4f-f25a-739756a4282f"
      },
      "execution_count": null,
      "outputs": [
        {
          "output_type": "stream",
          "name": "stderr",
          "text": [
            "[nltk_data] Downloading package punkt to /root/nltk_data...\n",
            "[nltk_data]   Unzipping tokenizers/punkt.zip.\n",
            "[nltk_data] Downloading package wordnet to /root/nltk_data...\n",
            "[nltk_data] Downloading package omw-1.4 to /root/nltk_data...\n"
          ]
        },
        {
          "output_type": "execute_result",
          "data": {
            "text/plain": [
              "True"
            ]
          },
          "metadata": {},
          "execution_count": 4
        }
      ]
    },
    {
      "cell_type": "code",
      "source": [
        "from nltk.stem import WordNetLemmatizer\n",
        "import nltk\n",
        "import string\n",
        "\n",
        "# 단어 원형 추출 함수\n",
        "lemmar = WordNetLemmatizer()\n",
        "\n",
        "# 토큰화한 각 단어들의 원형을 리스트로 반환\n",
        "def LemTokens(tokens):\n",
        "  return [lemmar.lemmatize(token) for token in tokens]\n",
        "\n",
        "# 특수 문자 사전 생성: {33: None ...}\n",
        "# ord('문자열') : 문자열의 아스키 코드 반환\n",
        "# string.puncutaion : 문자열의 모든 구두점이 들어있음\n",
        "# dict(key, value) 형태로 모든 구두점의 각 아스키 코드를 key값으로 넣음\n",
        "remove_punct_dict = dict((ord(punct), None) for punct in string.punctuation)\n",
        "\n",
        "# 특수 문자 제거 및 단어 원형 추출\n",
        "def LemNormalize(text):\n",
        "  # 텍스트 소문자 변경 후 특수 문자 제거\n",
        "  text_new = text.lower().translate(remove_punct_dict)\n",
        "  # 단어 토큰화\n",
        "  word_tokens = nltk.word_tokenize(text_new)\n",
        "  # 단어 원형 추출\n",
        "  return LemTokens(word_tokens)"
      ],
      "metadata": {
        "id": "hJyMsKZ0mE_0"
      },
      "execution_count": null,
      "outputs": []
    },
    {
      "cell_type": "code",
      "source": [
        "# 문서를 TF-IDF 형태로 피처 벡터화\n",
        "from sklearn.feature_extraction.text import TfidfVectorizer\n",
        "tfidf_vect = TfidfVectorizer(tokenizer=LemNormalize, stop_words='english',\n",
        "                             ngram_range=(1,2), min_df=0.05, max_df=0.85)\n",
        "# opinion_text 칼럼 값으로 피처 벡터화 수행\n",
        "feature_vect = tfidf_vect.fit_transform(document_df['opinion_text'])"
      ],
      "metadata": {
        "id": "Jvw267nLim3-"
      },
      "execution_count": null,
      "outputs": []
    },
    {
      "cell_type": "code",
      "source": [
        "# 문서 군집 분류\n",
        "from sklearn.cluster import KMeans\n",
        "km_cluster = KMeans(n_clusters=5, max_iter=10000, random_state=0)\n",
        "km_cluster.fit(feature_vect)\n",
        "cluster_label = km_cluster.labels_\n",
        "cluster_centers = km_cluster.cluster_centers_"
      ],
      "metadata": {
        "id": "3P5C7nSBmomz"
      },
      "execution_count": null,
      "outputs": []
    },
    {
      "cell_type": "code",
      "source": [
        "document_df['cluster_label'] = cluster_label\n",
        "document_df.head()"
      ],
      "metadata": {
        "id": "VuPS9Z6TqONf",
        "colab": {
          "base_uri": "https://localhost:8080/",
          "height": 206
        },
        "outputId": "995c13e1-6a0f-465f-b704-eb9bbf347d50"
      },
      "execution_count": null,
      "outputs": [
        {
          "output_type": "execute_result",
          "data": {
            "text/plain": [
              "                         filename  \\\n",
              "0      battery-life_amazon_kindle   \n",
              "1      battery-life_ipod_nano_8gb   \n",
              "2   accuracy_garmin_nuvi_255W_gps   \n",
              "3  bathroom_bestwestern_hotel_sfo   \n",
              "4      voice_garmin_nuvi_255W_gps   \n",
              "\n",
              "                                        opinion_text  cluster_label  \n",
              "0                                                ...              2  \n",
              "1                                                ...              2  \n",
              "2                                                ...              3  \n",
              "3                                                ...              0  \n",
              "4                                                ...              3  "
            ],
            "text/html": [
              "\n",
              "  <div id=\"df-7f002c42-ae97-48fa-aaff-3fab84233c8a\">\n",
              "    <div class=\"colab-df-container\">\n",
              "      <div>\n",
              "<style scoped>\n",
              "    .dataframe tbody tr th:only-of-type {\n",
              "        vertical-align: middle;\n",
              "    }\n",
              "\n",
              "    .dataframe tbody tr th {\n",
              "        vertical-align: top;\n",
              "    }\n",
              "\n",
              "    .dataframe thead th {\n",
              "        text-align: right;\n",
              "    }\n",
              "</style>\n",
              "<table border=\"1\" class=\"dataframe\">\n",
              "  <thead>\n",
              "    <tr style=\"text-align: right;\">\n",
              "      <th></th>\n",
              "      <th>filename</th>\n",
              "      <th>opinion_text</th>\n",
              "      <th>cluster_label</th>\n",
              "    </tr>\n",
              "  </thead>\n",
              "  <tbody>\n",
              "    <tr>\n",
              "      <th>0</th>\n",
              "      <td>battery-life_amazon_kindle</td>\n",
              "      <td>...</td>\n",
              "      <td>2</td>\n",
              "    </tr>\n",
              "    <tr>\n",
              "      <th>1</th>\n",
              "      <td>battery-life_ipod_nano_8gb</td>\n",
              "      <td>...</td>\n",
              "      <td>2</td>\n",
              "    </tr>\n",
              "    <tr>\n",
              "      <th>2</th>\n",
              "      <td>accuracy_garmin_nuvi_255W_gps</td>\n",
              "      <td>...</td>\n",
              "      <td>3</td>\n",
              "    </tr>\n",
              "    <tr>\n",
              "      <th>3</th>\n",
              "      <td>bathroom_bestwestern_hotel_sfo</td>\n",
              "      <td>...</td>\n",
              "      <td>0</td>\n",
              "    </tr>\n",
              "    <tr>\n",
              "      <th>4</th>\n",
              "      <td>voice_garmin_nuvi_255W_gps</td>\n",
              "      <td>...</td>\n",
              "      <td>3</td>\n",
              "    </tr>\n",
              "  </tbody>\n",
              "</table>\n",
              "</div>\n",
              "      <button class=\"colab-df-convert\" onclick=\"convertToInteractive('df-7f002c42-ae97-48fa-aaff-3fab84233c8a')\"\n",
              "              title=\"Convert this dataframe to an interactive table.\"\n",
              "              style=\"display:none;\">\n",
              "        \n",
              "  <svg xmlns=\"http://www.w3.org/2000/svg\" height=\"24px\"viewBox=\"0 0 24 24\"\n",
              "       width=\"24px\">\n",
              "    <path d=\"M0 0h24v24H0V0z\" fill=\"none\"/>\n",
              "    <path d=\"M18.56 5.44l.94 2.06.94-2.06 2.06-.94-2.06-.94-.94-2.06-.94 2.06-2.06.94zm-11 1L8.5 8.5l.94-2.06 2.06-.94-2.06-.94L8.5 2.5l-.94 2.06-2.06.94zm10 10l.94 2.06.94-2.06 2.06-.94-2.06-.94-.94-2.06-.94 2.06-2.06.94z\"/><path d=\"M17.41 7.96l-1.37-1.37c-.4-.4-.92-.59-1.43-.59-.52 0-1.04.2-1.43.59L10.3 9.45l-7.72 7.72c-.78.78-.78 2.05 0 2.83L4 21.41c.39.39.9.59 1.41.59.51 0 1.02-.2 1.41-.59l7.78-7.78 2.81-2.81c.8-.78.8-2.07 0-2.86zM5.41 20L4 18.59l7.72-7.72 1.47 1.35L5.41 20z\"/>\n",
              "  </svg>\n",
              "      </button>\n",
              "      \n",
              "  <style>\n",
              "    .colab-df-container {\n",
              "      display:flex;\n",
              "      flex-wrap:wrap;\n",
              "      gap: 12px;\n",
              "    }\n",
              "\n",
              "    .colab-df-convert {\n",
              "      background-color: #E8F0FE;\n",
              "      border: none;\n",
              "      border-radius: 50%;\n",
              "      cursor: pointer;\n",
              "      display: none;\n",
              "      fill: #1967D2;\n",
              "      height: 32px;\n",
              "      padding: 0 0 0 0;\n",
              "      width: 32px;\n",
              "    }\n",
              "\n",
              "    .colab-df-convert:hover {\n",
              "      background-color: #E2EBFA;\n",
              "      box-shadow: 0px 1px 2px rgba(60, 64, 67, 0.3), 0px 1px 3px 1px rgba(60, 64, 67, 0.15);\n",
              "      fill: #174EA6;\n",
              "    }\n",
              "\n",
              "    [theme=dark] .colab-df-convert {\n",
              "      background-color: #3B4455;\n",
              "      fill: #D2E3FC;\n",
              "    }\n",
              "\n",
              "    [theme=dark] .colab-df-convert:hover {\n",
              "      background-color: #434B5C;\n",
              "      box-shadow: 0px 1px 3px 1px rgba(0, 0, 0, 0.15);\n",
              "      filter: drop-shadow(0px 1px 2px rgba(0, 0, 0, 0.3));\n",
              "      fill: #FFFFFF;\n",
              "    }\n",
              "  </style>\n",
              "\n",
              "      <script>\n",
              "        const buttonEl =\n",
              "          document.querySelector('#df-7f002c42-ae97-48fa-aaff-3fab84233c8a button.colab-df-convert');\n",
              "        buttonEl.style.display =\n",
              "          google.colab.kernel.accessAllowed ? 'block' : 'none';\n",
              "\n",
              "        async function convertToInteractive(key) {\n",
              "          const element = document.querySelector('#df-7f002c42-ae97-48fa-aaff-3fab84233c8a');\n",
              "          const dataTable =\n",
              "            await google.colab.kernel.invokeFunction('convertToInteractive',\n",
              "                                                     [key], {});\n",
              "          if (!dataTable) return;\n",
              "\n",
              "          const docLinkHtml = 'Like what you see? Visit the ' +\n",
              "            '<a target=\"_blank\" href=https://colab.research.google.com/notebooks/data_table.ipynb>data table notebook</a>'\n",
              "            + ' to learn more about interactive tables.';\n",
              "          element.innerHTML = '';\n",
              "          dataTable['output_type'] = 'display_data';\n",
              "          await google.colab.output.renderOutput(dataTable, element);\n",
              "          const docLink = document.createElement('div');\n",
              "          docLink.innerHTML = docLinkHtml;\n",
              "          element.appendChild(docLink);\n",
              "        }\n",
              "      </script>\n",
              "    </div>\n",
              "  </div>\n",
              "  "
            ]
          },
          "metadata": {},
          "execution_count": 8
        }
      ]
    },
    {
      "cell_type": "code",
      "source": [
        "document_df[document_df['cluster_label']==0].sort_values(by='filename') # Hotel에 대한 리뷰"
      ],
      "metadata": {
        "id": "6t7tzzqxuDos",
        "colab": {
          "base_uri": "https://localhost:8080/",
          "height": 551
        },
        "outputId": "4bbe9738-b819-45f9-ebc7-5f426aa4362a"
      },
      "execution_count": null,
      "outputs": [
        {
          "output_type": "execute_result",
          "data": {
            "text/plain": [
              "                           filename  \\\n",
              "3    bathroom_bestwestern_hotel_sfo   \n",
              "29          food_holiday_inn_london   \n",
              "31           food_swissotel_chicago   \n",
              "16       free_bestwestern_hotel_sfo   \n",
              "27   location_bestwestern_hotel_sfo   \n",
              "44      location_holiday_inn_london   \n",
              "26    parking_bestwestern_hotel_sfo   \n",
              "7          price_holiday_inn_london   \n",
              "42          room_holiday_inn_london   \n",
              "25      rooms_bestwestern_hotel_sfo   \n",
              "48          rooms_swissotel_chicago   \n",
              "22    service_bestwestern_hotel_sfo   \n",
              "10       service_holiday_inn_london   \n",
              "30  service_swissotel_hotel_chicago   \n",
              "24      staff_bestwestern_hotel_sfo   \n",
              "9           staff_swissotel_chicago   \n",
              "\n",
              "                                         opinion_text  cluster_label  \n",
              "3                                                 ...              0  \n",
              "29                                                ...              0  \n",
              "31                                                ...              0  \n",
              "16                                                ...              0  \n",
              "27                                                ...              0  \n",
              "44                                                ...              0  \n",
              "26                                                ...              0  \n",
              "7                                                 ...              0  \n",
              "42                                                ...              0  \n",
              "25                                                ...              0  \n",
              "48                                                ...              0  \n",
              "22                                                ...              0  \n",
              "10                                                ...              0  \n",
              "30                                                ...              0  \n",
              "24                                                ...              0  \n",
              "9                                                 ...              0  "
            ],
            "text/html": [
              "\n",
              "  <div id=\"df-4d527c3b-2e9b-4a82-b3a1-1b5dafeed272\">\n",
              "    <div class=\"colab-df-container\">\n",
              "      <div>\n",
              "<style scoped>\n",
              "    .dataframe tbody tr th:only-of-type {\n",
              "        vertical-align: middle;\n",
              "    }\n",
              "\n",
              "    .dataframe tbody tr th {\n",
              "        vertical-align: top;\n",
              "    }\n",
              "\n",
              "    .dataframe thead th {\n",
              "        text-align: right;\n",
              "    }\n",
              "</style>\n",
              "<table border=\"1\" class=\"dataframe\">\n",
              "  <thead>\n",
              "    <tr style=\"text-align: right;\">\n",
              "      <th></th>\n",
              "      <th>filename</th>\n",
              "      <th>opinion_text</th>\n",
              "      <th>cluster_label</th>\n",
              "    </tr>\n",
              "  </thead>\n",
              "  <tbody>\n",
              "    <tr>\n",
              "      <th>3</th>\n",
              "      <td>bathroom_bestwestern_hotel_sfo</td>\n",
              "      <td>...</td>\n",
              "      <td>0</td>\n",
              "    </tr>\n",
              "    <tr>\n",
              "      <th>29</th>\n",
              "      <td>food_holiday_inn_london</td>\n",
              "      <td>...</td>\n",
              "      <td>0</td>\n",
              "    </tr>\n",
              "    <tr>\n",
              "      <th>31</th>\n",
              "      <td>food_swissotel_chicago</td>\n",
              "      <td>...</td>\n",
              "      <td>0</td>\n",
              "    </tr>\n",
              "    <tr>\n",
              "      <th>16</th>\n",
              "      <td>free_bestwestern_hotel_sfo</td>\n",
              "      <td>...</td>\n",
              "      <td>0</td>\n",
              "    </tr>\n",
              "    <tr>\n",
              "      <th>27</th>\n",
              "      <td>location_bestwestern_hotel_sfo</td>\n",
              "      <td>...</td>\n",
              "      <td>0</td>\n",
              "    </tr>\n",
              "    <tr>\n",
              "      <th>44</th>\n",
              "      <td>location_holiday_inn_london</td>\n",
              "      <td>...</td>\n",
              "      <td>0</td>\n",
              "    </tr>\n",
              "    <tr>\n",
              "      <th>26</th>\n",
              "      <td>parking_bestwestern_hotel_sfo</td>\n",
              "      <td>...</td>\n",
              "      <td>0</td>\n",
              "    </tr>\n",
              "    <tr>\n",
              "      <th>7</th>\n",
              "      <td>price_holiday_inn_london</td>\n",
              "      <td>...</td>\n",
              "      <td>0</td>\n",
              "    </tr>\n",
              "    <tr>\n",
              "      <th>42</th>\n",
              "      <td>room_holiday_inn_london</td>\n",
              "      <td>...</td>\n",
              "      <td>0</td>\n",
              "    </tr>\n",
              "    <tr>\n",
              "      <th>25</th>\n",
              "      <td>rooms_bestwestern_hotel_sfo</td>\n",
              "      <td>...</td>\n",
              "      <td>0</td>\n",
              "    </tr>\n",
              "    <tr>\n",
              "      <th>48</th>\n",
              "      <td>rooms_swissotel_chicago</td>\n",
              "      <td>...</td>\n",
              "      <td>0</td>\n",
              "    </tr>\n",
              "    <tr>\n",
              "      <th>22</th>\n",
              "      <td>service_bestwestern_hotel_sfo</td>\n",
              "      <td>...</td>\n",
              "      <td>0</td>\n",
              "    </tr>\n",
              "    <tr>\n",
              "      <th>10</th>\n",
              "      <td>service_holiday_inn_london</td>\n",
              "      <td>...</td>\n",
              "      <td>0</td>\n",
              "    </tr>\n",
              "    <tr>\n",
              "      <th>30</th>\n",
              "      <td>service_swissotel_hotel_chicago</td>\n",
              "      <td>...</td>\n",
              "      <td>0</td>\n",
              "    </tr>\n",
              "    <tr>\n",
              "      <th>24</th>\n",
              "      <td>staff_bestwestern_hotel_sfo</td>\n",
              "      <td>...</td>\n",
              "      <td>0</td>\n",
              "    </tr>\n",
              "    <tr>\n",
              "      <th>9</th>\n",
              "      <td>staff_swissotel_chicago</td>\n",
              "      <td>...</td>\n",
              "      <td>0</td>\n",
              "    </tr>\n",
              "  </tbody>\n",
              "</table>\n",
              "</div>\n",
              "      <button class=\"colab-df-convert\" onclick=\"convertToInteractive('df-4d527c3b-2e9b-4a82-b3a1-1b5dafeed272')\"\n",
              "              title=\"Convert this dataframe to an interactive table.\"\n",
              "              style=\"display:none;\">\n",
              "        \n",
              "  <svg xmlns=\"http://www.w3.org/2000/svg\" height=\"24px\"viewBox=\"0 0 24 24\"\n",
              "       width=\"24px\">\n",
              "    <path d=\"M0 0h24v24H0V0z\" fill=\"none\"/>\n",
              "    <path d=\"M18.56 5.44l.94 2.06.94-2.06 2.06-.94-2.06-.94-.94-2.06-.94 2.06-2.06.94zm-11 1L8.5 8.5l.94-2.06 2.06-.94-2.06-.94L8.5 2.5l-.94 2.06-2.06.94zm10 10l.94 2.06.94-2.06 2.06-.94-2.06-.94-.94-2.06-.94 2.06-2.06.94z\"/><path d=\"M17.41 7.96l-1.37-1.37c-.4-.4-.92-.59-1.43-.59-.52 0-1.04.2-1.43.59L10.3 9.45l-7.72 7.72c-.78.78-.78 2.05 0 2.83L4 21.41c.39.39.9.59 1.41.59.51 0 1.02-.2 1.41-.59l7.78-7.78 2.81-2.81c.8-.78.8-2.07 0-2.86zM5.41 20L4 18.59l7.72-7.72 1.47 1.35L5.41 20z\"/>\n",
              "  </svg>\n",
              "      </button>\n",
              "      \n",
              "  <style>\n",
              "    .colab-df-container {\n",
              "      display:flex;\n",
              "      flex-wrap:wrap;\n",
              "      gap: 12px;\n",
              "    }\n",
              "\n",
              "    .colab-df-convert {\n",
              "      background-color: #E8F0FE;\n",
              "      border: none;\n",
              "      border-radius: 50%;\n",
              "      cursor: pointer;\n",
              "      display: none;\n",
              "      fill: #1967D2;\n",
              "      height: 32px;\n",
              "      padding: 0 0 0 0;\n",
              "      width: 32px;\n",
              "    }\n",
              "\n",
              "    .colab-df-convert:hover {\n",
              "      background-color: #E2EBFA;\n",
              "      box-shadow: 0px 1px 2px rgba(60, 64, 67, 0.3), 0px 1px 3px 1px rgba(60, 64, 67, 0.15);\n",
              "      fill: #174EA6;\n",
              "    }\n",
              "\n",
              "    [theme=dark] .colab-df-convert {\n",
              "      background-color: #3B4455;\n",
              "      fill: #D2E3FC;\n",
              "    }\n",
              "\n",
              "    [theme=dark] .colab-df-convert:hover {\n",
              "      background-color: #434B5C;\n",
              "      box-shadow: 0px 1px 3px 1px rgba(0, 0, 0, 0.15);\n",
              "      filter: drop-shadow(0px 1px 2px rgba(0, 0, 0, 0.3));\n",
              "      fill: #FFFFFF;\n",
              "    }\n",
              "  </style>\n",
              "\n",
              "      <script>\n",
              "        const buttonEl =\n",
              "          document.querySelector('#df-4d527c3b-2e9b-4a82-b3a1-1b5dafeed272 button.colab-df-convert');\n",
              "        buttonEl.style.display =\n",
              "          google.colab.kernel.accessAllowed ? 'block' : 'none';\n",
              "\n",
              "        async function convertToInteractive(key) {\n",
              "          const element = document.querySelector('#df-4d527c3b-2e9b-4a82-b3a1-1b5dafeed272');\n",
              "          const dataTable =\n",
              "            await google.colab.kernel.invokeFunction('convertToInteractive',\n",
              "                                                     [key], {});\n",
              "          if (!dataTable) return;\n",
              "\n",
              "          const docLinkHtml = 'Like what you see? Visit the ' +\n",
              "            '<a target=\"_blank\" href=https://colab.research.google.com/notebooks/data_table.ipynb>data table notebook</a>'\n",
              "            + ' to learn more about interactive tables.';\n",
              "          element.innerHTML = '';\n",
              "          dataTable['output_type'] = 'display_data';\n",
              "          await google.colab.output.renderOutput(dataTable, element);\n",
              "          const docLink = document.createElement('div');\n",
              "          docLink.innerHTML = docLinkHtml;\n",
              "          element.appendChild(docLink);\n",
              "        }\n",
              "      </script>\n",
              "    </div>\n",
              "  </div>\n",
              "  "
            ]
          },
          "metadata": {},
          "execution_count": 9
        }
      ]
    },
    {
      "cell_type": "code",
      "source": [
        "document_df[document_df['cluster_label']==1].sort_values(by='filename') # 자동차에 대한 리뷰"
      ],
      "metadata": {
        "id": "z2Q-j9rWuWo-",
        "colab": {
          "base_uri": "https://localhost:8080/",
          "height": 363
        },
        "outputId": "4766ffff-aea4-480b-b0be-338ca5cda72b"
      },
      "execution_count": null,
      "outputs": [
        {
          "output_type": "execute_result",
          "data": {
            "text/plain": [
              "                          filename  \\\n",
              "32       comfort_honda_accord_2008   \n",
              "39       comfort_toyota_camry_2007   \n",
              "13   gas_mileage_toyota_camry_2007   \n",
              "14      interior_honda_accord_2008   \n",
              "23      interior_toyota_camry_2007   \n",
              "17       mileage_honda_accord_2008   \n",
              "45   performance_honda_accord_2008   \n",
              "47       quality_toyota_camry_2007   \n",
              "41         seats_honda_accord_2008   \n",
              "6   transmission_toyota_camry_2007   \n",
              "\n",
              "                                         opinion_text  cluster_label  \n",
              "32                                                ...              1  \n",
              "39                                                ...              1  \n",
              "13                                                ...              1  \n",
              "14                                                ...              1  \n",
              "23                                                ...              1  \n",
              "17                                                ...              1  \n",
              "45                                                ...              1  \n",
              "47                                                ...              1  \n",
              "41                                                ...              1  \n",
              "6                                                 ...              1  "
            ],
            "text/html": [
              "\n",
              "  <div id=\"df-49d3823a-2c62-4a10-8c16-eecef3be0f78\">\n",
              "    <div class=\"colab-df-container\">\n",
              "      <div>\n",
              "<style scoped>\n",
              "    .dataframe tbody tr th:only-of-type {\n",
              "        vertical-align: middle;\n",
              "    }\n",
              "\n",
              "    .dataframe tbody tr th {\n",
              "        vertical-align: top;\n",
              "    }\n",
              "\n",
              "    .dataframe thead th {\n",
              "        text-align: right;\n",
              "    }\n",
              "</style>\n",
              "<table border=\"1\" class=\"dataframe\">\n",
              "  <thead>\n",
              "    <tr style=\"text-align: right;\">\n",
              "      <th></th>\n",
              "      <th>filename</th>\n",
              "      <th>opinion_text</th>\n",
              "      <th>cluster_label</th>\n",
              "    </tr>\n",
              "  </thead>\n",
              "  <tbody>\n",
              "    <tr>\n",
              "      <th>32</th>\n",
              "      <td>comfort_honda_accord_2008</td>\n",
              "      <td>...</td>\n",
              "      <td>1</td>\n",
              "    </tr>\n",
              "    <tr>\n",
              "      <th>39</th>\n",
              "      <td>comfort_toyota_camry_2007</td>\n",
              "      <td>...</td>\n",
              "      <td>1</td>\n",
              "    </tr>\n",
              "    <tr>\n",
              "      <th>13</th>\n",
              "      <td>gas_mileage_toyota_camry_2007</td>\n",
              "      <td>...</td>\n",
              "      <td>1</td>\n",
              "    </tr>\n",
              "    <tr>\n",
              "      <th>14</th>\n",
              "      <td>interior_honda_accord_2008</td>\n",
              "      <td>...</td>\n",
              "      <td>1</td>\n",
              "    </tr>\n",
              "    <tr>\n",
              "      <th>23</th>\n",
              "      <td>interior_toyota_camry_2007</td>\n",
              "      <td>...</td>\n",
              "      <td>1</td>\n",
              "    </tr>\n",
              "    <tr>\n",
              "      <th>17</th>\n",
              "      <td>mileage_honda_accord_2008</td>\n",
              "      <td>...</td>\n",
              "      <td>1</td>\n",
              "    </tr>\n",
              "    <tr>\n",
              "      <th>45</th>\n",
              "      <td>performance_honda_accord_2008</td>\n",
              "      <td>...</td>\n",
              "      <td>1</td>\n",
              "    </tr>\n",
              "    <tr>\n",
              "      <th>47</th>\n",
              "      <td>quality_toyota_camry_2007</td>\n",
              "      <td>...</td>\n",
              "      <td>1</td>\n",
              "    </tr>\n",
              "    <tr>\n",
              "      <th>41</th>\n",
              "      <td>seats_honda_accord_2008</td>\n",
              "      <td>...</td>\n",
              "      <td>1</td>\n",
              "    </tr>\n",
              "    <tr>\n",
              "      <th>6</th>\n",
              "      <td>transmission_toyota_camry_2007</td>\n",
              "      <td>...</td>\n",
              "      <td>1</td>\n",
              "    </tr>\n",
              "  </tbody>\n",
              "</table>\n",
              "</div>\n",
              "      <button class=\"colab-df-convert\" onclick=\"convertToInteractive('df-49d3823a-2c62-4a10-8c16-eecef3be0f78')\"\n",
              "              title=\"Convert this dataframe to an interactive table.\"\n",
              "              style=\"display:none;\">\n",
              "        \n",
              "  <svg xmlns=\"http://www.w3.org/2000/svg\" height=\"24px\"viewBox=\"0 0 24 24\"\n",
              "       width=\"24px\">\n",
              "    <path d=\"M0 0h24v24H0V0z\" fill=\"none\"/>\n",
              "    <path d=\"M18.56 5.44l.94 2.06.94-2.06 2.06-.94-2.06-.94-.94-2.06-.94 2.06-2.06.94zm-11 1L8.5 8.5l.94-2.06 2.06-.94-2.06-.94L8.5 2.5l-.94 2.06-2.06.94zm10 10l.94 2.06.94-2.06 2.06-.94-2.06-.94-.94-2.06-.94 2.06-2.06.94z\"/><path d=\"M17.41 7.96l-1.37-1.37c-.4-.4-.92-.59-1.43-.59-.52 0-1.04.2-1.43.59L10.3 9.45l-7.72 7.72c-.78.78-.78 2.05 0 2.83L4 21.41c.39.39.9.59 1.41.59.51 0 1.02-.2 1.41-.59l7.78-7.78 2.81-2.81c.8-.78.8-2.07 0-2.86zM5.41 20L4 18.59l7.72-7.72 1.47 1.35L5.41 20z\"/>\n",
              "  </svg>\n",
              "      </button>\n",
              "      \n",
              "  <style>\n",
              "    .colab-df-container {\n",
              "      display:flex;\n",
              "      flex-wrap:wrap;\n",
              "      gap: 12px;\n",
              "    }\n",
              "\n",
              "    .colab-df-convert {\n",
              "      background-color: #E8F0FE;\n",
              "      border: none;\n",
              "      border-radius: 50%;\n",
              "      cursor: pointer;\n",
              "      display: none;\n",
              "      fill: #1967D2;\n",
              "      height: 32px;\n",
              "      padding: 0 0 0 0;\n",
              "      width: 32px;\n",
              "    }\n",
              "\n",
              "    .colab-df-convert:hover {\n",
              "      background-color: #E2EBFA;\n",
              "      box-shadow: 0px 1px 2px rgba(60, 64, 67, 0.3), 0px 1px 3px 1px rgba(60, 64, 67, 0.15);\n",
              "      fill: #174EA6;\n",
              "    }\n",
              "\n",
              "    [theme=dark] .colab-df-convert {\n",
              "      background-color: #3B4455;\n",
              "      fill: #D2E3FC;\n",
              "    }\n",
              "\n",
              "    [theme=dark] .colab-df-convert:hover {\n",
              "      background-color: #434B5C;\n",
              "      box-shadow: 0px 1px 3px 1px rgba(0, 0, 0, 0.15);\n",
              "      filter: drop-shadow(0px 1px 2px rgba(0, 0, 0, 0.3));\n",
              "      fill: #FFFFFF;\n",
              "    }\n",
              "  </style>\n",
              "\n",
              "      <script>\n",
              "        const buttonEl =\n",
              "          document.querySelector('#df-49d3823a-2c62-4a10-8c16-eecef3be0f78 button.colab-df-convert');\n",
              "        buttonEl.style.display =\n",
              "          google.colab.kernel.accessAllowed ? 'block' : 'none';\n",
              "\n",
              "        async function convertToInteractive(key) {\n",
              "          const element = document.querySelector('#df-49d3823a-2c62-4a10-8c16-eecef3be0f78');\n",
              "          const dataTable =\n",
              "            await google.colab.kernel.invokeFunction('convertToInteractive',\n",
              "                                                     [key], {});\n",
              "          if (!dataTable) return;\n",
              "\n",
              "          const docLinkHtml = 'Like what you see? Visit the ' +\n",
              "            '<a target=\"_blank\" href=https://colab.research.google.com/notebooks/data_table.ipynb>data table notebook</a>'\n",
              "            + ' to learn more about interactive tables.';\n",
              "          element.innerHTML = '';\n",
              "          dataTable['output_type'] = 'display_data';\n",
              "          await google.colab.output.renderOutput(dataTable, element);\n",
              "          const docLink = document.createElement('div');\n",
              "          docLink.innerHTML = docLinkHtml;\n",
              "          element.appendChild(docLink);\n",
              "        }\n",
              "      </script>\n",
              "    </div>\n",
              "  </div>\n",
              "  "
            ]
          },
          "metadata": {},
          "execution_count": 10
        }
      ]
    },
    {
      "cell_type": "code",
      "source": [
        "document_df[document_df['cluster_label']==2].sort_values(by='filename') # 전자기기에 대한 리뷰"
      ],
      "metadata": {
        "id": "jO7ERVzBuiXw",
        "colab": {
          "base_uri": "https://localhost:8080/",
          "height": 363
        },
        "outputId": "14b58c09-2068-475e-e90a-ee9b0cfe02fd"
      },
      "execution_count": null,
      "outputs": [
        {
          "output_type": "execute_result",
          "data": {
            "text/plain": [
              "                       filename  \\\n",
              "0    battery-life_amazon_kindle   \n",
              "1    battery-life_ipod_nano_8gb   \n",
              "20  battery-life_netbook_1005ha   \n",
              "15      keyboard_netbook_1005ha   \n",
              "35   performance_netbook_1005ha   \n",
              "38         screen_ipod_nano_8gb   \n",
              "37        screen_netbook_1005ha   \n",
              "46     size_asus_netbook_1005ha   \n",
              "33          sound_ipod_nano_8gb   \n",
              "8           video_ipod_nano_8gb   \n",
              "\n",
              "                                         opinion_text  cluster_label  \n",
              "0                                                 ...              2  \n",
              "1                                                 ...              2  \n",
              "20                                                ...              2  \n",
              "15                                                ...              2  \n",
              "35                                                ...              2  \n",
              "38                                                ...              2  \n",
              "37                                                ...              2  \n",
              "46                                                ...              2  \n",
              "33      headphone jack i got a clear case for it a...              2  \n",
              "8                                                 ...              2  "
            ],
            "text/html": [
              "\n",
              "  <div id=\"df-0bb2ddf8-6a98-4cc8-a0ff-e4da93fa4eac\">\n",
              "    <div class=\"colab-df-container\">\n",
              "      <div>\n",
              "<style scoped>\n",
              "    .dataframe tbody tr th:only-of-type {\n",
              "        vertical-align: middle;\n",
              "    }\n",
              "\n",
              "    .dataframe tbody tr th {\n",
              "        vertical-align: top;\n",
              "    }\n",
              "\n",
              "    .dataframe thead th {\n",
              "        text-align: right;\n",
              "    }\n",
              "</style>\n",
              "<table border=\"1\" class=\"dataframe\">\n",
              "  <thead>\n",
              "    <tr style=\"text-align: right;\">\n",
              "      <th></th>\n",
              "      <th>filename</th>\n",
              "      <th>opinion_text</th>\n",
              "      <th>cluster_label</th>\n",
              "    </tr>\n",
              "  </thead>\n",
              "  <tbody>\n",
              "    <tr>\n",
              "      <th>0</th>\n",
              "      <td>battery-life_amazon_kindle</td>\n",
              "      <td>...</td>\n",
              "      <td>2</td>\n",
              "    </tr>\n",
              "    <tr>\n",
              "      <th>1</th>\n",
              "      <td>battery-life_ipod_nano_8gb</td>\n",
              "      <td>...</td>\n",
              "      <td>2</td>\n",
              "    </tr>\n",
              "    <tr>\n",
              "      <th>20</th>\n",
              "      <td>battery-life_netbook_1005ha</td>\n",
              "      <td>...</td>\n",
              "      <td>2</td>\n",
              "    </tr>\n",
              "    <tr>\n",
              "      <th>15</th>\n",
              "      <td>keyboard_netbook_1005ha</td>\n",
              "      <td>...</td>\n",
              "      <td>2</td>\n",
              "    </tr>\n",
              "    <tr>\n",
              "      <th>35</th>\n",
              "      <td>performance_netbook_1005ha</td>\n",
              "      <td>...</td>\n",
              "      <td>2</td>\n",
              "    </tr>\n",
              "    <tr>\n",
              "      <th>38</th>\n",
              "      <td>screen_ipod_nano_8gb</td>\n",
              "      <td>...</td>\n",
              "      <td>2</td>\n",
              "    </tr>\n",
              "    <tr>\n",
              "      <th>37</th>\n",
              "      <td>screen_netbook_1005ha</td>\n",
              "      <td>...</td>\n",
              "      <td>2</td>\n",
              "    </tr>\n",
              "    <tr>\n",
              "      <th>46</th>\n",
              "      <td>size_asus_netbook_1005ha</td>\n",
              "      <td>...</td>\n",
              "      <td>2</td>\n",
              "    </tr>\n",
              "    <tr>\n",
              "      <th>33</th>\n",
              "      <td>sound_ipod_nano_8gb</td>\n",
              "      <td>headphone jack i got a clear case for it a...</td>\n",
              "      <td>2</td>\n",
              "    </tr>\n",
              "    <tr>\n",
              "      <th>8</th>\n",
              "      <td>video_ipod_nano_8gb</td>\n",
              "      <td>...</td>\n",
              "      <td>2</td>\n",
              "    </tr>\n",
              "  </tbody>\n",
              "</table>\n",
              "</div>\n",
              "      <button class=\"colab-df-convert\" onclick=\"convertToInteractive('df-0bb2ddf8-6a98-4cc8-a0ff-e4da93fa4eac')\"\n",
              "              title=\"Convert this dataframe to an interactive table.\"\n",
              "              style=\"display:none;\">\n",
              "        \n",
              "  <svg xmlns=\"http://www.w3.org/2000/svg\" height=\"24px\"viewBox=\"0 0 24 24\"\n",
              "       width=\"24px\">\n",
              "    <path d=\"M0 0h24v24H0V0z\" fill=\"none\"/>\n",
              "    <path d=\"M18.56 5.44l.94 2.06.94-2.06 2.06-.94-2.06-.94-.94-2.06-.94 2.06-2.06.94zm-11 1L8.5 8.5l.94-2.06 2.06-.94-2.06-.94L8.5 2.5l-.94 2.06-2.06.94zm10 10l.94 2.06.94-2.06 2.06-.94-2.06-.94-.94-2.06-.94 2.06-2.06.94z\"/><path d=\"M17.41 7.96l-1.37-1.37c-.4-.4-.92-.59-1.43-.59-.52 0-1.04.2-1.43.59L10.3 9.45l-7.72 7.72c-.78.78-.78 2.05 0 2.83L4 21.41c.39.39.9.59 1.41.59.51 0 1.02-.2 1.41-.59l7.78-7.78 2.81-2.81c.8-.78.8-2.07 0-2.86zM5.41 20L4 18.59l7.72-7.72 1.47 1.35L5.41 20z\"/>\n",
              "  </svg>\n",
              "      </button>\n",
              "      \n",
              "  <style>\n",
              "    .colab-df-container {\n",
              "      display:flex;\n",
              "      flex-wrap:wrap;\n",
              "      gap: 12px;\n",
              "    }\n",
              "\n",
              "    .colab-df-convert {\n",
              "      background-color: #E8F0FE;\n",
              "      border: none;\n",
              "      border-radius: 50%;\n",
              "      cursor: pointer;\n",
              "      display: none;\n",
              "      fill: #1967D2;\n",
              "      height: 32px;\n",
              "      padding: 0 0 0 0;\n",
              "      width: 32px;\n",
              "    }\n",
              "\n",
              "    .colab-df-convert:hover {\n",
              "      background-color: #E2EBFA;\n",
              "      box-shadow: 0px 1px 2px rgba(60, 64, 67, 0.3), 0px 1px 3px 1px rgba(60, 64, 67, 0.15);\n",
              "      fill: #174EA6;\n",
              "    }\n",
              "\n",
              "    [theme=dark] .colab-df-convert {\n",
              "      background-color: #3B4455;\n",
              "      fill: #D2E3FC;\n",
              "    }\n",
              "\n",
              "    [theme=dark] .colab-df-convert:hover {\n",
              "      background-color: #434B5C;\n",
              "      box-shadow: 0px 1px 3px 1px rgba(0, 0, 0, 0.15);\n",
              "      filter: drop-shadow(0px 1px 2px rgba(0, 0, 0, 0.3));\n",
              "      fill: #FFFFFF;\n",
              "    }\n",
              "  </style>\n",
              "\n",
              "      <script>\n",
              "        const buttonEl =\n",
              "          document.querySelector('#df-0bb2ddf8-6a98-4cc8-a0ff-e4da93fa4eac button.colab-df-convert');\n",
              "        buttonEl.style.display =\n",
              "          google.colab.kernel.accessAllowed ? 'block' : 'none';\n",
              "\n",
              "        async function convertToInteractive(key) {\n",
              "          const element = document.querySelector('#df-0bb2ddf8-6a98-4cc8-a0ff-e4da93fa4eac');\n",
              "          const dataTable =\n",
              "            await google.colab.kernel.invokeFunction('convertToInteractive',\n",
              "                                                     [key], {});\n",
              "          if (!dataTable) return;\n",
              "\n",
              "          const docLinkHtml = 'Like what you see? Visit the ' +\n",
              "            '<a target=\"_blank\" href=https://colab.research.google.com/notebooks/data_table.ipynb>data table notebook</a>'\n",
              "            + ' to learn more about interactive tables.';\n",
              "          element.innerHTML = '';\n",
              "          dataTable['output_type'] = 'display_data';\n",
              "          await google.colab.output.renderOutput(dataTable, element);\n",
              "          const docLink = document.createElement('div');\n",
              "          docLink.innerHTML = docLinkHtml;\n",
              "          element.appendChild(docLink);\n",
              "        }\n",
              "      </script>\n",
              "    </div>\n",
              "  </div>\n",
              "  "
            ]
          },
          "metadata": {},
          "execution_count": 11
        }
      ]
    },
    {
      "cell_type": "code",
      "source": [
        "document_df[document_df['cluster_label']==3].sort_values(by='filename') # 차량용 네비게이션"
      ],
      "metadata": {
        "id": "Or92Uipwunba",
        "colab": {
          "base_uri": "https://localhost:8080/",
          "height": 238
        },
        "outputId": "33eac001-c24b-4f5a-d338-14abb8cc9a0c"
      },
      "execution_count": null,
      "outputs": [
        {
          "output_type": "execute_result",
          "data": {
            "text/plain": [
              "                           filename  \\\n",
              "2     accuracy_garmin_nuvi_255W_gps   \n",
              "18  directions_garmin_nuvi_255W_gps   \n",
              "50   satellite_garmin_nuvi_255W_gps   \n",
              "34      screen_garmin_nuvi_255W_gps   \n",
              "40     updates_garmin_nuvi_255W_gps   \n",
              "4        voice_garmin_nuvi_255W_gps   \n",
              "\n",
              "                                         opinion_text  cluster_label  \n",
              "2                                                 ...              3  \n",
              "18                                                ...              3  \n",
              "50                                                ...              3  \n",
              "34                                                ...              3  \n",
              "40                                                ...              3  \n",
              "4                                                 ...              3  "
            ],
            "text/html": [
              "\n",
              "  <div id=\"df-8feb75d3-0790-45db-878f-9cbc5d464d58\">\n",
              "    <div class=\"colab-df-container\">\n",
              "      <div>\n",
              "<style scoped>\n",
              "    .dataframe tbody tr th:only-of-type {\n",
              "        vertical-align: middle;\n",
              "    }\n",
              "\n",
              "    .dataframe tbody tr th {\n",
              "        vertical-align: top;\n",
              "    }\n",
              "\n",
              "    .dataframe thead th {\n",
              "        text-align: right;\n",
              "    }\n",
              "</style>\n",
              "<table border=\"1\" class=\"dataframe\">\n",
              "  <thead>\n",
              "    <tr style=\"text-align: right;\">\n",
              "      <th></th>\n",
              "      <th>filename</th>\n",
              "      <th>opinion_text</th>\n",
              "      <th>cluster_label</th>\n",
              "    </tr>\n",
              "  </thead>\n",
              "  <tbody>\n",
              "    <tr>\n",
              "      <th>2</th>\n",
              "      <td>accuracy_garmin_nuvi_255W_gps</td>\n",
              "      <td>...</td>\n",
              "      <td>3</td>\n",
              "    </tr>\n",
              "    <tr>\n",
              "      <th>18</th>\n",
              "      <td>directions_garmin_nuvi_255W_gps</td>\n",
              "      <td>...</td>\n",
              "      <td>3</td>\n",
              "    </tr>\n",
              "    <tr>\n",
              "      <th>50</th>\n",
              "      <td>satellite_garmin_nuvi_255W_gps</td>\n",
              "      <td>...</td>\n",
              "      <td>3</td>\n",
              "    </tr>\n",
              "    <tr>\n",
              "      <th>34</th>\n",
              "      <td>screen_garmin_nuvi_255W_gps</td>\n",
              "      <td>...</td>\n",
              "      <td>3</td>\n",
              "    </tr>\n",
              "    <tr>\n",
              "      <th>40</th>\n",
              "      <td>updates_garmin_nuvi_255W_gps</td>\n",
              "      <td>...</td>\n",
              "      <td>3</td>\n",
              "    </tr>\n",
              "    <tr>\n",
              "      <th>4</th>\n",
              "      <td>voice_garmin_nuvi_255W_gps</td>\n",
              "      <td>...</td>\n",
              "      <td>3</td>\n",
              "    </tr>\n",
              "  </tbody>\n",
              "</table>\n",
              "</div>\n",
              "      <button class=\"colab-df-convert\" onclick=\"convertToInteractive('df-8feb75d3-0790-45db-878f-9cbc5d464d58')\"\n",
              "              title=\"Convert this dataframe to an interactive table.\"\n",
              "              style=\"display:none;\">\n",
              "        \n",
              "  <svg xmlns=\"http://www.w3.org/2000/svg\" height=\"24px\"viewBox=\"0 0 24 24\"\n",
              "       width=\"24px\">\n",
              "    <path d=\"M0 0h24v24H0V0z\" fill=\"none\"/>\n",
              "    <path d=\"M18.56 5.44l.94 2.06.94-2.06 2.06-.94-2.06-.94-.94-2.06-.94 2.06-2.06.94zm-11 1L8.5 8.5l.94-2.06 2.06-.94-2.06-.94L8.5 2.5l-.94 2.06-2.06.94zm10 10l.94 2.06.94-2.06 2.06-.94-2.06-.94-.94-2.06-.94 2.06-2.06.94z\"/><path d=\"M17.41 7.96l-1.37-1.37c-.4-.4-.92-.59-1.43-.59-.52 0-1.04.2-1.43.59L10.3 9.45l-7.72 7.72c-.78.78-.78 2.05 0 2.83L4 21.41c.39.39.9.59 1.41.59.51 0 1.02-.2 1.41-.59l7.78-7.78 2.81-2.81c.8-.78.8-2.07 0-2.86zM5.41 20L4 18.59l7.72-7.72 1.47 1.35L5.41 20z\"/>\n",
              "  </svg>\n",
              "      </button>\n",
              "      \n",
              "  <style>\n",
              "    .colab-df-container {\n",
              "      display:flex;\n",
              "      flex-wrap:wrap;\n",
              "      gap: 12px;\n",
              "    }\n",
              "\n",
              "    .colab-df-convert {\n",
              "      background-color: #E8F0FE;\n",
              "      border: none;\n",
              "      border-radius: 50%;\n",
              "      cursor: pointer;\n",
              "      display: none;\n",
              "      fill: #1967D2;\n",
              "      height: 32px;\n",
              "      padding: 0 0 0 0;\n",
              "      width: 32px;\n",
              "    }\n",
              "\n",
              "    .colab-df-convert:hover {\n",
              "      background-color: #E2EBFA;\n",
              "      box-shadow: 0px 1px 2px rgba(60, 64, 67, 0.3), 0px 1px 3px 1px rgba(60, 64, 67, 0.15);\n",
              "      fill: #174EA6;\n",
              "    }\n",
              "\n",
              "    [theme=dark] .colab-df-convert {\n",
              "      background-color: #3B4455;\n",
              "      fill: #D2E3FC;\n",
              "    }\n",
              "\n",
              "    [theme=dark] .colab-df-convert:hover {\n",
              "      background-color: #434B5C;\n",
              "      box-shadow: 0px 1px 3px 1px rgba(0, 0, 0, 0.15);\n",
              "      filter: drop-shadow(0px 1px 2px rgba(0, 0, 0, 0.3));\n",
              "      fill: #FFFFFF;\n",
              "    }\n",
              "  </style>\n",
              "\n",
              "      <script>\n",
              "        const buttonEl =\n",
              "          document.querySelector('#df-8feb75d3-0790-45db-878f-9cbc5d464d58 button.colab-df-convert');\n",
              "        buttonEl.style.display =\n",
              "          google.colab.kernel.accessAllowed ? 'block' : 'none';\n",
              "\n",
              "        async function convertToInteractive(key) {\n",
              "          const element = document.querySelector('#df-8feb75d3-0790-45db-878f-9cbc5d464d58');\n",
              "          const dataTable =\n",
              "            await google.colab.kernel.invokeFunction('convertToInteractive',\n",
              "                                                     [key], {});\n",
              "          if (!dataTable) return;\n",
              "\n",
              "          const docLinkHtml = 'Like what you see? Visit the ' +\n",
              "            '<a target=\"_blank\" href=https://colab.research.google.com/notebooks/data_table.ipynb>data table notebook</a>'\n",
              "            + ' to learn more about interactive tables.';\n",
              "          element.innerHTML = '';\n",
              "          dataTable['output_type'] = 'display_data';\n",
              "          await google.colab.output.renderOutput(dataTable, element);\n",
              "          const docLink = document.createElement('div');\n",
              "          docLink.innerHTML = docLinkHtml;\n",
              "          element.appendChild(docLink);\n",
              "        }\n",
              "      </script>\n",
              "    </div>\n",
              "  </div>\n",
              "  "
            ]
          },
          "metadata": {},
          "execution_count": 12
        }
      ]
    },
    {
      "cell_type": "code",
      "source": [
        "document_df[document_df['cluster_label']==4].sort_values(by='filename') # 킨들"
      ],
      "metadata": {
        "id": "r4JAc97iurbh",
        "colab": {
          "base_uri": "https://localhost:8080/",
          "height": 332
        },
        "outputId": "679371bc-1476-46d9-b764-4553f23add6f"
      },
      "execution_count": null,
      "outputs": [
        {
          "output_type": "execute_result",
          "data": {
            "text/plain": [
              "                         filename  \\\n",
              "21          buttons_amazon_kindle   \n",
              "12   display_garmin_nuvi_255W_gps   \n",
              "19  eyesight-issues_amazon_kindle   \n",
              "5               features_windows7   \n",
              "43            fonts_amazon_kindle   \n",
              "28       navigation_amazon_kindle   \n",
              "11            price_amazon_kindle   \n",
              "49     speed_garmin_nuvi_255W_gps   \n",
              "36                 speed_windows7   \n",
              "\n",
              "                                         opinion_text  cluster_label  \n",
              "21                                                ...              4  \n",
              "12                                                ...              4  \n",
              "19                                                ...              4  \n",
              "5                                                 ...              4  \n",
              "43                                                ...              4  \n",
              "28                                                ...              4  \n",
              "11                                                ...              4  \n",
              "49                                                ...              4  \n",
              "36                                                ...              4  "
            ],
            "text/html": [
              "\n",
              "  <div id=\"df-a3eb4c9a-41e0-47b6-b22e-2e1771b21461\">\n",
              "    <div class=\"colab-df-container\">\n",
              "      <div>\n",
              "<style scoped>\n",
              "    .dataframe tbody tr th:only-of-type {\n",
              "        vertical-align: middle;\n",
              "    }\n",
              "\n",
              "    .dataframe tbody tr th {\n",
              "        vertical-align: top;\n",
              "    }\n",
              "\n",
              "    .dataframe thead th {\n",
              "        text-align: right;\n",
              "    }\n",
              "</style>\n",
              "<table border=\"1\" class=\"dataframe\">\n",
              "  <thead>\n",
              "    <tr style=\"text-align: right;\">\n",
              "      <th></th>\n",
              "      <th>filename</th>\n",
              "      <th>opinion_text</th>\n",
              "      <th>cluster_label</th>\n",
              "    </tr>\n",
              "  </thead>\n",
              "  <tbody>\n",
              "    <tr>\n",
              "      <th>21</th>\n",
              "      <td>buttons_amazon_kindle</td>\n",
              "      <td>...</td>\n",
              "      <td>4</td>\n",
              "    </tr>\n",
              "    <tr>\n",
              "      <th>12</th>\n",
              "      <td>display_garmin_nuvi_255W_gps</td>\n",
              "      <td>...</td>\n",
              "      <td>4</td>\n",
              "    </tr>\n",
              "    <tr>\n",
              "      <th>19</th>\n",
              "      <td>eyesight-issues_amazon_kindle</td>\n",
              "      <td>...</td>\n",
              "      <td>4</td>\n",
              "    </tr>\n",
              "    <tr>\n",
              "      <th>5</th>\n",
              "      <td>features_windows7</td>\n",
              "      <td>...</td>\n",
              "      <td>4</td>\n",
              "    </tr>\n",
              "    <tr>\n",
              "      <th>43</th>\n",
              "      <td>fonts_amazon_kindle</td>\n",
              "      <td>...</td>\n",
              "      <td>4</td>\n",
              "    </tr>\n",
              "    <tr>\n",
              "      <th>28</th>\n",
              "      <td>navigation_amazon_kindle</td>\n",
              "      <td>...</td>\n",
              "      <td>4</td>\n",
              "    </tr>\n",
              "    <tr>\n",
              "      <th>11</th>\n",
              "      <td>price_amazon_kindle</td>\n",
              "      <td>...</td>\n",
              "      <td>4</td>\n",
              "    </tr>\n",
              "    <tr>\n",
              "      <th>49</th>\n",
              "      <td>speed_garmin_nuvi_255W_gps</td>\n",
              "      <td>...</td>\n",
              "      <td>4</td>\n",
              "    </tr>\n",
              "    <tr>\n",
              "      <th>36</th>\n",
              "      <td>speed_windows7</td>\n",
              "      <td>...</td>\n",
              "      <td>4</td>\n",
              "    </tr>\n",
              "  </tbody>\n",
              "</table>\n",
              "</div>\n",
              "      <button class=\"colab-df-convert\" onclick=\"convertToInteractive('df-a3eb4c9a-41e0-47b6-b22e-2e1771b21461')\"\n",
              "              title=\"Convert this dataframe to an interactive table.\"\n",
              "              style=\"display:none;\">\n",
              "        \n",
              "  <svg xmlns=\"http://www.w3.org/2000/svg\" height=\"24px\"viewBox=\"0 0 24 24\"\n",
              "       width=\"24px\">\n",
              "    <path d=\"M0 0h24v24H0V0z\" fill=\"none\"/>\n",
              "    <path d=\"M18.56 5.44l.94 2.06.94-2.06 2.06-.94-2.06-.94-.94-2.06-.94 2.06-2.06.94zm-11 1L8.5 8.5l.94-2.06 2.06-.94-2.06-.94L8.5 2.5l-.94 2.06-2.06.94zm10 10l.94 2.06.94-2.06 2.06-.94-2.06-.94-.94-2.06-.94 2.06-2.06.94z\"/><path d=\"M17.41 7.96l-1.37-1.37c-.4-.4-.92-.59-1.43-.59-.52 0-1.04.2-1.43.59L10.3 9.45l-7.72 7.72c-.78.78-.78 2.05 0 2.83L4 21.41c.39.39.9.59 1.41.59.51 0 1.02-.2 1.41-.59l7.78-7.78 2.81-2.81c.8-.78.8-2.07 0-2.86zM5.41 20L4 18.59l7.72-7.72 1.47 1.35L5.41 20z\"/>\n",
              "  </svg>\n",
              "      </button>\n",
              "      \n",
              "  <style>\n",
              "    .colab-df-container {\n",
              "      display:flex;\n",
              "      flex-wrap:wrap;\n",
              "      gap: 12px;\n",
              "    }\n",
              "\n",
              "    .colab-df-convert {\n",
              "      background-color: #E8F0FE;\n",
              "      border: none;\n",
              "      border-radius: 50%;\n",
              "      cursor: pointer;\n",
              "      display: none;\n",
              "      fill: #1967D2;\n",
              "      height: 32px;\n",
              "      padding: 0 0 0 0;\n",
              "      width: 32px;\n",
              "    }\n",
              "\n",
              "    .colab-df-convert:hover {\n",
              "      background-color: #E2EBFA;\n",
              "      box-shadow: 0px 1px 2px rgba(60, 64, 67, 0.3), 0px 1px 3px 1px rgba(60, 64, 67, 0.15);\n",
              "      fill: #174EA6;\n",
              "    }\n",
              "\n",
              "    [theme=dark] .colab-df-convert {\n",
              "      background-color: #3B4455;\n",
              "      fill: #D2E3FC;\n",
              "    }\n",
              "\n",
              "    [theme=dark] .colab-df-convert:hover {\n",
              "      background-color: #434B5C;\n",
              "      box-shadow: 0px 1px 3px 1px rgba(0, 0, 0, 0.15);\n",
              "      filter: drop-shadow(0px 1px 2px rgba(0, 0, 0, 0.3));\n",
              "      fill: #FFFFFF;\n",
              "    }\n",
              "  </style>\n",
              "\n",
              "      <script>\n",
              "        const buttonEl =\n",
              "          document.querySelector('#df-a3eb4c9a-41e0-47b6-b22e-2e1771b21461 button.colab-df-convert');\n",
              "        buttonEl.style.display =\n",
              "          google.colab.kernel.accessAllowed ? 'block' : 'none';\n",
              "\n",
              "        async function convertToInteractive(key) {\n",
              "          const element = document.querySelector('#df-a3eb4c9a-41e0-47b6-b22e-2e1771b21461');\n",
              "          const dataTable =\n",
              "            await google.colab.kernel.invokeFunction('convertToInteractive',\n",
              "                                                     [key], {});\n",
              "          if (!dataTable) return;\n",
              "\n",
              "          const docLinkHtml = 'Like what you see? Visit the ' +\n",
              "            '<a target=\"_blank\" href=https://colab.research.google.com/notebooks/data_table.ipynb>data table notebook</a>'\n",
              "            + ' to learn more about interactive tables.';\n",
              "          element.innerHTML = '';\n",
              "          dataTable['output_type'] = 'display_data';\n",
              "          await google.colab.output.renderOutput(dataTable, element);\n",
              "          const docLink = document.createElement('div');\n",
              "          docLink.innerHTML = docLinkHtml;\n",
              "          element.appendChild(docLink);\n",
              "        }\n",
              "      </script>\n",
              "    </div>\n",
              "  </div>\n",
              "  "
            ]
          },
          "metadata": {},
          "execution_count": 13
        }
      ]
    },
    {
      "cell_type": "code",
      "source": [
        "# 3개의 군집화\n",
        "from sklearn.cluster import KMeans\n",
        "km_cluster = KMeans(n_clusters=3, max_iter=1000, random_state=0)\n",
        "km_cluster.fit(feature_vect)\n",
        "cluster_label = km_cluster.labels_\n",
        "cluster_centers = km_cluster.cluster_centers_\n",
        "\n",
        "# 소속 그룹을 cluster_label 칼럼으로 할당하고 정렬\n",
        "document_df['cluster_label'] = cluster_label\n",
        "document_df.sort_values(by='cluster_label')"
      ],
      "metadata": {
        "id": "mH2EFjnsu0rK",
        "colab": {
          "base_uri": "https://localhost:8080/",
          "height": 1000
        },
        "outputId": "e4473132-402f-4530-95e8-126031a800dd"
      },
      "execution_count": null,
      "outputs": [
        {
          "output_type": "execute_result",
          "data": {
            "text/plain": [
              "                           filename  \\\n",
              "23       interior_toyota_camry_2007   \n",
              "47        quality_toyota_camry_2007   \n",
              "45    performance_honda_accord_2008   \n",
              "32        comfort_honda_accord_2008   \n",
              "41          seats_honda_accord_2008   \n",
              "6    transmission_toyota_camry_2007   \n",
              "17        mileage_honda_accord_2008   \n",
              "39        comfort_toyota_camry_2007   \n",
              "14       interior_honda_accord_2008   \n",
              "13    gas_mileage_toyota_camry_2007   \n",
              "28         navigation_amazon_kindle   \n",
              "33              sound_ipod_nano_8gb   \n",
              "34      screen_garmin_nuvi_255W_gps   \n",
              "0        battery-life_amazon_kindle   \n",
              "36                   speed_windows7   \n",
              "49       speed_garmin_nuvi_255W_gps   \n",
              "38             screen_ipod_nano_8gb   \n",
              "40     updates_garmin_nuvi_255W_gps   \n",
              "43              fonts_amazon_kindle   \n",
              "46         size_asus_netbook_1005ha   \n",
              "35       performance_netbook_1005ha   \n",
              "37            screen_netbook_1005ha   \n",
              "50   satellite_garmin_nuvi_255W_gps   \n",
              "21            buttons_amazon_kindle   \n",
              "1        battery-life_ipod_nano_8gb   \n",
              "2     accuracy_garmin_nuvi_255W_gps   \n",
              "4        voice_garmin_nuvi_255W_gps   \n",
              "5                 features_windows7   \n",
              "8               video_ipod_nano_8gb   \n",
              "12     display_garmin_nuvi_255W_gps   \n",
              "15          keyboard_netbook_1005ha   \n",
              "18  directions_garmin_nuvi_255W_gps   \n",
              "11              price_amazon_kindle   \n",
              "20      battery-life_netbook_1005ha   \n",
              "19    eyesight-issues_amazon_kindle   \n",
              "16       free_bestwestern_hotel_sfo   \n",
              "48          rooms_swissotel_chicago   \n",
              "24      staff_bestwestern_hotel_sfo   \n",
              "3    bathroom_bestwestern_hotel_sfo   \n",
              "44      location_holiday_inn_london   \n",
              "26    parking_bestwestern_hotel_sfo   \n",
              "42          room_holiday_inn_london   \n",
              "27   location_bestwestern_hotel_sfo   \n",
              "7          price_holiday_inn_london   \n",
              "9           staff_swissotel_chicago   \n",
              "10       service_holiday_inn_london   \n",
              "22    service_bestwestern_hotel_sfo   \n",
              "29          food_holiday_inn_london   \n",
              "30  service_swissotel_hotel_chicago   \n",
              "31           food_swissotel_chicago   \n",
              "25      rooms_bestwestern_hotel_sfo   \n",
              "\n",
              "                                         opinion_text  cluster_label  \n",
              "23                                                ...              0  \n",
              "47                                                ...              0  \n",
              "45                                                ...              0  \n",
              "32                                                ...              0  \n",
              "41                                                ...              0  \n",
              "6                                                 ...              0  \n",
              "17                                                ...              0  \n",
              "39                                                ...              0  \n",
              "14                                                ...              0  \n",
              "13                                                ...              0  \n",
              "28                                                ...              1  \n",
              "33      headphone jack i got a clear case for it a...              1  \n",
              "34                                                ...              1  \n",
              "0                                                 ...              1  \n",
              "36                                                ...              1  \n",
              "49                                                ...              1  \n",
              "38                                                ...              1  \n",
              "40                                                ...              1  \n",
              "43                                                ...              1  \n",
              "46                                                ...              1  \n",
              "35                                                ...              1  \n",
              "37                                                ...              1  \n",
              "50                                                ...              1  \n",
              "21                                                ...              1  \n",
              "1                                                 ...              1  \n",
              "2                                                 ...              1  \n",
              "4                                                 ...              1  \n",
              "5                                                 ...              1  \n",
              "8                                                 ...              1  \n",
              "12                                                ...              1  \n",
              "15                                                ...              1  \n",
              "18                                                ...              1  \n",
              "11                                                ...              1  \n",
              "20                                                ...              1  \n",
              "19                                                ...              1  \n",
              "16                                                ...              2  \n",
              "48                                                ...              2  \n",
              "24                                                ...              2  \n",
              "3                                                 ...              2  \n",
              "44                                                ...              2  \n",
              "26                                                ...              2  \n",
              "42                                                ...              2  \n",
              "27                                                ...              2  \n",
              "7                                                 ...              2  \n",
              "9                                                 ...              2  \n",
              "10                                                ...              2  \n",
              "22                                                ...              2  \n",
              "29                                                ...              2  \n",
              "30                                                ...              2  \n",
              "31                                                ...              2  \n",
              "25                                                ...              2  "
            ],
            "text/html": [
              "\n",
              "  <div id=\"df-5c42db07-33a3-4beb-96ea-7bb335481af0\">\n",
              "    <div class=\"colab-df-container\">\n",
              "      <div>\n",
              "<style scoped>\n",
              "    .dataframe tbody tr th:only-of-type {\n",
              "        vertical-align: middle;\n",
              "    }\n",
              "\n",
              "    .dataframe tbody tr th {\n",
              "        vertical-align: top;\n",
              "    }\n",
              "\n",
              "    .dataframe thead th {\n",
              "        text-align: right;\n",
              "    }\n",
              "</style>\n",
              "<table border=\"1\" class=\"dataframe\">\n",
              "  <thead>\n",
              "    <tr style=\"text-align: right;\">\n",
              "      <th></th>\n",
              "      <th>filename</th>\n",
              "      <th>opinion_text</th>\n",
              "      <th>cluster_label</th>\n",
              "    </tr>\n",
              "  </thead>\n",
              "  <tbody>\n",
              "    <tr>\n",
              "      <th>23</th>\n",
              "      <td>interior_toyota_camry_2007</td>\n",
              "      <td>...</td>\n",
              "      <td>0</td>\n",
              "    </tr>\n",
              "    <tr>\n",
              "      <th>47</th>\n",
              "      <td>quality_toyota_camry_2007</td>\n",
              "      <td>...</td>\n",
              "      <td>0</td>\n",
              "    </tr>\n",
              "    <tr>\n",
              "      <th>45</th>\n",
              "      <td>performance_honda_accord_2008</td>\n",
              "      <td>...</td>\n",
              "      <td>0</td>\n",
              "    </tr>\n",
              "    <tr>\n",
              "      <th>32</th>\n",
              "      <td>comfort_honda_accord_2008</td>\n",
              "      <td>...</td>\n",
              "      <td>0</td>\n",
              "    </tr>\n",
              "    <tr>\n",
              "      <th>41</th>\n",
              "      <td>seats_honda_accord_2008</td>\n",
              "      <td>...</td>\n",
              "      <td>0</td>\n",
              "    </tr>\n",
              "    <tr>\n",
              "      <th>6</th>\n",
              "      <td>transmission_toyota_camry_2007</td>\n",
              "      <td>...</td>\n",
              "      <td>0</td>\n",
              "    </tr>\n",
              "    <tr>\n",
              "      <th>17</th>\n",
              "      <td>mileage_honda_accord_2008</td>\n",
              "      <td>...</td>\n",
              "      <td>0</td>\n",
              "    </tr>\n",
              "    <tr>\n",
              "      <th>39</th>\n",
              "      <td>comfort_toyota_camry_2007</td>\n",
              "      <td>...</td>\n",
              "      <td>0</td>\n",
              "    </tr>\n",
              "    <tr>\n",
              "      <th>14</th>\n",
              "      <td>interior_honda_accord_2008</td>\n",
              "      <td>...</td>\n",
              "      <td>0</td>\n",
              "    </tr>\n",
              "    <tr>\n",
              "      <th>13</th>\n",
              "      <td>gas_mileage_toyota_camry_2007</td>\n",
              "      <td>...</td>\n",
              "      <td>0</td>\n",
              "    </tr>\n",
              "    <tr>\n",
              "      <th>28</th>\n",
              "      <td>navigation_amazon_kindle</td>\n",
              "      <td>...</td>\n",
              "      <td>1</td>\n",
              "    </tr>\n",
              "    <tr>\n",
              "      <th>33</th>\n",
              "      <td>sound_ipod_nano_8gb</td>\n",
              "      <td>headphone jack i got a clear case for it a...</td>\n",
              "      <td>1</td>\n",
              "    </tr>\n",
              "    <tr>\n",
              "      <th>34</th>\n",
              "      <td>screen_garmin_nuvi_255W_gps</td>\n",
              "      <td>...</td>\n",
              "      <td>1</td>\n",
              "    </tr>\n",
              "    <tr>\n",
              "      <th>0</th>\n",
              "      <td>battery-life_amazon_kindle</td>\n",
              "      <td>...</td>\n",
              "      <td>1</td>\n",
              "    </tr>\n",
              "    <tr>\n",
              "      <th>36</th>\n",
              "      <td>speed_windows7</td>\n",
              "      <td>...</td>\n",
              "      <td>1</td>\n",
              "    </tr>\n",
              "    <tr>\n",
              "      <th>49</th>\n",
              "      <td>speed_garmin_nuvi_255W_gps</td>\n",
              "      <td>...</td>\n",
              "      <td>1</td>\n",
              "    </tr>\n",
              "    <tr>\n",
              "      <th>38</th>\n",
              "      <td>screen_ipod_nano_8gb</td>\n",
              "      <td>...</td>\n",
              "      <td>1</td>\n",
              "    </tr>\n",
              "    <tr>\n",
              "      <th>40</th>\n",
              "      <td>updates_garmin_nuvi_255W_gps</td>\n",
              "      <td>...</td>\n",
              "      <td>1</td>\n",
              "    </tr>\n",
              "    <tr>\n",
              "      <th>43</th>\n",
              "      <td>fonts_amazon_kindle</td>\n",
              "      <td>...</td>\n",
              "      <td>1</td>\n",
              "    </tr>\n",
              "    <tr>\n",
              "      <th>46</th>\n",
              "      <td>size_asus_netbook_1005ha</td>\n",
              "      <td>...</td>\n",
              "      <td>1</td>\n",
              "    </tr>\n",
              "    <tr>\n",
              "      <th>35</th>\n",
              "      <td>performance_netbook_1005ha</td>\n",
              "      <td>...</td>\n",
              "      <td>1</td>\n",
              "    </tr>\n",
              "    <tr>\n",
              "      <th>37</th>\n",
              "      <td>screen_netbook_1005ha</td>\n",
              "      <td>...</td>\n",
              "      <td>1</td>\n",
              "    </tr>\n",
              "    <tr>\n",
              "      <th>50</th>\n",
              "      <td>satellite_garmin_nuvi_255W_gps</td>\n",
              "      <td>...</td>\n",
              "      <td>1</td>\n",
              "    </tr>\n",
              "    <tr>\n",
              "      <th>21</th>\n",
              "      <td>buttons_amazon_kindle</td>\n",
              "      <td>...</td>\n",
              "      <td>1</td>\n",
              "    </tr>\n",
              "    <tr>\n",
              "      <th>1</th>\n",
              "      <td>battery-life_ipod_nano_8gb</td>\n",
              "      <td>...</td>\n",
              "      <td>1</td>\n",
              "    </tr>\n",
              "    <tr>\n",
              "      <th>2</th>\n",
              "      <td>accuracy_garmin_nuvi_255W_gps</td>\n",
              "      <td>...</td>\n",
              "      <td>1</td>\n",
              "    </tr>\n",
              "    <tr>\n",
              "      <th>4</th>\n",
              "      <td>voice_garmin_nuvi_255W_gps</td>\n",
              "      <td>...</td>\n",
              "      <td>1</td>\n",
              "    </tr>\n",
              "    <tr>\n",
              "      <th>5</th>\n",
              "      <td>features_windows7</td>\n",
              "      <td>...</td>\n",
              "      <td>1</td>\n",
              "    </tr>\n",
              "    <tr>\n",
              "      <th>8</th>\n",
              "      <td>video_ipod_nano_8gb</td>\n",
              "      <td>...</td>\n",
              "      <td>1</td>\n",
              "    </tr>\n",
              "    <tr>\n",
              "      <th>12</th>\n",
              "      <td>display_garmin_nuvi_255W_gps</td>\n",
              "      <td>...</td>\n",
              "      <td>1</td>\n",
              "    </tr>\n",
              "    <tr>\n",
              "      <th>15</th>\n",
              "      <td>keyboard_netbook_1005ha</td>\n",
              "      <td>...</td>\n",
              "      <td>1</td>\n",
              "    </tr>\n",
              "    <tr>\n",
              "      <th>18</th>\n",
              "      <td>directions_garmin_nuvi_255W_gps</td>\n",
              "      <td>...</td>\n",
              "      <td>1</td>\n",
              "    </tr>\n",
              "    <tr>\n",
              "      <th>11</th>\n",
              "      <td>price_amazon_kindle</td>\n",
              "      <td>...</td>\n",
              "      <td>1</td>\n",
              "    </tr>\n",
              "    <tr>\n",
              "      <th>20</th>\n",
              "      <td>battery-life_netbook_1005ha</td>\n",
              "      <td>...</td>\n",
              "      <td>1</td>\n",
              "    </tr>\n",
              "    <tr>\n",
              "      <th>19</th>\n",
              "      <td>eyesight-issues_amazon_kindle</td>\n",
              "      <td>...</td>\n",
              "      <td>1</td>\n",
              "    </tr>\n",
              "    <tr>\n",
              "      <th>16</th>\n",
              "      <td>free_bestwestern_hotel_sfo</td>\n",
              "      <td>...</td>\n",
              "      <td>2</td>\n",
              "    </tr>\n",
              "    <tr>\n",
              "      <th>48</th>\n",
              "      <td>rooms_swissotel_chicago</td>\n",
              "      <td>...</td>\n",
              "      <td>2</td>\n",
              "    </tr>\n",
              "    <tr>\n",
              "      <th>24</th>\n",
              "      <td>staff_bestwestern_hotel_sfo</td>\n",
              "      <td>...</td>\n",
              "      <td>2</td>\n",
              "    </tr>\n",
              "    <tr>\n",
              "      <th>3</th>\n",
              "      <td>bathroom_bestwestern_hotel_sfo</td>\n",
              "      <td>...</td>\n",
              "      <td>2</td>\n",
              "    </tr>\n",
              "    <tr>\n",
              "      <th>44</th>\n",
              "      <td>location_holiday_inn_london</td>\n",
              "      <td>...</td>\n",
              "      <td>2</td>\n",
              "    </tr>\n",
              "    <tr>\n",
              "      <th>26</th>\n",
              "      <td>parking_bestwestern_hotel_sfo</td>\n",
              "      <td>...</td>\n",
              "      <td>2</td>\n",
              "    </tr>\n",
              "    <tr>\n",
              "      <th>42</th>\n",
              "      <td>room_holiday_inn_london</td>\n",
              "      <td>...</td>\n",
              "      <td>2</td>\n",
              "    </tr>\n",
              "    <tr>\n",
              "      <th>27</th>\n",
              "      <td>location_bestwestern_hotel_sfo</td>\n",
              "      <td>...</td>\n",
              "      <td>2</td>\n",
              "    </tr>\n",
              "    <tr>\n",
              "      <th>7</th>\n",
              "      <td>price_holiday_inn_london</td>\n",
              "      <td>...</td>\n",
              "      <td>2</td>\n",
              "    </tr>\n",
              "    <tr>\n",
              "      <th>9</th>\n",
              "      <td>staff_swissotel_chicago</td>\n",
              "      <td>...</td>\n",
              "      <td>2</td>\n",
              "    </tr>\n",
              "    <tr>\n",
              "      <th>10</th>\n",
              "      <td>service_holiday_inn_london</td>\n",
              "      <td>...</td>\n",
              "      <td>2</td>\n",
              "    </tr>\n",
              "    <tr>\n",
              "      <th>22</th>\n",
              "      <td>service_bestwestern_hotel_sfo</td>\n",
              "      <td>...</td>\n",
              "      <td>2</td>\n",
              "    </tr>\n",
              "    <tr>\n",
              "      <th>29</th>\n",
              "      <td>food_holiday_inn_london</td>\n",
              "      <td>...</td>\n",
              "      <td>2</td>\n",
              "    </tr>\n",
              "    <tr>\n",
              "      <th>30</th>\n",
              "      <td>service_swissotel_hotel_chicago</td>\n",
              "      <td>...</td>\n",
              "      <td>2</td>\n",
              "    </tr>\n",
              "    <tr>\n",
              "      <th>31</th>\n",
              "      <td>food_swissotel_chicago</td>\n",
              "      <td>...</td>\n",
              "      <td>2</td>\n",
              "    </tr>\n",
              "    <tr>\n",
              "      <th>25</th>\n",
              "      <td>rooms_bestwestern_hotel_sfo</td>\n",
              "      <td>...</td>\n",
              "      <td>2</td>\n",
              "    </tr>\n",
              "  </tbody>\n",
              "</table>\n",
              "</div>\n",
              "      <button class=\"colab-df-convert\" onclick=\"convertToInteractive('df-5c42db07-33a3-4beb-96ea-7bb335481af0')\"\n",
              "              title=\"Convert this dataframe to an interactive table.\"\n",
              "              style=\"display:none;\">\n",
              "        \n",
              "  <svg xmlns=\"http://www.w3.org/2000/svg\" height=\"24px\"viewBox=\"0 0 24 24\"\n",
              "       width=\"24px\">\n",
              "    <path d=\"M0 0h24v24H0V0z\" fill=\"none\"/>\n",
              "    <path d=\"M18.56 5.44l.94 2.06.94-2.06 2.06-.94-2.06-.94-.94-2.06-.94 2.06-2.06.94zm-11 1L8.5 8.5l.94-2.06 2.06-.94-2.06-.94L8.5 2.5l-.94 2.06-2.06.94zm10 10l.94 2.06.94-2.06 2.06-.94-2.06-.94-.94-2.06-.94 2.06-2.06.94z\"/><path d=\"M17.41 7.96l-1.37-1.37c-.4-.4-.92-.59-1.43-.59-.52 0-1.04.2-1.43.59L10.3 9.45l-7.72 7.72c-.78.78-.78 2.05 0 2.83L4 21.41c.39.39.9.59 1.41.59.51 0 1.02-.2 1.41-.59l7.78-7.78 2.81-2.81c.8-.78.8-2.07 0-2.86zM5.41 20L4 18.59l7.72-7.72 1.47 1.35L5.41 20z\"/>\n",
              "  </svg>\n",
              "      </button>\n",
              "      \n",
              "  <style>\n",
              "    .colab-df-container {\n",
              "      display:flex;\n",
              "      flex-wrap:wrap;\n",
              "      gap: 12px;\n",
              "    }\n",
              "\n",
              "    .colab-df-convert {\n",
              "      background-color: #E8F0FE;\n",
              "      border: none;\n",
              "      border-radius: 50%;\n",
              "      cursor: pointer;\n",
              "      display: none;\n",
              "      fill: #1967D2;\n",
              "      height: 32px;\n",
              "      padding: 0 0 0 0;\n",
              "      width: 32px;\n",
              "    }\n",
              "\n",
              "    .colab-df-convert:hover {\n",
              "      background-color: #E2EBFA;\n",
              "      box-shadow: 0px 1px 2px rgba(60, 64, 67, 0.3), 0px 1px 3px 1px rgba(60, 64, 67, 0.15);\n",
              "      fill: #174EA6;\n",
              "    }\n",
              "\n",
              "    [theme=dark] .colab-df-convert {\n",
              "      background-color: #3B4455;\n",
              "      fill: #D2E3FC;\n",
              "    }\n",
              "\n",
              "    [theme=dark] .colab-df-convert:hover {\n",
              "      background-color: #434B5C;\n",
              "      box-shadow: 0px 1px 3px 1px rgba(0, 0, 0, 0.15);\n",
              "      filter: drop-shadow(0px 1px 2px rgba(0, 0, 0, 0.3));\n",
              "      fill: #FFFFFF;\n",
              "    }\n",
              "  </style>\n",
              "\n",
              "      <script>\n",
              "        const buttonEl =\n",
              "          document.querySelector('#df-5c42db07-33a3-4beb-96ea-7bb335481af0 button.colab-df-convert');\n",
              "        buttonEl.style.display =\n",
              "          google.colab.kernel.accessAllowed ? 'block' : 'none';\n",
              "\n",
              "        async function convertToInteractive(key) {\n",
              "          const element = document.querySelector('#df-5c42db07-33a3-4beb-96ea-7bb335481af0');\n",
              "          const dataTable =\n",
              "            await google.colab.kernel.invokeFunction('convertToInteractive',\n",
              "                                                     [key], {});\n",
              "          if (!dataTable) return;\n",
              "\n",
              "          const docLinkHtml = 'Like what you see? Visit the ' +\n",
              "            '<a target=\"_blank\" href=https://colab.research.google.com/notebooks/data_table.ipynb>data table notebook</a>'\n",
              "            + ' to learn more about interactive tables.';\n",
              "          element.innerHTML = '';\n",
              "          dataTable['output_type'] = 'display_data';\n",
              "          await google.colab.output.renderOutput(dataTable, element);\n",
              "          const docLink = document.createElement('div');\n",
              "          docLink.innerHTML = docLinkHtml;\n",
              "          element.appendChild(docLink);\n",
              "        }\n",
              "      </script>\n",
              "    </div>\n",
              "  </div>\n",
              "  "
            ]
          },
          "metadata": {},
          "execution_count": 14
        }
      ]
    },
    {
      "cell_type": "markdown",
      "source": [
        "### 군집별 핵심 단어 추출하기"
      ],
      "metadata": {
        "id": "QUti0GCnvsCM"
      }
    },
    {
      "cell_type": "code",
      "source": [
        "cluster_centers = km_cluster.cluster_centers_\n",
        "print('cluster centers shape:', cluster_centers.shape)\n",
        "print(cluster_centers)\n",
        "# shape 행: 군집 개수, 열: 개별 피처 수\n",
        "# 개별 군집 내의 상대 위치를 숫자 값으로 표현 (0~1)"
      ],
      "metadata": {
        "id": "wwZdu2ngva7X",
        "colab": {
          "base_uri": "https://localhost:8080/"
        },
        "outputId": "a467f5dd-b37d-4aea-d893-e82c479c5bcb"
      },
      "execution_count": null,
      "outputs": [
        {
          "output_type": "stream",
          "name": "stdout",
          "text": [
            "cluster centers shape: (3, 4611)\n",
            "[[0.         0.00092551 0.         ... 0.         0.         0.        ]\n",
            " [0.01005322 0.         0.         ... 0.00706287 0.         0.        ]\n",
            " [0.         0.00099499 0.00174637 ... 0.         0.00183397 0.00144581]]\n"
          ]
        }
      ]
    },
    {
      "cell_type": "code",
      "source": [
        "# 군집별 top n 핵심 단어, 그 단어의 중심 위치 상댓값, 대상 파일명을 반환함\n",
        "def get_cluster_details(cluster_model, cluster_data, feature_names, clusters_num, top_n_features=10):\n",
        "  cluster_details = {}\n",
        "  # cluster_centers array의 값이 큰 순으로 정렬된 인덱스 값을 반환\n",
        "  # 군집 중심점(centroid)별 할당된 word 피처들의 거리값이 큰 순으로 값을 구하기 위함\n",
        "  centroid_feature_ordered_ind = cluster_model.cluster_centers_.argsort()[:,::-1]\n",
        "  \n",
        "  # 개별 군집별로 반복하면서 핵심 단어, 그 단어의 중심 위치 상댓값, 대상 파일명 입력\n",
        "  for cluster_num in range(clusters_num):\n",
        "    # 개별 군집별 정보를 담을 데이터 초기화\n",
        "    cluster_details[cluster_num] = {}\n",
        "    cluster_details[cluster_num]['cluster'] = cluster_num\n",
        "\n",
        "    # cluster_centers_.argsort()[:,::-1]로 구한 인덱스를 이용해 top n 피처 단어를 구함\n",
        "    top_feature_indexes = centroid_feature_ordered_ind[cluster_num, :top_n_features]\n",
        "    top_features = [feature_names[ind] for ind in top_feature_indexes]\n",
        "\n",
        "    # top_feature_indexes를 이용해 해당 피처 단어의 중심 위치 상댓값 구함\n",
        "    top_feature_values = cluster_model.cluster_centers_[cluster_num, top_feature_indexes].tolist()\n",
        "\n",
        "    # cluster_details 딕셔너리 객체에 개별 군집별 핵심단어와 중심위치 상댓값, 해당 파일명 입력\n",
        "    cluster_details[cluster_num]['top_features'] = top_features\n",
        "    cluster_details[cluster_num]['top_feature_value'] = top_feature_values\n",
        "    filenames = cluster_data[cluster_data['cluster_label']==cluster_num]['filename']\n",
        "    filenames = filenames.values.tolist()\n",
        "\n",
        "    cluster_details[cluster_num]['filenames'] = filenames\n",
        "  return cluster_details"
      ],
      "metadata": {
        "id": "XDZDhnO-v75n"
      },
      "execution_count": null,
      "outputs": []
    },
    {
      "cell_type": "code",
      "source": [
        "def print_cluster_details(cluster_details):\n",
        "  for cluster_num, cluster_detail in cluster_details.items():\n",
        "    print(\"###### Cluster {0}\".format(cluster_num))\n",
        "    print('Top features: ', cluster_detail['top_features'])\n",
        "    print('Reviews 파일명 :', cluster_detail['filenames'][:7])\n",
        "    print(\"================================================\")"
      ],
      "metadata": {
        "id": "Fqxl6tWzwmWe"
      },
      "execution_count": null,
      "outputs": []
    },
    {
      "cell_type": "code",
      "source": [
        "feature_names = tfidf_vect.get_feature_names()\n",
        "cluster_details = get_cluster_details(cluster_model=km_cluster, cluster_data=document_df,\n",
        "                                      feature_names=feature_names, clusters_num=3, top_n_features=10)\n",
        "print_cluster_details(cluster_details)"
      ],
      "metadata": {
        "colab": {
          "base_uri": "https://localhost:8080/"
        },
        "id": "oDaSuOtWS0co",
        "outputId": "d9ee4166-dcf1-45e2-8ba4-e1002d8c9a3a"
      },
      "execution_count": null,
      "outputs": [
        {
          "output_type": "stream",
          "name": "stdout",
          "text": [
            "###### Cluster 0\n",
            "Top features:  ['interior', 'seat', 'mileage', 'comfortable', 'gas', 'gas mileage', 'transmission', 'car', 'performance', 'quality']\n",
            "Reviews 파일명 : ['transmission_toyota_camry_2007', 'gas_mileage_toyota_camry_2007', 'interior_honda_accord_2008', 'mileage_honda_accord_2008', 'interior_toyota_camry_2007', 'comfort_honda_accord_2008', 'comfort_toyota_camry_2007']\n",
            "================================================\n",
            "###### Cluster 1\n",
            "Top features:  ['screen', 'battery', 'keyboard', 'battery life', 'life', 'kindle', 'direction', 'video', 'size', 'voice']\n",
            "Reviews 파일명 : ['battery-life_amazon_kindle', 'battery-life_ipod_nano_8gb', 'accuracy_garmin_nuvi_255W_gps', 'voice_garmin_nuvi_255W_gps', 'features_windows7', 'video_ipod_nano_8gb', 'price_amazon_kindle']\n",
            "================================================\n",
            "###### Cluster 2\n",
            "Top features:  ['room', 'hotel', 'service', 'staff', 'food', 'location', 'bathroom', 'clean', 'price', 'parking']\n",
            "Reviews 파일명 : ['bathroom_bestwestern_hotel_sfo', 'price_holiday_inn_london', 'staff_swissotel_chicago', 'service_holiday_inn_london', 'free_bestwestern_hotel_sfo', 'service_bestwestern_hotel_sfo', 'staff_bestwestern_hotel_sfo']\n",
            "================================================\n"
          ]
        }
      ]
    },
    {
      "cell_type": "markdown",
      "source": [
        "## 10 텍스트 분석 실습 - 캐글 Mercari Price Suggestion Challenge"
      ],
      "metadata": {
        "id": "LCcdSbqTT46c"
      }
    },
    {
      "cell_type": "code",
      "source": [
        "from sklearn.linear_model import Ridge, LogisticRegression\n",
        "from sklearn.model_selection import train_test_split, cross_val_score\n",
        "from sklearn.feature_extraction.text import CountVectorizer, TfidfVectorizer\n",
        "import pandas as pd\n",
        "\n",
        "mercari_df = pd.read_csv('/content/drive/MyDrive/ESAAdata/mercaridata/mercari_train.tsv', sep='\\t')\n",
        "print(mercari_df.shape)\n",
        "mercari_df.head(3)"
      ],
      "metadata": {
        "colab": {
          "base_uri": "https://localhost:8080/",
          "height": 382
        },
        "id": "OuQC4MMSS6ou",
        "outputId": "5f9d640c-42fd-4460-cc09-c86b82d8d123"
      },
      "execution_count": 4,
      "outputs": [
        {
          "output_type": "stream",
          "name": "stdout",
          "text": [
            "(1482535, 8)\n"
          ]
        },
        {
          "output_type": "execute_result",
          "data": {
            "text/plain": [
              "   train_id                                 name  item_condition_id  \\\n",
              "0         0  MLB Cincinnati Reds T Shirt Size XL                  3   \n",
              "1         1     Razer BlackWidow Chroma Keyboard                  3   \n",
              "2         2                       AVA-VIV Blouse                  1   \n",
              "\n",
              "                                       category_name brand_name  price  \\\n",
              "0                                  Men/Tops/T-shirts        NaN   10.0   \n",
              "1  Electronics/Computers & Tablets/Components & P...      Razer   52.0   \n",
              "2                        Women/Tops & Blouses/Blouse     Target   10.0   \n",
              "\n",
              "   shipping                                   item_description  \n",
              "0         1                                 No description yet  \n",
              "1         0  This keyboard is in great condition and works ...  \n",
              "2         1  Adorable top with a hint of lace and a key hol...  "
            ],
            "text/html": [
              "\n",
              "  <div id=\"df-c5861c86-8e5b-4750-8820-413310f288b0\">\n",
              "    <div class=\"colab-df-container\">\n",
              "      <div>\n",
              "<style scoped>\n",
              "    .dataframe tbody tr th:only-of-type {\n",
              "        vertical-align: middle;\n",
              "    }\n",
              "\n",
              "    .dataframe tbody tr th {\n",
              "        vertical-align: top;\n",
              "    }\n",
              "\n",
              "    .dataframe thead th {\n",
              "        text-align: right;\n",
              "    }\n",
              "</style>\n",
              "<table border=\"1\" class=\"dataframe\">\n",
              "  <thead>\n",
              "    <tr style=\"text-align: right;\">\n",
              "      <th></th>\n",
              "      <th>train_id</th>\n",
              "      <th>name</th>\n",
              "      <th>item_condition_id</th>\n",
              "      <th>category_name</th>\n",
              "      <th>brand_name</th>\n",
              "      <th>price</th>\n",
              "      <th>shipping</th>\n",
              "      <th>item_description</th>\n",
              "    </tr>\n",
              "  </thead>\n",
              "  <tbody>\n",
              "    <tr>\n",
              "      <th>0</th>\n",
              "      <td>0</td>\n",
              "      <td>MLB Cincinnati Reds T Shirt Size XL</td>\n",
              "      <td>3</td>\n",
              "      <td>Men/Tops/T-shirts</td>\n",
              "      <td>NaN</td>\n",
              "      <td>10.0</td>\n",
              "      <td>1</td>\n",
              "      <td>No description yet</td>\n",
              "    </tr>\n",
              "    <tr>\n",
              "      <th>1</th>\n",
              "      <td>1</td>\n",
              "      <td>Razer BlackWidow Chroma Keyboard</td>\n",
              "      <td>3</td>\n",
              "      <td>Electronics/Computers &amp; Tablets/Components &amp; P...</td>\n",
              "      <td>Razer</td>\n",
              "      <td>52.0</td>\n",
              "      <td>0</td>\n",
              "      <td>This keyboard is in great condition and works ...</td>\n",
              "    </tr>\n",
              "    <tr>\n",
              "      <th>2</th>\n",
              "      <td>2</td>\n",
              "      <td>AVA-VIV Blouse</td>\n",
              "      <td>1</td>\n",
              "      <td>Women/Tops &amp; Blouses/Blouse</td>\n",
              "      <td>Target</td>\n",
              "      <td>10.0</td>\n",
              "      <td>1</td>\n",
              "      <td>Adorable top with a hint of lace and a key hol...</td>\n",
              "    </tr>\n",
              "  </tbody>\n",
              "</table>\n",
              "</div>\n",
              "      <button class=\"colab-df-convert\" onclick=\"convertToInteractive('df-c5861c86-8e5b-4750-8820-413310f288b0')\"\n",
              "              title=\"Convert this dataframe to an interactive table.\"\n",
              "              style=\"display:none;\">\n",
              "        \n",
              "  <svg xmlns=\"http://www.w3.org/2000/svg\" height=\"24px\"viewBox=\"0 0 24 24\"\n",
              "       width=\"24px\">\n",
              "    <path d=\"M0 0h24v24H0V0z\" fill=\"none\"/>\n",
              "    <path d=\"M18.56 5.44l.94 2.06.94-2.06 2.06-.94-2.06-.94-.94-2.06-.94 2.06-2.06.94zm-11 1L8.5 8.5l.94-2.06 2.06-.94-2.06-.94L8.5 2.5l-.94 2.06-2.06.94zm10 10l.94 2.06.94-2.06 2.06-.94-2.06-.94-.94-2.06-.94 2.06-2.06.94z\"/><path d=\"M17.41 7.96l-1.37-1.37c-.4-.4-.92-.59-1.43-.59-.52 0-1.04.2-1.43.59L10.3 9.45l-7.72 7.72c-.78.78-.78 2.05 0 2.83L4 21.41c.39.39.9.59 1.41.59.51 0 1.02-.2 1.41-.59l7.78-7.78 2.81-2.81c.8-.78.8-2.07 0-2.86zM5.41 20L4 18.59l7.72-7.72 1.47 1.35L5.41 20z\"/>\n",
              "  </svg>\n",
              "      </button>\n",
              "      \n",
              "  <style>\n",
              "    .colab-df-container {\n",
              "      display:flex;\n",
              "      flex-wrap:wrap;\n",
              "      gap: 12px;\n",
              "    }\n",
              "\n",
              "    .colab-df-convert {\n",
              "      background-color: #E8F0FE;\n",
              "      border: none;\n",
              "      border-radius: 50%;\n",
              "      cursor: pointer;\n",
              "      display: none;\n",
              "      fill: #1967D2;\n",
              "      height: 32px;\n",
              "      padding: 0 0 0 0;\n",
              "      width: 32px;\n",
              "    }\n",
              "\n",
              "    .colab-df-convert:hover {\n",
              "      background-color: #E2EBFA;\n",
              "      box-shadow: 0px 1px 2px rgba(60, 64, 67, 0.3), 0px 1px 3px 1px rgba(60, 64, 67, 0.15);\n",
              "      fill: #174EA6;\n",
              "    }\n",
              "\n",
              "    [theme=dark] .colab-df-convert {\n",
              "      background-color: #3B4455;\n",
              "      fill: #D2E3FC;\n",
              "    }\n",
              "\n",
              "    [theme=dark] .colab-df-convert:hover {\n",
              "      background-color: #434B5C;\n",
              "      box-shadow: 0px 1px 3px 1px rgba(0, 0, 0, 0.15);\n",
              "      filter: drop-shadow(0px 1px 2px rgba(0, 0, 0, 0.3));\n",
              "      fill: #FFFFFF;\n",
              "    }\n",
              "  </style>\n",
              "\n",
              "      <script>\n",
              "        const buttonEl =\n",
              "          document.querySelector('#df-c5861c86-8e5b-4750-8820-413310f288b0 button.colab-df-convert');\n",
              "        buttonEl.style.display =\n",
              "          google.colab.kernel.accessAllowed ? 'block' : 'none';\n",
              "\n",
              "        async function convertToInteractive(key) {\n",
              "          const element = document.querySelector('#df-c5861c86-8e5b-4750-8820-413310f288b0');\n",
              "          const dataTable =\n",
              "            await google.colab.kernel.invokeFunction('convertToInteractive',\n",
              "                                                     [key], {});\n",
              "          if (!dataTable) return;\n",
              "\n",
              "          const docLinkHtml = 'Like what you see? Visit the ' +\n",
              "            '<a target=\"_blank\" href=https://colab.research.google.com/notebooks/data_table.ipynb>data table notebook</a>'\n",
              "            + ' to learn more about interactive tables.';\n",
              "          element.innerHTML = '';\n",
              "          dataTable['output_type'] = 'display_data';\n",
              "          await google.colab.output.renderOutput(dataTable, element);\n",
              "          const docLink = document.createElement('div');\n",
              "          docLink.innerHTML = docLinkHtml;\n",
              "          element.appendChild(docLink);\n",
              "        }\n",
              "      </script>\n",
              "    </div>\n",
              "  </div>\n",
              "  "
            ]
          },
          "metadata": {},
          "execution_count": 4
        }
      ]
    },
    {
      "cell_type": "code",
      "source": [
        "print(mercari_df.info()) # brand_name 칼럼에 Null값이 많음."
      ],
      "metadata": {
        "colab": {
          "base_uri": "https://localhost:8080/"
        },
        "id": "QdTgJZwuW_YX",
        "outputId": "91ebc296-7ce7-4902-89b4-10ef55c516bb"
      },
      "execution_count": 5,
      "outputs": [
        {
          "output_type": "stream",
          "name": "stdout",
          "text": [
            "<class 'pandas.core.frame.DataFrame'>\n",
            "RangeIndex: 1482535 entries, 0 to 1482534\n",
            "Data columns (total 8 columns):\n",
            " #   Column             Non-Null Count    Dtype  \n",
            "---  ------             --------------    -----  \n",
            " 0   train_id           1482535 non-null  int64  \n",
            " 1   name               1482535 non-null  object \n",
            " 2   item_condition_id  1482535 non-null  int64  \n",
            " 3   category_name      1476208 non-null  object \n",
            " 4   brand_name         849853 non-null   object \n",
            " 5   price              1482535 non-null  float64\n",
            " 6   shipping           1482535 non-null  int64  \n",
            " 7   item_description   1482531 non-null  object \n",
            "dtypes: float64(1), int64(3), object(4)\n",
            "memory usage: 90.5+ MB\n",
            "None\n"
          ]
        }
      ]
    },
    {
      "cell_type": "markdown",
      "source": [
        "- 회귀에서 Target 값의 정규 분포도는 매우 중요함. 왜곡되어 있을 경우 보통 로그를 씌워서 변환하면 대부분 정규 분포의 형태를 가지게 됨."
      ],
      "metadata": {
        "id": "6ZPsYUrhXieC"
      }
    },
    {
      "cell_type": "code",
      "source": [
        "# Target값인 price의 분포\n",
        "import matplotlib.pyplot as plt\n",
        "import seaborn as sns\n",
        "\n",
        "y_train_df = mercari_df['price']\n",
        "plt.figure(figsize=(6,4))\n",
        "sns.distplot(y_train_df, kde=False)\n",
        "# 적은 가격을 가진 데이터 값에 왜곡돼 분포되어 있음."
      ],
      "metadata": {
        "colab": {
          "base_uri": "https://localhost:8080/",
          "height": 308
        },
        "id": "DkB1zlK7Xc3E",
        "outputId": "e31841da-44ea-489b-c7f9-f7bffd8c77d0"
      },
      "execution_count": 6,
      "outputs": [
        {
          "output_type": "execute_result",
          "data": {
            "text/plain": [
              "<matplotlib.axes._subplots.AxesSubplot at 0x7f5b93398fd0>"
            ]
          },
          "metadata": {},
          "execution_count": 6
        },
        {
          "output_type": "display_data",
          "data": {
            "text/plain": [
              "<Figure size 432x288 with 1 Axes>"
            ],
            "image/png": "[encoded data removed]"
          },
          "metadata": {
            "needs_background": "light"
          }
        }
      ]
    },
    {
      "cell_type": "code",
      "source": [
        "# Price 열에 로그 변환 후 분포\n",
        "import numpy as np\n",
        "y_train_df = np.log1p(y_train_df)\n",
        "sns.distplot(y_train_df, kde=False) # 정규분포에 가까워짐."
      ],
      "metadata": {
        "colab": {
          "base_uri": "https://localhost:8080/",
          "height": 297
        },
        "id": "xeg-e60LX7p2",
        "outputId": "36ffb361-39ed-43b1-b55c-a190df864d2f"
      },
      "execution_count": 7,
      "outputs": [
        {
          "output_type": "execute_result",
          "data": {
            "text/plain": [
              "<matplotlib.axes._subplots.AxesSubplot at 0x7f5bcfb6aa90>"
            ]
          },
          "metadata": {},
          "execution_count": 7
        },
        {
          "output_type": "display_data",
          "data": {
            "text/plain": [
              "<Figure size 432x288 with 1 Axes>"
            ],
            "image/png": "[encoded data removed]"
          },
          "metadata": {
            "needs_background": "light"
          }
        }
      ]
    },
    {
      "cell_type": "code",
      "source": [
        "mercari_df['price'] = np.log1p(mercari_df['price'])\n",
        "mercari_df['price'].head(3)"
      ],
      "metadata": {
        "id": "Rptib_QKYJku",
        "colab": {
          "base_uri": "https://localhost:8080/"
        },
        "outputId": "77c28421-48d5-4ed4-87ea-6d428d5d6adb"
      },
      "execution_count": 8,
      "outputs": [
        {
          "output_type": "execute_result",
          "data": {
            "text/plain": [
              "0    2.397895\n",
              "1    3.970292\n",
              "2    2.397895\n",
              "Name: price, dtype: float64"
            ]
          },
          "metadata": {},
          "execution_count": 8
        }
      ]
    },
    {
      "cell_type": "code",
      "source": [
        "print('Shipping 값 유형:\\n', mercari_df['shipping'].value_counts()) # 1은 무료, 0은 유료\n",
        "print('item_condition_id 값 유형:\\n', mercari_df['item_condition_id'].value_counts())"
      ],
      "metadata": {
        "colab": {
          "base_uri": "https://localhost:8080/"
        },
        "id": "Xg7qhrqIIqdB",
        "outputId": "3d99fe79-7fd0-4105-f47c-b2f8bf58b7bf"
      },
      "execution_count": 9,
      "outputs": [
        {
          "output_type": "stream",
          "name": "stdout",
          "text": [
            "Shipping 값 유형:\n",
            " 0    819435\n",
            "1    663100\n",
            "Name: shipping, dtype: int64\n",
            "item_condition_id 값 유형:\n",
            " 1    640549\n",
            "3    432161\n",
            "2    375479\n",
            "4     31962\n",
            "5      2384\n",
            "Name: item_condition_id, dtype: int64\n"
          ]
        }
      ]
    },
    {
      "cell_type": "code",
      "source": [
        "boolean_cond = mercari_df['item_description'] == 'No description yet'\n",
        "mercari_df[boolean_cond]['item_description'].count()"
      ],
      "metadata": {
        "colab": {
          "base_uri": "https://localhost:8080/"
        },
        "id": "jbSq7lV2PC97",
        "outputId": "8b052be2-31ae-48d3-a08b-afb6e16077b3"
      },
      "execution_count": 10,
      "outputs": [
        {
          "output_type": "execute_result",
          "data": {
            "text/plain": [
              "82489"
            ]
          },
          "metadata": {},
          "execution_count": 10
        }
      ]
    },
    {
      "cell_type": "code",
      "source": [
        "mercari_df['category_name'] # 대분류/중분류/소분류"
      ],
      "metadata": {
        "colab": {
          "base_uri": "https://localhost:8080/"
        },
        "id": "pWuJ-BkcQa-w",
        "outputId": "6b3ebbbf-6300-4b4f-ac74-2f92762a6021"
      },
      "execution_count": 11,
      "outputs": [
        {
          "output_type": "execute_result",
          "data": {
            "text/plain": [
              "0                                          Men/Tops/T-shirts\n",
              "1          Electronics/Computers & Tablets/Components & P...\n",
              "2                                Women/Tops & Blouses/Blouse\n",
              "3                         Home/Home Décor/Home Décor Accents\n",
              "4                                    Women/Jewelry/Necklaces\n",
              "                                 ...                        \n",
              "1482530                               Women/Dresses/Mid-Calf\n",
              "1482531                             Kids/Girls 2T-5T/Dresses\n",
              "1482532       Sports & Outdoors/Exercise/Fitness accessories\n",
              "1482533                   Home/Home Décor/Home Décor Accents\n",
              "1482534                    Women/Women's Accessories/Wallets\n",
              "Name: category_name, Length: 1482535, dtype: object"
            ]
          },
          "metadata": {},
          "execution_count": 11
        }
      ]
    },
    {
      "cell_type": "code",
      "source": [
        "# apply lambda에서 호출되는 대, 중, 소 분할 함수 생성, 대, 중, 소 값을 리스트로 변환\n",
        "def split_cat(category_name):\n",
        "  try:\n",
        "    return category_name.split('/')\n",
        "  except:\n",
        "    return ['Other_Null', 'Other Null', 'Other Null']\n",
        "\n",
        "# 위의 split cat()을 apply lambda에서 호출해 대, 중, 소 칼럼을 mercari df에 생성\n",
        "mercari_df['cat_dae'], mercari_df['cat_jung'], mercari_df['cat_so'] = zip(*mercari_df['category_name'].apply(lambda x: split_cat(x)))\n",
        "\n",
        "# 대분류만 값의 유형과 건수를 살펴보고, 중분류, 소분류는 값의 유형이 많으므로 분류 개수만 추출\n",
        "print('대분류 유형 :\\n', mercari_df['cat_dae'].value_counts())\n",
        "print('중분류 개수 :', mercari_df['cat_jung'].nunique()) # nunique(): 고유값들의 수\n",
        "print('소분류 개수 :', mercari_df['cat_so'].nunique())"
      ],
      "metadata": {
        "colab": {
          "base_uri": "https://localhost:8080/"
        },
        "id": "oAlqd1SbRFxD",
        "outputId": "906df232-356c-45ef-f065-f11ae04fc258"
      },
      "execution_count": 12,
      "outputs": [
        {
          "output_type": "stream",
          "name": "stdout",
          "text": [
            "대분류 유형 :\n",
            " Women                     664385\n",
            "Beauty                    207828\n",
            "Kids                      171689\n",
            "Electronics               122690\n",
            "Men                        93680\n",
            "Home                       67871\n",
            "Vintage & Collectibles     46530\n",
            "Other                      45351\n",
            "Handmade                   30842\n",
            "Sports & Outdoors          25342\n",
            "Other_Null                  6327\n",
            "Name: cat_dae, dtype: int64\n",
            "중분류 개수 : 114\n",
            "소분류 개수 : 871\n"
          ]
        }
      ]
    },
    {
      "cell_type": "code",
      "source": [
        "# brand_name, category_name, item_description 칼럼의 Null값은 일괄적으로 'Other Null'로 동일하게 변경\n",
        "mercari_df['brand_name'] = mercari_df['brand_name'].fillna('Ohter_Null')\n",
        "mercari_df['category_name'] = mercari_df['category_name'].fillna('Other_Null')\n",
        "mercari_df['item_description'] = mercari_df['item_description'].fillna('Other_Null')\n",
        "\n",
        "# 각 칼럼별로 Null 값 건수 확인\n",
        "mercari_df.isnull().sum()"
      ],
      "metadata": {
        "colab": {
          "base_uri": "https://localhost:8080/"
        },
        "id": "-NaZl8XdVb1j",
        "outputId": "d9d01310-e949-4552-a96b-36fd2c6717d7"
      },
      "execution_count": 13,
      "outputs": [
        {
          "output_type": "execute_result",
          "data": {
            "text/plain": [
              "train_id             0\n",
              "name                 0\n",
              "item_condition_id    0\n",
              "category_name        0\n",
              "brand_name           0\n",
              "price                0\n",
              "shipping             0\n",
              "item_description     0\n",
              "cat_dae              0\n",
              "cat_jung             0\n",
              "cat_so               0\n",
              "dtype: int64"
            ]
          },
          "metadata": {},
          "execution_count": 13
        }
      ]
    },
    {
      "cell_type": "markdown",
      "source": [
        "### 피처 인코딩과 피처 벡터화"
      ],
      "metadata": {
        "id": "3QoNdX-9WI9E"
      }
    },
    {
      "cell_type": "markdown",
      "source": [
        "- 상품 가격을 예측해야 하므로 회귀 모델을 기반으로 함. 선형 회귀 모델과 회귀 트리 모델 모두 적용\n",
        "\n",
        "- 선형 회귀는 원-핫 인코딩을 훨씬 선호\n",
        "\n",
        "- 피처 벡터화는 비교적 짧은 텍스의 경우 Count 기반의 벡터화를, 긴 텍스트는 TD-IDF 기반의 벡터화를 적용함."
      ],
      "metadata": {
        "id": "MKJCES4AWXaQ"
      }
    },
    {
      "cell_type": "code",
      "source": [
        "print('brand name의 유형 건수 :', mercari_df['brand_name'].nunique())\n",
        "print('brand name sample 5건 :\\n', mercari_df['brand_name'].value_counts()[:5])"
      ],
      "metadata": {
        "colab": {
          "base_uri": "https://localhost:8080/"
        },
        "id": "xlSRPQLeV-VG",
        "outputId": "c8364356-b2b2-49dd-c0e9-c2f719ba7249"
      },
      "execution_count": 14,
      "outputs": [
        {
          "output_type": "stream",
          "name": "stdout",
          "text": [
            "brand name의 유형 건수 : 4810\n",
            "brand name sample 5건 :\n",
            " Ohter_Null           632682\n",
            "PINK                  54088\n",
            "Nike                  54043\n",
            "Victoria's Secret     48036\n",
            "LuLaRoe               31024\n",
            "Name: brand_name, dtype: int64\n"
          ]
        }
      ]
    },
    {
      "cell_type": "markdown",
      "source": [
        "- brand_name : 원핫인코딩 이용"
      ],
      "metadata": {
        "id": "tdglWCz3bcwE"
      }
    },
    {
      "cell_type": "code",
      "source": [
        "print('name의 유형 건수 :', mercari_df['name'].nunique())\n",
        "print('name sample 10건 :\\n', mercari_df['name'][:7])"
      ],
      "metadata": {
        "colab": {
          "base_uri": "https://localhost:8080/"
        },
        "id": "HdxI21u-X2wa",
        "outputId": "734b5117-6667-4621-d129-51c3db2ba823"
      },
      "execution_count": 15,
      "outputs": [
        {
          "output_type": "stream",
          "name": "stdout",
          "text": [
            "name의 유형 건수 : 1225273\n",
            "name sample 10건 :\n",
            " 0    MLB Cincinnati Reds T Shirt Size XL\n",
            "1       Razer BlackWidow Chroma Keyboard\n",
            "2                         AVA-VIV Blouse\n",
            "3                  Leather Horse Statues\n",
            "4                   24K GOLD plated rose\n",
            "5       Bundled items requested for Ruie\n",
            "6     Acacia pacific tides santorini top\n",
            "Name: name, dtype: object\n"
          ]
        }
      ]
    },
    {
      "cell_type": "markdown",
      "source": [
        "- Name 속성의 종류가 매우 많음. 전체 데이터 1,482,535 중 name 속성은 1,225,273가지이므로 거의 고유한 상품명을 가지고 있음.\n",
        "- Name 속성은 유형이 매우 많고 적은 단어 위주의 텍스트 형태로 되어 있으므로 Count 기반 피처 벡터화 변환 적용"
      ],
      "metadata": {
        "id": "TktK6jD4bijU"
      }
    },
    {
      "cell_type": "markdown",
      "source": [
        "- category_name은 cat_dae, cat_jung, cat_so 칼럼으로 분리됨. 해당 칼럼에 대해 원핫인코딩 적용"
      ],
      "metadata": {
        "id": "2Hwdvh-QblZJ"
      }
    },
    {
      "cell_type": "markdown",
      "source": [
        "- shipping은 0, 1로 2가지 유형의 값을 가지고 있으므로 원핫인코딩 적용\n",
        "\n",
        "- item_condition_id는 상품 상태로서, 1,2,3,4,5의 5가지 유형의 값을 가지고 있으므로 원핫인코딩 적용"
      ],
      "metadata": {
        "id": "6zDSyCgSbtRE"
      }
    },
    {
      "cell_type": "code",
      "source": [
        "# item_description은 상품에 대한 간단 설명으로 긴 텍스트를 가짐.\n",
        "\n",
        "pd.set_option('max_colwidth',200)\n",
        "# item_description의 평균 문자열 길이\n",
        "print('item_description의 평균 문자열 길이:', mercari_df['item_description'].str.len().mean())\n",
        "\n",
        "mercari_df['item_description'][:2]"
      ],
      "metadata": {
        "colab": {
          "base_uri": "https://localhost:8080/"
        },
        "id": "I-NlVliWawlh",
        "outputId": "a4a9a10c-b909-4939-d003-9b461f404439"
      },
      "execution_count": 16,
      "outputs": [
        {
          "output_type": "stream",
          "name": "stdout",
          "text": [
            "item_description의 평균 문자열 길이: 145.7113889385411\n"
          ]
        },
        {
          "output_type": "execute_result",
          "data": {
            "text/plain": [
              "0                                                                                                                                                                              No description yet\n",
              "1    This keyboard is in great condition and works like it came out of the box. All of the ports are tested and work perfectly. The lights are customizable via the Razer Synapse app on your PC.\n",
              "Name: item_description, dtype: object"
            ]
          },
          "metadata": {},
          "execution_count": 16
        }
      ]
    },
    {
      "cell_type": "markdown",
      "source": [
        "- item_description은 평균 문자열 길이가 145자로 크므로 TF-IDF로 변환"
      ],
      "metadata": {
        "id": "XOoVdDeMcd-p"
      }
    },
    {
      "cell_type": "code",
      "source": [
        "# name 속성에 대한 피처 벡터화 변환\n",
        "cnt_vect = CountVectorizer()\n",
        "X_name = cnt_vect.fit_transform(mercari_df.name)\n",
        "\n",
        "# item_desciption에 대한 피처 벡터화 변환\n",
        "tfidf_descp = TfidfVectorizer(max_features=50000, ngram_range=(1,3), stop_words='english')\n",
        "X_descp = tfidf_descp.fit_transform(mercari_df['item_description'])\n",
        "\n",
        "print('name vectorization shape:', X_name.shape)\n",
        "print('item_description vectorization shape:', X_descp.shape)\n",
        "# 피처 벡터화를 통해 희소행렬 반환받음."
      ],
      "metadata": {
        "colab": {
          "base_uri": "https://localhost:8080/"
        },
        "id": "oMP7QqsQcU8N",
        "outputId": "7b1c740b-bf19-422a-bf3c-2768a54d2700"
      },
      "execution_count": 17,
      "outputs": [
        {
          "output_type": "stream",
          "name": "stdout",
          "text": [
            "name vectorization shape: (1482535, 105757)\n",
            "item_description vectorization shape: (1482535, 50000)\n"
          ]
        }
      ]
    },
    {
      "cell_type": "markdown",
      "source": [
        "![image.png](data:image/png;base64,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)"
      ],
      "metadata": {
        "id": "SkPwQtAWdjB1"
      }
    },
    {
      "cell_type": "markdown",
      "source": [
        "- LabelBinarizer 클래스: 희소 행렬 형태의 원핫 인코딩 변환을 지원함. 생성 시 sparse_out = True로 파라미터를 설정해주면 됨. \n",
        "\n",
        "- hstack(): 희소 행렬을 손쉽게 칼럼 레벨로 결합할 수 있게 해줌."
      ],
      "metadata": {
        "id": "m3rxs6mFd2M0"
      }
    },
    {
      "cell_type": "code",
      "source": [
        "from sklearn.preprocessing import LabelBinarizer\n",
        "# brand_name, item_condition_id, shipping 각 피처들을 희소 행렬 원핫 인코딩 변환\n",
        "lb_brand_name = LabelBinarizer(sparse_output=True)\n",
        "X_brand = lb_brand_name.fit_transform(mercari_df['brand_name'])\n",
        "\n",
        "lb_item_cond_id = LabelBinarizer(sparse_output=True)\n",
        "X_item_cond_id = lb_item_cond_id.fit_transform(mercari_df['item_condition_id'])\n",
        "\n",
        "lb_shipping = LabelBinarizer(sparse_output=True)\n",
        "X_shipping = lb_shipping.fit_transform(mercari_df['shipping'])\n",
        "\n",
        "# cat_dae, cat_jung, cat_so 각 피처들을 희소 행렬 원핫인코딩 변환\n",
        "lb_cat_dae = LabelBinarizer(sparse_output=True)\n",
        "X_cat_dae = lb_cat_dae.fit_transform(mercari_df['cat_dae'])\n",
        "\n",
        "lb_cat_jung = LabelBinarizer(sparse_output=True)\n",
        "X_cat_jung = lb_cat_jung.fit_transform(mercari_df['cat_jung'])\n",
        "\n",
        "lb_cat_so = LabelBinarizer(sparse_output=True)\n",
        "X_cat_so = lb_cat_so.fit_transform(mercari_df['cat_so'])"
      ],
      "metadata": {
        "id": "AXJr2rVSdCXx"
      },
      "execution_count": 18,
      "outputs": []
    },
    {
      "cell_type": "code",
      "source": [
        "print(type(X_brand), type(X_item_cond_id), type(X_shipping))\n",
        "print('X_brand shape:{0}, X_item_cond_id shape:{1}'.format(X_brand.shape, X_item_cond_id.shape))\n",
        "print('X_shipping shape:{0}, X_cat_dae shape:{1}'.format(X_shipping.shape, X_cat_dae.shape))\n",
        "print('X_cat_jung shape:{0}, X_cat_so shape:{1}'.format(X_cat_jung.shape, X_cat_so.shape))\n",
        "# 인코딩 변환된 데이터 세트는 CSR 형태로 변환된 csr_matrix 타입"
      ],
      "metadata": {
        "colab": {
          "base_uri": "https://localhost:8080/"
        },
        "id": "OS31qXwVfOD1",
        "outputId": "dfde63c4-b2f6-4278-d28e-2da7e46ebf2f"
      },
      "execution_count": 19,
      "outputs": [
        {
          "output_type": "stream",
          "name": "stdout",
          "text": [
            "<class 'scipy.sparse.csr.csr_matrix'> <class 'scipy.sparse.csr.csr_matrix'> <class 'scipy.sparse.csr.csr_matrix'>\n",
            "X_brand shape:(1482535, 4810), X_item_cond_id shape:(1482535, 5)\n",
            "X_shipping shape:(1482535, 1), X_cat_dae shape:(1482535, 11)\n",
            "X_cat_jung shape:(1482535, 114), X_cat_so shape:(1482535, 871)\n"
          ]
        }
      ]
    },
    {
      "cell_type": "code",
      "source": [
        "from scipy.sparse import hstack\n",
        "import gc\n",
        "\n",
        "sparse_matrix_list = (X_name, X_descp, X_brand, X_item_cond_id, X_shipping, X_cat_dae, X_cat_jung, X_cat_so)\n",
        "\n",
        "# hstack 함수를 이용해 인코딩과 벡터화를 수행한 데이터 세트를 모두 결합\n",
        "X_features_sparse = hstack(sparse_matrix_list).tocsr()\n",
        "print(type(X_features_sparse), X_features_sparse.shape)\n",
        "\n",
        "# 데이터 세트가 메모리를 많이 차지하므로 사용 목적이 끝났으면 바로 메모리에서 삭제\n",
        "del X_features_sparse\n",
        "gc.collect()"
      ],
      "metadata": {
        "colab": {
          "base_uri": "https://localhost:8080/"
        },
        "id": "siN0hm6ng8Qs",
        "outputId": "879c87aa-d387-4dc4-d9cd-b3ef763cb241"
      },
      "execution_count": 20,
      "outputs": [
        {
          "output_type": "stream",
          "name": "stdout",
          "text": [
            "<class 'scipy.sparse.csr.csr_matrix'> (1482535, 161569)\n"
          ]
        },
        {
          "output_type": "execute_result",
          "data": {
            "text/plain": [
              "0"
            ]
          },
          "metadata": {},
          "execution_count": 20
        }
      ]
    },
    {
      "cell_type": "markdown",
      "source": [
        "### 릿지 회귀 모델 구축 및 평가"
      ],
      "metadata": {
        "id": "DQAvdHb3jr-J"
      }
    },
    {
      "cell_type": "code",
      "source": [
        "# 모델의 예측 성능 평가\n",
        "def rmsle(y, y_pred):\n",
        "  # undeflow, overflow를 막기 위해 log가 아닌 log1p로 rmsle 계산\n",
        "  return np.sqrt(np.mean(np.power(np.log1p(y) - np.log1p(y_pred), 2)))\n",
        "\n",
        "def evaluate_org_price(y_test, preds):\n",
        "  # 원본 데이터는 log1p로 변환되었으므로 exmpm1로 원복 필요\n",
        "  preds_exmpm = np.expm1(preds)\n",
        "  y_test_exmpm = np.expm1(y_test)\n",
        "\n",
        "  # rmsle로 RMSLE 값 추출\n",
        "  rmsle_result = rmsle(y_test_exmpm, preds_exmpm)\n",
        "  return rmsle_result"
      ],
      "metadata": {
        "id": "uRqc__Dxjp7g"
      },
      "execution_count": 21,
      "outputs": []
    },
    {
      "cell_type": "code",
      "source": [
        "import gc\n",
        "from scipy.sparse import hstack\n",
        "\n",
        "def model_train_predict(model, matrix_list):\n",
        "  # scipy.sparse 모듈의 hstack을 이용해 희소 행렬 결합\n",
        "  X = hstack(matrix_list).tocsr()\n",
        "\n",
        "  X_train, X_test, y_train, y_test = train_test_split(X, mercari_df['price'], test_size=0.2, random_state=156)\n",
        "\n",
        "  # 모델 학습 및 예측\n",
        "  model.fit(X_train, y_train)\n",
        "  preds = model.predict(X_test)\n",
        "\n",
        "  del X, X_train, X_test, y_train\n",
        "  gc.collect()\n",
        "  return preds, y_test"
      ],
      "metadata": {
        "id": "6gtvR7Oykyi_"
      },
      "execution_count": 22,
      "outputs": []
    },
    {
      "cell_type": "code",
      "source": [
        "linear_model = Ridge(solver='lsqr', fit_intercept = False) # lsqr: 최소제곱법\n",
        "sparse_matrix_list = (X_name, X_brand, X_item_cond_id, X_shipping, X_cat_dae, X_cat_jung, X_cat_so)\n",
        "linear_preds, y_test = model_train_predict(linear_model, sparse_matrix_list)\n",
        "print('Item Description을 제외했을 때 rmsle 값:', evaluate_org_price(y_test, linear_preds))\n",
        "\n",
        "sparse_matrix_list = (X_descp, X_name, X_brand, X_item_cond_id, X_shipping, X_cat_dae, X_cat_jung, X_cat_so)\n",
        "linear_preds, y_test = model_train_predict(linear_model, sparse_matrix_list)\n",
        "print('Item Description을 포함한 rmsle 값:', evaluate_org_price(y_test, linear_preds))\n",
        "# Item Description을 포함했을 때 rmsle 값이 많이 감소함."
      ],
      "metadata": {
        "colab": {
          "base_uri": "https://localhost:8080/"
        },
        "id": "yQJGsYuql5ZN",
        "outputId": "425b4b40-69d9-4d58-df89-127d4813bb12"
      },
      "execution_count": 23,
      "outputs": [
        {
          "output_type": "stream",
          "name": "stdout",
          "text": [
            "Item Description을 제외했을 때 rmsle 값: 0.5021781658587798\n",
            "Item Description을 포함한 rmsle 값: 0.4712207363360662\n"
          ]
        }
      ]
    },
    {
      "cell_type": "markdown",
      "source": [
        "### LightGBM 회귀 모델 구축과 앙상블을 이용한 최종 예측 평가"
      ],
      "metadata": {
        "id": "xUmeGGpsoLYh"
      }
    },
    {
      "cell_type": "code",
      "source": [
        "from lightgbm import LGBMRegressor\n",
        "sparse_matrix_list = (X_descp, X_name, X_brand, X_item_cond_id, X_shipping, X_cat_dae, X_cat_jung, X_cat_so)\n",
        "\n",
        "lgbm_model = LGBMRegressor(n_estimators=200, learning_rate=0.5, num_leaves=125, random_state=156)\n",
        "lgbm_preds, y_test = model_train_predict(model=lgbm_model, matrix_list=sparse_matrix_list) \n",
        "print('LightGBM rmsle 값:', evaluate_org_price(y_test, lgbm_preds))\n",
        "# Ridge 모델보다 성능이 더 좋음."
      ],
      "metadata": {
        "colab": {
          "base_uri": "https://localhost:8080/"
        },
        "id": "9sZ44EUsnWLE",
        "outputId": "1db3c315-3a78-4f9e-fa8e-8f8b2e755dda"
      },
      "execution_count": 24,
      "outputs": [
        {
          "output_type": "stream",
          "name": "stdout",
          "text": [
            "LightGBM rmsle 값: 0.4571958024426099\n"
          ]
        }
      ]
    },
    {
      "cell_type": "code",
      "source": [
        "# 앙상블 모델\n",
        "preds = lgbm_preds * 0.45 + linear_preds * 0.55\n",
        "print('LightGBM과 Ridge를 ensemble한 최종 rmsle 값:',evaluate_org_price(y_test,preds))\n",
        "# 성능이 더 개선됨."
      ],
      "metadata": {
        "id": "CFhHBx50opsg",
        "colab": {
          "base_uri": "https://localhost:8080/"
        },
        "outputId": "acf2bccb-d9d7-4fcf-96cd-5690259fd08e"
      },
      "execution_count": 25,
      "outputs": [
        {
          "output_type": "stream",
          "name": "stdout",
          "text": [
            "LightGBM과 Ridge를 ensemble한 최종 rmsle 값: 0.450726389795222\n"
          ]
        }
      ]
    }
  ]
}